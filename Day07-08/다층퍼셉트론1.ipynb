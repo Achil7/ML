{
 "cells": [
  {
   "cell_type": "markdown",
   "id": "717d033a",
   "metadata": {},
   "source": [
    "# 텐서플로를 이용한 다층 퍼셉트론"
   ]
  },
  {
   "cell_type": "markdown",
   "id": "1bbc3b91",
   "metadata": {},
   "source": [
    "### MNIST 와 fashion MNIST 데이터를 이용한 다층 퍼셉트론을 인식하는 프로그램"
   ]
  },
  {
   "cell_type": "code",
   "execution_count": 3,
   "id": "8d1b8220",
   "metadata": {},
   "outputs": [],
   "source": [
    "import numpy as np\n",
    "import tensorflow as tf\n",
    "from tensorflow.keras.datasets import mnist"
   ]
  },
  {
   "cell_type": "code",
   "execution_count": 4,
   "id": "3c2fe01e",
   "metadata": {},
   "outputs": [],
   "source": [
    "from tensorflow.keras.models import Sequential\n",
    "from tensorflow.keras.layers import Dense\n",
    "from tensorflow.keras.optimizers import Adam"
   ]
  },
  {
   "cell_type": "code",
   "execution_count": 53,
   "id": "ffd9f595",
   "metadata": {},
   "outputs": [],
   "source": [
    "# mnist 읽어와서 신경망에 입력하는 형태로 변환\n",
    "# 튜플형태이기 때문에 튜플형식으로 받기\n",
    "(x_train, y_train),(x_test,y_test) = mnist.load_data() "
   ]
  },
  {
   "cell_type": "code",
   "execution_count": 54,
   "id": "30f5b586",
   "metadata": {},
   "outputs": [
    {
     "data": {
      "text/plain": [
       "(60000, 28, 28)"
      ]
     },
     "execution_count": 54,
     "metadata": {},
     "output_type": "execute_result"
    }
   ],
   "source": [
    "x_train.shape   # 28 x 28"
   ]
  },
  {
   "cell_type": "code",
   "execution_count": 55,
   "id": "6f2061be",
   "metadata": {},
   "outputs": [
    {
     "data": {
      "text/plain": [
       "(28, 28)"
      ]
     },
     "execution_count": 55,
     "metadata": {},
     "output_type": "execute_result"
    }
   ],
   "source": [
    "x_train[0].shape"
   ]
  },
  {
   "cell_type": "code",
   "execution_count": 56,
   "id": "c73a3a70",
   "metadata": {},
   "outputs": [
    {
     "data": {
      "text/plain": [
       "<matplotlib.image.AxesImage at 0x2b1dcf16c40>"
      ]
     },
     "execution_count": 56,
     "metadata": {},
     "output_type": "execute_result"
    },
    {
     "data": {
      "image/png": "[encoded data removed]",
      "text/plain": [
       "<Figure size 432x288 with 1 Axes>"
      ]
     },
     "metadata": {
      "needs_background": "light"
     },
     "output_type": "display_data"
    }
   ],
   "source": [
    "import matplotlib.pyplot as plt\n",
    "plt.imshow(x_train[2], cmap = 'gray_r')"
   ]
  },
  {
   "cell_type": "code",
   "execution_count": 57,
   "id": "fcb0b65a",
   "metadata": {},
   "outputs": [],
   "source": [
    "x_train = x_train.reshape(-1,28*28)\n",
    "x_test = x_test.reshape(-1,28*28)"
   ]
  },
  {
   "cell_type": "code",
   "execution_count": 58,
   "id": "efddc7dd",
   "metadata": {},
   "outputs": [
    {
     "data": {
      "text/plain": [
       "255"
      ]
     },
     "execution_count": 58,
     "metadata": {},
     "output_type": "execute_result"
    }
   ],
   "source": [
    "max(x_train[0])"
   ]
  },
  {
   "cell_type": "code",
   "execution_count": 59,
   "id": "9ce5b2da",
   "metadata": {},
   "outputs": [],
   "source": [
    "# 데이터의 범위를 조정 - 전처리 - 0 ~ 1 사이의 값을 갖도록 \n",
    "# 이미지는 0 ~ 255 이기에 0 ~ 1사이의 값을 갖도록 조정\n",
    "# 일반화(normalization) vs 표준화(standardizatioin)"
   ]
  },
  {
   "cell_type": "markdown",
   "id": "2160c3e9",
   "metadata": {},
   "source": [
    "##### 일반화(normalization)\n",
    "- x = (x - min(x)) / (max(x) - min(x))\n",
    "\n",
    "  0 ~ 1 사이의 값으로 축소됨\n",
    "  \n",
    "  \n",
    "- 특징 : 최소는 0  최대는 1  나머지는 정규화 형태, 원래데이터의 분포는 손실되지 않음\n"
   ]
  },
  {
   "cell_type": "markdown",
   "id": "c9b67f5e",
   "metadata": {},
   "source": [
    "##### 표준화(standardization)\n",
    "- 평균에 비해서 최대값이 멀리 떨어져 있는 경우 outlier가 존재\n",
    "- z-score를 먼저 계산해야 함\n",
    "- x = (x - m) / std(표준편차)\n",
    "- 특징 : 평균에서 크게 벗어난 outlier 일수록 큰 절댓값을 가짐\n",
    "- 이 score가 -2 ~ 2를 벗어난 값들은 모두 지움"
   ]
  },
  {
   "cell_type": "code",
   "execution_count": 60,
   "id": "0136f4d6",
   "metadata": {},
   "outputs": [],
   "source": [
    "# numpy는 행렬 계산을 지원함\n",
    "# 값을 실수형태로 바꿈\n",
    "# x_train, x_test 일반화(정규화)\n",
    "x_train = x_train.astype(np.float32) / 255.0\n",
    "x_test = x_test.astype(np.float32) / 255.0"
   ]
  },
  {
   "cell_type": "code",
   "execution_count": 61,
   "id": "98ea94fa",
   "metadata": {},
   "outputs": [],
   "source": [
    "# 라벨정보는 원핫인코딩\n",
    "y_train = tf.keras.utils.to_categorical(y_train, 10)  # ,10 은 생략가능 >>  unique 값까지 계산하기 때문\n",
    "y_test = tf.keras.utils.to_categorical(y_test, 10)"
   ]
  },
  {
   "cell_type": "code",
   "execution_count": 74,
   "id": "4873b491",
   "metadata": {},
   "outputs": [
    {
     "data": {
      "text/plain": [
       "(60000, 784)"
      ]
     },
     "execution_count": 74,
     "metadata": {},
     "output_type": "execute_result"
    }
   ],
   "source": [
    "# x_train이 2차원이었는데 1차원으로 핌\n",
    "x_train.shape"
   ]
  },
  {
   "cell_type": "code",
   "execution_count": 75,
   "id": "e1f392d7",
   "metadata": {},
   "outputs": [],
   "source": [
    "n_input = 784\n",
    "n_output = 10\n",
    "\n",
    "# 정해진 규칙이 없음\n",
    "# hidden은 input보다 크면 좋긴함\n",
    "n_hidden = 784 * 2"
   ]
  },
  {
   "cell_type": "code",
   "execution_count": 78,
   "id": "888ecffb",
   "metadata": {},
   "outputs": [],
   "source": [
    "# 신경망 설계 - 두번째 hidden층 부터는 초기화(kernel_initializer)는 선택사항이다\n",
    "model = Sequential()\n",
    "dense1 = Dense(units=n_hidden, activation='tanh',input_shape = (n_input,), # 출력형태는 되도록 튜플형태가 되도록( , )가 되게끔 함\n",
    "               kernel_initializer='random_uniform', bias_initializer='zeros')   # bias_initializer 은 최초상태이기에 0으로 가정함\n",
    "dense2 = Dense(units=n_output, # 층을 하나만 만들고 끝내려면 units(입력값) = n_output을 줌으로써 최종 출력 값 지정\n",
    "               activation='tanh') # 커널을 해도되고 안해도됨\n",
    "model.add(dense1)\n",
    "model.add(dense2)\n",
    "model.compile(loss = 'mean_squared_error', optimizer = Adam(learning_rate=0.001), metrics=['accuracy'])"
   ]
  },
  {
   "cell_type": "code",
   "execution_count": 79,
   "id": "9b633545",
   "metadata": {
    "scrolled": true
   },
   "outputs": [
    {
     "name": "stdout",
     "output_type": "stream",
     "text": [
      "Epoch 1/30\n",
      "469/469 [==============================] - 5s 10ms/step - loss: 0.0567 - accuracy: 0.8066 - val_loss: 0.0366 - val_accuracy: 0.8868\n",
      "Epoch 2/30\n",
      "469/469 [==============================] - 5s 10ms/step - loss: 0.0266 - accuracy: 0.9216 - val_loss: 0.0223 - val_accuracy: 0.9374\n",
      "Epoch 3/30\n",
      "469/469 [==============================] - 5s 11ms/step - loss: 0.0196 - accuracy: 0.9445 - val_loss: 0.0174 - val_accuracy: 0.9502\n",
      "Epoch 4/30\n",
      "469/469 [==============================] - 5s 10ms/step - loss: 0.0162 - accuracy: 0.9547 - val_loss: 0.0146 - val_accuracy: 0.9578\n",
      "Epoch 5/30\n",
      "469/469 [==============================] - 4s 9ms/step - loss: 0.0141 - accuracy: 0.9608 - val_loss: 0.0136 - val_accuracy: 0.9615\n",
      "Epoch 6/30\n",
      "469/469 [==============================] - 4s 9ms/step - loss: 0.0127 - accuracy: 0.9658 - val_loss: 0.0126 - val_accuracy: 0.9643\n",
      "Epoch 7/30\n",
      "469/469 [==============================] - 4s 8ms/step - loss: 0.0114 - accuracy: 0.9691 - val_loss: 0.0113 - val_accuracy: 0.9662\n",
      "Epoch 8/30\n",
      "469/469 [==============================] - 4s 9ms/step - loss: 0.0107 - accuracy: 0.9723 - val_loss: 0.0107 - val_accuracy: 0.9681\n",
      "Epoch 9/30\n",
      "469/469 [==============================] - 4s 9ms/step - loss: 0.0100 - accuracy: 0.9748 - val_loss: 0.0105 - val_accuracy: 0.9683\n",
      "Epoch 10/30\n",
      "469/469 [==============================] - 4s 9ms/step - loss: 0.0095 - accuracy: 0.9765 - val_loss: 0.0106 - val_accuracy: 0.9704\n",
      "Epoch 11/30\n",
      "469/469 [==============================] - 4s 9ms/step - loss: 0.0090 - accuracy: 0.9783 - val_loss: 0.0096 - val_accuracy: 0.9711\n",
      "Epoch 12/30\n",
      "469/469 [==============================] - 4s 9ms/step - loss: 0.0085 - accuracy: 0.9796 - val_loss: 0.0101 - val_accuracy: 0.9727\n",
      "Epoch 13/30\n",
      "469/469 [==============================] - 4s 8ms/step - loss: 0.0083 - accuracy: 0.9815 - val_loss: 0.0095 - val_accuracy: 0.9728\n",
      "Epoch 14/30\n",
      "469/469 [==============================] - 4s 8ms/step - loss: 0.0078 - accuracy: 0.9825 - val_loss: 0.0091 - val_accuracy: 0.9724\n",
      "Epoch 15/30\n",
      "469/469 [==============================] - 4s 8ms/step - loss: 0.0075 - accuracy: 0.9838 - val_loss: 0.0083 - val_accuracy: 0.9751\n",
      "Epoch 16/30\n",
      "469/469 [==============================] - 4s 9ms/step - loss: 0.0072 - accuracy: 0.9848 - val_loss: 0.0084 - val_accuracy: 0.9744\n",
      "Epoch 17/30\n",
      "469/469 [==============================] - 4s 9ms/step - loss: 0.0069 - accuracy: 0.9861 - val_loss: 0.0088 - val_accuracy: 0.9748\n",
      "Epoch 18/30\n",
      "469/469 [==============================] - 4s 9ms/step - loss: 0.0067 - accuracy: 0.9866 - val_loss: 0.0083 - val_accuracy: 0.9760\n",
      "Epoch 19/30\n",
      "469/469 [==============================] - 4s 9ms/step - loss: 0.0065 - accuracy: 0.9876 - val_loss: 0.0082 - val_accuracy: 0.9761\n",
      "Epoch 20/30\n",
      "469/469 [==============================] - 4s 9ms/step - loss: 0.0063 - accuracy: 0.9882 - val_loss: 0.0085 - val_accuracy: 0.9766\n",
      "Epoch 21/30\n",
      "469/469 [==============================] - 4s 9ms/step - loss: 0.0061 - accuracy: 0.9890 - val_loss: 0.0079 - val_accuracy: 0.9765\n",
      "Epoch 22/30\n",
      "469/469 [==============================] - 4s 8ms/step - loss: 0.0059 - accuracy: 0.9893 - val_loss: 0.0081 - val_accuracy: 0.9766\n",
      "Epoch 23/30\n",
      "469/469 [==============================] - 4s 8ms/step - loss: 0.0059 - accuracy: 0.9902 - val_loss: 0.0077 - val_accuracy: 0.9769\n",
      "Epoch 24/30\n",
      "469/469 [==============================] - 4s 9ms/step - loss: 0.0055 - accuracy: 0.9904 - val_loss: 0.0076 - val_accuracy: 0.9776\n",
      "Epoch 25/30\n",
      "469/469 [==============================] - 4s 9ms/step - loss: 0.0055 - accuracy: 0.9910 - val_loss: 0.0078 - val_accuracy: 0.9779\n",
      "Epoch 26/30\n",
      "469/469 [==============================] - 4s 9ms/step - loss: 0.0054 - accuracy: 0.9914 - val_loss: 0.0080 - val_accuracy: 0.9785\n",
      "Epoch 27/30\n",
      "469/469 [==============================] - 4s 9ms/step - loss: 0.0052 - accuracy: 0.9920 - val_loss: 0.0074 - val_accuracy: 0.9774\n",
      "Epoch 28/30\n",
      "469/469 [==============================] - 4s 9ms/step - loss: 0.0051 - accuracy: 0.9925 - val_loss: 0.0078 - val_accuracy: 0.9770\n",
      "Epoch 29/30\n",
      "469/469 [==============================] - 4s 9ms/step - loss: 0.0050 - accuracy: 0.9929 - val_loss: 0.0076 - val_accuracy: 0.9782\n",
      "Epoch 30/30\n",
      "469/469 [==============================] - 4s 9ms/step - loss: 0.0048 - accuracy: 0.9929 - val_loss: 0.0077 - val_accuracy: 0.9784\n"
     ]
    }
   ],
   "source": [
    "# batch 와 epochs는 하이퍼파라미터로 튜닝\n",
    "hist = model.fit(x_train,y_train, batch_size = 128, epochs = 30, validation_data = (x_test,y_test))"
   ]
  },
  {
   "cell_type": "code",
   "execution_count": 80,
   "id": "32905c5b",
   "metadata": {},
   "outputs": [
    {
     "name": "stdout",
     "output_type": "stream",
     "text": [
      "313/313 [==============================] - 1s 2ms/step - loss: 0.0077 - accuracy: 0.9784\n"
     ]
    },
    {
     "data": {
      "text/plain": [
       "[0.0077079543843865395, 0.9783999919891357]"
      ]
     },
     "execution_count": 80,
     "metadata": {},
     "output_type": "execute_result"
    }
   ],
   "source": [
    "res = model.evaluate(x_test,y_test)\n",
    "res"
   ]
  },
  {
   "cell_type": "code",
   "execution_count": 82,
   "id": "7304e560",
   "metadata": {},
   "outputs": [
    {
     "data": {
      "text/plain": [
       "dict"
      ]
     },
     "execution_count": 82,
     "metadata": {},
     "output_type": "execute_result"
    }
   ],
   "source": [
    "type(hist.history)"
   ]
  },
  {
   "cell_type": "code",
   "execution_count": 83,
   "id": "5f15b764",
   "metadata": {},
   "outputs": [
    {
     "data": {
      "text/plain": [
       "dict_keys(['loss', 'accuracy', 'val_loss', 'val_accuracy'])"
      ]
     },
     "execution_count": 83,
     "metadata": {},
     "output_type": "execute_result"
    }
   ],
   "source": [
    "hist.history.keys()"
   ]
  },
  {
   "cell_type": "code",
   "execution_count": 84,
   "id": "4326e339",
   "metadata": {},
   "outputs": [],
   "source": [
    "import seaborn as sns\n",
    "\n",
    "fig,ax = plt.subplots(1,2,figsize = (10,2.5))\n",
    "sns.lineplot(data=hist.history['accuracy'], ax= ax[0])\n",
    "sns.lineplot(data=hist.history['val_accuracy'], ax= ax[0])\n",
    "fig.legend(['accuracy','val_accuracy'], loc = 'upper left')\n",
    "\n",
    "sns.lineplot(data=hist.history['loss'], ax= ax[1])\n",
    "sns.lineplot(data=hist.history['val_loss'], ax= ax[1])\n",
    "fig.legend(['loss','val_loss'])\n",
    "\n",
    "plt.show()"
   ]
  },
  {
   "cell_type": "code",
   "execution_count": null,
   "id": "b3cb4829",
   "metadata": {},
   "outputs": [],
   "source": [
    "# 위의 결과에 따라서 epoch는 15로 보면 된다"
   ]
  },
  {
   "cell_type": "markdown",
   "id": "8685cab6",
   "metadata": {},
   "source": [
    "---"
   ]
  },
  {
   "cell_type": "markdown",
   "id": "0ffad82a",
   "metadata": {},
   "source": [
    "##### fashion MNIST"
   ]
  },
  {
   "cell_type": "code",
   "execution_count": 105,
   "id": "96d3f3c8",
   "metadata": {},
   "outputs": [],
   "source": [
    "from tensorflow.keras.datasets import fashion_mnist"
   ]
  },
  {
   "cell_type": "code",
   "execution_count": 106,
   "id": "9167bfd8",
   "metadata": {},
   "outputs": [
    {
     "name": "stdout",
     "output_type": "stream",
     "text": [
      "Downloading data from https://storage.googleapis.com/tensorflow/tf-keras-datasets/train-labels-idx1-ubyte.gz\n",
      "29515/29515 [==============================] - 0s 0us/step\n",
      "Downloading data from https://storage.googleapis.com/tensorflow/tf-keras-datasets/train-images-idx3-ubyte.gz\n",
      "26421880/26421880 [==============================] - 0s 0us/step\n",
      "Downloading data from https://storage.googleapis.com/tensorflow/tf-keras-datasets/t10k-labels-idx1-ubyte.gz\n",
      "5148/5148 [==============================] - 0s 0s/step\n",
      "Downloading data from https://storage.googleapis.com/tensorflow/tf-keras-datasets/t10k-images-idx3-ubyte.gz\n",
      "4422102/4422102 [==============================] - 0s 0us/step\n"
     ]
    }
   ],
   "source": [
    "(x_train,y_train),(x_test,y_test) = fashion_mnist.load_data()"
   ]
  },
  {
   "cell_type": "code",
   "execution_count": 107,
   "id": "31acc7b6",
   "metadata": {},
   "outputs": [
    {
     "data": {
      "text/plain": [
       "(60000, 28, 28)"
      ]
     },
     "execution_count": 107,
     "metadata": {},
     "output_type": "execute_result"
    }
   ],
   "source": [
    "x_train.shape"
   ]
  },
  {
   "cell_type": "code",
   "execution_count": 108,
   "id": "9d508107",
   "metadata": {},
   "outputs": [
    {
     "data": {
      "text/plain": [
       "(60000,)"
      ]
     },
     "execution_count": 108,
     "metadata": {},
     "output_type": "execute_result"
    }
   ],
   "source": [
    "y_train.shape"
   ]
  },
  {
   "cell_type": "code",
   "execution_count": 109,
   "id": "0ae726ec",
   "metadata": {},
   "outputs": [
    {
     "data": {
      "text/plain": [
       "array([0, 1, 2, 3, 4, 5, 6, 7, 8, 9], dtype=uint8)"
      ]
     },
     "execution_count": 109,
     "metadata": {},
     "output_type": "execute_result"
    }
   ],
   "source": [
    "np.unique(y_train)"
   ]
  },
  {
   "cell_type": "code",
   "execution_count": 124,
   "id": "6a65ac9b",
   "metadata": {},
   "outputs": [
    {
     "data": {
      "image/png": "[encoded data removed]",
      "text/plain": [
       "<Figure size 504x504 with 10 Axes>"
      ]
     },
     "metadata": {
      "needs_background": "light"
     },
     "output_type": "display_data"
    }
   ],
   "source": [
    "# plt.figure(figsize=(3,3))\n",
    "fig, ax = plt.subplots(2,5,figsize=(7,7))\n",
    "for i in range(10):\n",
    "    imagedata = x_train[y_train == i][0]\n",
    "    ax[i//5,i%5].imshow(imagedata,cmap = 'gray_r')"
   ]
  },
  {
   "cell_type": "code",
   "execution_count": 126,
   "id": "b0c9968d",
   "metadata": {
    "scrolled": true
   },
   "outputs": [
    {
     "name": "stdout",
     "output_type": "stream",
     "text": [
      "Epoch 1/30\n",
      "469/469 [==============================] - 5s 10ms/step - loss: 0.0024 - accuracy: 0.0864 - val_loss: 1.9325e-07 - val_accuracy: 0.0793\n",
      "Epoch 2/30\n",
      "469/469 [==============================] - 4s 9ms/step - loss: 4.2331e-07 - accuracy: 0.0794 - val_loss: 1.6215e-07 - val_accuracy: 0.0769\n",
      "Epoch 3/30\n",
      "469/469 [==============================] - 5s 10ms/step - loss: 3.6452e-07 - accuracy: 0.0761 - val_loss: 1.3436e-07 - val_accuracy: 0.0734\n",
      "Epoch 4/30\n",
      "469/469 [==============================] - 5s 10ms/step - loss: 3.1075e-07 - accuracy: 0.0722 - val_loss: 1.1003e-07 - val_accuracy: 0.0674\n",
      "Epoch 5/30\n",
      "469/469 [==============================] - 5s 10ms/step - loss: 2.6427e-07 - accuracy: 0.0670 - val_loss: 9.1079e-08 - val_accuracy: 0.0623\n",
      "Epoch 6/30\n",
      "469/469 [==============================] - 5s 10ms/step - loss: 2.2538e-07 - accuracy: 0.0615 - val_loss: 7.6068e-08 - val_accuracy: 0.0573\n",
      "Epoch 7/30\n",
      "469/469 [==============================] - 4s 10ms/step - loss: 1.9202e-07 - accuracy: 0.0564 - val_loss: 6.3961e-08 - val_accuracy: 0.0521\n",
      "Epoch 8/30\n",
      "469/469 [==============================] - 4s 9ms/step - loss: 1.6415e-07 - accuracy: 0.0519 - val_loss: 5.3171e-08 - val_accuracy: 0.0491\n",
      "Epoch 9/30\n",
      "469/469 [==============================] - 4s 9ms/step - loss: 1.3964e-07 - accuracy: 0.0476 - val_loss: 4.4176e-08 - val_accuracy: 0.0440\n",
      "Epoch 10/30\n",
      "469/469 [==============================] - 5s 10ms/step - loss: 1.1822e-07 - accuracy: 0.0442 - val_loss: 3.6826e-08 - val_accuracy: 0.0387\n",
      "Epoch 11/30\n",
      "469/469 [==============================] - 4s 9ms/step - loss: 9.9990e-08 - accuracy: 0.0395 - val_loss: 3.0678e-08 - val_accuracy: 0.0359\n",
      "Epoch 12/30\n",
      "469/469 [==============================] - 5s 10ms/step - loss: 8.4294e-08 - accuracy: 0.0362 - val_loss: 2.5452e-08 - val_accuracy: 0.0307\n",
      "Epoch 13/30\n",
      "469/469 [==============================] - 4s 9ms/step - loss: 7.0925e-08 - accuracy: 0.0316 - val_loss: 2.1206e-08 - val_accuracy: 0.0294\n",
      "Epoch 14/30\n",
      "469/469 [==============================] - 4s 9ms/step - loss: 5.9841e-08 - accuracy: 0.0284 - val_loss: 1.7676e-08 - val_accuracy: 0.0267\n",
      "Epoch 15/30\n",
      "469/469 [==============================] - 4s 10ms/step - loss: 5.0122e-08 - accuracy: 0.0261 - val_loss: 1.4647e-08 - val_accuracy: 0.0243\n",
      "Epoch 16/30\n",
      "469/469 [==============================] - 5s 10ms/step - loss: 4.1769e-08 - accuracy: 0.0238 - val_loss: 1.2204e-08 - val_accuracy: 0.0210\n",
      "Epoch 17/30\n",
      "469/469 [==============================] - 4s 10ms/step - loss: 3.4688e-08 - accuracy: 0.0221 - val_loss: 1.0106e-08 - val_accuracy: 0.0204\n",
      "Epoch 18/30\n",
      "469/469 [==============================] - 5s 10ms/step - loss: 2.8604e-08 - accuracy: 0.0204 - val_loss: 8.3073e-09 - val_accuracy: 0.0176\n",
      "Epoch 19/30\n",
      "469/469 [==============================] - 4s 10ms/step - loss: 2.3285e-08 - accuracy: 0.0189 - val_loss: 6.8545e-09 - val_accuracy: 0.0165\n",
      "Epoch 20/30\n",
      "469/469 [==============================] - 4s 9ms/step - loss: 1.8985e-08 - accuracy: 0.0177 - val_loss: 5.6751e-09 - val_accuracy: 0.0162\n",
      "Epoch 21/30\n",
      "469/469 [==============================] - 4s 9ms/step - loss: 1.5428e-08 - accuracy: 0.0167 - val_loss: 4.6487e-09 - val_accuracy: 0.0148\n",
      "Epoch 22/30\n",
      "469/469 [==============================] - 4s 10ms/step - loss: 1.2438e-08 - accuracy: 0.0158 - val_loss: 3.8544e-09 - val_accuracy: 0.0141\n",
      "Epoch 23/30\n",
      "469/469 [==============================] - 5s 10ms/step - loss: 1.0031e-08 - accuracy: 0.0149 - val_loss: 3.1766e-09 - val_accuracy: 0.0136\n",
      "Epoch 24/30\n",
      "469/469 [==============================] - 5s 10ms/step - loss: 8.0744e-09 - accuracy: 0.0141 - val_loss: 2.6486e-09 - val_accuracy: 0.0135\n",
      "Epoch 25/30\n",
      "469/469 [==============================] - 4s 9ms/step - loss: 6.5586e-09 - accuracy: 0.0136 - val_loss: 2.2053e-09 - val_accuracy: 0.0114\n",
      "Epoch 26/30\n",
      "469/469 [==============================] - 4s 9ms/step - loss: 5.3124e-09 - accuracy: 0.0130 - val_loss: 1.8488e-09 - val_accuracy: 0.0121\n",
      "Epoch 27/30\n",
      "469/469 [==============================] - 4s 9ms/step - loss: 4.3172e-09 - accuracy: 0.0123 - val_loss: 1.5545e-09 - val_accuracy: 0.0118\n",
      "Epoch 28/30\n",
      "469/469 [==============================] - 4s 9ms/step - loss: 3.5501e-09 - accuracy: 0.0116 - val_loss: 1.3226e-09 - val_accuracy: 0.0102\n",
      "Epoch 29/30\n",
      "469/469 [==============================] - 4s 9ms/step - loss: 2.9292e-09 - accuracy: 0.0114 - val_loss: 1.1210e-09 - val_accuracy: 0.0094\n",
      "Epoch 30/30\n",
      "469/469 [==============================] - 4s 9ms/step - loss: 2.4285e-09 - accuracy: 0.0108 - val_loss: 9.5952e-10 - val_accuracy: 0.0095\n"
     ]
    }
   ],
   "source": [
    "model = Sequential()\n",
    "dense1 = Dense(units=n_hidden, activation='tanh',input_shape = (n_input,), # 출력형태는 되도록 튜플형태가 되도록( , )가 되게끔 함\n",
    "               kernel_initializer='random_uniform', bias_initializer='zeros')   # bias_initializer 은 최초상태이기에 0으로 가정함\n",
    "dense2 = Dense(units=n_output, # 층을 하나만 만들고 끝내려면 units(입력값) = n_output을 줌으로써 최종 출력 값 지정\n",
    "               activation='tanh') # 커널을 해도되고 안해도됨\n",
    "model.add(dense1)\n",
    "model.add(dense2)\n",
    "model.compile(loss = 'mean_squared_error', optimizer = Adam(learning_rate=0.001), metrics=['accuracy'])\n",
    "\n",
    "# reshape\n",
    "x_train = x_train.reshape(-1,28*28)  # 3차원 >> 2 차원\n",
    "x_train = x_train.astype(np.float32)/255.0\n",
    "x_test = x_test.reshape(-1,28*28)\n",
    "x_test = x_test.astype(np.float32)/255.0\n",
    "\n",
    "# 정답은 one hot encoding\n",
    "y_train = tf.keras.utils.to_categorical(y_train)\n",
    "y_test = tf.keras.utils.to_categorical(y_test)\n",
    "\n",
    "hist = model.fit(x_train,y_train, batch_size = 128, epochs = 30, validation_data = (x_test,y_test))"
   ]
  },
  {
   "cell_type": "code",
   "execution_count": 127,
   "id": "b7d1e690",
   "metadata": {},
   "outputs": [
    {
     "data": {
      "image/png": "[encoded data removed]",
      "text/plain": [
       "<Figure size 720x180 with 2 Axes>"
      ]
     },
     "metadata": {
      "needs_background": "light"
     },
     "output_type": "display_data"
    }
   ],
   "source": [
    "import seaborn as sns\n",
    "\n",
    "fig,ax = plt.subplots(1,2,figsize = (10,2.5))\n",
    "sns.lineplot(data=hist.history['accuracy'], ax= ax[0])\n",
    "sns.lineplot(data=hist.history['val_accuracy'], ax= ax[0])\n",
    "fig.legend(['accuracy','val_accuracy'], loc = 'upper left')\n",
    "\n",
    "sns.lineplot(data=hist.history['loss'], ax= ax[1])\n",
    "sns.lineplot(data=hist.history['val_loss'], ax= ax[1])\n",
    "fig.legend(['loss','val_loss'])\n",
    "\n",
    "plt.show()"
   ]
  },
  {
   "cell_type": "code",
   "execution_count": null,
   "id": "4659a6b5",
   "metadata": {},
   "outputs": [],
   "source": [
    "# 위의 표를 보고 epoch는 10이 적당한것 같음"
   ]
  },
  {
   "cell_type": "markdown",
   "id": "b44464e6",
   "metadata": {},
   "source": [
    "---"
   ]
  },
  {
   "cell_type": "markdown",
   "id": "6ad00950",
   "metadata": {},
   "source": [
    "##### 깊은 다층 퍼셉트론 DMLP(deep MLP) 구조"
   ]
  },
  {
   "cell_type": "markdown",
   "id": "6b4c256c",
   "metadata": {},
   "source": [
    "- ni : i번째 은닉층에 ni개의 노드(ni 하이퍼 파라미터)\n",
    "- ni = 500이라고 가정하고 모든 은닉층이 같은 노드의 개수를 리턴하면\n",
    "> L = 5\n",
    "\n",
    "  > {(784 + 1) * 500} + {(500 + 1) * 500 * 3} + (500 + 1) = 1,149,010"
   ]
  },
  {
   "cell_type": "code",
   "execution_count": null,
   "id": "a1c1128d",
   "metadata": {},
   "outputs": [],
   "source": [
    "from IPython import display\n",
    "display.Image('./img/020.jpg', width = 500, height = 500)"
   ]
  }
 ],
 "metadata": {
  "kernelspec": {
   "display_name": "Python 3 (ipykernel)",
   "language": "python",
   "name": "python3"
  },
  "language_info": {
   "codemirror_mode": {
    "name": "ipython",
    "version": 3
   },
   "file_extension": ".py",
   "mimetype": "text/x-python",
   "name": "python",
   "nbconvert_exporter": "python",
   "pygments_lexer": "ipython3",
   "version": "3.9.7"
  }
 },
 "nbformat": 4,
 "nbformat_minor": 5
}
