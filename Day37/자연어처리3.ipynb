{
 "cells": [
  {
   "cell_type": "code",
   "execution_count": null,
   "id": "a3e927c0",
   "metadata": {},
   "outputs": [],
   "source": [
    "# 단어를 시퀀스로 처리, 시퀀스 모델링\n",
    "# 자연어처리2에서 https://ai.stanford.edu/~amaas/data/sentiment/aclImdb_v1.tar.gz 경로에서 다운받은\n",
    "# 파일을 사용"
   ]
  },
  {
   "cell_type": "markdown",
   "id": "0cee8866",
   "metadata": {},
   "source": [
    "# 단어를 시퀀스로 처리"
   ]
  },
  {
   "cell_type": "code",
   "execution_count": null,
   "id": "00eaeddf",
   "metadata": {},
   "outputs": [],
   "source": [
    "# 코렙사용시 아래 주석을 풀고 사용하고 주피터 노트북은 이 셀 다음에 있는 \n",
    "# 데이터를 가져오는 부분이라고 쓰여있는 셀을 실행 \n",
    "# 반드시 두 셀중에 하나만 실행\n",
    "\n",
    "# !rm -r aclImdb\n",
    "# !curl -O https://ai.stanford.edu/~amaas/data/sentiment/aclImdb_v1.tar.gz\n",
    "# !tar -xf aclImdb_v1.tar.gz\n",
    "# !rm -r aclImdb/train/unsup"
   ]
  },
  {
   "cell_type": "code",
   "execution_count": null,
   "id": "e485af25",
   "metadata": {},
   "outputs": [],
   "source": [
    "# 데이터를 가져오는 부분\n",
    "import urllib.request as req    \n",
    "url = 'https://ai.stanford.edu/~amaas/data/sentiment/aclImdb_v1.tar.gz'\n",
    "filename = 'aclImdb_v1.tar.gz'\n",
    "with req.urlopen(url) as f:\n",
    "    with open(filename,'wb') as of:\n",
    "        of.write(f.read())"
   ]
  },
  {
   "cell_type": "code",
   "execution_count": null,
   "id": "da397009",
   "metadata": {},
   "outputs": [],
   "source": [
    "# # 압축풀기\n",
    "# import tarfile\n",
    "# with tarfile.open(filename,'r:gz') as tr:\n",
    "#     tr.extractall()"
   ]
  },
  {
   "cell_type": "code",
   "execution_count": null,
   "id": "edcf5e91",
   "metadata": {},
   "outputs": [],
   "source": [
    "# # 데이터를 분할 폴더별로 나누기\n",
    "# import os, pathlib, shutil, random\n",
    "# base_dir = pathlib.Path('aclImdb')\n",
    "# val_dir = base_dir / 'val'\n",
    "# train_dir = base_dir / 'train'\n",
    "# for category in ('neg', 'pos'):\n",
    "#     os.makedirs(val_dir / category)\n",
    "#     files = os.listdir(train_dir / category)\n",
    "#     random.Random(1337).shuffle(files)\n",
    "#     num_val_samples = int(0.2*len(files))\n",
    "#     val_files = files[-num_val_samples:]\n",
    "#     for fname in val_files:\n",
    "#         shutil.move(train_dir / category / fname, val_dir / category / fname)"
   ]
  },
  {
   "cell_type": "code",
   "execution_count": null,
   "id": "44739579",
   "metadata": {},
   "outputs": [],
   "source": [
    "# 데이터셋 확보\n",
    "import os, pathlib, shutil, random\n",
    "from tensorflow import keras\n",
    "batch_size = 32\n",
    "train_ds = keras.utils.text_dataset_from_directory(\n",
    "    \"aclImdb/train\",batch_size=batch_size\n",
    ")\n",
    "val_ds = keras.utils.text_dataset_from_directory(\n",
    "    \"aclImdb/val\",batch_size=batch_size\n",
    ")\n",
    "test_ds = keras.utils.text_dataset_from_directory(\n",
    "    \"aclImdb/test\",batch_size=batch_size\n",
    ")"
   ]
  },
  {
   "cell_type": "code",
   "execution_count": null,
   "id": "d37a1993",
   "metadata": {},
   "outputs": [],
   "source": [
    "text_only_trains_ds = train_ds.map(lambda x,y : x)"
   ]
  },
  {
   "cell_type": "markdown",
   "id": "d456f996",
   "metadata": {},
   "source": [
    "### 정수 시퀀스 데이터셋 준비"
   ]
  },
  {
   "cell_type": "code",
   "execution_count": null,
   "id": "13348788",
   "metadata": {},
   "outputs": [],
   "source": [
    "from tensorflow.keras import layers\n",
    "max_length = 600\n",
    "max_tokens = 20000\n",
    "text_vectorization =  layers.TextVectorization(\n",
    "    max_tokens = max_tokens,\n",
    "    output_mode='int',\n",
    "    output_sequence_length=max_length\n",
    ")\n",
    "text_vectorization.adapt(text_only_trains_ds)\n",
    "\n",
    "int_train_ds =  train_ds.map(\n",
    "    lambda x, y : (text_vectorization(x),y), num_parallel_calls=4\n",
    ")\n",
    "int_val_ds = val_ds.map(\n",
    "    lambda x, y : (text_vectorization(x),y), num_parallel_calls=4\n",
    ")\n",
    "int_test_ds = test_ds.map(\n",
    "    lambda x, y : (text_vectorization(x),y), num_parallel_calls=4\n",
    ")"
   ]
  },
  {
   "cell_type": "markdown",
   "id": "00e09731",
   "metadata": {},
   "source": [
    "### 원-핫 인코딩된 벡터 시퀀스로 시퀀스 모델"
   ]
  },
  {
   "cell_type": "code",
   "execution_count": null,
   "id": "3424150c",
   "metadata": {},
   "outputs": [],
   "source": [
    "import tensorflow as tf\n",
    "inputs = keras.Input(shape=(None,), dtype = 'int64')\n",
    "embedded = tf.one_hot(inputs, depth=max_tokens)\n",
    "x = layers.Bidirectional(layers.LSTM(32))(embedded)\n",
    "x = layers.Dropout(0.5)(x)\n",
    "outputs = layers.Dense(1, activation='sigmoid')(x)\n",
    "model = keras.Model(inputs,outputs)\n",
    "model.compile(optimizer='adam',\n",
    "                    loss = 'binary_crossentropy',\n",
    "                    metrics=['accuracy']\n",
    "                   )\n",
    "model.summary()"
   ]
  },
  {
   "cell_type": "markdown",
   "id": "34dccc18",
   "metadata": {},
   "source": [
    "### 첫번재 시퀀스 모델 훈련"
   ]
  },
  {
   "cell_type": "code",
   "execution_count": null,
   "id": "f347407a",
   "metadata": {},
   "outputs": [],
   "source": [
    "callback = [\n",
    "    keras.callbacks.ModelCheckpoint('one_hot_bidir_lstm.keras', save_best_only=True)\n",
    "]\n",
    "model.fit(int_train_ds,validation_data=int_val_ds, epochs=10,callbacks=callback)\n",
    "print(f\"테스트 정확도 : {model.evaluate(int_test_ds)[1]:.3f}\")"
   ]
  },
  {
   "cell_type": "markdown",
   "id": "481632ae",
   "metadata": {},
   "source": [
    "### 단어임베딩"
   ]
  },
  {
   "cell_type": "markdown",
   "id": "c4245799",
   "metadata": {},
   "source": [
    "### 임베딩 층으로 단어 임베딩 학습하기"
   ]
  },
  {
   "cell_type": "code",
   "execution_count": null,
   "id": "a1b42345",
   "metadata": {},
   "outputs": [],
   "source": [
    "embedding_layer = layers.Embedding(input_dim=max_tokens, output_dim=256)\n",
    "inputs = keras.Input(shape=(None,), dtype='int64')\n",
    "embedded = layers.Embedding(input_dim=max_tokens, output_dim=256)(inputs)\n",
    "x = layers.Bidirectional(layers.LSTM(32))(embedded)\n",
    "x = layers.Dropout(0.5)(x)\n",
    "outputs = layers.Dense(1, activation='sigmoid')(x)\n",
    "model = keras.Model(inputs, outputs)\n",
    "model.compile(optimizer='rmsprop',loss = tf.keras.losses.binary_crossentropy, metrics=[\"acc\"])\n",
    "model.summary()\n",
    "callbacks = [\n",
    "    keras.callbacks.ModelCheckpoint(\"embeddings_bidir_lstm.keras\", save_best_only=True)\n",
    "]\n",
    "model.fit(int_train_ds,validation_data=int_val_ds, epochs=10, callbacks=callback)\n",
    "\n",
    "model = keras.models.load_model('embeddings_bidir_lstm.keras')\n",
    "print(f\"테스트 정확도 : {model.evaluate(int_test_ds)[1]:.3f}\")"
   ]
  },
  {
   "cell_type": "markdown",
   "id": "06595763",
   "metadata": {},
   "source": [
    "### 마스킹을 활성화한 Embedding 층 사용"
   ]
  },
  {
   "cell_type": "code",
   "execution_count": null,
   "id": "a89d48a5",
   "metadata": {},
   "outputs": [],
   "source": [
    "inputs = keras.Input(shape=(None,), dtype='int64')\n",
    "embedded = layers.Embedding(input_dim=max_tokens, output_dim=256, mask_zero=True)(inputs)\n",
    "x = layers.Bidirectional(layers.LSTM(32))(embedded)\n",
    "x = layers.Dropout(0.5)(x)\n",
    "outputs = layers.Dense(1, activation='sigmoid')(x)\n",
    "model = keras.Model(inputs, outputs)\n",
    "model.compile(optimizer='rmsprop',loss = tf.keras.losses.binary_crossentropy, metrics=[\"acc\"])\n",
    "model.summary()\n",
    "callbacks = [\n",
    "    keras.callbacks.ModelCheckpoint(\"embeddings_bidir_lstm_width_masking.keras\", save_best_only=True)\n",
    "]\n",
    "model.fit(int_train_ds,validation_data=int_val_ds, epochs=10, callbacks=callback)\n",
    "\n",
    "model = keras.models.load_model('embeddings_bidir_lstm_width_masking.keras')\n",
    "print(f\"테스트 정확도 : {model.evaluate(int_test_ds)[1]:.3f}\")"
   ]
  },
  {
   "cell_type": "code",
   "execution_count": null,
   "id": "5ef80a91",
   "metadata": {},
   "outputs": [],
   "source": [
    "#### 사전 훈련된 단어 임베딩 사용\n",
    "# !wget http://nlp.stanford.edu/data/glove.6B.zip\n",
    "# !unzip -q glove.6B.zip\n",
    "\n",
    "import zipfile\n",
    "url = 'http://nlp.stanford.edu/data/glove.6B.zip'\n",
    "filename = 'glove.6B.zip'\n",
    "with req.urlopen(url) as f:\n",
    "    with open(filename,'wb') as of:\n",
    "        of.write(f.read())\n",
    "\n",
    "zipex = zipfile.ZipFile(filename)\n",
    "zipex.extractall('./')\n",
    "zipex.close()       "
   ]
  },
  {
   "cell_type": "markdown",
   "id": "fea80bbf",
   "metadata": {},
   "source": [
    "### GloVe 단어 임베딩 파일 파싱"
   ]
  },
  {
   "cell_type": "code",
   "execution_count": null,
   "id": "e5fd1bd1",
   "metadata": {},
   "outputs": [],
   "source": [
    "import numpy as np\n",
    "path_to_glove_file = './glove/glove.6B.100d.txt'\n",
    "embeddings_index = {}\n",
    "with open(path_to_glove_file,encoding='utf8') as f:\n",
    "    for line in f:\n",
    "        word,coefs = line.split(maxsplit=1)\n",
    "        coefs = np.fromstring(coefs, 'f', sep= ' ')\n",
    "        embeddings_index[word] = coefs\n",
    "\n",
    "print(f\"단어 벡터 개수: {len(embeddings_index)}\")"
   ]
  },
  {
   "cell_type": "markdown",
   "id": "56b43263",
   "metadata": {},
   "source": [
    "### Glove 단어 임베딩 행렬 준비"
   ]
  },
  {
   "cell_type": "code",
   "execution_count": null,
   "id": "cf161e3b",
   "metadata": {},
   "outputs": [],
   "source": [
    "embedding_dim = 100\n",
    "\n",
    "vocabulary = text_vectorization.get_vocabulary()\n",
    "word_index = dict(zip(vocabulary, range(len(vocabulary))))\n",
    "\n",
    "embdding_matrix = np.zeros((max_tokens, embedding_dim))"
   ]
  },
  {
   "cell_type": "code",
   "execution_count": null,
   "id": "420c09b7",
   "metadata": {},
   "outputs": [],
   "source": [
    "for word, i in  word_index.items():\n",
    "    if i < max_tokens:\n",
    "        embedding_vector = embeddings_index.get(word)\n",
    "    if embedding_vector is not None:\n",
    "        embdding_matrix[i] = embedding_vector"
   ]
  },
  {
   "cell_type": "code",
   "execution_count": null,
   "id": "9aa72313",
   "metadata": {},
   "outputs": [],
   "source": [
    "embedding_layer = layers.Embedding(\n",
    "    max_tokens,\n",
    "    embedding_dim,\n",
    "    embeddings_initializer=keras.initializers.Constant(embdding_matrix),\n",
    "    trainable =False,\n",
    "    mask_zero =True\n",
    ")"
   ]
  },
  {
   "cell_type": "code",
   "execution_count": null,
   "id": "d0d31ba4",
   "metadata": {},
   "outputs": [],
   "source": [
    "inputs = keras.Input(shape=(None,), dtype='int64')\n",
    "embedded = embedding_layer(inputs)\n",
    "x = layers.Bidirectional(layers.LSTM(32))(embedded)\n",
    "x = layers.Dropout(0.5)(x)\n",
    "outputs = layers.Dense(1, activation='sigmoid')(x)\n",
    "model = keras.Model(inputs, outputs)\n",
    "model.compile(optimizer='rmsprop',loss = tf.keras.losses.binary_crossentropy, metrics=[\"acc\"])\n",
    "model.summary()\n",
    "callbacks = [\n",
    "    keras.callbacks.ModelCheckpoint(\"glove_embeddings_sequence_model.keras\", save_best_only=True)\n",
    "]\n",
    "model.fit(int_train_ds,validation_data=int_val_ds, epochs=10, callbacks=callback)\n",
    "\n",
    "model = keras.models.load_model('glove_embeddings_sequence_model.keras')\n",
    "print(f\"테스트 정확도 : {model.evaluate(int_test_ds)[1]:.3f}\")"
   ]
  }
 ],
 "metadata": {
  "kernelspec": {
   "display_name": "Python 3 (ipykernel)",
   "language": "python",
   "name": "python3"
  },
  "language_info": {
   "codemirror_mode": {
    "name": "ipython",
    "version": 3
   },
   "file_extension": ".py",
   "mimetype": "text/x-python",
   "name": "python",
   "nbconvert_exporter": "python",
   "pygments_lexer": "ipython3",
   "version": "3.9.7"
  }
 },
 "nbformat": 4,
 "nbformat_minor": 5
}
