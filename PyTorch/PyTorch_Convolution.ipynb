{
 "cells": [
  {
   "cell_type": "code",
   "execution_count": 1,
   "id": "62b88efd-9697-4682-a3b0-32a03d1104cc",
   "metadata": {},
   "outputs": [
    {
     "name": "stdout",
     "output_type": "stream",
     "text": [
      "Files already downloaded and verified\n",
      "Files already downloaded and verified\n"
     ]
    }
   ],
   "source": [
    "from torchvision import datasets\n",
    "data_path = '../data/'\n",
    "cifar10 = datasets.CIFAR10(data_path,train=True,download=True)\n",
    "cifar10_val = datasets.CIFAR10(data_path,train=False,download=True)"
   ]
  },
  {
   "cell_type": "code",
   "execution_count": 2,
   "id": "7a6591b0-840b-4661-9129-aee9f11ae833",
   "metadata": {
    "tags": []
   },
   "outputs": [
    {
     "data": {
      "text/plain": [
       "['AugMix',\n",
       " 'AutoAugment',\n",
       " 'AutoAugmentPolicy',\n",
       " 'CenterCrop',\n",
       " 'ColorJitter',\n",
       " 'Compose',\n",
       " 'ConvertImageDtype',\n",
       " 'ElasticTransform',\n",
       " 'FiveCrop',\n",
       " 'GaussianBlur',\n",
       " 'Grayscale',\n",
       " 'InterpolationMode',\n",
       " 'Lambda',\n",
       " 'LinearTransformation',\n",
       " 'Normalize',\n",
       " 'PILToTensor',\n",
       " 'Pad',\n",
       " 'RandAugment',\n",
       " 'RandomAdjustSharpness',\n",
       " 'RandomAffine',\n",
       " 'RandomApply',\n",
       " 'RandomAutocontrast',\n",
       " 'RandomChoice',\n",
       " 'RandomCrop',\n",
       " 'RandomEqualize',\n",
       " 'RandomErasing',\n",
       " 'RandomGrayscale',\n",
       " 'RandomHorizontalFlip',\n",
       " 'RandomInvert',\n",
       " 'RandomOrder',\n",
       " 'RandomPerspective',\n",
       " 'RandomPosterize',\n",
       " 'RandomResizedCrop',\n",
       " 'RandomRotation',\n",
       " 'RandomSolarize',\n",
       " 'RandomVerticalFlip',\n",
       " 'Resize',\n",
       " 'TenCrop',\n",
       " 'ToPILImage',\n",
       " 'ToTensor',\n",
       " 'TrivialAugmentWide',\n",
       " '__builtins__',\n",
       " '__cached__',\n",
       " '__doc__',\n",
       " '__file__',\n",
       " '__loader__',\n",
       " '__name__',\n",
       " '__package__',\n",
       " '__path__',\n",
       " '__spec__',\n",
       " '_pil_constants',\n",
       " '_presets',\n",
       " 'autoaugment',\n",
       " 'functional',\n",
       " 'functional_pil',\n",
       " 'functional_tensor',\n",
       " 'transforms']"
      ]
     },
     "execution_count": 2,
     "metadata": {},
     "output_type": "execute_result"
    }
   ],
   "source": [
    "# 이미지 데이터를 변경하는 라이브러리\n",
    "from torchvision import transforms\n",
    "dir(transforms) # 해당 명령어가 가지고 있는 함수리스트를 보여줌"
   ]
  },
  {
   "cell_type": "code",
   "execution_count": 3,
   "id": "5b59f937-9e07-411a-947e-41b5d183ec7f",
   "metadata": {},
   "outputs": [],
   "source": [
    "img, label =  cifar10[0] # 0번째 데이터를 가져온다"
   ]
  },
  {
   "cell_type": "code",
   "execution_count": 4,
   "id": "85af7f86-49b8-42bd-b13d-3d910570bf3f",
   "metadata": {},
   "outputs": [
    {
     "data": {
      "image/png": "[encoded data removed]",
      "text/plain": [
       "<PIL.Image.Image image mode=RGB size=32x32 at 0x2C6B71B49A0>"
      ]
     },
     "execution_count": 4,
     "metadata": {},
     "output_type": "execute_result"
    }
   ],
   "source": [
    "img"
   ]
  },
  {
   "cell_type": "code",
   "execution_count": 5,
   "id": "d8e179cc-ec3e-4565-a7b8-4f9e5e16d630",
   "metadata": {},
   "outputs": [
    {
     "data": {
      "text/plain": [
       "torch.Size([3, 32, 32])"
      ]
     },
     "execution_count": 5,
     "metadata": {},
     "output_type": "execute_result"
    }
   ],
   "source": [
    "# Torch에서 제공하는 데이터를 변환작업을 하지 않으면 이미지 데이터를 가져오고\n",
    "# 수치데이터로 변경하려면\n",
    "to_tensor = transforms.ToTensor()\n",
    "img_t = to_tensor(img)\n",
    "img_t.shape"
   ]
  },
  {
   "cell_type": "code",
   "execution_count": 6,
   "id": "e9e36e73-b990-44c4-ac6e-45b0908031cd",
   "metadata": {},
   "outputs": [
    {
     "data": {
      "text/plain": [
       "Conv2d(3, 16, kernel_size=(3, 3), stride=(1, 1))"
      ]
     },
     "execution_count": 6,
     "metadata": {},
     "output_type": "execute_result"
    }
   ],
   "source": [
    "# Sample 데이터은 CIFAR-10의 채널은 3\n",
    "import torch.nn as nn\n",
    "conv = nn.Conv2d(3,16, kernel_size=3)\n",
    "conv"
   ]
  },
  {
   "cell_type": "code",
   "execution_count": 7,
   "id": "83256232-cc41-411c-9b42-0b6df18d4ae0",
   "metadata": {},
   "outputs": [
    {
     "data": {
      "text/plain": [
       "(torch.Size([16, 3, 3, 3]), torch.Size([16]))"
      ]
     },
     "execution_count": 7,
     "metadata": {},
     "output_type": "execute_result"
    }
   ],
   "source": [
    "conv.weight.shape, conv.bias.shape"
   ]
  },
  {
   "cell_type": "code",
   "execution_count": 8,
   "id": "c71aceae-0966-4da7-9b2c-7bcaa112ba4d",
   "metadata": {},
   "outputs": [],
   "source": [
    "# nn.Conv2d는 입력으로 B C H W 받으므로 이미지 한개를 적용해 보려면 0번째 차원을 unsqueeze를 통해서 늘린다.(배치사이즈로사용)"
   ]
  },
  {
   "cell_type": "code",
   "execution_count": 9,
   "id": "d34c3d8b-9280-46bd-8bc7-70ba30117e15",
   "metadata": {},
   "outputs": [
    {
     "name": "stdout",
     "output_type": "stream",
     "text": [
      "torch.Size([3, 32, 32])\n"
     ]
    },
    {
     "data": {
      "text/plain": [
       "torch.Size([1, 3, 32, 32])"
      ]
     },
     "execution_count": 9,
     "metadata": {},
     "output_type": "execute_result"
    }
   ],
   "source": [
    "img,label = cifar10[0]\n",
    "img_t = to_tensor(img)\n",
    "print(img_t.shape)\n",
    "img_t = img_t.unsqueeze(0)\n",
    "img_t.shape"
   ]
  },
  {
   "cell_type": "code",
   "execution_count": 10,
   "id": "e204ea61-6cd7-4cd3-a3a3-8832fd943a4a",
   "metadata": {},
   "outputs": [
    {
     "data": {
      "image/png": "[encoded data removed]",
      "text/plain": [
       "<PIL.Image.Image image mode=RGB size=32x32 at 0x2C6B8F7DBB0>"
      ]
     },
     "execution_count": 10,
     "metadata": {},
     "output_type": "execute_result"
    }
   ],
   "source": [
    "img"
   ]
  },
  {
   "cell_type": "code",
   "execution_count": 11,
   "id": "68c9e79f-da29-4cfd-9fdb-0ec6c41e0b17",
   "metadata": {},
   "outputs": [
    {
     "data": {
      "text/plain": [
       "torch.Size([1, 16, 30, 30])"
      ]
     },
     "execution_count": 11,
     "metadata": {},
     "output_type": "execute_result"
    }
   ],
   "source": [
    "output =  conv(img_t)\n",
    "output.shape"
   ]
  },
  {
   "cell_type": "code",
   "execution_count": 12,
   "id": "769109c6-4972-4a8a-9953-2077b05ebf31",
   "metadata": {},
   "outputs": [],
   "source": [
    "import matplotlib.pylab as plt\n",
    "import os\n",
    "os.environ['KMP_DUPLICATE_LIB_OK'] = 'True'"
   ]
  },
  {
   "cell_type": "code",
   "execution_count": 13,
   "id": "54918fd3-321b-4454-b176-68898e72d3cb",
   "metadata": {},
   "outputs": [
    {
     "data": {
      "text/plain": [
       "torch.Size([30, 30])"
      ]
     },
     "execution_count": 13,
     "metadata": {},
     "output_type": "execute_result"
    }
   ],
   "source": [
    "output[0,0].detach().shape"
   ]
  },
  {
   "cell_type": "code",
   "execution_count": 14,
   "id": "1961c1d3-bc84-4959-acc5-0c30d9ff6c29",
   "metadata": {},
   "outputs": [
    {
     "data": {
      "text/plain": [
       "<matplotlib.image.AxesImage at 0x2c6b7d78460>"
      ]
     },
     "execution_count": 14,
     "metadata": {},
     "output_type": "execute_result"
    },
    {
     "data": {
      "image/png": "[encoded data removed]",
      "text/plain": [
       "<Figure size 432x288 with 1 Axes>"
      ]
     },
     "metadata": {
      "needs_background": "light"
     },
     "output_type": "display_data"
    }
   ],
   "source": [
    "plt.imshow(output[0,0].detach(),cmap='gray')"
   ]
  },
  {
   "cell_type": "code",
   "execution_count": 15,
   "id": "4951444c-c547-4742-ab4b-fd12920ce432",
   "metadata": {},
   "outputs": [
    {
     "name": "stdout",
     "output_type": "stream",
     "text": [
      "torch.Size([3, 32, 32]) 6\n"
     ]
    }
   ],
   "source": [
    "import torch\n",
    "tensor_cifar10 = datasets.CIFAR10(data_path,train=True,download=False, transform=transforms.ToTensor())\n",
    "for image, label in tensor_cifar10:\n",
    "    print(image.shape, label)\n",
    "    break"
   ]
  },
  {
   "cell_type": "code",
   "execution_count": 16,
   "id": "f9960f94-39f9-4549-972f-b0f6510aee76",
   "metadata": {},
   "outputs": [
    {
     "data": {
      "text/plain": [
       "torch.Size([3, 32, 32, 50000])"
      ]
     },
     "execution_count": 16,
     "metadata": {},
     "output_type": "execute_result"
    }
   ],
   "source": [
    "imgs = torch.stack( [img_t for img_t, label in tensor_cifar10], dim=3)\n",
    "imgs.shape"
   ]
  },
  {
   "cell_type": "code",
   "execution_count": 17,
   "id": "516fa265-8969-4e78-96b5-a1dafafd644c",
   "metadata": {},
   "outputs": [
    {
     "data": {
      "text/plain": [
       "tensor([[0.2314, 0.6039, 1.0000,  ..., 0.0471, 0.7647, 0.6392],\n",
       "        [0.2431, 0.6941, 1.0000,  ..., 0.1216, 0.7451, 0.6392],\n",
       "        [0.2471, 0.7333, 1.0000,  ..., 0.1961, 0.6706, 0.6314]])"
      ]
     },
     "execution_count": 17,
     "metadata": {},
     "output_type": "execute_result"
    }
   ],
   "source": [
    "imgs.view(3,-1)"
   ]
  },
  {
   "cell_type": "code",
   "execution_count": 18,
   "id": "239fedf6-dc40-4f43-8a7c-a64936cf238e",
   "metadata": {},
   "outputs": [
    {
     "data": {
      "text/plain": [
       "tensor([0.4914, 0.4822, 0.4465])"
      ]
     },
     "execution_count": 18,
     "metadata": {},
     "output_type": "execute_result"
    }
   ],
   "source": [
    "# 채널별로 평균\n",
    "imgs.view(3,-1).mean(dim=1)"
   ]
  },
  {
   "cell_type": "code",
   "execution_count": 19,
   "id": "da31adfe-435b-4ebc-9daa-d00ee52e0001",
   "metadata": {},
   "outputs": [
    {
     "data": {
      "text/plain": [
       "tensor([0.2470, 0.2435, 0.2616])"
      ]
     },
     "execution_count": 19,
     "metadata": {},
     "output_type": "execute_result"
    }
   ],
   "source": [
    "# 채널별로 표준편차\n",
    "imgs.view(3,-1).std(dim=1)"
   ]
  },
  {
   "cell_type": "code",
   "execution_count": 20,
   "id": "d09e7bed-254f-4c5c-8cfc-8a4c6fa79694",
   "metadata": {},
   "outputs": [],
   "source": [
    "torch_normalize = transforms.Normalize((0.4914, 0.4822, 0.4465),(0.2470, 0.2435, 0.2616))"
   ]
  },
  {
   "cell_type": "code",
   "execution_count": 21,
   "id": "21b6c198-c28c-459a-a0ad-055e36f71e1b",
   "metadata": {},
   "outputs": [
    {
     "name": "stdout",
     "output_type": "stream",
     "text": [
      "Files already downloaded and verified\n",
      "Files already downloaded and verified\n"
     ]
    }
   ],
   "source": [
    "# 데이터를 가져올때는 데이터를 정규화하면서 가져온다.\n",
    "from torchvision import datasets\n",
    "data_path = '../data/'\n",
    "cifar10 = datasets.CIFAR10(data_path,train=True,download=True\n",
    "                           ,transform=transforms.Compose([\n",
    "                                           transforms.ToTensor(),\n",
    "                                           torch_normalize\n",
    "                                       ])    \n",
    "                          )\n",
    "\n",
    "cifar10_val = datasets.CIFAR10(data_path,train=False,download=True\n",
    "                           ,transform=transforms.Compose([\n",
    "                                           transforms.ToTensor(),\n",
    "                                           torch_normalize\n",
    "                                       ])    \n",
    "                          )"
   ]
  },
  {
   "cell_type": "code",
   "execution_count": 22,
   "id": "fa43d51d-589e-471a-a6a6-1e0989feb106",
   "metadata": {},
   "outputs": [],
   "source": [
    "img,label = cifar10[0]"
   ]
  },
  {
   "cell_type": "code",
   "execution_count": 23,
   "id": "1c3293aa-26cc-4e3b-a263-aa8dd2df212c",
   "metadata": {},
   "outputs": [
    {
     "data": {
      "text/plain": [
       "torch.Size([3, 32, 32])"
      ]
     },
     "execution_count": 23,
     "metadata": {},
     "output_type": "execute_result"
    }
   ],
   "source": [
    "img.shape"
   ]
  },
  {
   "cell_type": "code",
   "execution_count": 24,
   "id": "75c12a41-23f1-455d-bbbf-72f6475340e7",
   "metadata": {},
   "outputs": [
    {
     "name": "stderr",
     "output_type": "stream",
     "text": [
      "Clipping input data to the valid range for imshow with RGB data ([0..1] for floats or [0..255] for integers).\n"
     ]
    },
    {
     "data": {
      "text/plain": [
       "<matplotlib.image.AxesImage at 0x2c6b7eafaf0>"
      ]
     },
     "execution_count": 24,
     "metadata": {},
     "output_type": "execute_result"
    },
    {
     "data": {
      "image/png": "[encoded data removed]",
      "text/plain": [
       "<Figure size 432x288 with 1 Axes>"
      ]
     },
     "metadata": {
      "needs_background": "light"
     },
     "output_type": "display_data"
    }
   ],
   "source": [
    "# plt 로 이미지를 그릴대는 마지막이 차수\n",
    "plt.imshow(img.permute(1,2,0) )"
   ]
  },
  {
   "cell_type": "code",
   "execution_count": 25,
   "id": "ea93287e-7639-4ae6-a8ce-5234c5139456",
   "metadata": {},
   "outputs": [
    {
     "data": {
      "text/plain": [
       "torch.Size([16, 30, 30])"
      ]
     },
     "execution_count": 25,
     "metadata": {},
     "output_type": "execute_result"
    }
   ],
   "source": [
    "conv(img).shape"
   ]
  },
  {
   "cell_type": "code",
   "execution_count": 26,
   "id": "abf7ee14-5a0b-4a48-9669-e8a9a4173ba8",
   "metadata": {},
   "outputs": [
    {
     "name": "stdout",
     "output_type": "stream",
     "text": [
      "torch.Size([30, 30])\n"
     ]
    },
    {
     "data": {
      "text/plain": [
       "<matplotlib.image.AxesImage at 0x2c6c3cf1e50>"
      ]
     },
     "execution_count": 26,
     "metadata": {},
     "output_type": "execute_result"
    },
    {
     "data": {
      "image/png": "[encoded data removed]",
      "text/plain": [
       "<Figure size 432x288 with 1 Axes>"
      ]
     },
     "metadata": {
      "needs_background": "light"
     },
     "output_type": "display_data"
    }
   ],
   "source": [
    "print(conv(img)[0].detach().shape)\n",
    "plt.imshow(conv(img)[0].detach())"
   ]
  },
  {
   "cell_type": "code",
   "execution_count": 27,
   "id": "5847d388-65a2-471f-9add-6235624f1d9d",
   "metadata": {},
   "outputs": [],
   "source": [
    "# nn.Module  sub - classing\n",
    "class Net(nn.Module):\n",
    "    def __init__(self):\n",
    "        super().__init__()\n",
    "        self.conv1 = nn.Conv2d(3,16,kernel_size=3,padding=1)\n",
    "        self.act1 = nn.Tanh()\n",
    "        self.pool1 = nn.MaxPool2d(2) #특성크기를 줄여줌\n",
    "        self.conv2 = nn.Conv2d(16,8,kernel_size=3, padding=1)\n",
    "        self.act2 = nn.Tanh()\n",
    "        self.pool2 = nn.MaxPool2d(2)\n",
    "        # 신경망\n",
    "        self.flatten = nn.Flatten()\n",
    "        \n",
    "        self.fc1 = nn.Linear(8*8*8,32)\n",
    "        self.act3 = nn.Tanh()\n",
    "        self.fc2 = nn.Linear(32,2)\n",
    "    def forward(self,x):\n",
    "        out = self.pool1((self.act1(self.conv1(x))))\n",
    "        out = self.pool2((self.act2((self.conv2(out)))))\n",
    "        out = self.flatten(out)\n",
    "        out = self.fc2(self.act3(self.fc1(out)))\n",
    "        return out\n",
    "        "
   ]
  },
  {
   "cell_type": "code",
   "execution_count": 28,
   "id": "ef27a275-b9d2-4a99-b545-66f96ab6d002",
   "metadata": {},
   "outputs": [],
   "source": [
    "model = Net()"
   ]
  },
  {
   "cell_type": "code",
   "execution_count": 29,
   "id": "ee12a98a-dbfb-48fd-a07c-fda5770b078d",
   "metadata": {},
   "outputs": [
    {
     "data": {
      "text/plain": [
       "(18090, [432, 16, 1152, 8, 16384, 32, 64, 2])"
      ]
     },
     "execution_count": 29,
     "metadata": {},
     "output_type": "execute_result"
    }
   ],
   "source": [
    "numel_lilst = [p.numel() for p in model.parameters()]\n",
    "sum(numel_lilst), numel_lilst"
   ]
  },
  {
   "cell_type": "code",
   "execution_count": 30,
   "id": "b18b470f-cd0d-4586-9c82-6986479f202d",
   "metadata": {},
   "outputs": [
    {
     "data": {
      "text/plain": [
       "Net(\n",
       "  (conv1): Conv2d(3, 16, kernel_size=(3, 3), stride=(1, 1), padding=(1, 1))\n",
       "  (act1): Tanh()\n",
       "  (pool1): MaxPool2d(kernel_size=2, stride=2, padding=0, dilation=1, ceil_mode=False)\n",
       "  (conv2): Conv2d(16, 8, kernel_size=(3, 3), stride=(1, 1), padding=(1, 1))\n",
       "  (act2): Tanh()\n",
       "  (pool2): MaxPool2d(kernel_size=2, stride=2, padding=0, dilation=1, ceil_mode=False)\n",
       "  (flatten): Flatten(start_dim=1, end_dim=-1)\n",
       "  (fc1): Linear(in_features=512, out_features=32, bias=True)\n",
       "  (act3): Tanh()\n",
       "  (fc2): Linear(in_features=32, out_features=2, bias=True)\n",
       ")"
      ]
     },
     "execution_count": 30,
     "metadata": {},
     "output_type": "execute_result"
    }
   ],
   "source": [
    "model"
   ]
  },
  {
   "cell_type": "code",
   "execution_count": 31,
   "id": "2cf86578-b1db-43d7-9a82-f5cda307c600",
   "metadata": {},
   "outputs": [],
   "source": [
    "import torch.nn.functional as F"
   ]
  },
  {
   "cell_type": "code",
   "execution_count": 32,
   "id": "36a48f02-202d-4aba-8332-54d6beb98d17",
   "metadata": {},
   "outputs": [],
   "source": [
    "class Net(nn.Module):\n",
    "    def __init__(self):\n",
    "        super().__init__()\n",
    "        self.conv1 = nn.Conv2d(3,16,kernel_size=3,padding=1)                \n",
    "        self.conv2 = nn.Conv2d(16,8,kernel_size=3, padding=1)\n",
    "        self.fc1 = nn.Linear(8*8*8,32)        \n",
    "        self.fc2 = nn.Linear(32,2)\n",
    "    def forward(self,x):\n",
    "        out = F.max_pool2d(torch.tanh(self.conv1(x)),2)\n",
    "        out = F.max_pool2d(torch.tanh(self.conv2(out)),2)\n",
    "        out = out.view(-1,8*8*8)\n",
    "        out = torch.tanh(self.fc1(out))\n",
    "        out = self.fc2(out)\n",
    "        return out"
   ]
  },
  {
   "cell_type": "code",
   "execution_count": 33,
   "id": "67c0ccb2-7ae3-491e-8d94-b0b96ff0bc6f",
   "metadata": {},
   "outputs": [
    {
     "data": {
      "text/plain": [
       "(torch.Size([3, 32, 32]), torch.Size([1, 3, 32, 32]))"
      ]
     },
     "execution_count": 33,
     "metadata": {},
     "output_type": "execute_result"
    }
   ],
   "source": [
    "img.shape, img.unsqueeze(0).shape"
   ]
  },
  {
   "cell_type": "code",
   "execution_count": 34,
   "id": "086a1ed8-db51-4c03-b8da-4af4062e9775",
   "metadata": {},
   "outputs": [
    {
     "data": {
      "text/plain": [
       "tensor([[0.0562, 0.0618]], grad_fn=<AddmmBackward0>)"
      ]
     },
     "execution_count": 34,
     "metadata": {},
     "output_type": "execute_result"
    }
   ],
   "source": [
    "model = Net()\n",
    "model(img.unsqueeze(0))"
   ]
  },
  {
   "cell_type": "code",
   "execution_count": 35,
   "id": "0ca8b818-7144-448e-813b-0a09e6323bbf",
   "metadata": {},
   "outputs": [],
   "source": [
    "# 훈련\n",
    "# 1.모델에 입력값을 넣고\n",
    "# 2. 손실값을 계산\n",
    "# 3. 이전 기울기값을 0으로 리셋하고\n",
    "# 4. loss.backward() 호출해서 모든 파라미터에 대한 손실 값의 기울기를 계산(역방향)\n",
    "# 5. Optimizer을 통해 손실값을 낮추도록 파라미터를 조정"
   ]
  },
  {
   "cell_type": "code",
   "execution_count": 36,
   "id": "253f0772-de5a-4daf-a971-a1668a6e1b5a",
   "metadata": {},
   "outputs": [],
   "source": [
    "import datetime\n",
    "from tqdm import tqdm\n",
    "def training_loop(n_epochs, optimizer, model, loss_fn, train_loader):\n",
    "    for epoch in tqdm(range(1, n_epochs+1)):\n",
    "        loss_train = 0.0\n",
    "        for imgs, labels in train_loader: # 데이터 로더가 만들어준 배치 안에서 데이터 셋을 순환\n",
    "            outputs = model(imgs)\n",
    "            loss = loss_fn(outputs, labels)  # 손실값을 계산\n",
    "            optimizer.zero_grad() # 마지막 이전 기울기 값을 지움\n",
    "            loss.backward() # 역전파 수행, 즉 신경망이 학습할 모든 파라미터에 대한 기울기를 계산\n",
    "            optimizer.step()  # Model 업데이트\n",
    "            loss_train += loss.item() # 매번 모든 손실값을 기록한다. - 배치단위\n",
    "        # 출력\n",
    "        if epoch == 1 or epoch % 10 == 0:\n",
    "            print(f\"{datetime.datetime.now()} epoch:{epoch} loss:{loss_train /len(train_loader) }\")\n",
    "            \n",
    "            "
   ]
  },
  {
   "cell_type": "code",
   "execution_count": 37,
   "id": "bb9de42f-e284-43ef-adb5-6a75d936d6d5",
   "metadata": {},
   "outputs": [],
   "source": [
    "label_map = {0:0, 2:1}\n",
    "class_name = ['airplane','bird']\n",
    "cifar2 = [(img,label_map[label]) for img,label in cifar10 if label in [0,2]]\n",
    "cifar2_val = [(img,label_map[label]) for img,label in cifar10_val if label in [0,2]]"
   ]
  },
  {
   "cell_type": "code",
   "execution_count": 38,
   "id": "082c4809-a494-40a7-8332-4d826dd508b0",
   "metadata": {},
   "outputs": [],
   "source": [
    "train_loader = torch.utils.data.DataLoader(cifar2,batch_size=64,shuffle=True)"
   ]
  },
  {
   "cell_type": "code",
   "execution_count": 39,
   "id": "e4619282-4a2a-4021-aa35-57ba5bdd8f67",
   "metadata": {},
   "outputs": [],
   "source": [
    "model = Net()\n",
    "optimizer = torch.optim.SGD(model.parameters(), lr=1e-2)\n",
    "loss_fn = torch.nn.CrossEntropyLoss()"
   ]
  },
  {
   "cell_type": "code",
   "execution_count": 40,
   "id": "7648a68c-8e79-4f53-93e7-19a66b3260b7",
   "metadata": {},
   "outputs": [
    {
     "name": "stderr",
     "output_type": "stream",
     "text": [
      "  2%|█▋                                                                                 | 1/50 [00:07<06:00,  7.36s/it]"
     ]
    },
    {
     "name": "stdout",
     "output_type": "stream",
     "text": [
      "2022-12-12 19:32:42.013436 epoch:1 loss:0.5592976552285965\n"
     ]
    },
    {
     "name": "stderr",
     "output_type": "stream",
     "text": [
      " 20%|████████████████▍                                                                 | 10/50 [00:57<03:36,  5.42s/it]"
     ]
    },
    {
     "name": "stdout",
     "output_type": "stream",
     "text": [
      "2022-12-12 19:33:31.731562 epoch:10 loss:0.33808553617471343\n"
     ]
    },
    {
     "name": "stderr",
     "output_type": "stream",
     "text": [
      " 40%|████████████████████████████████▊                                                 | 20/50 [01:52<02:43,  5.45s/it]"
     ]
    },
    {
     "name": "stdout",
     "output_type": "stream",
     "text": [
      "2022-12-12 19:34:26.755487 epoch:20 loss:0.3012606020376181\n"
     ]
    },
    {
     "name": "stderr",
     "output_type": "stream",
     "text": [
      " 60%|█████████████████████████████████████████████████▏                                | 30/50 [02:46<01:47,  5.39s/it]"
     ]
    },
    {
     "name": "stdout",
     "output_type": "stream",
     "text": [
      "2022-12-12 19:35:21.380071 epoch:30 loss:0.27068073639444484\n"
     ]
    },
    {
     "name": "stderr",
     "output_type": "stream",
     "text": [
      " 80%|█████████████████████████████████████████████████████████████████▌                | 40/50 [03:45<01:01,  6.17s/it]"
     ]
    },
    {
     "name": "stdout",
     "output_type": "stream",
     "text": [
      "2022-12-12 19:36:20.532121 epoch:40 loss:0.2487049220473903\n"
     ]
    },
    {
     "name": "stderr",
     "output_type": "stream",
     "text": [
      "100%|██████████████████████████████████████████████████████████████████████████████████| 50/50 [04:18<00:00,  5.18s/it]"
     ]
    },
    {
     "name": "stdout",
     "output_type": "stream",
     "text": [
      "2022-12-12 19:36:53.523766 epoch:50 loss:0.22873029582629537\n"
     ]
    },
    {
     "name": "stderr",
     "output_type": "stream",
     "text": [
      "\n"
     ]
    }
   ],
   "source": [
    "training_loop(\n",
    "    n_epochs=50, optimizer=optimizer, model=model, loss_fn=loss_fn, train_loader=train_loader\n",
    ")"
   ]
  },
  {
   "cell_type": "code",
   "execution_count": 41,
   "id": "38235a4f-b61f-4077-8c37-ada8d0aa54f9",
   "metadata": {},
   "outputs": [],
   "source": [
    "# 정확도 측정\n",
    "train_loader = torch.utils.data.DataLoader(cifar2,batch_size=64,shuffle=False)\n",
    "val_loader = torch.utils.data.DataLoader(cifar2_val,batch_size=64,shuffle=False)"
   ]
  },
  {
   "cell_type": "code",
   "execution_count": 42,
   "id": "0a9efe4d-e383-4bc3-8f36-1d5c16c1336c",
   "metadata": {},
   "outputs": [],
   "source": [
    "def validate(model, train_loader, val_loader):\n",
    "    for name, loader in [('train',train_loader),('val',val_loader)]:\n",
    "        correct = 0\n",
    "        total = 0\n",
    "        with torch.no_grad():  # 파라미터를 업데이트 하지 않기때문에 기울기는 필요없음\n",
    "            for imgs, labels in loader:\n",
    "                output = model(imgs)\n",
    "                _,predicted =  torch.max(output, dim=1)\n",
    "                total += labels.shape[0]\n",
    "                correct += int((predicted == labels).sum())\n",
    "        print(f\"accuracy: {name} : {correct / total}\")"
   ]
  },
  {
   "cell_type": "code",
   "execution_count": 43,
   "id": "cd419b43-ef32-4de0-90f6-1d1491108401",
   "metadata": {},
   "outputs": [
    {
     "name": "stdout",
     "output_type": "stream",
     "text": [
      "accuracy: train : 0.8976\n",
      "accuracy: val : 0.8755\n"
     ]
    }
   ],
   "source": [
    "validate(model,train_loader,val_loader)"
   ]
  }
 ],
 "metadata": {
  "kernelspec": {
   "display_name": "Python 3 (ipykernel)",
   "language": "python",
   "name": "python3"
  },
  "language_info": {
   "codemirror_mode": {
    "name": "ipython",
    "version": 3
   },
   "file_extension": ".py",
   "mimetype": "text/x-python",
   "name": "python",
   "nbconvert_exporter": "python",
   "pygments_lexer": "ipython3",
   "version": "3.9.7"
  }
 },
 "nbformat": 4,
 "nbformat_minor": 5
}
