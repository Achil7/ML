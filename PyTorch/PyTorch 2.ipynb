{
  "cells": [
    {
      "cell_type": "markdown",
      "id": "5fe97640",
      "metadata": {
        "id": "5fe97640"
      },
      "source": [
        "# 퍼셉트론 한 개의 신경망"
      ]
    },
    {
      "cell_type": "code",
      "execution_count": 1,
      "id": "76c3da71",
      "metadata": {
        "id": "76c3da71"
      },
      "outputs": [],
      "source": [
        "import numpy as np\n",
        "import torch\n",
        "import torch.nn as nn"
      ]
    },
    {
      "cell_type": "code",
      "execution_count": 2,
      "id": "553f5739",
      "metadata": {
        "id": "553f5739"
      },
      "outputs": [],
      "source": [
        "seed = 1234\n",
        "torch.manual_seed(seed)\n",
        "torch.cuda.manual_seed_all(seed)  # cuda를 설치했을 경우 : 자신의 GPU를 셋팅\n",
        "np.random.seed(seed)"
      ]
    },
    {
      "cell_type": "code",
      "execution_count": 3,
      "id": "98af93b9",
      "metadata": {
        "id": "98af93b9"
      },
      "outputs": [],
      "source": [
        "class Perceptron(nn.Module):           # nn.Module 상속\n",
        "    def __init__(self, input_dim):     # 생성자\n",
        "        super(Perceptron, self).__init__()\n",
        "        self.fc1 = nn.Linear(input_dim,1)\n",
        "    def forward(self, x_in):           # 정방계산\n",
        "        return torch.sigmoid(self.fc1(x_in)).squeeze()"
      ]
    },
    {
      "cell_type": "code",
      "execution_count": 4,
      "id": "e7864e5d",
      "metadata": {
        "colab": {
          "base_uri": "https://localhost:8080/",
          "height": 281
        },
        "id": "e7864e5d",
        "outputId": "21edb222-39e1-4210-f1e9-07efc9d3c713"
      },
      "outputs": [
        {
          "output_type": "display_data",
          "data": {
            "text/plain": [
              "<Figure size 432x288 with 4 Axes>"
            ],
            "image/png": "[encoded data removed]"
          },
          "metadata": {
            "needs_background": "light"
          }
        }
      ],
      "source": [
        "# 활성화 함수\n",
        "import torch\n",
        "import matplotlib.pyplot as plt\n",
        "x = torch.arange(-5.0, 5.0, 0.1)\n",
        "\n",
        "plt.subplot(2,2,1)\n",
        "y = torch.sigmoid(x)\n",
        "plt.plot(x.numpy(),y.numpy())\n",
        "plt.title('sigmoid')\n",
        "\n",
        "plt.subplot(2,2,2)\n",
        "y = torch.tanh(x)\n",
        "plt.plot(x.numpy(),y.numpy())\n",
        "plt.title('tanh')\n",
        "          \n",
        "\n",
        "plt.subplot(2,2,3)\n",
        "relu = torch.nn.ReLU()\n",
        "y = relu(x)\n",
        "plt.plot(x.numpy(),y.detach().numpy())\n",
        "plt.title('Relu')\n",
        "\n",
        "\n",
        "plt.subplot(2,2,4)\n",
        "prelu = torch.nn.PReLU(num_parameters=1)\n",
        "y = prelu(x)         \n",
        "plt.plot(x.numpy(),y.detach().numpy())\n",
        "plt.title('prelu')\n",
        "\n",
        "plt.show()"
      ]
    }
  ],
  "metadata": {
    "kernelspec": {
      "display_name": "Python 3 (ipykernel)",
      "language": "python",
      "name": "python3"
    },
    "language_info": {
      "codemirror_mode": {
        "name": "ipython",
        "version": 3
      },
      "file_extension": ".py",
      "mimetype": "text/x-python",
      "name": "python",
      "nbconvert_exporter": "python",
      "pygments_lexer": "ipython3",
      "version": "3.9.7"
    },
    "colab": {
      "provenance": [],
      "collapsed_sections": []
    }
  },
  "nbformat": 4,
  "nbformat_minor": 5
}