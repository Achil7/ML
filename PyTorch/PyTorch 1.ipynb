{
 "cells": [
  {
   "cell_type": "code",
   "execution_count": 1,
   "id": "f99b0c63",
   "metadata": {},
   "outputs": [],
   "source": [
    "# pip install torch"
   ]
  },
  {
   "cell_type": "code",
   "execution_count": 2,
   "id": "8e70622f",
   "metadata": {},
   "outputs": [
    {
     "data": {
      "text/plain": [
       "<torch._C.Generator at 0x1c8087998f0>"
      ]
     },
     "execution_count": 2,
     "metadata": {},
     "output_type": "execute_result"
    }
   ],
   "source": [
    "import torch\n",
    "import numpy as np\n",
    "torch.manual_seed(1234)"
   ]
  },
  {
   "cell_type": "code",
   "execution_count": 3,
   "id": "35cdf137",
   "metadata": {},
   "outputs": [],
   "source": [
    "# help(torch)"
   ]
  },
  {
   "cell_type": "markdown",
   "id": "8ace0c99",
   "metadata": {},
   "source": [
    "# Tensor\n",
    "- 스칼라는 하나의 숫자\n",
    "- 벡터는 배열\n",
    "- 행렬은 숫자의 2-D 배열\n",
    "- 텐서는 숫자의 N-D 배열"
   ]
  },
  {
   "cell_type": "code",
   "execution_count": 4,
   "id": "9606562c",
   "metadata": {},
   "outputs": [
    {
     "data": {
      "text/plain": [
       "'1.13.0+cpu'"
      ]
     },
     "execution_count": 4,
     "metadata": {},
     "output_type": "execute_result"
    }
   ],
   "source": [
    "torch.__version__"
   ]
  },
  {
   "cell_type": "code",
   "execution_count": 5,
   "id": "d1d10aad",
   "metadata": {},
   "outputs": [],
   "source": [
    "# 5행 3열 텐서\n",
    "def describe(x):\n",
    "    print(f\"타입 : {x.type()}\")\n",
    "    print(f\"크기 : {x.size()}\")\n",
    "    print(f\"값 : {x}\")"
   ]
  },
  {
   "cell_type": "code",
   "execution_count": 6,
   "id": "4a72c07b",
   "metadata": {},
   "outputs": [
    {
     "name": "stdout",
     "output_type": "stream",
     "text": [
      "타입 : torch.FloatTensor\n",
      "크기 : torch.Size([2, 3])\n",
      "값 : tensor([[2.4480e-34, 6.3899e-43, 2.4480e-34],\n",
      "        [6.3899e-43, 2.4512e-34, 6.3899e-43]])\n"
     ]
    }
   ],
   "source": [
    "describe(torch.Tensor(2,3))"
   ]
  },
  {
   "cell_type": "code",
   "execution_count": 7,
   "id": "2719078c",
   "metadata": {},
   "outputs": [
    {
     "name": "stdout",
     "output_type": "stream",
     "text": [
      "타입 : torch.FloatTensor\n",
      "크기 : torch.Size([2, 3])\n",
      "값 : tensor([[ 0.0461,  0.4024, -1.0115],\n",
      "        [ 0.2167, -0.6123,  0.5036]])\n"
     ]
    }
   ],
   "source": [
    "describe(torch.randn(2,3))"
   ]
  },
  {
   "cell_type": "code",
   "execution_count": 8,
   "id": "dbace2f4",
   "metadata": {},
   "outputs": [
    {
     "name": "stdout",
     "output_type": "stream",
     "text": [
      "타입 : torch.FloatTensor\n",
      "크기 : torch.Size([2, 3])\n",
      "값 : tensor([[0., 0., 0.],\n",
      "        [0., 0., 0.]])\n"
     ]
    }
   ],
   "source": [
    "# 1이나 0으로 채워진 Tensor\n",
    "describe(torch.zeros(2,3))"
   ]
  },
  {
   "cell_type": "code",
   "execution_count": 9,
   "id": "d4493245",
   "metadata": {},
   "outputs": [
    {
     "name": "stdout",
     "output_type": "stream",
     "text": [
      "타입 : torch.FloatTensor\n",
      "크기 : torch.Size([2, 3])\n",
      "값 : tensor([[1., 1., 1.],\n",
      "        [1., 1., 1.]])\n"
     ]
    }
   ],
   "source": [
    "x = torch.ones(2,3)\n",
    "describe(x)"
   ]
  },
  {
   "cell_type": "code",
   "execution_count": 10,
   "id": "ad7772f4",
   "metadata": {},
   "outputs": [
    {
     "name": "stdout",
     "output_type": "stream",
     "text": [
      "타입 : torch.FloatTensor\n",
      "크기 : torch.Size([2, 3])\n",
      "값 : tensor([[5., 5., 5.],\n",
      "        [5., 5., 5.]])\n"
     ]
    }
   ],
   "source": [
    "describe(x.fill_(5))"
   ]
  },
  {
   "cell_type": "code",
   "execution_count": 11,
   "id": "2b6cc68e",
   "metadata": {},
   "outputs": [
    {
     "name": "stdout",
     "output_type": "stream",
     "text": [
      "타입 : torch.FloatTensor\n",
      "크기 : torch.Size([2, 2])\n",
      "값 : tensor([[1., 2.],\n",
      "        [2., 4.]])\n"
     ]
    }
   ],
   "source": [
    "# 리스트로 만들 수 있음\n",
    "x = torch.Tensor([\n",
    "    [1,2],\n",
    "    [2,4]\n",
    "])\n",
    "describe(x)"
   ]
  },
  {
   "cell_type": "code",
   "execution_count": 12,
   "id": "d6589646",
   "metadata": {},
   "outputs": [
    {
     "name": "stdout",
     "output_type": "stream",
     "text": [
      "\n",
      "타입 : torch.FloatTensor\n",
      "크기 : torch.Size([2, 3])\n",
      "값 : tensor([[0.0720, 0.2737, 0.3513],\n",
      "        [0.1311, 0.2641, 0.2941]])\n"
     ]
    }
   ],
   "source": [
    "# 넘파이 배열로도 만들 수 있음\n",
    "npy = np.random.rand(2,3)\n",
    "print()\n",
    "describe(torch.Tensor(npy))"
   ]
  },
  {
   "cell_type": "code",
   "execution_count": 13,
   "id": "441c89a4",
   "metadata": {},
   "outputs": [
    {
     "name": "stdout",
     "output_type": "stream",
     "text": [
      "타입 : torch.LongTensor\n",
      "크기 : torch.Size([2, 3])\n",
      "값 : tensor([[0, 1, 2],\n",
      "        [3, 4, 5]])\n"
     ]
    }
   ],
   "source": [
    "# Tensor 타입\n",
    "x = torch.arange(6).view(2,3)\n",
    "describe(x)"
   ]
  },
  {
   "cell_type": "code",
   "execution_count": 14,
   "id": "503707d9",
   "metadata": {},
   "outputs": [
    {
     "name": "stdout",
     "output_type": "stream",
     "text": [
      "타입 : torch.LongTensor\n",
      "크기 : torch.Size([2, 3])\n",
      "값 : tensor([[1, 2, 3],\n",
      "        [4, 5, 6]])\n"
     ]
    }
   ],
   "source": [
    "x = torch.FloatTensor([\n",
    "    [1,2,3],\n",
    "    [4,5,6]\n",
    "])\n",
    "x = x.long()\n",
    "describe(x)"
   ]
  },
  {
   "cell_type": "code",
   "execution_count": 15,
   "id": "5be3c3cd",
   "metadata": {},
   "outputs": [
    {
     "name": "stdout",
     "output_type": "stream",
     "text": [
      "타입 : torch.LongTensor\n",
      "크기 : torch.Size([2, 3])\n",
      "값 : tensor([[1, 2, 3],\n",
      "        [4, 5, 6]])\n"
     ]
    }
   ],
   "source": [
    "x = torch.tensor(\n",
    "    [\n",
    "        [1,2,3],\n",
    "        [4,5,6]\n",
    "    ],\n",
    "    dtype = torch.int64\n",
    ")\n",
    "describe(x)"
   ]
  },
  {
   "cell_type": "code",
   "execution_count": 16,
   "id": "59d3de90",
   "metadata": {},
   "outputs": [
    {
     "name": "stdout",
     "output_type": "stream",
     "text": [
      "타입 : torch.FloatTensor\n",
      "크기 : torch.Size([2, 3])\n",
      "값 : tensor([[1., 2., 3.],\n",
      "        [4., 5., 6.]])\n"
     ]
    }
   ],
   "source": [
    "x = x.float()\n",
    "describe(x)"
   ]
  },
  {
   "cell_type": "code",
   "execution_count": 17,
   "id": "9e8d907a",
   "metadata": {},
   "outputs": [
    {
     "data": {
      "text/plain": [
       "tensor([[ 0.2310,  0.6931, -0.2669],\n",
       "        [ 2.1785,  0.1021, -0.2590]])"
      ]
     },
     "execution_count": 17,
     "metadata": {},
     "output_type": "execute_result"
    }
   ],
   "source": [
    "x = torch.randn(2,3)\n",
    "x"
   ]
  },
  {
   "cell_type": "code",
   "execution_count": 18,
   "id": "3b31459c",
   "metadata": {},
   "outputs": [
    {
     "name": "stdout",
     "output_type": "stream",
     "text": [
      "타입 : torch.FloatTensor\n",
      "크기 : torch.Size([2, 3])\n",
      "값 : tensor([[ 0.4619,  1.3862, -0.5337],\n",
      "        [ 4.3569,  0.2043, -0.5180]])\n"
     ]
    }
   ],
   "source": [
    "describe(torch.add(x,x))"
   ]
  },
  {
   "cell_type": "code",
   "execution_count": 19,
   "id": "485dc5de",
   "metadata": {},
   "outputs": [
    {
     "name": "stdout",
     "output_type": "stream",
     "text": [
      "타입 : torch.FloatTensor\n",
      "크기 : torch.Size([2, 3])\n",
      "값 : tensor([[ 0.4619,  1.3862, -0.5337],\n",
      "        [ 4.3569,  0.2043, -0.5180]])\n"
     ]
    }
   ],
   "source": [
    "describe(x+x)"
   ]
  },
  {
   "cell_type": "code",
   "execution_count": 20,
   "id": "5363d341",
   "metadata": {},
   "outputs": [
    {
     "data": {
      "text/plain": [
       "tensor([0, 1, 2, 3, 4, 5])"
      ]
     },
     "execution_count": 20,
     "metadata": {},
     "output_type": "execute_result"
    }
   ],
   "source": [
    "x = torch.arange(6)\n",
    "x"
   ]
  },
  {
   "cell_type": "code",
   "execution_count": 21,
   "id": "e0dfea97",
   "metadata": {},
   "outputs": [
    {
     "name": "stdout",
     "output_type": "stream",
     "text": [
      "타입 : torch.LongTensor\n",
      "크기 : torch.Size([2, 3])\n",
      "값 : tensor([[0, 1, 2],\n",
      "        [3, 4, 5]])\n"
     ]
    }
   ],
   "source": [
    "x = x.view(2,3)\n",
    "describe(x)"
   ]
  },
  {
   "cell_type": "code",
   "execution_count": 22,
   "id": "fef3f605",
   "metadata": {},
   "outputs": [
    {
     "name": "stdout",
     "output_type": "stream",
     "text": [
      "타입 : torch.LongTensor\n",
      "크기 : torch.Size([2, 3])\n",
      "값 : tensor([[0, 1, 2],\n",
      "        [3, 4, 5]])\n"
     ]
    }
   ],
   "source": [
    "describe(x.view(2,3))"
   ]
  },
  {
   "cell_type": "code",
   "execution_count": 23,
   "id": "a36d2682",
   "metadata": {},
   "outputs": [
    {
     "name": "stdout",
     "output_type": "stream",
     "text": [
      "타입 : torch.LongTensor\n",
      "크기 : torch.Size([3, 2])\n",
      "값 : tensor([[0, 3],\n",
      "        [1, 4],\n",
      "        [2, 5]])\n",
      "타입 : torch.LongTensor\n",
      "크기 : torch.Size([3, 2])\n",
      "값 : tensor([[0, 3],\n",
      "        [1, 4],\n",
      "        [2, 5]])\n"
     ]
    }
   ],
   "source": [
    "describe(torch.transpose(x,0,1))\n",
    "describe(x.T)"
   ]
  },
  {
   "cell_type": "code",
   "execution_count": 24,
   "id": "8793544a",
   "metadata": {},
   "outputs": [
    {
     "name": "stdout",
     "output_type": "stream",
     "text": [
      "타입 : torch.LongTensor\n",
      "크기 : torch.Size([3])\n",
      "값 : tensor([3, 5, 7])\n",
      "타입 : torch.LongTensor\n",
      "크기 : torch.Size([3])\n",
      "값 : tensor([3, 5, 7])\n"
     ]
    }
   ],
   "source": [
    "describe(torch.sum(x,axis=0))\n",
    "describe(torch.sum(x,dim=0))"
   ]
  },
  {
   "cell_type": "code",
   "execution_count": 25,
   "id": "93943b81",
   "metadata": {},
   "outputs": [
    {
     "name": "stdout",
     "output_type": "stream",
     "text": [
      "타입 : torch.LongTensor\n",
      "크기 : torch.Size([2])\n",
      "값 : tensor([ 3, 12])\n",
      "타입 : torch.LongTensor\n",
      "크기 : torch.Size([2])\n",
      "값 : tensor([ 3, 12])\n"
     ]
    }
   ],
   "source": [
    "describe(torch.sum(x,axis=1))\n",
    "describe(torch.sum(x,dim=1))"
   ]
  },
  {
   "cell_type": "code",
   "execution_count": 26,
   "id": "4a2bc291",
   "metadata": {},
   "outputs": [
    {
     "name": "stdout",
     "output_type": "stream",
     "text": [
      "타입 : torch.LongTensor\n",
      "크기 : torch.Size([2, 3])\n",
      "값 : tensor([[0, 1, 2],\n",
      "        [3, 4, 5]])\n",
      "타입 : torch.LongTensor\n",
      "크기 : torch.Size([2, 2])\n",
      "값 : tensor([[0, 1],\n",
      "        [3, 4]])\n"
     ]
    }
   ],
   "source": [
    "# 슬라이싱 제공\n",
    "x = torch.arange(6).view(2,3)\n",
    "describe(x)\n",
    "describe(x[:2,:2])"
   ]
  },
  {
   "cell_type": "code",
   "execution_count": 27,
   "id": "1f099461",
   "metadata": {},
   "outputs": [
    {
     "name": "stdout",
     "output_type": "stream",
     "text": [
      "타입 : torch.LongTensor\n",
      "크기 : torch.Size([2, 2])\n",
      "값 : tensor([[0, 2],\n",
      "        [3, 5]])\n"
     ]
    }
   ],
   "source": [
    "idx = torch.LongTensor([0,2])\n",
    "describe(torch.index_select(x,dim=1,index = idx))"
   ]
  },
  {
   "cell_type": "code",
   "execution_count": 28,
   "id": "84f2940d",
   "metadata": {},
   "outputs": [
    {
     "name": "stdout",
     "output_type": "stream",
     "text": [
      "타입 : torch.LongTensor\n",
      "크기 : torch.Size([20])\n",
      "값 : tensor([ 0,  1,  2,  3,  4,  5,  6,  7,  8,  9, 10, 11, 12, 13, 14, 15, 16, 17,\n",
      "        18, 19])\n"
     ]
    }
   ],
   "source": [
    "# 숫자가 증가되는 벡터를 만들 수 있음\n",
    "x = torch.arange(0,20)\n",
    "describe(x)"
   ]
  },
  {
   "cell_type": "code",
   "execution_count": 29,
   "id": "c746cd89",
   "metadata": {},
   "outputs": [
    {
     "name": "stdout",
     "output_type": "stream",
     "text": [
      "tensor([[ 0,  1,  2,  3,  4,  5,  6,  7,  8,  9, 10, 11, 12, 13, 14, 15, 16, 17,\n",
      "         18, 19]])\n"
     ]
    }
   ],
   "source": [
    "# view -> 텐서의 차원을 변경\n",
    "print(x.view(1,20))"
   ]
  },
  {
   "cell_type": "code",
   "execution_count": 30,
   "id": "542250f0",
   "metadata": {},
   "outputs": [
    {
     "name": "stdout",
     "output_type": "stream",
     "text": [
      "tensor([[ 0,  1,  2,  3,  4,  5,  6,  7,  8,  9, 10, 11, 12, 13, 14, 15, 16, 17,\n",
      "         18, 19]])\n"
     ]
    }
   ],
   "source": [
    "print(x.view(1,-1))"
   ]
  },
  {
   "cell_type": "code",
   "execution_count": 31,
   "id": "f0483055",
   "metadata": {},
   "outputs": [
    {
     "name": "stdout",
     "output_type": "stream",
     "text": [
      "tensor([[ 0,  1,  2,  3,  4],\n",
      "        [ 5,  6,  7,  8,  9],\n",
      "        [10, 11, 12, 13, 14],\n",
      "        [15, 16, 17, 18, 19]])\n"
     ]
    }
   ],
   "source": [
    "print(x.view(4,-1))"
   ]
  },
  {
   "cell_type": "code",
   "execution_count": 32,
   "id": "033d23ab",
   "metadata": {},
   "outputs": [
    {
     "data": {
      "text/plain": [
       "tensor([[ 0,  1,  2,  3],\n",
       "        [ 4,  5,  6,  7],\n",
       "        [ 8,  9, 10, 11]])"
      ]
     },
     "execution_count": 32,
     "metadata": {},
     "output_type": "execute_result"
    }
   ],
   "source": [
    "x = torch.arange(12).view(3,4)\n",
    "x"
   ]
  },
  {
   "cell_type": "code",
   "execution_count": 33,
   "id": "41f649d8",
   "metadata": {},
   "outputs": [
    {
     "name": "stdout",
     "output_type": "stream",
     "text": [
      "torch.Size([3, 4])\n",
      "torch.Size([1, 3, 4])\n",
      "torch.Size([3, 1, 4])\n",
      "torch.Size([3, 4, 1])\n"
     ]
    }
   ],
   "source": [
    "print(x.shape)\n",
    "print(x.unsqueeze(dim=0).shape)\n",
    "print(x.unsqueeze(dim=1).shape)\n",
    "print(x.unsqueeze(dim=2).shape)"
   ]
  },
  {
   "cell_type": "code",
   "execution_count": 34,
   "id": "2d0cef01",
   "metadata": {},
   "outputs": [
    {
     "data": {
      "text/plain": [
       "torch.Size([3, 4])"
      ]
     },
     "execution_count": 34,
     "metadata": {},
     "output_type": "execute_result"
    }
   ],
   "source": [
    "t = x.unsqueeze(dim=0)\n",
    "t.squeeze().shape"
   ]
  },
  {
   "cell_type": "code",
   "execution_count": 35,
   "id": "d96ba03e",
   "metadata": {},
   "outputs": [
    {
     "name": "stdout",
     "output_type": "stream",
     "text": [
      "tensor([[ 0,  1,  2,  3],\n",
      "        [ 4,  5,  6,  7],\n",
      "        [ 8,  9, 10, 11]])\n",
      "tensor([12, 15, 18, 21])\n",
      "tensor([ 6, 22, 38])\n"
     ]
    }
   ],
   "source": [
    "x = torch.arange(12).reshape(3,4)\n",
    "print(x)\n",
    "print(x.sum(dim=0))  # axis 과 dim은 같은 역할을 함\n",
    "print(x.sum(dim=1))"
   ]
  },
  {
   "cell_type": "code",
   "execution_count": 36,
   "id": "0021ed4d",
   "metadata": {},
   "outputs": [
    {
     "name": "stdout",
     "output_type": "stream",
     "text": [
      "tensor([[0, 1, 2],\n",
      "        [3, 4, 5],\n",
      "        [6, 7, 8]])\n",
      "tensor([[0, 1, 2],\n",
      "        [6, 7, 8]])\n",
      "tensor([[0, 2],\n",
      "        [3, 5],\n",
      "        [6, 8]])\n"
     ]
    }
   ],
   "source": [
    "# index_select\n",
    "x = torch.arange(9).view(3,3)\n",
    "print(x)\n",
    "idx = torch.LongTensor([0,2])\n",
    "print(torch.index_select(x,index = idx, dim=0))\n",
    "print(torch.index_select(x,index = idx, dim=1))"
   ]
  },
  {
   "cell_type": "code",
   "execution_count": 37,
   "id": "5c8bf63b",
   "metadata": {},
   "outputs": [
    {
     "name": "stdout",
     "output_type": "stream",
     "text": [
      "tensor([[0, 1, 2],\n",
      "        [3, 4, 5]])\n",
      "tensor([[0, 1, 2],\n",
      "        [3, 4, 5],\n",
      "        [0, 1, 2],\n",
      "        [3, 4, 5]])\n",
      "tensor([[0, 1, 2, 0, 1, 2],\n",
      "        [3, 4, 5, 3, 4, 5]])\n",
      "tensor([[[0, 1, 2],\n",
      "         [3, 4, 5]],\n",
      "\n",
      "        [[0, 1, 2],\n",
      "         [3, 4, 5]]])\n"
     ]
    }
   ],
   "source": [
    "x = torch.arange(6).view(2,3)\n",
    "print(x)\n",
    "print(torch.cat([x,x],dim=0))\n",
    "print(torch.cat([x,x],dim=1))\n",
    "print(torch.stack([x,x]))"
   ]
  },
  {
   "cell_type": "code",
   "execution_count": 38,
   "id": "95938aba",
   "metadata": {},
   "outputs": [
    {
     "name": "stdout",
     "output_type": "stream",
     "text": [
      "tensor([[0, 1, 2],\n",
      "        [3, 4, 5]])\n"
     ]
    },
    {
     "data": {
      "text/plain": [
       "tensor([[[0, 1, 2],\n",
       "         [0, 1, 2],\n",
       "         [0, 1, 2]],\n",
       "\n",
       "        [[3, 4, 5],\n",
       "         [3, 4, 5],\n",
       "         [3, 4, 5]]])"
      ]
     },
     "execution_count": 38,
     "metadata": {},
     "output_type": "execute_result"
    }
   ],
   "source": [
    "x = torch.arange(6).view(2,3)\n",
    "print(x)\n",
    "torch.stack([x,x,x],dim=1)"
   ]
  },
  {
   "cell_type": "code",
   "execution_count": 39,
   "id": "e71efa3b",
   "metadata": {},
   "outputs": [
    {
     "name": "stdout",
     "output_type": "stream",
     "text": [
      "tensor([[ 0,  1,  2,  3],\n",
      "        [ 4,  5,  6,  7],\n",
      "        [ 8,  9, 10, 11]])\n",
      "tensor([[ 0,  4,  8],\n",
      "        [ 1,  5,  9],\n",
      "        [ 2,  6, 10],\n",
      "        [ 3,  7, 11]])\n",
      "tensor([[ 0,  4,  8],\n",
      "        [ 1,  5,  9],\n",
      "        [ 2,  6, 10],\n",
      "        [ 3,  7, 11]])\n"
     ]
    }
   ],
   "source": [
    "#  전치행렬\n",
    "x = torch.arange(12).view(3,4)\n",
    "print(x)\n",
    "print(x.T)\n",
    "print(x.transpose(1,0))"
   ]
  },
  {
   "cell_type": "code",
   "execution_count": 40,
   "id": "d90a4874",
   "metadata": {},
   "outputs": [
    {
     "name": "stdout",
     "output_type": "stream",
     "text": [
      "torch.Size([3, 4, 5])\n",
      "tensor([[[ 0,  1,  2,  3,  4],\n",
      "         [ 5,  6,  7,  8,  9],\n",
      "         [10, 11, 12, 13, 14],\n",
      "         [15, 16, 17, 18, 19]],\n",
      "\n",
      "        [[20, 21, 22, 23, 24],\n",
      "         [25, 26, 27, 28, 29],\n",
      "         [30, 31, 32, 33, 34],\n",
      "         [35, 36, 37, 38, 39]],\n",
      "\n",
      "        [[40, 41, 42, 43, 44],\n",
      "         [45, 46, 47, 48, 49],\n",
      "         [50, 51, 52, 53, 54],\n",
      "         [55, 56, 57, 58, 59]]])\n"
     ]
    }
   ],
   "source": [
    "batch_size = 3\n",
    "seq_size = 4\n",
    "feature_size = 5\n",
    "\n",
    "x = torch.arange(batch_size * seq_size * feature_size).view(batch_size , seq_size , feature_size)\n",
    "print(x.shape)\n",
    "print(x)"
   ]
  },
  {
   "cell_type": "code",
   "execution_count": 41,
   "id": "9e215391",
   "metadata": {},
   "outputs": [
    {
     "name": "stdout",
     "output_type": "stream",
     "text": [
      "torch.Size([4, 3, 5])\n",
      "tensor([[[ 0,  1,  2,  3,  4],\n",
      "         [20, 21, 22, 23, 24],\n",
      "         [40, 41, 42, 43, 44]],\n",
      "\n",
      "        [[ 5,  6,  7,  8,  9],\n",
      "         [25, 26, 27, 28, 29],\n",
      "         [45, 46, 47, 48, 49]],\n",
      "\n",
      "        [[10, 11, 12, 13, 14],\n",
      "         [30, 31, 32, 33, 34],\n",
      "         [50, 51, 52, 53, 54]],\n",
      "\n",
      "        [[15, 16, 17, 18, 19],\n",
      "         [35, 36, 37, 38, 39],\n",
      "         [55, 56, 57, 58, 59]]])\n"
     ]
    }
   ],
   "source": [
    "print(x.transpose(1,0).shape)\n",
    "print(x.transpose(1,0))"
   ]
  },
  {
   "cell_type": "code",
   "execution_count": 42,
   "id": "42f53651",
   "metadata": {},
   "outputs": [
    {
     "name": "stdout",
     "output_type": "stream",
     "text": [
      "torch.Size([3, 4, 5])\n",
      "tensor([[[ 0,  1,  2,  3,  4],\n",
      "         [ 5,  6,  7,  8,  9],\n",
      "         [10, 11, 12, 13, 14],\n",
      "         [15, 16, 17, 18, 19]],\n",
      "\n",
      "        [[20, 21, 22, 23, 24],\n",
      "         [25, 26, 27, 28, 29],\n",
      "         [30, 31, 32, 33, 34],\n",
      "         [35, 36, 37, 38, 39]],\n",
      "\n",
      "        [[40, 41, 42, 43, 44],\n",
      "         [45, 46, 47, 48, 49],\n",
      "         [50, 51, 52, 53, 54],\n",
      "         [55, 56, 57, 58, 59]]])\n",
      "======================================\n",
      "permute(1,0,2) shape torch.Size([4, 3, 5])\n",
      "permute(1,0,2) shape tensor([[[ 0,  1,  2,  3,  4],\n",
      "         [20, 21, 22, 23, 24],\n",
      "         [40, 41, 42, 43, 44]],\n",
      "\n",
      "        [[ 5,  6,  7,  8,  9],\n",
      "         [25, 26, 27, 28, 29],\n",
      "         [45, 46, 47, 48, 49]],\n",
      "\n",
      "        [[10, 11, 12, 13, 14],\n",
      "         [30, 31, 32, 33, 34],\n",
      "         [50, 51, 52, 53, 54]],\n",
      "\n",
      "        [[15, 16, 17, 18, 19],\n",
      "         [35, 36, 37, 38, 39],\n",
      "         [55, 56, 57, 58, 59]]])\n"
     ]
    }
   ],
   "source": [
    "# permute는 일반화된 전치\n",
    "batch_size = 3\n",
    "seq_size = 4\n",
    "feature_size = 5\n",
    "\n",
    "x = torch.arange(batch_size * seq_size * feature_size).view(batch_size , seq_size , feature_size)\n",
    "print(x.shape)\n",
    "print(x)\n",
    "print('======================================')\n",
    "print(f\"permute(1,0,2) shape {x.permute(1,0,2).shape}\")\n",
    "print(f\"permute(1,0,2) shape {x.permute(1,0,2)}\")"
   ]
  },
  {
   "cell_type": "code",
   "execution_count": 43,
   "id": "21ac4972",
   "metadata": {},
   "outputs": [
    {
     "data": {
      "text/plain": [
       "tensor([[-0.1549, -1.3706, -0.1319],\n",
       "        [ 0.8848, -0.2611,  0.6104]])"
      ]
     },
     "execution_count": 43,
     "metadata": {},
     "output_type": "execute_result"
    }
   ],
   "source": [
    "# Torch를 이용하여 gradient 계산 가능\n",
    "torch.randn(2,3)"
   ]
  },
  {
   "cell_type": "code",
   "execution_count": 44,
   "id": "f5be656c",
   "metadata": {},
   "outputs": [
    {
     "data": {
      "text/plain": [
       "tensor([[-0.0098, -1.4473, -0.2039],\n",
       "        [ 0.8738, -0.6816,  0.6339]], requires_grad=True)"
      ]
     },
     "execution_count": 44,
     "metadata": {},
     "output_type": "execute_result"
    }
   ],
   "source": [
    "torch.randn(2,3, requires_grad=True)"
   ]
  },
  {
   "cell_type": "code",
   "execution_count": 45,
   "id": "6ccba273",
   "metadata": {},
   "outputs": [
    {
     "name": "stdout",
     "output_type": "stream",
     "text": [
      "타입 : torch.LongTensor\n",
      "크기 : torch.Size([2, 3])\n",
      "값 : tensor([[0, 1, 2],\n",
      "        [3, 4, 5]])\n",
      "타입 : torch.LongTensor\n",
      "크기 : torch.Size([3, 2])\n",
      "값 : tensor([[0, 3],\n",
      "        [1, 4],\n",
      "        [2, 5]])\n"
     ]
    },
    {
     "data": {
      "text/plain": [
       "tensor([[ 5, 14],\n",
       "        [14, 50]])"
      ]
     },
     "execution_count": 45,
     "metadata": {},
     "output_type": "execute_result"
    }
   ],
   "source": [
    "x1 = torch.arange(6).view(2,3)\n",
    "describe(x1)\n",
    "describe(x1.transpose(1,0))\n",
    "torch.mm(x1,x1.transpose(1,0))"
   ]
  },
  {
   "cell_type": "code",
   "execution_count": 46,
   "id": "5628263d",
   "metadata": {},
   "outputs": [
    {
     "name": "stdout",
     "output_type": "stream",
     "text": [
      "타입 : torch.FloatTensor\n",
      "크기 : torch.Size([2, 3])\n",
      "값 : tensor([[0., 1., 2.],\n",
      "        [3., 4., 5.]])\n",
      "타입 : torch.FloatTensor\n",
      "크기 : torch.Size([3, 2])\n",
      "값 : tensor([[1., 2.],\n",
      "        [1., 2.],\n",
      "        [1., 2.]])\n",
      "타입 : torch.FloatTensor\n",
      "크기 : torch.Size([2, 2])\n",
      "값 : tensor([[ 3.,  6.],\n",
      "        [12., 24.]])\n"
     ]
    }
   ],
   "source": [
    "x1 = torch.arange(6).view(2,3).float()\n",
    "describe(x1)\n",
    "x2 = torch.ones(3,2)\n",
    "x2[:,1] += 1\n",
    "describe(x2)\n",
    "describe(torch.mm(x1,x2))"
   ]
  },
  {
   "cell_type": "code",
   "execution_count": 47,
   "id": "5f2a1769",
   "metadata": {},
   "outputs": [
    {
     "name": "stdout",
     "output_type": "stream",
     "text": [
      "tensor([[ 0.,  1.,  2.,  3.],\n",
      "        [ 4.,  5.,  6.,  7.],\n",
      "        [ 8.,  9., 10., 11.]])\n",
      "tensor([[1., 2.],\n",
      "        [1., 2.],\n",
      "        [1., 2.],\n",
      "        [1., 2.]])\n",
      "tensor([[ 6., 12.],\n",
      "        [22., 44.],\n",
      "        [38., 76.]])\n"
     ]
    }
   ],
   "source": [
    "x = torch.arange(12).view(3,4).float()\n",
    "print(x)\n",
    "x2 = torch.ones(4,2)\n",
    "x2[:,1] += 1\n",
    "print(x2)\n",
    "print(x.mm(x2))"
   ]
  },
  {
   "cell_type": "code",
   "execution_count": 48,
   "id": "48ee7fa2",
   "metadata": {},
   "outputs": [
    {
     "name": "stdout",
     "output_type": "stream",
     "text": [
      "x : tensor([[2., 3.]], requires_grad=True)\n",
      "==================================================================\n",
      "tensor([[6., 9.]], grad_fn=<MulBackward0>)\n",
      "z = 3*x : tensor([[6., 9.]], grad_fn=<MulBackward0>)\n",
      "==================================================================\n",
      "loss = z.sum() : 15.0\n",
      "loss.backward()를 호출한 후 x.grad : tensor([[3., 3.]])\n"
     ]
    }
   ],
   "source": [
    "# gradient 계산\n",
    "x = torch.tensor([[2.0,3.0]],requires_grad = True)\n",
    "print(f\"x : {x}\")\n",
    "print(\"==================================================================\")\n",
    "z = 3*x\n",
    "print(z)\n",
    "print(f\"z = 3*x : {z}\")\n",
    "print(\"==================================================================\")\n",
    "loss = z.sum()   # 손실함수는 스칼라 값이 필요하기 때문에 Sum을 이용해서 값을 만들어 줌\n",
    "print(f\"loss = z.sum() : {loss}\")\n",
    "loss.backward()  # 입력에 대한 변화율을 계산함\n",
    "print(f\"loss.backward()를 호출한 후 x.grad : {x.grad}\")"
   ]
  },
  {
   "cell_type": "code",
   "execution_count": 49,
   "id": "338a055a",
   "metadata": {},
   "outputs": [],
   "source": [
    "# 조건이 있는 Gradient 계산\n",
    "# x = 1 에서 f(x)의 Gradient 찾기\n",
    "# f(x) = x>0 -- sin(x)\n",
    "#          cos(x)"
   ]
  },
  {
   "cell_type": "code",
   "execution_count": 50,
   "id": "6d50e928",
   "metadata": {},
   "outputs": [],
   "source": [
    "def f(x):\n",
    "    if(x.data > 0).all():\n",
    "        return torch.sin(x)\n",
    "    else:\n",
    "        return torch.cos(x)"
   ]
  },
  {
   "cell_type": "code",
   "execution_count": 51,
   "id": "b2da425d",
   "metadata": {},
   "outputs": [
    {
     "data": {
      "text/plain": [
       "tensor([0.5403, 0.8776])"
      ]
     },
     "execution_count": 51,
     "metadata": {},
     "output_type": "execute_result"
    }
   ],
   "source": [
    "x = torch.tensor([1.0,0.5],requires_grad = True)\n",
    "y = f(x)\n",
    "y.sum().backward()\n",
    "x.grad"
   ]
  },
  {
   "cell_type": "code",
   "execution_count": 52,
   "id": "4a7a5fb4",
   "metadata": {},
   "outputs": [
    {
     "name": "stdout",
     "output_type": "stream",
     "text": [
      "tensor([ 1., -1.], requires_grad=True)\n",
      "tensor([0.5403, 0.5403], grad_fn=<CosBackward0>)\n",
      "tensor([-0.8415,  0.8415])\n"
     ]
    }
   ],
   "source": [
    "x = torch.tensor([1.0,-1.0],requires_grad = True)\n",
    "print(x)\n",
    "y=f(x)\n",
    "print(y)\n",
    "y.sum().backward()\n",
    "print(x.grad)"
   ]
  },
  {
   "cell_type": "code",
   "execution_count": 53,
   "id": "965d5e3f",
   "metadata": {},
   "outputs": [
    {
     "name": "stdout",
     "output_type": "stream",
     "text": [
      "tensor([-0.5000, -1.0000], requires_grad=True)\n",
      "tensor([0.8776, 0.5403], grad_fn=<CosBackward0>)\n",
      "tensor([0.4794, 0.8415])\n"
     ]
    }
   ],
   "source": [
    "x = torch.tensor([-0.5,-1.0],requires_grad = True)\n",
    "print(x)\n",
    "y=f(x)\n",
    "print(y)\n",
    "y.sum().backward()\n",
    "print(x.grad)"
   ]
  },
  {
   "cell_type": "code",
   "execution_count": 54,
   "id": "f975f9d7",
   "metadata": {},
   "outputs": [
    {
     "name": "stdout",
     "output_type": "stream",
     "text": [
      "tensor([0.5403, 0.8415])\n"
     ]
    }
   ],
   "source": [
    "# 원소별로 Boolean(불리언) 연산과 sin 및 cos 계산이 수행되지 않는다.\n",
    "# 마스킹기법 자주\n",
    "def f2(x):\n",
    "    mask = torch.gt(x,0).float()\n",
    "    return mask*torch.sin(x) + (1-mask)*torch.cos(x)\n",
    "x = torch.tensor([1.0, -1], requires_grad = True)\n",
    "y = f2(x)\n",
    "y.sum().backward()\n",
    "print(x.grad)"
   ]
  }
 ],
 "metadata": {
  "kernelspec": {
   "display_name": "Python 3 (ipykernel)",
   "language": "python",
   "name": "python3"
  },
  "language_info": {
   "codemirror_mode": {
    "name": "ipython",
    "version": 3
   },
   "file_extension": ".py",
   "mimetype": "text/x-python",
   "name": "python",
   "nbconvert_exporter": "python",
   "pygments_lexer": "ipython3",
   "version": "3.9.7"
  }
 },
 "nbformat": 4,
 "nbformat_minor": 5
}
