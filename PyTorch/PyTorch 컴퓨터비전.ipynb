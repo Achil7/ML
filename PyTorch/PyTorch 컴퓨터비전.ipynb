{
 "cells": [
  {
   "cell_type": "code",
   "execution_count": 1,
   "id": "fb5a0bdf",
   "metadata": {},
   "outputs": [],
   "source": [
    "import numpy as np\n",
    "import matplotlib.pyplot as plt\n",
    "import torch\n",
    "import torch.nn as nn\n",
    "import torch.nn.functional as F\n",
    "from torchvision import transforms, datasets"
   ]
  },
  {
   "cell_type": "code",
   "execution_count": 2,
   "id": "0f267bdd",
   "metadata": {},
   "outputs": [],
   "source": [
    "DEVICE = 'cpu'"
   ]
  },
  {
   "cell_type": "code",
   "execution_count": 3,
   "id": "f9d0719a",
   "metadata": {},
   "outputs": [],
   "source": [
    "BATCH_SIZE = 32\n",
    "EPOCHS = 10"
   ]
  },
  {
   "cell_type": "code",
   "execution_count": 4,
   "id": "958fa969",
   "metadata": {},
   "outputs": [
    {
     "name": "stdout",
     "output_type": "stream",
     "text": [
      "Downloading https://www.cs.toronto.edu/~kriz/cifar-10-python.tar.gz to ../data/CIFAR10\\cifar-10-python.tar.gz\n"
     ]
    },
    {
     "data": {
      "application/vnd.jupyter.widget-view+json": {
       "model_id": "6730870042a44ae9af9e6c2b7b1df41e",
       "version_major": 2,
       "version_minor": 0
      },
      "text/plain": [
       "  0%|          | 0/170498071 [00:00<?, ?it/s]"
      ]
     },
     "metadata": {},
     "output_type": "display_data"
    },
    {
     "name": "stdout",
     "output_type": "stream",
     "text": [
      "Extracting ../data/CIFAR10\\cifar-10-python.tar.gz to ../data/CIFAR10\n"
     ]
    }
   ],
   "source": [
    "train_dataset = datasets.CIFAR10(root = \"../data/CIFAR10\",\n",
    "                                      train = True,\n",
    "                                      download = True,\n",
    "                                      transform = transforms.ToTensor())\n",
    "\n",
    "test_dataset = datasets.CIFAR10(root = \"../data/CIFAR10\",\n",
    "                                     train = False,\n",
    "                                     transform = transforms.ToTensor())\n",
    "\n",
    "train_loader = torch.utils.data.DataLoader(dataset = train_dataset,\n",
    "                                           batch_size = BATCH_SIZE,\n",
    "                                           shuffle = True)\n",
    "\n",
    "test_loader = torch.utils.data.DataLoader(dataset = test_dataset,\n",
    "                                          batch_size = BATCH_SIZE,\n",
    "                                          shuffle = False)"
   ]
  },
  {
   "cell_type": "code",
   "execution_count": 5,
   "id": "45972e13",
   "metadata": {},
   "outputs": [
    {
     "name": "stdout",
     "output_type": "stream",
     "text": [
      "torch.Size([3, 32, 32]) 6\n"
     ]
    },
    {
     "data": {
      "text/plain": [
       "torch.Size([32, 32, 3])"
      ]
     },
     "execution_count": 5,
     "metadata": {},
     "output_type": "execute_result"
    }
   ],
   "source": [
    "train,target =  train_dataset[0]\n",
    "print(train.shape,  target)\n",
    "np.transpose(train,(1,2,0)).shape"
   ]
  },
  {
   "cell_type": "code",
   "execution_count": 6,
   "id": "7c703d07",
   "metadata": {},
   "outputs": [
    {
     "data": {
      "image/png": "[encoded data removed]",
      "text/plain": [
       "<Figure size 432x288 with 10 Axes>"
      ]
     },
     "metadata": {
      "needs_background": "light"
     },
     "output_type": "display_data"
    }
   ],
   "source": [
    "import os\n",
    "os.environ['KMP_DUPLICATE_LIB_OK']='TRUE'\n",
    "# train 데이터를 10개만 가져오자\n",
    "for cnt, (x,y) in enumerate(train_dataset):\n",
    "    if cnt >= 10: break \n",
    "    plt.subplot(1,10,cnt+1)\n",
    "    plt.axis('off')\n",
    "    # TypeError: Invalid shape (3, 32, 32) for image data\n",
    "    plt.imshow(np.transpose(x, (1,2,0)))    \n",
    "    plt.title(y)"
   ]
  },
  {
   "cell_type": "code",
   "execution_count": 7,
   "id": "5258838f",
   "metadata": {},
   "outputs": [],
   "source": [
    "# 분류 10 설계  MLP\n",
    "class Net(nn.Module):\n",
    "    def __init__(self):\n",
    "        super().__init__()\n",
    "        self.fc1 = nn.Linear(32*32*3,512)\n",
    "        self.fc2 = nn.Linear(512,256)\n",
    "        self.fc3 = nn.Linear(256,10)\n",
    "    def forward(self,x):\n",
    "        x = x.view(-1,32*32*3)\n",
    "        x = self.fc1(x)\n",
    "        x = F.relu(x)\n",
    "        x = self.fc2(x)\n",
    "        x = F.relu(x)\n",
    "        x = self.fc3(x)\n",
    "        x = F.log_softmax(x, dim = 1)\n",
    "        return x     "
   ]
  },
  {
   "cell_type": "code",
   "execution_count": 8,
   "id": "b9e3c94d",
   "metadata": {},
   "outputs": [
    {
     "name": "stdout",
     "output_type": "stream",
     "text": [
      "Net(\n",
      "  (fc1): Linear(in_features=3072, out_features=512, bias=True)\n",
      "  (fc2): Linear(in_features=512, out_features=256, bias=True)\n",
      "  (fc3): Linear(in_features=256, out_features=10, bias=True)\n",
      ")\n"
     ]
    }
   ],
   "source": [
    "model = Net().to(DEVICE)\n",
    "optimizer = torch.optim.Adam(model.parameters(), lr = 1e-3)\n",
    "criterion = nn.CrossEntropyLoss()\n",
    "print(model)"
   ]
  },
  {
   "cell_type": "code",
   "execution_count": 9,
   "id": "bd27dbf3",
   "metadata": {},
   "outputs": [],
   "source": [
    "# model.train()  전체 레이어를 사용 : 전체 layer의 전원을 켠다\n",
    "# model.eval() evaluation, 사용하지 않는 layer들의 전원을 끈다\n",
    "from tqdm import tqdm # 진행상황을 progress bar로 표시\n",
    "def train(model, train_loader,optimizer):\n",
    "    model.train()\n",
    "    for image, label in tqdm(train_loader):  # 배치단위로 출력\n",
    "        image = image.to(DEVICE)\n",
    "        label = label.to(DEVICE)\n",
    "        optimizer.zero_grad()\n",
    "        output = model(image)        \n",
    "        loss = criterion(output, label)\n",
    "        loss.backward()\n",
    "        optimizer.step()"
   ]
  },
  {
   "cell_type": "code",
   "execution_count": 10,
   "id": "e84a9984",
   "metadata": {},
   "outputs": [],
   "source": [
    "def evaluate(model, test_loader):\n",
    "    model.eval()\n",
    "    test_loss = 0\n",
    "    correct = 0\n",
    "    with torch.no_grad():\n",
    "        for image, label in test_loader:\n",
    "            image = image.to(DEVICE)\n",
    "            label = label.to(DEVICE)\n",
    "            output = model(image)\n",
    "            test_loss += criterion(output, label).item()\n",
    "            prediction = output.max(1,keepdim = True)[1]\n",
    "            correct += prediction.eq(label.view_as(prediction)).sum().item()\n",
    "    test_loss /= len(test_loader.dataset)\n",
    "    test_accuracy = 100.*correct / len(test_loader.dataset)\n",
    "    return test_loss, test_accuracy"
   ]
  },
  {
   "cell_type": "code",
   "execution_count": 12,
   "id": "447f9f86",
   "metadata": {},
   "outputs": [
    {
     "name": "stderr",
     "output_type": "stream",
     "text": [
      "100%|██████████████████████████████████████████████████████████████████████████████| 1563/1563 [00:52<00:00, 29.59it/s]\n"
     ]
    },
    {
     "name": "stdout",
     "output_type": "stream",
     "text": [
      "epoch : 1  loss : 0.04449019541740418, accuracy : 49.93\n"
     ]
    },
    {
     "name": "stderr",
     "output_type": "stream",
     "text": [
      "100%|██████████████████████████████████████████████████████████████████████████████| 1563/1563 [00:53<00:00, 29.30it/s]\n"
     ]
    },
    {
     "name": "stdout",
     "output_type": "stream",
     "text": [
      "epoch : 2  loss : 0.04548793338537216, accuracy : 49.46\n"
     ]
    },
    {
     "name": "stderr",
     "output_type": "stream",
     "text": [
      "100%|██████████████████████████████████████████████████████████████████████████████| 1563/1563 [00:53<00:00, 29.30it/s]\n"
     ]
    },
    {
     "name": "stdout",
     "output_type": "stream",
     "text": [
      "epoch : 3  loss : 0.044345379251241684, accuracy : 49.94\n"
     ]
    },
    {
     "name": "stderr",
     "output_type": "stream",
     "text": [
      "100%|██████████████████████████████████████████████████████████████████████████████| 1563/1563 [00:52<00:00, 29.63it/s]\n"
     ]
    },
    {
     "name": "stdout",
     "output_type": "stream",
     "text": [
      "epoch : 4  loss : 0.04509175981283188, accuracy : 49.45\n"
     ]
    },
    {
     "name": "stderr",
     "output_type": "stream",
     "text": [
      "100%|██████████████████████████████████████████████████████████████████████████████| 1563/1563 [00:53<00:00, 28.96it/s]\n"
     ]
    },
    {
     "name": "stdout",
     "output_type": "stream",
     "text": [
      "epoch : 5  loss : 0.04497474530935287, accuracy : 49.73\n"
     ]
    },
    {
     "name": "stderr",
     "output_type": "stream",
     "text": [
      "100%|██████████████████████████████████████████████████████████████████████████████| 1563/1563 [00:53<00:00, 29.30it/s]\n"
     ]
    },
    {
     "name": "stdout",
     "output_type": "stream",
     "text": [
      "epoch : 6  loss : 0.04552960196733475, accuracy : 49.42\n"
     ]
    },
    {
     "name": "stderr",
     "output_type": "stream",
     "text": [
      "100%|██████████████████████████████████████████████████████████████████████████████| 1563/1563 [00:52<00:00, 29.58it/s]\n"
     ]
    },
    {
     "name": "stdout",
     "output_type": "stream",
     "text": [
      "epoch : 7  loss : 0.0451072665989399, accuracy : 49.28\n"
     ]
    },
    {
     "name": "stderr",
     "output_type": "stream",
     "text": [
      "100%|██████████████████████████████████████████████████████████████████████████████| 1563/1563 [00:53<00:00, 29.45it/s]\n"
     ]
    },
    {
     "name": "stdout",
     "output_type": "stream",
     "text": [
      "epoch : 8  loss : 0.04550963172912598, accuracy : 49.34\n"
     ]
    },
    {
     "name": "stderr",
     "output_type": "stream",
     "text": [
      "100%|██████████████████████████████████████████████████████████████████████████████| 1563/1563 [00:53<00:00, 29.19it/s]\n"
     ]
    },
    {
     "name": "stdout",
     "output_type": "stream",
     "text": [
      "epoch : 9  loss : 0.04702730674743652, accuracy : 48.73\n"
     ]
    },
    {
     "name": "stderr",
     "output_type": "stream",
     "text": [
      "100%|██████████████████████████████████████████████████████████████████████████████| 1563/1563 [00:53<00:00, 29.27it/s]\n"
     ]
    },
    {
     "name": "stdout",
     "output_type": "stream",
     "text": [
      "epoch : 10  loss : 0.04450879006385803, accuracy : 50.41\n"
     ]
    }
   ],
   "source": [
    "for epoch in range(1, EPOCHS+1):\n",
    "    train(model,train_loader,optimizer)\n",
    "    test_loss, test_accuracy = evaluate(model, test_loader)\n",
    "    print(f\"epoch : {epoch}  loss : {test_loss}, accuracy : {test_accuracy}\")"
   ]
  },
  {
   "cell_type": "code",
   "execution_count": 13,
   "id": "f0d0ed35",
   "metadata": {},
   "outputs": [],
   "source": [
    "# CNN 모델 설계\n",
    "class CNN(nn.Module):\n",
    "    def __init__(self):\n",
    "        super().__init__()\n",
    "        self.conv1 = nn.Conv2d(\n",
    "            in_channels = 3, out_channels = 8,\n",
    "            kernel_size = 3,\n",
    "            padding = 1\n",
    "        )\n",
    "        self.conv2 = nn.Conv2d(\n",
    "            in_channels = 8, out_channels = 16,\n",
    "            kernel_size = 3,\n",
    "            padding = 1\n",
    "        )\n",
    "        self.pool = nn.MaxPool2d(\n",
    "            kernel_size =2, stride = 2\n",
    "        )\n",
    "\n",
    "        self.fc1 = nn.Linear(8 * 8 * 16, 64)\n",
    "        self.fc2 = nn.Linear(64, 32)\n",
    "        self.fc3 = nn.Linear(32, 10)\n",
    "  \n",
    "    def forward(self, x):\n",
    "        # x = (32, 32, 3)        \n",
    "        x = self.conv1(x) # x = (32, 32, 3) ## len(x) - kernel_size + 1        \n",
    "        x = F.relu(x)\n",
    "        x = self.pool(x) # x = (16, 16, 3)        \n",
    "        x = self.conv2(x) # x = (16, 16, 3)         \n",
    "        x = F.relu(x)\n",
    "        x = self.pool(x) # x = (8, 8, 3)        \n",
    "\n",
    "        x = x.view(-1, 8* 8 * 16)\n",
    "        x = self.fc1(x)\n",
    "        x = F.relu(x)\n",
    "        x = self.fc2(x)\n",
    "        x = F.relu(x)\n",
    "        x = self.fc3(x)\n",
    "        x = F.softmax(x,dim=1)\n",
    "\n",
    "        return x"
   ]
  },
  {
   "cell_type": "code",
   "execution_count": 14,
   "id": "03cec754",
   "metadata": {},
   "outputs": [
    {
     "name": "stderr",
     "output_type": "stream",
     "text": [
      "100%|██████████████████████████████████████████████████████████████████████████████| 1563/1563 [00:20<00:00, 76.78it/s]\n"
     ]
    },
    {
     "name": "stdout",
     "output_type": "stream",
     "text": [
      "epoch : 1  loss : 0.06447383868694305, accuracy : 39.52\n"
     ]
    },
    {
     "name": "stderr",
     "output_type": "stream",
     "text": [
      "100%|██████████████████████████████████████████████████████████████████████████████| 1563/1563 [00:20<00:00, 75.36it/s]\n"
     ]
    },
    {
     "name": "stdout",
     "output_type": "stream",
     "text": [
      "epoch : 2  loss : 0.06330822879076003, accuracy : 43.46\n"
     ]
    },
    {
     "name": "stderr",
     "output_type": "stream",
     "text": [
      "100%|██████████████████████████████████████████████████████████████████████████████| 1563/1563 [00:19<00:00, 80.69it/s]\n"
     ]
    },
    {
     "name": "stdout",
     "output_type": "stream",
     "text": [
      "epoch : 3  loss : 0.06240986853837967, accuracy : 46.54\n"
     ]
    },
    {
     "name": "stderr",
     "output_type": "stream",
     "text": [
      "100%|██████████████████████████████████████████████████████████████████████████████| 1563/1563 [00:20<00:00, 75.71it/s]\n"
     ]
    },
    {
     "name": "stdout",
     "output_type": "stream",
     "text": [
      "epoch : 4  loss : 0.0616392288684845, accuracy : 48.86\n"
     ]
    },
    {
     "name": "stderr",
     "output_type": "stream",
     "text": [
      "100%|██████████████████████████████████████████████████████████████████████████████| 1563/1563 [00:20<00:00, 75.33it/s]\n"
     ]
    },
    {
     "name": "stdout",
     "output_type": "stream",
     "text": [
      "epoch : 5  loss : 0.06164100136756897, accuracy : 48.59\n"
     ]
    },
    {
     "name": "stderr",
     "output_type": "stream",
     "text": [
      "100%|██████████████████████████████████████████████████████████████████████████████| 1563/1563 [00:21<00:00, 71.94it/s]\n"
     ]
    },
    {
     "name": "stdout",
     "output_type": "stream",
     "text": [
      "epoch : 6  loss : 0.060954496610164645, accuracy : 51.09\n"
     ]
    },
    {
     "name": "stderr",
     "output_type": "stream",
     "text": [
      "100%|██████████████████████████████████████████████████████████████████████████████| 1563/1563 [00:20<00:00, 78.12it/s]\n"
     ]
    },
    {
     "name": "stdout",
     "output_type": "stream",
     "text": [
      "epoch : 7  loss : 0.060208612048625945, accuracy : 53.36\n"
     ]
    },
    {
     "name": "stderr",
     "output_type": "stream",
     "text": [
      "100%|██████████████████████████████████████████████████████████████████████████████| 1563/1563 [00:20<00:00, 76.59it/s]\n"
     ]
    },
    {
     "name": "stdout",
     "output_type": "stream",
     "text": [
      "epoch : 8  loss : 0.060614410364627835, accuracy : 52.09\n"
     ]
    },
    {
     "name": "stderr",
     "output_type": "stream",
     "text": [
      "100%|██████████████████████████████████████████████████████████████████████████████| 1563/1563 [00:19<00:00, 79.66it/s]\n"
     ]
    },
    {
     "name": "stdout",
     "output_type": "stream",
     "text": [
      "epoch : 9  loss : 0.059891336262226105, accuracy : 54.28\n"
     ]
    },
    {
     "name": "stderr",
     "output_type": "stream",
     "text": [
      "100%|██████████████████████████████████████████████████████████████████████████████| 1563/1563 [00:19<00:00, 79.58it/s]\n"
     ]
    },
    {
     "name": "stdout",
     "output_type": "stream",
     "text": [
      "epoch : 10  loss : 0.059036744582653046, accuracy : 57.23\n"
     ]
    }
   ],
   "source": [
    "cnnModel = CNN().to(DEVICE)\n",
    "optimizer = torch.optim.Adam(cnnModel.parameters(), lr = 1e-3)\n",
    "criterion = nn.CrossEntropyLoss()\n",
    "for epoch in range(1, EPOCHS+1):\n",
    "    train(cnnModel,train_loader,optimizer)\n",
    "    test_loss, test_accuracy = evaluate(cnnModel, test_loader)\n",
    "    print(f\"epoch : {epoch}  loss : {test_loss}, accuracy : {test_accuracy}\")    \n"
   ]
  },
  {
   "cell_type": "code",
   "execution_count": 15,
   "id": "7c1a293a",
   "metadata": {},
   "outputs": [],
   "source": [
    "# Data 변형해서 데이터 증폭\n",
    "\n",
    "train_dataset = datasets.CIFAR10(root = \"../data/CIFAR10\",\n",
    "                                      train = True,\n",
    "                                      download = True,\n",
    "                                      transform = transforms.Compose([\n",
    "                                          transforms.RandomHorizontalFlip(), # 좌우반전(50%확률)\n",
    "                                          transforms.ToTensor(),  # 정규화(0~1) 및 텐서\n",
    "                                          transforms.Normalize((0.5,0.5,0.5),(0.5,0.5,0.5)) # 데이터 정규화\n",
    "                                      ])\n",
    "                                )\n",
    "\n",
    "test_dataset = datasets.CIFAR10(root = \"../data/CIFAR10\",\n",
    "                                     train = False,\n",
    "                                     transform = transforms.Compose([\n",
    "                                          transforms.RandomHorizontalFlip(), # 좌우반전(50%확률)\n",
    "                                          transforms.ToTensor(),  # 정규화(0~1) 및 텐서\n",
    "                                          transforms.Normalize((0.5,0.5,0.5),(0.5,0.5,0.5)) # 데이터 정규화\n",
    "                                      ])\n",
    "                               )\n",
    "\n",
    "train_loader = torch.utils.data.DataLoader(dataset = train_dataset,\n",
    "                                           batch_size = BATCH_SIZE,\n",
    "                                           shuffle = True)\n",
    "\n",
    "test_loader = torch.utils.data.DataLoader(dataset = test_dataset,\n",
    "                                          batch_size = BATCH_SIZE,\n",
    "                                          shuffle = False)"
   ]
  },
  {
   "cell_type": "code",
   "execution_count": 17,
   "id": "15b15324",
   "metadata": {},
   "outputs": [
    {
     "data": {
      "image/png": "[encoded data removed]",
      "text/plain": [
       "<Figure size 720x720 with 10 Axes>"
      ]
     },
     "metadata": {
      "needs_background": "light"
     },
     "output_type": "display_data"
    }
   ],
   "source": [
    "import os\n",
    "os.environ['KMP_DUPLICATE_LIB_OK']='TRUE'\n",
    "\n",
    "temp = np.array(train_dataset.targets)\n",
    "np.where(temp==1)\n",
    "temp2 = train_dataset.data[np.where(temp==1)]\n",
    "# class 1인 이미지\n",
    "plt.figure(figsize=(10,10))\n",
    "for cnt, x in enumerate(temp2):    \n",
    "    if cnt >= 10: break \n",
    "    plt.subplot(1,10,cnt+1)\n",
    "    plt.axis('off')    \n",
    "    plt.imshow(x)      \n"
   ]
  },
  {
   "cell_type": "code",
   "execution_count": 18,
   "id": "2eaa6c30",
   "metadata": {},
   "outputs": [
    {
     "name": "stderr",
     "output_type": "stream",
     "text": [
      "100%|██████████████████████████████████████████████████████████████████████████████| 1563/1563 [00:24<00:00, 62.54it/s]\n"
     ]
    },
    {
     "name": "stdout",
     "output_type": "stream",
     "text": [
      "epoch : 1  loss : 0.06315731147527695, accuracy : 43.88\n"
     ]
    },
    {
     "name": "stderr",
     "output_type": "stream",
     "text": [
      "100%|██████████████████████████████████████████████████████████████████████████████| 1563/1563 [00:26<00:00, 58.84it/s]\n"
     ]
    },
    {
     "name": "stdout",
     "output_type": "stream",
     "text": [
      "epoch : 2  loss : 0.06163698579072952, accuracy : 48.72\n"
     ]
    },
    {
     "name": "stderr",
     "output_type": "stream",
     "text": [
      "100%|██████████████████████████████████████████████████████████████████████████████| 1563/1563 [00:25<00:00, 60.49it/s]\n"
     ]
    },
    {
     "name": "stdout",
     "output_type": "stream",
     "text": [
      "epoch : 3  loss : 0.060939087426662444, accuracy : 50.99\n"
     ]
    },
    {
     "name": "stderr",
     "output_type": "stream",
     "text": [
      "100%|██████████████████████████████████████████████████████████████████████████████| 1563/1563 [00:26<00:00, 59.59it/s]\n"
     ]
    },
    {
     "name": "stdout",
     "output_type": "stream",
     "text": [
      "epoch : 4  loss : 0.060069010853767396, accuracy : 54.03\n"
     ]
    },
    {
     "name": "stderr",
     "output_type": "stream",
     "text": [
      "100%|██████████████████████████████████████████████████████████████████████████████| 1563/1563 [00:26<00:00, 58.69it/s]\n"
     ]
    },
    {
     "name": "stdout",
     "output_type": "stream",
     "text": [
      "epoch : 5  loss : 0.05997209212779999, accuracy : 54.17\n"
     ]
    },
    {
     "name": "stderr",
     "output_type": "stream",
     "text": [
      "100%|██████████████████████████████████████████████████████████████████████████████| 1563/1563 [00:27<00:00, 57.55it/s]\n"
     ]
    },
    {
     "name": "stdout",
     "output_type": "stream",
     "text": [
      "epoch : 6  loss : 0.05948001257181167, accuracy : 55.8\n"
     ]
    },
    {
     "name": "stderr",
     "output_type": "stream",
     "text": [
      "100%|██████████████████████████████████████████████████████████████████████████████| 1563/1563 [00:27<00:00, 57.06it/s]\n"
     ]
    },
    {
     "name": "stdout",
     "output_type": "stream",
     "text": [
      "epoch : 7  loss : 0.05880884313583374, accuracy : 57.93\n"
     ]
    },
    {
     "name": "stderr",
     "output_type": "stream",
     "text": [
      "100%|██████████████████████████████████████████████████████████████████████████████| 1563/1563 [00:26<00:00, 59.46it/s]\n"
     ]
    },
    {
     "name": "stdout",
     "output_type": "stream",
     "text": [
      "epoch : 8  loss : 0.05897953097820282, accuracy : 57.43\n"
     ]
    },
    {
     "name": "stderr",
     "output_type": "stream",
     "text": [
      "100%|██████████████████████████████████████████████████████████████████████████████| 1563/1563 [00:25<00:00, 61.26it/s]\n"
     ]
    },
    {
     "name": "stdout",
     "output_type": "stream",
     "text": [
      "epoch : 9  loss : 0.058342510950565335, accuracy : 59.36\n"
     ]
    },
    {
     "name": "stderr",
     "output_type": "stream",
     "text": [
      "100%|██████████████████████████████████████████████████████████████████████████████| 1563/1563 [00:24<00:00, 62.59it/s]\n"
     ]
    },
    {
     "name": "stdout",
     "output_type": "stream",
     "text": [
      "epoch : 10  loss : 0.05872849740982056, accuracy : 58.17\n"
     ]
    }
   ],
   "source": [
    "# 증폭된 데이터 이미지로 학습하기\n",
    "cnnModel = CNN().to(DEVICE)\n",
    "optimizer = torch.optim.Adam(cnnModel.parameters(), lr = 1e-3)\n",
    "criterion = nn.CrossEntropyLoss()\n",
    "for epoch in range(1, EPOCHS+1):\n",
    "    train(cnnModel,train_loader,optimizer)\n",
    "    test_loss, test_accuracy = evaluate(cnnModel, test_loader)\n",
    "    print(f\"epoch : {epoch}  loss : {test_loss}, accuracy : {test_accuracy}\")  "
   ]
  },
  {
   "cell_type": "markdown",
   "id": "ab5d5945",
   "metadata": {},
   "source": [
    "# CNN 아키텍처\n",
    "### ImageNet\n",
    "- 이미지 분류 모델을 측정하기 위한 데이터로 가장 많이 사용되는 데이터\n",
    "### Network Architecture\n",
    "- 네트워크의 성능을 높이기 위한 구조, 깊게 쌓으면서 과적합을 방지하고자 하는 연구.\n",
    "### LeNet\n",
    "- 최초의 CNN모델. (1990년대에 나온 모델이므로 비교적 단순한 구조를 가지고 있음)\n",
    "### Alexnet\n",
    "- 2012 ILSVRC 대회 우승 모델. 구조는 크게 다르지 않지만 Dropoout, DataAugmentation등을 적용했다.\n",
    "### VGG\n",
    "- 2014 ILSVRC 대회에서 2등을 차지한 모델.\n",
    "- 3*3 합성곱 층을 깊게 중첩하는 것이 특징\n",
    "### GoogLeNet\n",
    "- 2014 ILSVRC 대회에서 1등한 모델.\n",
    "- Inception 구조를 처음 적용하고 Gloval Average Pooling 을 처음 적용했음.\n",
    "### ResNet\n",
    "- 2015 ILSVRC 대회에서 1등. 이미지 분류의 기본 모델로 사용하고 있음.\n",
    "- Residual Block 이란 개념 도입. (이전 층의 feature Map을 다음 층의 feature map 에 더해줌) -> 기울기 소실 제거\n",
    "### DenseNet\n",
    "- ResNet의 확장형 버전. 모든 층에 대해 Skip connection 을 연결한다."
   ]
  }
 ],
 "metadata": {
  "kernelspec": {
   "display_name": "Python 3 (ipykernel)",
   "language": "python",
   "name": "python3"
  },
  "language_info": {
   "codemirror_mode": {
    "name": "ipython",
    "version": 3
   },
   "file_extension": ".py",
   "mimetype": "text/x-python",
   "name": "python",
   "nbconvert_exporter": "python",
   "pygments_lexer": "ipython3",
   "version": "3.9.7"
  }
 },
 "nbformat": 4,
 "nbformat_minor": 5
}
