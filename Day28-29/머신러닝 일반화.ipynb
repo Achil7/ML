{
 "cells": [
  {
   "cell_type": "markdown",
   "id": "331558d7",
   "metadata": {},
   "source": [
    "## 케라스 모델을 만드는 방법"
   ]
  },
  {
   "cell_type": "code",
   "execution_count": 1,
   "id": "50ddda5b",
   "metadata": {},
   "outputs": [],
   "source": [
    "# Sequential 클래스\n",
    "from tensorflow import keras\n",
    "from tensorflow.keras import layers\n",
    "model = keras.Sequential([\n",
    "    layers.Dense(64,activation='relu'),\n",
    "    layers.Dense(10,activation='softmax'),\n",
    "])"
   ]
  },
  {
   "cell_type": "code",
   "execution_count": 2,
   "id": "d969cca6",
   "metadata": {},
   "outputs": [],
   "source": [
    "# 점진적으로 Sequenential 모델 만들기\n",
    "model = keras.Sequential()\n",
    "model.add(layers.Dense(10,activation='relu'))\n",
    "model.add(layers.Dense(10,activation='softmax'))"
   ]
  },
  {
   "cell_type": "markdown",
   "id": "5ed5513c",
   "metadata": {},
   "source": [
    "# 가중치를 만들기위해 모델을 호출"
   ]
  },
  {
   "cell_type": "code",
   "execution_count": 3,
   "id": "cf95065c",
   "metadata": {},
   "outputs": [],
   "source": [
    "import numpy as np\n",
    "model.build(input_shape=(None,3))"
   ]
  },
  {
   "cell_type": "code",
   "execution_count": 4,
   "id": "ee99d82e",
   "metadata": {},
   "outputs": [
    {
     "data": {
      "text/plain": [
       "[<tf.Variable 'dense_2/kernel:0' shape=(3, 10) dtype=float32, numpy=\n",
       " array([[-0.12489599, -0.5033334 ,  0.6563575 , -0.5871707 ,  0.06539696,\n",
       "          0.20056713,  0.6515031 , -0.2207832 , -0.00230378,  0.08511448],\n",
       "        [ 0.35768354,  0.23605603, -0.4431311 ,  0.00251448,  0.40753496,\n",
       "          0.12637109,  0.38636887,  0.5721401 ,  0.5108067 , -0.5329608 ],\n",
       "        [ 0.4147991 , -0.03072786,  0.60190105, -0.2523677 , -0.18923417,\n",
       "         -0.2748652 , -0.5180805 , -0.01303905,  0.23454839,  0.17988002]],\n",
       "       dtype=float32)>,\n",
       " <tf.Variable 'dense_2/bias:0' shape=(10,) dtype=float32, numpy=array([0., 0., 0., 0., 0., 0., 0., 0., 0., 0.], dtype=float32)>,\n",
       " <tf.Variable 'dense_3/kernel:0' shape=(10, 10) dtype=float32, numpy=\n",
       " array([[ 2.40946651e-01, -3.43191087e-01, -2.09794283e-01,\n",
       "          2.86979973e-01, -1.75809860e-02,  4.04612303e-01,\n",
       "         -8.40447843e-02, -3.11802626e-01, -8.73837471e-02,\n",
       "         -6.06323183e-02],\n",
       "        [ 3.03714454e-01, -1.07917190e-02, -4.46466416e-01,\n",
       "         -3.74890506e-01, -5.34206390e-01, -4.67887819e-01,\n",
       "          9.41088796e-02, -1.93536431e-01,  4.83605146e-01,\n",
       "         -3.60532284e-01],\n",
       "        [-2.41890669e-01, -2.11885631e-01, -3.32349747e-01,\n",
       "          3.82776916e-01, -5.41884542e-01,  2.12924182e-01,\n",
       "         -4.33262855e-01, -2.07962662e-01, -3.87025833e-01,\n",
       "         -3.09837043e-01],\n",
       "        [-2.84296900e-01,  4.92503881e-01,  1.43685281e-01,\n",
       "          3.90512645e-01,  4.39125955e-01,  3.10045302e-01,\n",
       "          2.23376513e-01,  2.19501853e-01, -4.41138446e-01,\n",
       "         -1.45797640e-01],\n",
       "        [ 9.50483084e-02,  8.40839744e-02,  4.33568060e-01,\n",
       "          1.17106080e-01, -3.78209651e-01,  4.66883302e-01,\n",
       "         -2.85758585e-01,  2.01924801e-01, -2.52555072e-01,\n",
       "          2.30343997e-01],\n",
       "        [-4.08780515e-01,  2.08069623e-01,  9.50968862e-02,\n",
       "         -2.75151879e-01,  4.65274930e-01,  5.26912808e-02,\n",
       "         -3.60924304e-01, -3.82070839e-01,  3.56356919e-01,\n",
       "         -2.15510339e-01],\n",
       "        [ 1.09580755e-02,  1.53681219e-01, -4.24325347e-01,\n",
       "         -7.57853985e-02,  3.90698910e-02,  3.86705101e-01,\n",
       "         -5.02504528e-01, -5.40137291e-04, -9.43325758e-02,\n",
       "          8.48402977e-02],\n",
       "        [-1.95298821e-01, -4.01604176e-02,  2.65988588e-01,\n",
       "          4.06359673e-01,  3.26803207e-01, -2.51437634e-01,\n",
       "         -4.84255344e-01,  4.14074063e-02,  4.16137934e-01,\n",
       "          4.21572328e-02],\n",
       "        [ 1.13873363e-01,  4.21319067e-01,  2.44040668e-01,\n",
       "         -4.51593399e-01, -5.41522920e-01,  1.70490384e-01,\n",
       "          4.60299611e-01, -4.95000184e-02,  4.22141910e-01,\n",
       "         -3.33782673e-01],\n",
       "        [-4.20560122e-01,  3.95240426e-01,  2.06280828e-01,\n",
       "          1.00127101e-01, -5.29574215e-01, -1.52038008e-01,\n",
       "         -5.33426821e-01, -3.82423818e-01,  1.30077839e-01,\n",
       "         -3.04513246e-01]], dtype=float32)>,\n",
       " <tf.Variable 'dense_3/bias:0' shape=(10,) dtype=float32, numpy=array([0., 0., 0., 0., 0., 0., 0., 0., 0., 0.], dtype=float32)>]"
      ]
     },
     "execution_count": 4,
     "metadata": {},
     "output_type": "execute_result"
    }
   ],
   "source": [
    "model.weights"
   ]
  },
  {
   "cell_type": "code",
   "execution_count": 5,
   "id": "d72f1bb4",
   "metadata": {},
   "outputs": [
    {
     "name": "stdout",
     "output_type": "stream",
     "text": [
      "Model: \"sequential_1\"\n",
      "_________________________________________________________________\n",
      " Layer (type)                Output Shape              Param #   \n",
      "=================================================================\n",
      " dense_2 (Dense)             (None, 10)                40        \n",
      "                                                                 \n",
      " dense_3 (Dense)             (None, 10)                110       \n",
      "                                                                 \n",
      "=================================================================\n",
      "Total params: 150\n",
      "Trainable params: 150\n",
      "Non-trainable params: 0\n",
      "_________________________________________________________________\n"
     ]
    }
   ],
   "source": [
    "model.summary()"
   ]
  },
  {
   "cell_type": "code",
   "execution_count": 6,
   "id": "9b459fe1",
   "metadata": {},
   "outputs": [
    {
     "name": "stdout",
     "output_type": "stream",
     "text": [
      "Model: \"myModel\"\n",
      "_________________________________________________________________\n",
      " Layer (type)                Output Shape              Param #   \n",
      "=================================================================\n",
      " first_layer (Dense)         (None, 64)                256       \n",
      "                                                                 \n",
      " last_layer (Dense)          (None, 10)                650       \n",
      "                                                                 \n",
      "=================================================================\n",
      "Total params: 906\n",
      "Trainable params: 906\n",
      "Non-trainable params: 0\n",
      "_________________________________________________________________\n"
     ]
    }
   ],
   "source": [
    "model = keras.Sequential(name='myModel')\n",
    "model.add(layers.Dense(64,activation='relu', name='first_layer'))\n",
    "model.add(layers.Dense(10,activation='relu', name='last_layer'))\n",
    "model.build((None,3))\n",
    "model.summary()"
   ]
  },
  {
   "cell_type": "code",
   "execution_count": 7,
   "id": "e8400a81",
   "metadata": {},
   "outputs": [
    {
     "name": "stdout",
     "output_type": "stream",
     "text": [
      "Model: \"sequential_2\"\n",
      "_________________________________________________________________\n",
      " Layer (type)                Output Shape              Param #   \n",
      "=================================================================\n",
      " dense_4 (Dense)             (None, 64)                256       \n",
      "                                                                 \n",
      "=================================================================\n",
      "Total params: 256\n",
      "Trainable params: 256\n",
      "Non-trainable params: 0\n",
      "_________________________________________________________________\n"
     ]
    }
   ],
   "source": [
    "# 모델의 입력 크기를 미리 지정\n",
    "model = keras.Sequential()\n",
    "model.add(keras.Input(shape=(3,)))\n",
    "model.add(layers.Dense(64,activation='relu'))\n",
    "model.summary()"
   ]
  },
  {
   "cell_type": "code",
   "execution_count": 8,
   "id": "27740641",
   "metadata": {},
   "outputs": [
    {
     "name": "stdout",
     "output_type": "stream",
     "text": [
      "Model: \"sequential_2\"\n",
      "_________________________________________________________________\n",
      " Layer (type)                Output Shape              Param #   \n",
      "=================================================================\n",
      " dense_4 (Dense)             (None, 64)                256       \n",
      "                                                                 \n",
      " dense_5 (Dense)             (None, 10)                650       \n",
      "                                                                 \n",
      "=================================================================\n",
      "Total params: 906\n",
      "Trainable params: 906\n",
      "Non-trainable params: 0\n",
      "_________________________________________________________________\n"
     ]
    }
   ],
   "source": [
    "model.add(layers.Dense(10,activation='softmax'))\n",
    "model.summary()"
   ]
  },
  {
   "cell_type": "markdown",
   "id": "7db8fa13",
   "metadata": {},
   "source": [
    "# 함수형 API\n",
    "# 두개의 Dense층을 가지는 간단한 함수형 모델"
   ]
  },
  {
   "cell_type": "code",
   "execution_count": 9,
   "id": "ab363671",
   "metadata": {},
   "outputs": [],
   "source": [
    "inputs = keras.Input(shape=(3,), name='my_input')\n",
    "features = layers.Dense(64,activation='relu')(inputs)\n",
    "outputs = layers.Dense(10,activation='softmax')(features)"
   ]
  },
  {
   "cell_type": "code",
   "execution_count": 10,
   "id": "43e62ec0",
   "metadata": {},
   "outputs": [
    {
     "name": "stdout",
     "output_type": "stream",
     "text": [
      "Model: \"model\"\n",
      "_________________________________________________________________\n",
      " Layer (type)                Output Shape              Param #   \n",
      "=================================================================\n",
      " my_input (InputLayer)       [(None, 3)]               0         \n",
      "                                                                 \n",
      " dense_6 (Dense)             (None, 64)                256       \n",
      "                                                                 \n",
      "=================================================================\n",
      "Total params: 256\n",
      "Trainable params: 256\n",
      "Non-trainable params: 0\n",
      "_________________________________________________________________\n"
     ]
    }
   ],
   "source": [
    "model = keras.Model(inputs=inputs, outputs=features)\n",
    "model.summary()"
   ]
  },
  {
   "cell_type": "code",
   "execution_count": 11,
   "id": "5fde5e2e",
   "metadata": {},
   "outputs": [
    {
     "name": "stdout",
     "output_type": "stream",
     "text": [
      "Model: \"model_1\"\n",
      "_________________________________________________________________\n",
      " Layer (type)                Output Shape              Param #   \n",
      "=================================================================\n",
      " my_input (InputLayer)       [(None, 3)]               0         \n",
      "                                                                 \n",
      " dense_6 (Dense)             (None, 64)                256       \n",
      "                                                                 \n",
      " dense_7 (Dense)             (None, 10)                650       \n",
      "                                                                 \n",
      "=================================================================\n",
      "Total params: 906\n",
      "Trainable params: 906\n",
      "Non-trainable params: 0\n",
      "_________________________________________________________________\n"
     ]
    }
   ],
   "source": [
    "model = keras.Model(inputs=inputs, outputs=outputs)\n",
    "model.summary()"
   ]
  },
  {
   "cell_type": "markdown",
   "id": "a20e4714",
   "metadata": {},
   "source": [
    "# 다중입력, 다중 출력 함수형 모델"
   ]
  },
  {
   "cell_type": "code",
   "execution_count": 12,
   "id": "bb4290c4",
   "metadata": {},
   "outputs": [],
   "source": [
    "vocabulary_size = 10000\n",
    "num_tags = 100\n",
    "num_departments = 4"
   ]
  },
  {
   "cell_type": "code",
   "execution_count": 13,
   "id": "994f37c4",
   "metadata": {},
   "outputs": [],
   "source": [
    "title = keras.Input(shape=(vocabulary_size,),name='title')\n",
    "text_body = keras.Input(shape=(vocabulary_size,), name='text_body')\n",
    "tags = keras.Input(shape=(num_tags,), name='tags')"
   ]
  },
  {
   "cell_type": "code",
   "execution_count": 14,
   "id": "0d97aea7",
   "metadata": {},
   "outputs": [],
   "source": [
    "features =  layers.Concatenate()([title,text_body,tags])\n",
    "features =  layers.Dense(64,activation='relu')(features)\n",
    "priority = layers.Dense(1,activation='sigmoid',name='priority')(features)\n",
    "department =  layers.Dense(num_departments,activation='softmax',name='department')(features)\n",
    "model = keras.Model(inputs=[title,text_body,tags], outputs = [priority,department])"
   ]
  },
  {
   "cell_type": "code",
   "execution_count": 15,
   "id": "b5971761",
   "metadata": {},
   "outputs": [
    {
     "name": "stdout",
     "output_type": "stream",
     "text": [
      "Model: \"model_2\"\n",
      "__________________________________________________________________________________________________\n",
      " Layer (type)                   Output Shape         Param #     Connected to                     \n",
      "==================================================================================================\n",
      " title (InputLayer)             [(None, 10000)]      0           []                               \n",
      "                                                                                                  \n",
      " text_body (InputLayer)         [(None, 10000)]      0           []                               \n",
      "                                                                                                  \n",
      " tags (InputLayer)              [(None, 100)]        0           []                               \n",
      "                                                                                                  \n",
      " concatenate (Concatenate)      (None, 20100)        0           ['title[0][0]',                  \n",
      "                                                                  'text_body[0][0]',              \n",
      "                                                                  'tags[0][0]']                   \n",
      "                                                                                                  \n",
      " dense_8 (Dense)                (None, 64)           1286464     ['concatenate[0][0]']            \n",
      "                                                                                                  \n",
      " priority (Dense)               (None, 1)            65          ['dense_8[0][0]']                \n",
      "                                                                                                  \n",
      " department (Dense)             (None, 4)            260         ['dense_8[0][0]']                \n",
      "                                                                                                  \n",
      "==================================================================================================\n",
      "Total params: 1,286,789\n",
      "Trainable params: 1,286,789\n",
      "Non-trainable params: 0\n",
      "__________________________________________________________________________________________________\n"
     ]
    }
   ],
   "source": [
    "model.summary()"
   ]
  },
  {
   "cell_type": "markdown",
   "id": "a1489963",
   "metadata": {},
   "source": [
    "# 입력과 타깃 배열 리스트를 전달해서 모델 훈련"
   ]
  },
  {
   "cell_type": "code",
   "execution_count": 16,
   "id": "08f6e571",
   "metadata": {},
   "outputs": [],
   "source": [
    "import numpy as np\n",
    "num_samples = 1280\n",
    "title_data = np.random.randint(0,2, size=(num_samples, vocabulary_size))\n",
    "text_body = np.random.randint(0,2, size=(num_samples, vocabulary_size))\n",
    "tags_data = np.random.randint(0,2,size=(num_samples,num_tags))"
   ]
  },
  {
   "cell_type": "code",
   "execution_count": 17,
   "id": "838e6840",
   "metadata": {},
   "outputs": [],
   "source": [
    "priority_data = np.random.random(size=(num_samples,1))\n",
    "department_data = np.random.randint(0,2,size=(num_samples, num_departments))"
   ]
  },
  {
   "cell_type": "code",
   "execution_count": 18,
   "id": "22a36fd5",
   "metadata": {},
   "outputs": [],
   "source": [
    "model.compile(optimizer='adam',loss = ['mse','categorical_crossentropy'],metrics=['mae','acc'])"
   ]
  },
  {
   "cell_type": "code",
   "execution_count": 19,
   "id": "a73c38a8",
   "metadata": {},
   "outputs": [
    {
     "name": "stdout",
     "output_type": "stream",
     "text": [
      "40/40 [==============================] - 1s 9ms/step - loss: 6.2220 - priority_loss: 0.3334 - department_loss: 5.8886 - priority_mae: 0.4989 - priority_acc: 0.0000e+00 - department_mae: 0.5003 - department_acc: 0.2586\n"
     ]
    }
   ],
   "source": [
    "history = model.fit([title_data,text_body, tags_data],[priority_data,department_data],epochs=1)"
   ]
  },
  {
   "cell_type": "code",
   "execution_count": 20,
   "id": "e18b879d",
   "metadata": {},
   "outputs": [
    {
     "name": "stdout",
     "output_type": "stream",
     "text": [
      "40/40 [==============================] - 0s 4ms/step - loss: 3.2782 - priority_loss: 0.3480 - department_loss: 2.9301 - priority_mae: 0.5147 - priority_acc: 0.0000e+00 - department_mae: 0.4507 - department_acc: 0.2531\n"
     ]
    },
    {
     "data": {
      "text/plain": [
       "[3.278179883956909,\n",
       " 0.3480483889579773,\n",
       " 2.930131196975708,\n",
       " 0.5146908760070801,\n",
       " 0.0,\n",
       " 0.4507027566432953,\n",
       " 0.25312501192092896]"
      ]
     },
     "execution_count": 20,
     "metadata": {},
     "output_type": "execute_result"
    }
   ],
   "source": [
    "model.evaluate([title_data,text_body, tags_data],[priority_data,department_data])"
   ]
  },
  {
   "cell_type": "code",
   "execution_count": 21,
   "id": "1b4bf631",
   "metadata": {},
   "outputs": [],
   "source": [
    "priority_preds, department_preds = model.predict([title_data, text_body, tags_data])"
   ]
  },
  {
   "cell_type": "code",
   "execution_count": 22,
   "id": "0ad02ca6",
   "metadata": {},
   "outputs": [
    {
     "data": {
      "text/plain": [
       "(array([[0.],\n",
       "        [0.],\n",
       "        [0.],\n",
       "        ...,\n",
       "        [0.],\n",
       "        [0.],\n",
       "        [0.]], dtype=float32),\n",
       " array([[0.31838727, 0.02100825, 0.44317153, 0.21743289],\n",
       "        [0.1062587 , 0.15713605, 0.19055142, 0.54605377],\n",
       "        [0.37391877, 0.02187188, 0.36028618, 0.24392322],\n",
       "        ...,\n",
       "        [0.34560615, 0.0314583 , 0.40672678, 0.21620883],\n",
       "        [0.23823936, 0.09042546, 0.35157958, 0.31975558],\n",
       "        [0.1680734 , 0.0305767 , 0.37533036, 0.42601946]], dtype=float32))"
      ]
     },
     "execution_count": 22,
     "metadata": {},
     "output_type": "execute_result"
    }
   ],
   "source": [
    "priority_preds, department_preds"
   ]
  },
  {
   "cell_type": "markdown",
   "id": "6eca2ca0",
   "metadata": {},
   "source": [
    "# 입력 타깃과 배열을 딕셔너리로 전달해서 모델을 훈련"
   ]
  },
  {
   "cell_type": "code",
   "execution_count": 23,
   "id": "d23edc27",
   "metadata": {},
   "outputs": [
    {
     "name": "stdout",
     "output_type": "stream",
     "text": [
      "40/40 [==============================] - 1s 10ms/step - loss: 6.5989 - priority_loss: 0.3480 - department_loss: 6.2508 - priority_mae: 0.5147 - department_acc: 0.2914\n",
      "40/40 [==============================] - 0s 4ms/step - loss: 4.6637 - priority_loss: 0.3480 - department_loss: 4.3157 - priority_mae: 0.5147 - department_acc: 0.3195\n"
     ]
    }
   ],
   "source": [
    "model.compile(optimizer='adam',\n",
    "              loss = {\"priority\" : 'mse', \"department\":'categorical_crossentropy'},\n",
    "              metrics={\"priority\":['mae'],\"department\":['acc']}\n",
    "             )\n",
    "\n",
    "history = model.fit(\n",
    "    {\"title\":title_data,\n",
    "     \"text_body\":text_body, \n",
    "     \"tags\":tags_data},\n",
    "    {\n",
    "        \"priority\":priority_data,\n",
    "        \"department\":department_data}\n",
    "    ,epochs=1)\n",
    "\n",
    "model.evaluate(\n",
    "    {\"title\":title_data,\n",
    "     \"text_body\":text_body, \n",
    "     \"tags\":tags_data},\n",
    "    {\n",
    "        \"priority\":priority_data,\n",
    "        \"department\":department_data}\n",
    ")\n",
    "priority_preds, department_preds = model.predict(\n",
    "    {\n",
    "        \"title\":title_data, \n",
    "        \"text_body\":text_body, \n",
    "        \"tags\":tags_data\n",
    "    }\n",
    ")"
   ]
  },
  {
   "cell_type": "markdown",
   "id": "d6a482d6",
   "metadata": {},
   "source": [
    "# 함수형 API의 장점 : 층 연결구조 활용"
   ]
  },
  {
   "cell_type": "code",
   "execution_count": 24,
   "id": "092b5607",
   "metadata": {},
   "outputs": [
    {
     "name": "stdout",
     "output_type": "stream",
     "text": [
      "Model: \"model_2\"\n",
      "__________________________________________________________________________________________________\n",
      " Layer (type)                   Output Shape         Param #     Connected to                     \n",
      "==================================================================================================\n",
      " title (InputLayer)             [(None, 10000)]      0           []                               \n",
      "                                                                                                  \n",
      " text_body (InputLayer)         [(None, 10000)]      0           []                               \n",
      "                                                                                                  \n",
      " tags (InputLayer)              [(None, 100)]        0           []                               \n",
      "                                                                                                  \n",
      " concatenate (Concatenate)      (None, 20100)        0           ['title[0][0]',                  \n",
      "                                                                  'text_body[0][0]',              \n",
      "                                                                  'tags[0][0]']                   \n",
      "                                                                                                  \n",
      " dense_8 (Dense)                (None, 64)           1286464     ['concatenate[0][0]']            \n",
      "                                                                                                  \n",
      " priority (Dense)               (None, 1)            65          ['dense_8[0][0]']                \n",
      "                                                                                                  \n",
      " department (Dense)             (None, 4)            260         ['dense_8[0][0]']                \n",
      "                                                                                                  \n",
      "==================================================================================================\n",
      "Total params: 1,286,789\n",
      "Trainable params: 1,286,789\n",
      "Non-trainable params: 0\n",
      "__________________________________________________________________________________________________\n"
     ]
    }
   ],
   "source": [
    "model.summary()"
   ]
  },
  {
   "cell_type": "code",
   "execution_count": 25,
   "id": "f3fbc307",
   "metadata": {},
   "outputs": [
    {
     "data": {
      "image/png": "[encoded data removed]",
      "text/plain": [
       "<IPython.core.display.Image object>"
      ]
     },
     "execution_count": 25,
     "metadata": {},
     "output_type": "execute_result"
    }
   ],
   "source": [
    "keras.utils.plot_model(model,'tiket_classifier.png')"
   ]
  },
  {
   "cell_type": "code",
   "execution_count": 26,
   "id": "c55cd049",
   "metadata": {},
   "outputs": [
    {
     "data": {
      "image/png": "[encoded data removed]",
      "text/plain": [
       "<IPython.core.display.Image object>"
      ]
     },
     "execution_count": 26,
     "metadata": {},
     "output_type": "execute_result"
    }
   ],
   "source": [
    "keras.utils.plot_model(model,'tiket_classifier_with_shape_info.png',show_shapes=True)"
   ]
  },
  {
   "cell_type": "markdown",
   "id": "09020f8a",
   "metadata": {},
   "source": [
    "# 함수형 모델에 있는 층의 입력과 출력을 출력"
   ]
  },
  {
   "cell_type": "code",
   "execution_count": 27,
   "id": "45fb885a",
   "metadata": {},
   "outputs": [
    {
     "data": {
      "text/plain": [
       "[<keras.engine.input_layer.InputLayer at 0x29c5d98ec70>,\n",
       " <keras.engine.input_layer.InputLayer at 0x29c52cdfe20>,\n",
       " <keras.engine.input_layer.InputLayer at 0x29c5d7da070>,\n",
       " <keras.layers.merge.Concatenate at 0x29c5d7da250>,\n",
       " <keras.layers.core.dense.Dense at 0x29c5d7daa90>,\n",
       " <keras.layers.core.dense.Dense at 0x29c5d9db7c0>,\n",
       " <keras.layers.core.dense.Dense at 0x29c5d9dbd30>]"
      ]
     },
     "execution_count": 27,
     "metadata": {},
     "output_type": "execute_result"
    }
   ],
   "source": [
    "model.layers"
   ]
  },
  {
   "cell_type": "code",
   "execution_count": 28,
   "id": "5569fb9b",
   "metadata": {},
   "outputs": [
    {
     "data": {
      "text/plain": [
       "[<KerasTensor: shape=(None, 10000) dtype=float32 (created by layer 'title')>,\n",
       " <KerasTensor: shape=(None, 10000) dtype=float32 (created by layer 'text_body')>,\n",
       " <KerasTensor: shape=(None, 100) dtype=float32 (created by layer 'tags')>]"
      ]
     },
     "execution_count": 28,
     "metadata": {},
     "output_type": "execute_result"
    }
   ],
   "source": [
    "model.layers[3].input"
   ]
  },
  {
   "cell_type": "code",
   "execution_count": 29,
   "id": "671f70c1",
   "metadata": {},
   "outputs": [
    {
     "data": {
      "text/plain": [
       "<KerasTensor: shape=(None, 20100) dtype=float32 (created by layer 'concatenate')>"
      ]
     },
     "execution_count": 29,
     "metadata": {},
     "output_type": "execute_result"
    }
   ],
   "source": [
    "model.layers[3].output"
   ]
  },
  {
   "cell_type": "markdown",
   "id": "541f46b7",
   "metadata": {},
   "source": [
    "# 중간층의 출력을 재사용해서 새로운 모델 "
   ]
  },
  {
   "cell_type": "code",
   "execution_count": 30,
   "id": "fcdba958",
   "metadata": {},
   "outputs": [],
   "source": [
    "# feature = model.layers[4].output\n",
    "# difficulty =  layers.Dense(3,activation='softmax',name='difficulty')(feature)\n",
    "# new_model = keras.Model(inputs =[title,text_body,tags] ,  outputs = [priority,department])\n",
    "# model = keras.Model(inputs=[title,text_body,tags], outputs = [priority,department,difficulty])"
   ]
  },
  {
   "cell_type": "markdown",
   "id": "9883a3e0",
   "metadata": {},
   "source": [
    "# Model 서브 클래싱"
   ]
  },
  {
   "cell_type": "code",
   "execution_count": 31,
   "id": "74404cfa",
   "metadata": {},
   "outputs": [],
   "source": [
    "import numpy as np\n",
    "from tensorflow import keras\n",
    "from tensorflow.keras import layers"
   ]
  },
  {
   "cell_type": "code",
   "execution_count": 32,
   "id": "7981920b",
   "metadata": {},
   "outputs": [],
   "source": [
    "inputs = keras.Input(shape=(64,))\n",
    "outputs = layers.Dense(1,activation='sigmoid')(inputs)\n",
    "binary_classifier = keras.Model(inputs = inputs, outputs=outputs)\n",
    "class MyModel(keras.Model):\n",
    "    def __init__(self,num_classes=2):\n",
    "        super().__init__()\n",
    "        self.dense = layers.Dense(64,activation='relu')\n",
    "        self.classifier = binary_classifier\n",
    "        print(\"__init__\")\n",
    "    def call(self, inputs):\n",
    "        features = self.dense(inputs)\n",
    "        print(\"call\")\n",
    "        return self.classifier(features)"
   ]
  },
  {
   "cell_type": "code",
   "execution_count": 33,
   "id": "65d887c1",
   "metadata": {},
   "outputs": [],
   "source": [
    "# 표준 플로우 워크 : compile(), fit(), evaluate(), predict()"
   ]
  },
  {
   "cell_type": "code",
   "execution_count": 34,
   "id": "5e2aae68",
   "metadata": {},
   "outputs": [],
   "source": [
    "from tensorflow.keras.datasets import mnist"
   ]
  },
  {
   "cell_type": "code",
   "execution_count": 35,
   "id": "deaf15ac",
   "metadata": {},
   "outputs": [],
   "source": [
    "def get_mnist_model():\n",
    "    inputs = keras.Input(shape=(28*28,))\n",
    "    features = layers.Dense(512,activation='relu')(inputs)\n",
    "    features = layers.Dropout(0.5)(features)\n",
    "    outputs = layers.Dense(10,activation='softmax')(features)\n",
    "    model = keras.Model(inputs, outputs)\n",
    "    return model"
   ]
  },
  {
   "cell_type": "code",
   "execution_count": 36,
   "id": "a5ead1d1",
   "metadata": {},
   "outputs": [],
   "source": [
    "(images,labes),(test_images, test_labels) = mnist.load_data()"
   ]
  },
  {
   "cell_type": "code",
   "execution_count": 37,
   "id": "6dba8bb3",
   "metadata": {},
   "outputs": [
    {
     "data": {
      "text/plain": [
       "(60000, 28, 28)"
      ]
     },
     "execution_count": 37,
     "metadata": {},
     "output_type": "execute_result"
    }
   ],
   "source": [
    "images.shape"
   ]
  },
  {
   "cell_type": "code",
   "execution_count": 38,
   "id": "8072f9e6",
   "metadata": {},
   "outputs": [],
   "source": [
    "# 전처리  28*28 - > 28 x 28\n",
    "# 데이터 표준화\n",
    "split = 10000\n",
    "images = images.reshape(-1,28*28).astype('float32') / 255\n",
    "test_images = test_images.reshape(-1,28*28).astype('float32') / 255\n",
    "# 데이터를 분할 : 테스트 데이터 10000\n",
    "train_images,val_images = images[:-split],images[-split:]\n",
    "train_labels,val_labels = labes[:-split],labes[-split:]"
   ]
  },
  {
   "cell_type": "code",
   "execution_count": 39,
   "id": "1091c2bd",
   "metadata": {},
   "outputs": [
    {
     "data": {
      "text/plain": [
       "((50000, 784), (10000, 784), (50000,), (10000,))"
      ]
     },
     "execution_count": 39,
     "metadata": {},
     "output_type": "execute_result"
    }
   ],
   "source": [
    "train_images.shape, val_images.shape, train_labels.shape, val_labels.shape"
   ]
  },
  {
   "cell_type": "code",
   "execution_count": 40,
   "id": "dca0e1c7",
   "metadata": {},
   "outputs": [
    {
     "name": "stdout",
     "output_type": "stream",
     "text": [
      "Epoch 1/3\n",
      "1563/1563 [==============================] - 4s 3ms/step - loss: 0.2933 - acc: 0.9136 - val_loss: 0.1317 - val_acc: 0.9595\n",
      "Epoch 2/3\n",
      "1563/1563 [==============================] - 4s 3ms/step - loss: 0.1491 - acc: 0.9551 - val_loss: 0.0947 - val_acc: 0.9719\n",
      "Epoch 3/3\n",
      "1563/1563 [==============================] - 4s 3ms/step - loss: 0.1155 - acc: 0.9641 - val_loss: 0.0909 - val_acc: 0.9720\n"
     ]
    },
    {
     "data": {
      "text/plain": [
       "<keras.callbacks.History at 0x29c5ddf6af0>"
      ]
     },
     "execution_count": 40,
     "metadata": {},
     "output_type": "execute_result"
    }
   ],
   "source": [
    "model = get_mnist_model()\n",
    "model.compile(optimizer='adam',loss='sparse_categorical_crossentropy', metrics=['acc'])\n",
    "model.fit(train_images,train_labels,epochs=3,validation_data=(val_images,val_labels))"
   ]
  },
  {
   "cell_type": "code",
   "execution_count": 41,
   "id": "cd5056bb",
   "metadata": {},
   "outputs": [
    {
     "name": "stdout",
     "output_type": "stream",
     "text": [
      "313/313 [==============================] - 0s 1ms/step - loss: 0.0885 - acc: 0.9736\n"
     ]
    }
   ],
   "source": [
    "test_metrics =  model.evaluate(test_images,test_labels)\n",
    "predictions = model.predict(test_images)"
   ]
  },
  {
   "cell_type": "markdown",
   "id": "dafcf9ae",
   "metadata": {},
   "source": [
    "### 사용자 정의 지표 구현"
   ]
  },
  {
   "cell_type": "code",
   "execution_count": 42,
   "id": "1b30e736",
   "metadata": {},
   "outputs": [],
   "source": [
    "import tensorflow as tf\n",
    "class RootMeanSquaredError(keras.metrics.Metric):\n",
    "    def __init__(self, name='rmse', **kwargs):\n",
    "        super().__init__(name=name,**kwargs)\n",
    "        self.mse_sum = self.add_weight(name='mse_sum', initializer='zeros')\n",
    "        self.total_samples = self.add_weight(\n",
    "            name='total_samples', initializer='zeros', dtype='int32')\n",
    "    def update_state(self, y_true, y_pred, sample_weight = None):\n",
    "        y_true = tf.one_hot(y_true, depth=tf.shape(y_pred)[1])\n",
    "        mse = tf.reduce_sum(tf.square(y_true-y_pred))\n",
    "        self.mse_sum.assign_add(mse)\n",
    "        num_samples = tf.shape(y_pred)[0]\n",
    "        self.total_samples.assign_add(num_samples)\n",
    "    def result(self):\n",
    "        return tf.sqrt(self.mse_sum / tf.cast(self.total_samples, tf.float32))\n",
    "    def reset_state(self):\n",
    "        self.mse_sum.assign(0)\n",
    "        self.total_samples.assign(0)"
   ]
  },
  {
   "cell_type": "code",
   "execution_count": 43,
   "id": "2887ee33",
   "metadata": {},
   "outputs": [
    {
     "name": "stdout",
     "output_type": "stream",
     "text": [
      "Epoch 1/3\n",
      "1563/1563 [==============================] - 5s 3ms/step - loss: 0.2933 - accuracy: 0.9107 - rmse: 7.1280 - val_loss: 0.1259 - val_accuracy: 0.9645 - val_rmse: 7.3367\n",
      "Epoch 2/3\n",
      "1563/1563 [==============================] - 4s 3ms/step - loss: 0.1484 - accuracy: 0.9553 - rmse: 7.3062 - val_loss: 0.0916 - val_accuracy: 0.9729 - val_rmse: 7.3711\n",
      "Epoch 3/3\n",
      "1563/1563 [==============================] - 5s 3ms/step - loss: 0.1153 - accuracy: 0.9641 - rmse: 7.3446 - val_loss: 0.0851 - val_accuracy: 0.9755 - val_rmse: 7.4083\n",
      "313/313 [==============================] - 0s 1ms/step - loss: 0.0815 - accuracy: 0.9745 - rmse: 7.4098\n"
     ]
    }
   ],
   "source": [
    "model = get_mnist_model()\n",
    "model.compile(optimizer='adam', loss='sparse_categorical_crossentropy', metrics=['accuracy',RootMeanSquaredError()])\n",
    "model.fit(train_images,train_labels,epochs=3,validation_data=(val_images,val_labels))\n",
    "test_metrics = model.evaluate(test_images,test_labels)"
   ]
  },
  {
   "cell_type": "code",
   "execution_count": 44,
   "id": "d1d736cb",
   "metadata": {},
   "outputs": [
    {
     "name": "stdout",
     "output_type": "stream",
     "text": [
      "Epoch 1/100\n",
      "1563/1563 [==============================] - 4s 3ms/step - loss: 0.2902 - accuracy: 0.9130 - val_loss: 0.1283 - val_accuracy: 0.9628\n",
      "Epoch 2/100\n",
      "1563/1563 [==============================] - 4s 3ms/step - loss: 0.1507 - accuracy: 0.9549 - val_loss: 0.1031 - val_accuracy: 0.9693\n",
      "Epoch 3/100\n",
      "1563/1563 [==============================] - 4s 3ms/step - loss: 0.1173 - accuracy: 0.9641 - val_loss: 0.0792 - val_accuracy: 0.9767\n",
      "Epoch 4/100\n",
      "1563/1563 [==============================] - 4s 3ms/step - loss: 0.0961 - accuracy: 0.9700 - val_loss: 0.0784 - val_accuracy: 0.9778\n",
      "Epoch 5/100\n",
      "1563/1563 [==============================] - 4s 3ms/step - loss: 0.0870 - accuracy: 0.9721 - val_loss: 0.0817 - val_accuracy: 0.9752\n",
      "Epoch 6/100\n",
      "1563/1563 [==============================] - 4s 3ms/step - loss: 0.0773 - accuracy: 0.9759 - val_loss: 0.0737 - val_accuracy: 0.9801\n",
      "Epoch 7/100\n",
      "1563/1563 [==============================] - 4s 3ms/step - loss: 0.0704 - accuracy: 0.9776 - val_loss: 0.0758 - val_accuracy: 0.9789\n",
      "Epoch 8/100\n",
      "1563/1563 [==============================] - 4s 3ms/step - loss: 0.0619 - accuracy: 0.9801 - val_loss: 0.0770 - val_accuracy: 0.9797\n"
     ]
    },
    {
     "data": {
      "text/plain": [
       "<keras.callbacks.History at 0x29c67c0cf10>"
      ]
     },
     "execution_count": 44,
     "metadata": {},
     "output_type": "execute_result"
    }
   ],
   "source": [
    "# callback method\n",
    "callback_list = [\n",
    "    keras.callbacks.EarlyStopping(monitor=\"val_accuracy\", patience=2),\n",
    "    keras.callbacks.ModelCheckpoint(filepath='checkpoint_path.keras',\n",
    "                                   monitor=\"val_loss\",\n",
    "                                   save_best_only=True)]\n",
    "model = get_mnist_model()\n",
    "model.compile(optimizer='adam', loss=tf.keras.losses.sparse_categorical_crossentropy,\n",
    "             metrics=['accuracy'])\n",
    "model.fit(train_images,train_labels,epochs=100,callbacks=callback_list,validation_data=(val_images,val_labels))"
   ]
  },
  {
   "cell_type": "code",
   "execution_count": 45,
   "id": "6860612a",
   "metadata": {},
   "outputs": [
    {
     "name": "stdout",
     "output_type": "stream",
     "text": [
      "313/313 [==============================] - 0s 1ms/step - loss: 0.0766 - accuracy: 0.9776\n"
     ]
    },
    {
     "data": {
      "text/plain": [
       "[0.07659559696912766, 0.9775999784469604]"
      ]
     },
     "execution_count": 45,
     "metadata": {},
     "output_type": "execute_result"
    }
   ],
   "source": [
    "model.evaluate(test_images,test_labels)"
   ]
  },
  {
   "cell_type": "code",
   "execution_count": 46,
   "id": "be8bdfed",
   "metadata": {},
   "outputs": [],
   "source": [
    "restore_model = tf.keras.models.load_model('checkpoint_path.keras')"
   ]
  },
  {
   "cell_type": "code",
   "execution_count": 47,
   "id": "18cbd532",
   "metadata": {},
   "outputs": [
    {
     "name": "stdout",
     "output_type": "stream",
     "text": [
      "313/313 [==============================] - 0s 1ms/step - loss: 0.0697 - accuracy: 0.9806\n"
     ]
    },
    {
     "data": {
      "text/plain": [
       "[0.06968656927347183, 0.9805999994277954]"
      ]
     },
     "execution_count": 47,
     "metadata": {},
     "output_type": "execute_result"
    }
   ],
   "source": [
    "restore_model.evaluate(test_images,test_labels)"
   ]
  },
  {
   "cell_type": "markdown",
   "id": "55be1088",
   "metadata": {},
   "source": [
    "### 사용자 정의 콜백"
   ]
  },
  {
   "cell_type": "code",
   "execution_count": 48,
   "id": "f5a2775a",
   "metadata": {},
   "outputs": [],
   "source": [
    "import matplotlib.pyplot as plt\n",
    "class LossHistory(keras.callbacks.Callback):\n",
    "    def on_train_begin(self,logs):\n",
    "        self.per_batch_losses = []\n",
    "    def on_batch_end(self,batch,logs):        \n",
    "        self.per_batch_losses.append(logs.get(\"loss\"))\n",
    "    def on_epoch_end(self,epoch,logs):        \n",
    "        plt.clf()\n",
    "        plt.plot(range(len(self.per_batch_losses)), self.per_batch_losses,\n",
    "                 label='Training loss for each batch')\n",
    "        plt.xlabel(f\"Batch (epoch{epoch})\")\n",
    "        plt.ylabel(\"Loss\")\n",
    "        plt.legend()\n",
    "        plt.savefig(f\"plot_at_epoch_{epoch}\")\n",
    "        self.per_batch_losses = []"
   ]
  },
  {
   "cell_type": "code",
   "execution_count": 49,
   "id": "45cca32f",
   "metadata": {},
   "outputs": [
    {
     "data": {
      "text/plain": [
       "[<keras.callbacks.EarlyStopping at 0x29c67beb910>,\n",
       " <keras.callbacks.ModelCheckpoint at 0x29c67beb8e0>,\n",
       " <__main__.LossHistory at 0x29c69826130>]"
      ]
     },
     "execution_count": 49,
     "metadata": {},
     "output_type": "execute_result"
    }
   ],
   "source": [
    "callback_list+[LossHistory()]"
   ]
  },
  {
   "cell_type": "code",
   "execution_count": 50,
   "id": "bc405624",
   "metadata": {},
   "outputs": [
    {
     "name": "stdout",
     "output_type": "stream",
     "text": [
      "Epoch 1/100\n",
      "1563/1563 [==============================] - 5s 3ms/step - loss: 0.2874 - accuracy: 0.9128 - val_loss: 0.1273 - val_accuracy: 0.9642\n",
      "Epoch 2/100\n",
      "1563/1563 [==============================] - 5s 3ms/step - loss: 0.1476 - accuracy: 0.9551 - val_loss: 0.0997 - val_accuracy: 0.9687\n",
      "Epoch 3/100\n",
      "1563/1563 [==============================] - 4s 3ms/step - loss: 0.1170 - accuracy: 0.9632 - val_loss: 0.0894 - val_accuracy: 0.9737\n",
      "Epoch 4/100\n",
      "1563/1563 [==============================] - 4s 3ms/step - loss: 0.1009 - accuracy: 0.9688 - val_loss: 0.0794 - val_accuracy: 0.9751\n",
      "Epoch 5/100\n",
      "1563/1563 [==============================] - 4s 3ms/step - loss: 0.0829 - accuracy: 0.9737 - val_loss: 0.0748 - val_accuracy: 0.9783\n",
      "Epoch 6/100\n",
      "1563/1563 [==============================] - 4s 3ms/step - loss: 0.0742 - accuracy: 0.9764 - val_loss: 0.0718 - val_accuracy: 0.9784\n",
      "Epoch 7/100\n",
      "1563/1563 [==============================] - 5s 3ms/step - loss: 0.0675 - accuracy: 0.9786 - val_loss: 0.0700 - val_accuracy: 0.9794\n",
      "Epoch 8/100\n",
      "1563/1563 [==============================] - 4s 3ms/step - loss: 0.0638 - accuracy: 0.9796 - val_loss: 0.0744 - val_accuracy: 0.9816\n",
      "Epoch 9/100\n",
      "1563/1563 [==============================] - 4s 3ms/step - loss: 0.0595 - accuracy: 0.9811 - val_loss: 0.0704 - val_accuracy: 0.9805\n",
      "Epoch 10/100\n",
      "1563/1563 [==============================] - 4s 3ms/step - loss: 0.0539 - accuracy: 0.9821 - val_loss: 0.0732 - val_accuracy: 0.9793\n"
     ]
    },
    {
     "data": {
      "text/plain": [
       "<keras.callbacks.History at 0x29c6b2cc910>"
      ]
     },
     "execution_count": 50,
     "metadata": {},
     "output_type": "execute_result"
    },
    {
     "data": {
      "image/png": "[encoded data removed]",
      "text/plain": [
       "<Figure size 432x288 with 1 Axes>"
      ]
     },
     "metadata": {
      "needs_background": "light"
     },
     "output_type": "display_data"
    }
   ],
   "source": [
    "model = get_mnist_model()\n",
    "model.compile(optimizer='adam', loss='sparse_categorical_crossentropy',metrics=['accuracy'])\n",
    "model.fit(train_images,train_labels,epochs=100,validation_data=(val_images,val_labels),\n",
    "#           callbacks=[LossHistory()]\n",
    "          callbacks=callback_list+[LossHistory()])"
   ]
  },
  {
   "cell_type": "markdown",
   "id": "e59f34c1",
   "metadata": {},
   "source": [
    "### 텐서보드를 이용한 모니터링과 시각화"
   ]
  },
  {
   "cell_type": "code",
   "execution_count": 51,
   "id": "61acd926",
   "metadata": {},
   "outputs": [
    {
     "name": "stdout",
     "output_type": "stream",
     "text": [
      "Epoch 1/10\n",
      "1563/1563 [==============================] - 5s 3ms/step - loss: 0.2975 - accuracy: 0.9108 - val_loss: 0.1237 - val_accuracy: 0.9653\n",
      "Epoch 2/10\n",
      "1563/1563 [==============================] - 4s 3ms/step - loss: 0.1492 - accuracy: 0.9556 - val_loss: 0.0948 - val_accuracy: 0.9720\n",
      "Epoch 3/10\n",
      "1563/1563 [==============================] - 4s 3ms/step - loss: 0.1164 - accuracy: 0.9632 - val_loss: 0.0823 - val_accuracy: 0.9771\n",
      "Epoch 4/10\n",
      "1563/1563 [==============================] - 4s 3ms/step - loss: 0.0976 - accuracy: 0.9693 - val_loss: 0.0740 - val_accuracy: 0.9782\n",
      "Epoch 5/10\n",
      "1563/1563 [==============================] - 4s 3ms/step - loss: 0.0861 - accuracy: 0.9727 - val_loss: 0.0731 - val_accuracy: 0.9797\n",
      "Epoch 6/10\n",
      "1563/1563 [==============================] - 4s 3ms/step - loss: 0.0763 - accuracy: 0.9763 - val_loss: 0.0796 - val_accuracy: 0.9785\n",
      "Epoch 7/10\n",
      "1563/1563 [==============================] - 4s 3ms/step - loss: 0.0727 - accuracy: 0.9766 - val_loss: 0.0737 - val_accuracy: 0.9797\n",
      "Epoch 8/10\n",
      "1563/1563 [==============================] - 5s 3ms/step - loss: 0.0629 - accuracy: 0.9792 - val_loss: 0.0753 - val_accuracy: 0.9796\n",
      "Epoch 9/10\n",
      "1563/1563 [==============================] - 5s 3ms/step - loss: 0.0595 - accuracy: 0.9807 - val_loss: 0.0722 - val_accuracy: 0.9806\n",
      "Epoch 10/10\n",
      "1563/1563 [==============================] - 5s 3ms/step - loss: 0.0545 - accuracy: 0.9820 - val_loss: 0.0767 - val_accuracy: 0.9804\n"
     ]
    },
    {
     "data": {
      "text/plain": [
       "<keras.callbacks.History at 0x29c6e9c9940>"
      ]
     },
     "execution_count": 51,
     "metadata": {},
     "output_type": "execute_result"
    }
   ],
   "source": [
    "model = get_mnist_model()\n",
    "model.compile(optimizer='adam',loss='sparse_categorical_crossentropy', metrics=['accuracy'])\n",
    "tensorboard = keras.callbacks.TensorBoard(log_dir='./tb_logs')\n",
    "model.fit(train_images,train_labels,epochs=10,validation_data=(val_images,val_labels),\n",
    "         callbacks=tensorboard)"
   ]
  },
  {
   "cell_type": "code",
   "execution_count": 52,
   "id": "b2e8e911",
   "metadata": {},
   "outputs": [
    {
     "name": "stdout",
     "output_type": "stream",
     "text": [
      "313/313 [==============================] - 0s 1ms/step - loss: 0.0696 - accuracy: 0.9814\n"
     ]
    },
    {
     "data": {
      "text/plain": [
       "[0.06958431750535965, 0.9814000129699707]"
      ]
     },
     "execution_count": 52,
     "metadata": {},
     "output_type": "execute_result"
    }
   ],
   "source": [
    "model.evaluate(test_images,test_labels)"
   ]
  },
  {
   "cell_type": "code",
   "execution_count": 53,
   "id": "81e347b7",
   "metadata": {},
   "outputs": [
    {
     "data": {
      "text/plain": [
       "Reusing TensorBoard on port 6006 (pid 9344), started 0:08:36 ago. (Use '!kill 9344' to kill it.)"
      ]
     },
     "metadata": {},
     "output_type": "display_data"
    },
    {
     "data": {
      "text/html": [
       "\n",
       "      <iframe id=\"tensorboard-frame-3aa865688f205ec1\" width=\"100%\" height=\"800\" frameborder=\"0\">\n",
       "      </iframe>\n",
       "      <script>\n",
       "        (function() {\n",
       "          const frame = document.getElementById(\"tensorboard-frame-3aa865688f205ec1\");\n",
       "          const url = new URL(\"/\", window.location);\n",
       "          const port = 6006;\n",
       "          if (port) {\n",
       "            url.port = port;\n",
       "          }\n",
       "          frame.src = url;\n",
       "        })();\n",
       "      </script>\n",
       "    "
      ],
      "text/plain": [
       "<IPython.core.display.HTML object>"
      ]
     },
     "metadata": {},
     "output_type": "display_data"
    }
   ],
   "source": [
    "%load_ext tensorboard\n",
    "%tensorboard --logdir ./tb_logs"
   ]
  },
  {
   "cell_type": "markdown",
   "id": "ef0de0f9",
   "metadata": {},
   "source": [
    "### 사용자 정의훈련, 평가 루프"
   ]
  },
  {
   "cell_type": "code",
   "execution_count": 54,
   "id": "9c1c2623",
   "metadata": {},
   "outputs": [
    {
     "data": {
      "text/plain": [
       "<tf.Tensor: shape=(), dtype=float32, numpy=1.0>"
      ]
     },
     "execution_count": 54,
     "metadata": {},
     "output_type": "execute_result"
    }
   ],
   "source": [
    "metric = keras.metrics.SparseCategoricalAccuracy()\n",
    "targets = [0,1,2]\n",
    "predictions = [[1,0,0],[0,1,0],[0,0,1]]\n",
    "metric.update_state(targets,predictions)\n",
    "current_result = metric.result()\n",
    "current_result"
   ]
  },
  {
   "cell_type": "code",
   "execution_count": 55,
   "id": "bf629e0e",
   "metadata": {},
   "outputs": [
    {
     "data": {
      "text/plain": [
       "<tf.Tensor: shape=(), dtype=float32, numpy=2.0>"
      ]
     },
     "execution_count": 55,
     "metadata": {},
     "output_type": "execute_result"
    }
   ],
   "source": [
    "values = [0,1,2,3,4]\n",
    "mean_tracker = keras.metrics.Mean()\n",
    "mean_tracker.update_state(values)\n",
    "mean_tracker.result()"
   ]
  },
  {
   "cell_type": "markdown",
   "id": "338b7e8e",
   "metadata": {},
   "source": [
    "### 훈련평가"
   ]
  },
  {
   "cell_type": "code",
   "execution_count": 56,
   "id": "aa1a5f23",
   "metadata": {},
   "outputs": [],
   "source": [
    "model = get_mnist_model()                                # 모델 생성\n",
    "loss_fn = keras.losses.SparseCategoricalCrossentropy()   # 손실 함수\n",
    "optimizer = keras.optimizers.Adam()                      # 최적화 알고리즘\n",
    "metrics = [keras.metrics.SparseCategoricalAccuracy()]    # 평가지표\n",
    "loss_tracking_metric = keras.metrics.Mean()              # 손실 추적 함수"
   ]
  },
  {
   "cell_type": "code",
   "execution_count": 57,
   "id": "4c44b2ff",
   "metadata": {},
   "outputs": [],
   "source": [
    "def train_step(inputs, targets):\n",
    "    with tf.GradientTape() as tape:\n",
    "        predictions = model(inputs,training=True)\n",
    "        loss = loss_fn(targets,predictions)\n",
    "    gradients = tape.gradient(loss,model.trainable_weights)\n",
    "    optimizer.apply_gradients(zip(gradients,model.trainable_weights))    \n",
    "    logs = {}\n",
    "    for metric in metrics:\n",
    "        metric.update_state(targets,predictions)\n",
    "        logs[metric.name] = metric.result()\n",
    "    loss_tracking_metric.update_state(loss)\n",
    "    logs['loss'] = loss_tracking_metric.result()\n",
    "    return logs"
   ]
  },
  {
   "cell_type": "markdown",
   "id": "361e2fd9",
   "metadata": {},
   "source": [
    "#### 단계별 훈련, 지표 재  설정"
   ]
  },
  {
   "cell_type": "code",
   "execution_count": 58,
   "id": "e8c4fab1",
   "metadata": {},
   "outputs": [],
   "source": [
    "def reset_metrics():\n",
    "    for metric in metrics:\n",
    "        metric.reset_state()\n",
    "    loss_tracking_metric.reset_state()      "
   ]
  },
  {
   "cell_type": "markdown",
   "id": "f7ba78b9",
   "metadata": {},
   "source": [
    "#### 단계별 훈련 루프 작성하기:훈련 루프 자체"
   ]
  },
  {
   "cell_type": "code",
   "execution_count": 59,
   "id": "1bef3413",
   "metadata": {},
   "outputs": [
    {
     "name": "stdout",
     "output_type": "stream",
     "text": [
      "0번째 에포크 결과\n",
      "...sparse_categorical_accuracy: 0.9104\n",
      "...loss: 0.2974\n",
      "1번째 에포크 결과\n",
      "...sparse_categorical_accuracy: 0.9320\n",
      "...loss: 0.2243\n",
      "2번째 에포크 결과\n",
      "...sparse_categorical_accuracy: 0.9426\n",
      "...loss: 0.1896\n"
     ]
    }
   ],
   "source": [
    "import tensorflow as tf\n",
    "training_dataset =  tf.data.Dataset.from_tensor_slices((train_images,train_labels ))\n",
    "training_dataset = training_dataset.batch(32)\n",
    "epochs=3\n",
    "for epoch in range(epochs):\n",
    "    for inputs_batch, targets_batch in training_dataset:\n",
    "        logs=train_step(inputs_batch,targets_batch)\n",
    "    print(f\"{epoch}번째 에포크 결과\")\n",
    "    for key, value in logs.items():\n",
    "        print(f\"...{key}: {value:.4f}\")"
   ]
  }
 ],
 "metadata": {
  "kernelspec": {
   "display_name": "Python 3 (ipykernel)",
   "language": "python",
   "name": "python3"
  },
  "language_info": {
   "codemirror_mode": {
    "name": "ipython",
    "version": 3
   },
   "file_extension": ".py",
   "mimetype": "text/x-python",
   "name": "python",
   "nbconvert_exporter": "python",
   "pygments_lexer": "ipython3",
   "version": "3.9.7"
  }
 },
 "nbformat": 4,
 "nbformat_minor": 5
}
