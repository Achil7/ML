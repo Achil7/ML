{
 "cells": [
  {
   "cell_type": "markdown",
   "id": "331558d7",
   "metadata": {},
   "source": [
    "## 케라스 모델을 만드는 방법"
   ]
  },
  {
   "cell_type": "code",
   "execution_count": 1,
   "id": "50ddda5b",
   "metadata": {},
   "outputs": [],
   "source": [
    "# Sequential 클래스\n",
    "from tensorflow import keras\n",
    "from tensorflow.keras import layers\n",
    "model = keras.Sequential([\n",
    "    layers.Dense(64,activation='relu'),\n",
    "    layers.Dense(10,activation='softmax'),\n",
    "])"
   ]
  },
  {
   "cell_type": "code",
   "execution_count": 2,
   "id": "d969cca6",
   "metadata": {},
   "outputs": [],
   "source": [
    "# 점진적으로 Sequenential 모델 만들기\n",
    "model = keras.Sequential()\n",
    "model.add(layers.Dense(10,activation='relu'))\n",
    "model.add(layers.Dense(10,activation='softmax'))"
   ]
  },
  {
   "cell_type": "markdown",
   "id": "5ed5513c",
   "metadata": {},
   "source": [
    "# 가중치를 만들기위해 모델을 호출"
   ]
  },
  {
   "cell_type": "code",
   "execution_count": 3,
   "id": "cf95065c",
   "metadata": {},
   "outputs": [],
   "source": [
    "import numpy as np\n",
    "model.build(input_shape=(None,3))"
   ]
  },
  {
   "cell_type": "code",
   "execution_count": 4,
   "id": "ee99d82e",
   "metadata": {},
   "outputs": [
    {
     "data": {
      "text/plain": [
       "[<tf.Variable 'dense_2/kernel:0' shape=(3, 10) dtype=float32, numpy=\n",
       " array([[ 0.11090779,  0.43920195, -0.1081996 ,  0.39352262,  0.17370236,\n",
       "          0.60621977,  0.37917054,  0.24326855,  0.5473579 ,  0.6258999 ],\n",
       "        [-0.07375431, -0.45339566, -0.6434332 ,  0.47133815, -0.10046506,\n",
       "          0.517418  ,  0.62122715,  0.24669427, -0.48850292,  0.44192076],\n",
       "        [-0.04260468, -0.23268178,  0.01458812, -0.50235087,  0.2665305 ,\n",
       "          0.11096758,  0.11244512, -0.0186072 , -0.14283347,  0.64126086]],\n",
       "       dtype=float32)>,\n",
       " <tf.Variable 'dense_2/bias:0' shape=(10,) dtype=float32, numpy=array([0., 0., 0., 0., 0., 0., 0., 0., 0., 0.], dtype=float32)>,\n",
       " <tf.Variable 'dense_3/kernel:0' shape=(10, 10) dtype=float32, numpy=\n",
       " array([[-0.01849478,  0.17030746, -0.39611837, -0.2844019 ,  0.455485  ,\n",
       "         -0.5236193 ,  0.02154493,  0.16879499, -0.0046075 ,  0.14274544],\n",
       "        [-0.00388914,  0.25282055,  0.5045475 ,  0.32219476, -0.2412261 ,\n",
       "         -0.447196  , -0.08715627,  0.00514197, -0.16728708, -0.10281852],\n",
       "        [-0.11501864,  0.5192932 , -0.27448732, -0.38711295, -0.03916913,\n",
       "          0.2389015 , -0.22543484, -0.4171134 ,  0.2844385 ,  0.41716927],\n",
       "        [-0.08917999, -0.09489331,  0.3368051 ,  0.20483065,  0.1928792 ,\n",
       "         -0.3785407 ,  0.4111389 ,  0.39142597,  0.24098623, -0.03488326],\n",
       "        [-0.45344198,  0.21534044, -0.3225173 ,  0.05475509, -0.33127162,\n",
       "          0.3903728 , -0.01271999,  0.43419397, -0.5194208 , -0.13274285],\n",
       "        [ 0.02402937, -0.5193738 , -0.5168122 ,  0.29249245,  0.33089656,\n",
       "          0.01051372, -0.08947107,  0.21744668,  0.43908846, -0.32699722],\n",
       "        [-0.15007582, -0.22356495,  0.05226439,  0.03470868,  0.40408552,\n",
       "          0.4666903 ,  0.43089336,  0.05375856,  0.04430431,  0.4711597 ],\n",
       "        [ 0.44335645, -0.17599374,  0.15825617,  0.09797555,  0.11812854,\n",
       "          0.17022139, -0.4290932 ,  0.01140499,  0.06757522,  0.33230662],\n",
       "        [ 0.31937003,  0.47792554,  0.02977049, -0.08457404, -0.2650862 ,\n",
       "         -0.46669254, -0.30310878,  0.10038048, -0.283995  , -0.20305571],\n",
       "        [-0.13104546, -0.50096905, -0.35479337,  0.16831297,  0.20900124,\n",
       "          0.33835465, -0.46892324, -0.3518864 ,  0.3767776 , -0.22739431]],\n",
       "       dtype=float32)>,\n",
       " <tf.Variable 'dense_3/bias:0' shape=(10,) dtype=float32, numpy=array([0., 0., 0., 0., 0., 0., 0., 0., 0., 0.], dtype=float32)>]"
      ]
     },
     "execution_count": 4,
     "metadata": {},
     "output_type": "execute_result"
    }
   ],
   "source": [
    "model.weights"
   ]
  },
  {
   "cell_type": "code",
   "execution_count": 5,
   "id": "d72f1bb4",
   "metadata": {},
   "outputs": [
    {
     "name": "stdout",
     "output_type": "stream",
     "text": [
      "Model: \"sequential_1\"\n",
      "_________________________________________________________________\n",
      " Layer (type)                Output Shape              Param #   \n",
      "=================================================================\n",
      " dense_2 (Dense)             (None, 10)                40        \n",
      "                                                                 \n",
      " dense_3 (Dense)             (None, 10)                110       \n",
      "                                                                 \n",
      "=================================================================\n",
      "Total params: 150\n",
      "Trainable params: 150\n",
      "Non-trainable params: 0\n",
      "_________________________________________________________________\n"
     ]
    }
   ],
   "source": [
    "model.summary()"
   ]
  },
  {
   "cell_type": "code",
   "execution_count": 6,
   "id": "9b459fe1",
   "metadata": {},
   "outputs": [
    {
     "name": "stdout",
     "output_type": "stream",
     "text": [
      "Model: \"myModel\"\n",
      "_________________________________________________________________\n",
      " Layer (type)                Output Shape              Param #   \n",
      "=================================================================\n",
      " first_layer (Dense)         (None, 64)                256       \n",
      "                                                                 \n",
      " last_layer (Dense)          (None, 10)                650       \n",
      "                                                                 \n",
      "=================================================================\n",
      "Total params: 906\n",
      "Trainable params: 906\n",
      "Non-trainable params: 0\n",
      "_________________________________________________________________\n"
     ]
    }
   ],
   "source": [
    "model = keras.Sequential(name='myModel')\n",
    "model.add(layers.Dense(64,activation='relu', name='first_layer'))\n",
    "model.add(layers.Dense(10,activation='relu', name='last_layer'))\n",
    "model.build((None,3))\n",
    "model.summary()"
   ]
  },
  {
   "cell_type": "code",
   "execution_count": 7,
   "id": "e8400a81",
   "metadata": {},
   "outputs": [
    {
     "name": "stdout",
     "output_type": "stream",
     "text": [
      "Model: \"sequential_2\"\n",
      "_________________________________________________________________\n",
      " Layer (type)                Output Shape              Param #   \n",
      "=================================================================\n",
      " dense_4 (Dense)             (None, 64)                256       \n",
      "                                                                 \n",
      "=================================================================\n",
      "Total params: 256\n",
      "Trainable params: 256\n",
      "Non-trainable params: 0\n",
      "_________________________________________________________________\n"
     ]
    }
   ],
   "source": [
    "# 모델의 입력 크기를 미리 지정\n",
    "model = keras.Sequential()\n",
    "model.add(keras.Input(shape=(3,)))\n",
    "model.add(layers.Dense(64,activation='relu'))\n",
    "model.summary()"
   ]
  },
  {
   "cell_type": "code",
   "execution_count": 8,
   "id": "27740641",
   "metadata": {},
   "outputs": [
    {
     "name": "stdout",
     "output_type": "stream",
     "text": [
      "Model: \"sequential_2\"\n",
      "_________________________________________________________________\n",
      " Layer (type)                Output Shape              Param #   \n",
      "=================================================================\n",
      " dense_4 (Dense)             (None, 64)                256       \n",
      "                                                                 \n",
      " dense_5 (Dense)             (None, 10)                650       \n",
      "                                                                 \n",
      "=================================================================\n",
      "Total params: 906\n",
      "Trainable params: 906\n",
      "Non-trainable params: 0\n",
      "_________________________________________________________________\n"
     ]
    }
   ],
   "source": [
    "model.add(layers.Dense(10,activation='softmax'))\n",
    "model.summary()"
   ]
  },
  {
   "cell_type": "markdown",
   "id": "7db8fa13",
   "metadata": {},
   "source": [
    "# 함수형 API\n",
    "# 두개의 Dense층을 가지는 간단한 함수형 모델"
   ]
  },
  {
   "cell_type": "code",
   "execution_count": 9,
   "id": "ab363671",
   "metadata": {},
   "outputs": [],
   "source": [
    "inputs = keras.Input(shape=(3,), name='my_input')\n",
    "features = layers.Dense(64,activation='relu')(inputs)\n",
    "outputs = layers.Dense(10,activation='softmax')(features)"
   ]
  },
  {
   "cell_type": "code",
   "execution_count": 10,
   "id": "43e62ec0",
   "metadata": {},
   "outputs": [
    {
     "name": "stdout",
     "output_type": "stream",
     "text": [
      "Model: \"model\"\n",
      "_________________________________________________________________\n",
      " Layer (type)                Output Shape              Param #   \n",
      "=================================================================\n",
      " my_input (InputLayer)       [(None, 3)]               0         \n",
      "                                                                 \n",
      " dense_6 (Dense)             (None, 64)                256       \n",
      "                                                                 \n",
      "=================================================================\n",
      "Total params: 256\n",
      "Trainable params: 256\n",
      "Non-trainable params: 0\n",
      "_________________________________________________________________\n"
     ]
    }
   ],
   "source": [
    "model = keras.Model(inputs=inputs, outputs=features)\n",
    "model.summary()"
   ]
  },
  {
   "cell_type": "code",
   "execution_count": 11,
   "id": "5fde5e2e",
   "metadata": {},
   "outputs": [
    {
     "name": "stdout",
     "output_type": "stream",
     "text": [
      "Model: \"model_1\"\n",
      "_________________________________________________________________\n",
      " Layer (type)                Output Shape              Param #   \n",
      "=================================================================\n",
      " my_input (InputLayer)       [(None, 3)]               0         \n",
      "                                                                 \n",
      " dense_6 (Dense)             (None, 64)                256       \n",
      "                                                                 \n",
      " dense_7 (Dense)             (None, 10)                650       \n",
      "                                                                 \n",
      "=================================================================\n",
      "Total params: 906\n",
      "Trainable params: 906\n",
      "Non-trainable params: 0\n",
      "_________________________________________________________________\n"
     ]
    }
   ],
   "source": [
    "model = keras.Model(inputs=inputs, outputs=outputs)\n",
    "model.summary()"
   ]
  },
  {
   "cell_type": "markdown",
   "id": "a20e4714",
   "metadata": {},
   "source": [
    "# 다중입력, 다중 출력 함수형 모델"
   ]
  },
  {
   "cell_type": "code",
   "execution_count": 12,
   "id": "bb4290c4",
   "metadata": {},
   "outputs": [],
   "source": [
    "vocabulary_size = 10000\n",
    "num_tags = 100\n",
    "num_departments = 4"
   ]
  },
  {
   "cell_type": "code",
   "execution_count": 13,
   "id": "994f37c4",
   "metadata": {},
   "outputs": [],
   "source": [
    "title = keras.Input(shape=(vocabulary_size,),name='title')\n",
    "text_body = keras.Input(shape=(vocabulary_size,), name='text_body')\n",
    "tags = keras.Input(shape=(num_tags,), name='tags')"
   ]
  },
  {
   "cell_type": "code",
   "execution_count": 14,
   "id": "0d97aea7",
   "metadata": {},
   "outputs": [],
   "source": [
    "features =  layers.Concatenate()([title,text_body,tags])\n",
    "features =  layers.Dense(64,activation='relu')(features)\n",
    "priority = layers.Dense(1,activation='sigmoid',name='priority')(features)\n",
    "department =  layers.Dense(num_departments,activation='softmax',name='department')(features)\n",
    "model = keras.Model(inputs=[title,text_body,tags], outputs = [priority,department])"
   ]
  },
  {
   "cell_type": "code",
   "execution_count": 15,
   "id": "b5971761",
   "metadata": {},
   "outputs": [
    {
     "name": "stdout",
     "output_type": "stream",
     "text": [
      "Model: \"model_2\"\n",
      "__________________________________________________________________________________________________\n",
      " Layer (type)                   Output Shape         Param #     Connected to                     \n",
      "==================================================================================================\n",
      " title (InputLayer)             [(None, 10000)]      0           []                               \n",
      "                                                                                                  \n",
      " text_body (InputLayer)         [(None, 10000)]      0           []                               \n",
      "                                                                                                  \n",
      " tags (InputLayer)              [(None, 100)]        0           []                               \n",
      "                                                                                                  \n",
      " concatenate (Concatenate)      (None, 20100)        0           ['title[0][0]',                  \n",
      "                                                                  'text_body[0][0]',              \n",
      "                                                                  'tags[0][0]']                   \n",
      "                                                                                                  \n",
      " dense_8 (Dense)                (None, 64)           1286464     ['concatenate[0][0]']            \n",
      "                                                                                                  \n",
      " priority (Dense)               (None, 1)            65          ['dense_8[0][0]']                \n",
      "                                                                                                  \n",
      " department (Dense)             (None, 4)            260         ['dense_8[0][0]']                \n",
      "                                                                                                  \n",
      "==================================================================================================\n",
      "Total params: 1,286,789\n",
      "Trainable params: 1,286,789\n",
      "Non-trainable params: 0\n",
      "__________________________________________________________________________________________________\n"
     ]
    }
   ],
   "source": [
    "model.summary()"
   ]
  },
  {
   "cell_type": "markdown",
   "id": "a1489963",
   "metadata": {},
   "source": [
    "# 입력과 타깃 배열 리스트를 전달해서 모델 훈련"
   ]
  },
  {
   "cell_type": "code",
   "execution_count": 16,
   "id": "08f6e571",
   "metadata": {},
   "outputs": [],
   "source": [
    "import numpy as np\n",
    "num_samples = 1280\n",
    "title_data = np.random.randint(0,2, size=(num_samples, vocabulary_size))\n",
    "text_body = np.random.randint(0,2, size=(num_samples, vocabulary_size))\n",
    "tags_data = np.random.randint(0,2,size=(num_samples,num_tags))"
   ]
  },
  {
   "cell_type": "code",
   "execution_count": 17,
   "id": "838e6840",
   "metadata": {},
   "outputs": [],
   "source": [
    "priority_data = np.random.random(size=(num_samples,1))\n",
    "department_data = np.random.randint(0,2,size=(num_samples, num_departments))"
   ]
  },
  {
   "cell_type": "code",
   "execution_count": 18,
   "id": "22a36fd5",
   "metadata": {},
   "outputs": [],
   "source": [
    "model.compile(optimizer='adam',loss = ['mse','categorical_crossentropy'],metrics=['mae','acc'])"
   ]
  },
  {
   "cell_type": "code",
   "execution_count": 19,
   "id": "a73c38a8",
   "metadata": {},
   "outputs": [
    {
     "name": "stdout",
     "output_type": "stream",
     "text": [
      "40/40 [==============================] - 1s 8ms/step - loss: 10.2052 - priority_loss: 0.2769 - department_loss: 9.9282 - priority_mae: 0.4436 - priority_acc: 0.0000e+00 - department_mae: 0.4999 - department_acc: 0.2766\n"
     ]
    }
   ],
   "source": [
    "history = model.fit([title_data,text_body, tags_data],[priority_data,department_data],epochs=1)"
   ]
  },
  {
   "cell_type": "code",
   "execution_count": 20,
   "id": "e18b879d",
   "metadata": {},
   "outputs": [
    {
     "name": "stdout",
     "output_type": "stream",
     "text": [
      "40/40 [==============================] - 0s 4ms/step - loss: 3.0468 - priority_loss: 0.2507 - department_loss: 2.7961 - priority_mae: 0.4167 - priority_acc: 0.0000e+00 - department_mae: 0.4249 - department_acc: 0.2039\n"
     ]
    },
    {
     "data": {
      "text/plain": [
       "[3.04679536819458,\n",
       " 0.2506939172744751,\n",
       " 2.796100616455078,\n",
       " 0.4166814386844635,\n",
       " 0.0,\n",
       " 0.42485982179641724,\n",
       " 0.20390625298023224]"
      ]
     },
     "execution_count": 20,
     "metadata": {},
     "output_type": "execute_result"
    }
   ],
   "source": [
    "model.evaluate([title_data,text_body, tags_data],[priority_data,department_data])"
   ]
  },
  {
   "cell_type": "code",
   "execution_count": 21,
   "id": "1b4bf631",
   "metadata": {},
   "outputs": [],
   "source": [
    "priority_preds, department_preds = model.predict([title_data, text_body, tags_data])"
   ]
  },
  {
   "cell_type": "code",
   "execution_count": 22,
   "id": "0ad02ca6",
   "metadata": {},
   "outputs": [
    {
     "data": {
      "text/plain": [
       "(array([[0.7811214 ],\n",
       "        [0.9332454 ],\n",
       "        [0.91587627],\n",
       "        ...,\n",
       "        [0.9601965 ],\n",
       "        [0.88805556],\n",
       "        [0.8871952 ]], dtype=float32),\n",
       " array([[0.1598743 , 0.02304473, 0.58212507, 0.23495586],\n",
       "        [0.25487778, 0.03959824, 0.6878997 , 0.01762424],\n",
       "        [0.17298757, 0.08252551, 0.6172372 , 0.12724976],\n",
       "        ...,\n",
       "        [0.07381611, 0.11414734, 0.7545344 , 0.05750208],\n",
       "        [0.08750424, 0.0096484 , 0.70791525, 0.19493215],\n",
       "        [0.04446947, 0.06936928, 0.08457902, 0.8015823 ]], dtype=float32))"
      ]
     },
     "execution_count": 22,
     "metadata": {},
     "output_type": "execute_result"
    }
   ],
   "source": [
    "priority_preds, department_preds"
   ]
  },
  {
   "cell_type": "markdown",
   "id": "6eca2ca0",
   "metadata": {},
   "source": [
    "# 입력 타깃과 배열을 딕셔너리로 전달해서 모델을 훈련"
   ]
  },
  {
   "cell_type": "code",
   "execution_count": 23,
   "id": "d23edc27",
   "metadata": {},
   "outputs": [
    {
     "name": "stdout",
     "output_type": "stream",
     "text": [
      "40/40 [==============================] - 1s 13ms/step - loss: 4.3358 - priority_loss: 0.1525 - department_loss: 4.1833 - priority_mae: 0.3160 - department_acc: 0.3164\n",
      "40/40 [==============================] - 0s 4ms/step - loss: 3.6050 - priority_loss: 0.1183 - department_loss: 3.4867 - priority_mae: 0.2834 - department_acc: 0.5445\n"
     ]
    }
   ],
   "source": [
    "model.compile(optimizer='adam',\n",
    "              loss = {\"priority\" : 'mse', \"department\":'categorical_crossentropy'},\n",
    "              metrics={\"priority\":['mae'],\"department\":['acc']}\n",
    "             )\n",
    "\n",
    "history = model.fit(\n",
    "    {\"title\":title_data,\n",
    "     \"text_body\":text_body, \n",
    "     \"tags\":tags_data},\n",
    "    {\n",
    "        \"priority\":priority_data,\n",
    "        \"department\":department_data}\n",
    "    ,epochs=1)\n",
    "\n",
    "model.evaluate(\n",
    "    {\"title\":title_data,\n",
    "     \"text_body\":text_body, \n",
    "     \"tags\":tags_data},\n",
    "    {\n",
    "        \"priority\":priority_data,\n",
    "        \"department\":department_data}\n",
    ")\n",
    "priority_preds, department_preds = model.predict(\n",
    "    {\n",
    "        \"title\":title_data, \n",
    "        \"text_body\":text_body, \n",
    "        \"tags\":tags_data\n",
    "    }\n",
    ")"
   ]
  },
  {
   "cell_type": "markdown",
   "id": "d6a482d6",
   "metadata": {},
   "source": [
    "# 함수형 API의 장점 : 층 연결구조 활용"
   ]
  },
  {
   "cell_type": "code",
   "execution_count": 24,
   "id": "092b5607",
   "metadata": {},
   "outputs": [
    {
     "name": "stdout",
     "output_type": "stream",
     "text": [
      "Model: \"model_2\"\n",
      "__________________________________________________________________________________________________\n",
      " Layer (type)                   Output Shape         Param #     Connected to                     \n",
      "==================================================================================================\n",
      " title (InputLayer)             [(None, 10000)]      0           []                               \n",
      "                                                                                                  \n",
      " text_body (InputLayer)         [(None, 10000)]      0           []                               \n",
      "                                                                                                  \n",
      " tags (InputLayer)              [(None, 100)]        0           []                               \n",
      "                                                                                                  \n",
      " concatenate (Concatenate)      (None, 20100)        0           ['title[0][0]',                  \n",
      "                                                                  'text_body[0][0]',              \n",
      "                                                                  'tags[0][0]']                   \n",
      "                                                                                                  \n",
      " dense_8 (Dense)                (None, 64)           1286464     ['concatenate[0][0]']            \n",
      "                                                                                                  \n",
      " priority (Dense)               (None, 1)            65          ['dense_8[0][0]']                \n",
      "                                                                                                  \n",
      " department (Dense)             (None, 4)            260         ['dense_8[0][0]']                \n",
      "                                                                                                  \n",
      "==================================================================================================\n",
      "Total params: 1,286,789\n",
      "Trainable params: 1,286,789\n",
      "Non-trainable params: 0\n",
      "__________________________________________________________________________________________________\n"
     ]
    }
   ],
   "source": [
    "model.summary()"
   ]
  },
  {
   "cell_type": "code",
   "execution_count": 25,
   "id": "f3fbc307",
   "metadata": {},
   "outputs": [
    {
     "data": {
      "image/png": "[encoded data removed]",
      "text/plain": [
       "<IPython.core.display.Image object>"
      ]
     },
     "execution_count": 25,
     "metadata": {},
     "output_type": "execute_result"
    }
   ],
   "source": [
    "keras.utils.plot_model(model,'tiket_classifier.png')"
   ]
  },
  {
   "cell_type": "code",
   "execution_count": 26,
   "id": "c55cd049",
   "metadata": {},
   "outputs": [
    {
     "data": {
      "image/png": "[encoded data removed]",
      "text/plain": [
       "<IPython.core.display.Image object>"
      ]
     },
     "execution_count": 26,
     "metadata": {},
     "output_type": "execute_result"
    }
   ],
   "source": [
    "keras.utils.plot_model(model,'tiket_classifier_with_shape_info.png',show_shapes=True)"
   ]
  },
  {
   "cell_type": "markdown",
   "id": "09020f8a",
   "metadata": {},
   "source": [
    "# 함수형 모델에 있는 층의 입력과 출력을 출력"
   ]
  },
  {
   "cell_type": "code",
   "execution_count": 27,
   "id": "45fb885a",
   "metadata": {},
   "outputs": [
    {
     "data": {
      "text/plain": [
       "[<keras.engine.input_layer.InputLayer at 0x1ab5446d820>,\n",
       " <keras.engine.input_layer.InputLayer at 0x1ab5446df70>,\n",
       " <keras.engine.input_layer.InputLayer at 0x1ab5446de20>,\n",
       " <keras.layers.merge.Concatenate at 0x1ab54607e80>,\n",
       " <keras.layers.core.dense.Dense at 0x1ab54610b20>,\n",
       " <keras.layers.core.dense.Dense at 0x1ab54607760>,\n",
       " <keras.layers.core.dense.Dense at 0x1ab5446d0a0>]"
      ]
     },
     "execution_count": 27,
     "metadata": {},
     "output_type": "execute_result"
    }
   ],
   "source": [
    "model.layers"
   ]
  },
  {
   "cell_type": "code",
   "execution_count": 28,
   "id": "5569fb9b",
   "metadata": {},
   "outputs": [
    {
     "data": {
      "text/plain": [
       "[<KerasTensor: shape=(None, 10000) dtype=float32 (created by layer 'title')>,\n",
       " <KerasTensor: shape=(None, 10000) dtype=float32 (created by layer 'text_body')>,\n",
       " <KerasTensor: shape=(None, 100) dtype=float32 (created by layer 'tags')>]"
      ]
     },
     "execution_count": 28,
     "metadata": {},
     "output_type": "execute_result"
    }
   ],
   "source": [
    "model.layers[3].input"
   ]
  },
  {
   "cell_type": "code",
   "execution_count": 29,
   "id": "671f70c1",
   "metadata": {},
   "outputs": [
    {
     "data": {
      "text/plain": [
       "<KerasTensor: shape=(None, 20100) dtype=float32 (created by layer 'concatenate')>"
      ]
     },
     "execution_count": 29,
     "metadata": {},
     "output_type": "execute_result"
    }
   ],
   "source": [
    "model.layers[3].output"
   ]
  },
  {
   "cell_type": "markdown",
   "id": "541f46b7",
   "metadata": {},
   "source": [
    "# 중간층의 출력을 재사용해서 새로운 모델 "
   ]
  },
  {
   "cell_type": "code",
   "execution_count": 30,
   "id": "fcdba958",
   "metadata": {},
   "outputs": [],
   "source": [
    "# feature = model.layers[4].output\n",
    "# difficulty =  layers.Dense(3,activation='softmax',name='difficulty')(feature)\n",
    "# new_model = keras.Model(inputs =[title,text_body,tags] ,  outputs = [priority,department])\n",
    "# model = keras.Model(inputs=[title,text_body,tags], outputs = [priority,department,difficulty])"
   ]
  },
  {
   "cell_type": "markdown",
   "id": "9883a3e0",
   "metadata": {},
   "source": [
    "# Model 서브 클래싱"
   ]
  },
  {
   "cell_type": "code",
   "execution_count": 31,
   "id": "74404cfa",
   "metadata": {},
   "outputs": [],
   "source": [
    "import numpy as np\n",
    "from tensorflow import keras\n",
    "from tensorflow.keras import layers"
   ]
  },
  {
   "cell_type": "code",
   "execution_count": 32,
   "id": "7981920b",
   "metadata": {},
   "outputs": [],
   "source": [
    "inputs = keras.Input(shape=(64,))\n",
    "outputs = layers.Dense(1,activation='sigmoid')(inputs)\n",
    "binary_classifier = keras.Model(inputs = inputs, outputs=outputs)\n",
    "class MyModel(keras.Model):\n",
    "    def __init__(self,num_classes=2):\n",
    "        super().__init__()\n",
    "        self.dense = layers.Dense(64,activation='relu')\n",
    "        self.classifier = binary_classifier\n",
    "        print(\"__init__\")\n",
    "    def call(self, inputs):\n",
    "        features = self.dense(inputs)\n",
    "        print(\"call\")\n",
    "        return self.classifier(features)"
   ]
  },
  {
   "cell_type": "code",
   "execution_count": 33,
   "id": "65d887c1",
   "metadata": {},
   "outputs": [],
   "source": [
    "# 표준 플로우 워크 : compile(), fit(), evaluate(), predict()"
   ]
  },
  {
   "cell_type": "code",
   "execution_count": 34,
   "id": "5e2aae68",
   "metadata": {},
   "outputs": [],
   "source": [
    "from tensorflow.keras.datasets import mnist"
   ]
  },
  {
   "cell_type": "code",
   "execution_count": 35,
   "id": "deaf15ac",
   "metadata": {},
   "outputs": [],
   "source": [
    "def get_mnist_model():\n",
    "    inputs = keras.Input(shape=(28*28,))\n",
    "    features = layers.Dense(512,activation='relu')(inputs)\n",
    "    features = layers.Dropout(0.5)(features)\n",
    "    outputs = layers.Dense(10,activation='softmax')(features)\n",
    "    model = keras.Model(inputs, outputs)\n",
    "    return model"
   ]
  },
  {
   "cell_type": "code",
   "execution_count": 36,
   "id": "a5ead1d1",
   "metadata": {},
   "outputs": [],
   "source": [
    "(images,labes),(test_images, test_labels) = mnist.load_data()"
   ]
  },
  {
   "cell_type": "code",
   "execution_count": 37,
   "id": "6dba8bb3",
   "metadata": {},
   "outputs": [
    {
     "data": {
      "text/plain": [
       "(60000, 28, 28)"
      ]
     },
     "execution_count": 37,
     "metadata": {},
     "output_type": "execute_result"
    }
   ],
   "source": [
    "images.shape"
   ]
  },
  {
   "cell_type": "code",
   "execution_count": 38,
   "id": "8072f9e6",
   "metadata": {},
   "outputs": [],
   "source": [
    "# 전처리  28*28 - > 28 x 28\n",
    "# 데이터 표준화\n",
    "split = 10000\n",
    "images = images.reshape(-1,28*28).astype('float32') / 255\n",
    "test_images = test_images.reshape(-1,28*28).astype('float32') / 255\n",
    "# 데이터를 분할 : 테스트 데이터 10000\n",
    "train_images,val_images = images[:-split],images[-split:]\n",
    "train_labels,val_labels = labes[:-split],labes[-split:]"
   ]
  },
  {
   "cell_type": "code",
   "execution_count": 39,
   "id": "1091c2bd",
   "metadata": {},
   "outputs": [
    {
     "data": {
      "text/plain": [
       "((50000, 784), (10000, 784), (50000,), (10000,))"
      ]
     },
     "execution_count": 39,
     "metadata": {},
     "output_type": "execute_result"
    }
   ],
   "source": [
    "train_images.shape, val_images.shape, train_labels.shape, val_labels.shape"
   ]
  },
  {
   "cell_type": "code",
   "execution_count": 40,
   "id": "dca0e1c7",
   "metadata": {},
   "outputs": [
    {
     "name": "stdout",
     "output_type": "stream",
     "text": [
      "Epoch 1/3\n",
      "1563/1563 [==============================] - 5s 3ms/step - loss: 0.2909 - acc: 0.9117 - val_loss: 0.1299 - val_acc: 0.9623\n",
      "Epoch 2/3\n",
      "1563/1563 [==============================] - 4s 3ms/step - loss: 0.1508 - acc: 0.9542 - val_loss: 0.0956 - val_acc: 0.9719\n",
      "Epoch 3/3\n",
      "1563/1563 [==============================] - 5s 3ms/step - loss: 0.1140 - acc: 0.9647 - val_loss: 0.0813 - val_acc: 0.9752\n"
     ]
    },
    {
     "data": {
      "text/plain": [
       "<keras.callbacks.History at 0x1ab54a08100>"
      ]
     },
     "execution_count": 40,
     "metadata": {},
     "output_type": "execute_result"
    }
   ],
   "source": [
    "model = get_mnist_model()\n",
    "model.compile(optimizer='adam',loss='sparse_categorical_crossentropy', metrics=['acc'])\n",
    "model.fit(train_images,train_labels,epochs=3,validation_data=(val_images,val_labels))"
   ]
  },
  {
   "cell_type": "code",
   "execution_count": 41,
   "id": "cd5056bb",
   "metadata": {},
   "outputs": [
    {
     "name": "stdout",
     "output_type": "stream",
     "text": [
      "313/313 [==============================] - 0s 1ms/step - loss: 0.0816 - acc: 0.9747\n"
     ]
    }
   ],
   "source": [
    "test_metrics =  model.evaluate(test_images,test_labels)\n",
    "predictions = model.predict(test_images)"
   ]
  },
  {
   "cell_type": "markdown",
   "id": "dafcf9ae",
   "metadata": {},
   "source": [
    "### 사용자 정의 지표 구현"
   ]
  },
  {
   "cell_type": "code",
   "execution_count": 42,
   "id": "1b30e736",
   "metadata": {},
   "outputs": [],
   "source": [
    "import tensorflow as tf\n",
    "class RootMeanSquaredError(keras.metrics.Metric):\n",
    "    def __init__(self, name='rmse', **kwargs):\n",
    "        super().__init__(name=name,**kwargs)\n",
    "        self.mse_sum = self.add_weight(name='mse_sum', initializer='zeros')\n",
    "        self.total_samples = self.add_weight(\n",
    "            name='total_samples', initializer='zeros', dtype='int32')\n",
    "    def update_state(self, y_true, y_pred, sample_weight = None):\n",
    "        y_true = tf.one_hot(y_true, depth=tf.shape(y_pred)[1])\n",
    "        mse = tf.reduce_sum(tf.square(y_true-y_pred))\n",
    "        self.mse_sum.assign_add(mse)\n",
    "        num_samples = tf.shape(y_pred)[0]\n",
    "        self.total_samples.assign_add(num_samples)\n",
    "    def result(self):\n",
    "        return tf.sqrt(self.mse_sum / tf.cast(self.total_samples, tf.float32))\n",
    "    def reset_state(self):\n",
    "        self.mse_sum.assign(0)\n",
    "        self.total_samples.assign(0)"
   ]
  },
  {
   "cell_type": "code",
   "execution_count": 43,
   "id": "2887ee33",
   "metadata": {},
   "outputs": [
    {
     "name": "stdout",
     "output_type": "stream",
     "text": [
      "Epoch 1/3\n",
      "1563/1563 [==============================] - 5s 3ms/step - loss: 0.2948 - accuracy: 0.9116 - rmse: 7.1259 - val_loss: 0.1310 - val_accuracy: 0.9628 - val_rmse: 7.3242\n",
      "Epoch 2/3\n",
      "1563/1563 [==============================] - 4s 3ms/step - loss: 0.1486 - accuracy: 0.9556 - rmse: 7.3051 - val_loss: 0.1010 - val_accuracy: 0.9711 - val_rmse: 7.3806\n",
      "Epoch 3/3\n",
      "1563/1563 [==============================] - 4s 3ms/step - loss: 0.1158 - accuracy: 0.9642 - rmse: 7.3448 - val_loss: 0.0846 - val_accuracy: 0.9737 - val_rmse: 7.4107\n",
      "313/313 [==============================] - 0s 1ms/step - loss: 0.0801 - accuracy: 0.9748 - rmse: 7.4116\n"
     ]
    }
   ],
   "source": [
    "model = get_mnist_model()\n",
    "model.compile(optimizer='adam', loss='sparse_categorical_crossentropy', metrics=['accuracy',RootMeanSquaredError()])\n",
    "model.fit(train_images,train_labels,epochs=3,validation_data=(val_images,val_labels))\n",
    "test_metrics = model.evaluate(test_images,test_labels)"
   ]
  },
  {
   "cell_type": "code",
   "execution_count": 44,
   "id": "d1d736cb",
   "metadata": {},
   "outputs": [
    {
     "name": "stdout",
     "output_type": "stream",
     "text": [
      "Epoch 1/100\n",
      "1563/1563 [==============================] - 4s 3ms/step - loss: 0.2908 - accuracy: 0.9128 - val_loss: 0.1297 - val_accuracy: 0.9624\n",
      "Epoch 2/100\n",
      "1563/1563 [==============================] - 4s 3ms/step - loss: 0.1478 - accuracy: 0.9550 - val_loss: 0.0950 - val_accuracy: 0.9712\n",
      "Epoch 3/100\n",
      "1563/1563 [==============================] - 4s 3ms/step - loss: 0.1154 - accuracy: 0.9634 - val_loss: 0.0797 - val_accuracy: 0.9757\n",
      "Epoch 4/100\n",
      "1563/1563 [==============================] - 4s 3ms/step - loss: 0.0955 - accuracy: 0.9697 - val_loss: 0.0785 - val_accuracy: 0.9789\n",
      "Epoch 5/100\n",
      "1563/1563 [==============================] - 4s 3ms/step - loss: 0.0853 - accuracy: 0.9731 - val_loss: 0.0807 - val_accuracy: 0.9777\n",
      "Epoch 6/100\n",
      "1563/1563 [==============================] - 4s 3ms/step - loss: 0.0745 - accuracy: 0.9772 - val_loss: 0.0712 - val_accuracy: 0.9805\n",
      "Epoch 7/100\n",
      "1563/1563 [==============================] - 4s 3ms/step - loss: 0.0674 - accuracy: 0.9783 - val_loss: 0.0749 - val_accuracy: 0.9796\n",
      "Epoch 8/100\n",
      "1563/1563 [==============================] - 5s 3ms/step - loss: 0.0604 - accuracy: 0.9804 - val_loss: 0.0718 - val_accuracy: 0.9817\n",
      "Epoch 9/100\n",
      "1563/1563 [==============================] - 4s 3ms/step - loss: 0.0578 - accuracy: 0.9808 - val_loss: 0.0713 - val_accuracy: 0.9810\n",
      "Epoch 10/100\n",
      "1563/1563 [==============================] - 4s 3ms/step - loss: 0.0542 - accuracy: 0.9821 - val_loss: 0.0753 - val_accuracy: 0.9820\n",
      "Epoch 11/100\n",
      "1563/1563 [==============================] - 5s 3ms/step - loss: 0.0517 - accuracy: 0.9833 - val_loss: 0.0752 - val_accuracy: 0.9815\n",
      "Epoch 12/100\n",
      "1563/1563 [==============================] - 5s 3ms/step - loss: 0.0518 - accuracy: 0.9832 - val_loss: 0.0749 - val_accuracy: 0.9819\n"
     ]
    },
    {
     "data": {
      "text/plain": [
       "<keras.callbacks.History at 0x1ab5f7cadc0>"
      ]
     },
     "execution_count": 44,
     "metadata": {},
     "output_type": "execute_result"
    }
   ],
   "source": [
    "# callback method\n",
    "callback_list = [\n",
    "    keras.callbacks.EarlyStopping(monitor=\"val_accuracy\", patience=2),\n",
    "    keras.callbacks.ModelCheckpoint(filepath='checkpoint_path.keras',\n",
    "                                   monitor=\"val_loss\",\n",
    "                                   save_best_only=True)]\n",
    "model = get_mnist_model()\n",
    "model.compile(optimizer='adam', loss=tf.keras.losses.sparse_categorical_crossentropy,\n",
    "             metrics=['accuracy'])\n",
    "model.fit(train_images,train_labels,epochs=100,callbacks=callback_list,validation_data=(val_images,val_labels))"
   ]
  },
  {
   "cell_type": "code",
   "execution_count": 45,
   "id": "6860612a",
   "metadata": {},
   "outputs": [
    {
     "name": "stdout",
     "output_type": "stream",
     "text": [
      "313/313 [==============================] - 0s 1ms/step - loss: 0.0695 - accuracy: 0.9828\n"
     ]
    },
    {
     "data": {
      "text/plain": [
       "[0.06953607499599457, 0.9828000068664551]"
      ]
     },
     "execution_count": 45,
     "metadata": {},
     "output_type": "execute_result"
    }
   ],
   "source": [
    "model.evaluate(test_images,test_labels)"
   ]
  },
  {
   "cell_type": "code",
   "execution_count": 46,
   "id": "be8bdfed",
   "metadata": {},
   "outputs": [],
   "source": [
    "restore_model = tf.keras.models.load_model('checkpoint_path.keras')"
   ]
  },
  {
   "cell_type": "code",
   "execution_count": 47,
   "id": "18cbd532",
   "metadata": {},
   "outputs": [
    {
     "name": "stdout",
     "output_type": "stream",
     "text": [
      "313/313 [==============================] - 0s 1ms/step - loss: 0.0674 - accuracy: 0.9803\n"
     ]
    },
    {
     "data": {
      "text/plain": [
       "[0.06743490695953369, 0.9803000092506409]"
      ]
     },
     "execution_count": 47,
     "metadata": {},
     "output_type": "execute_result"
    }
   ],
   "source": [
    "restore_model.evaluate(test_images,test_labels)"
   ]
  },
  {
   "cell_type": "markdown",
   "id": "55be1088",
   "metadata": {},
   "source": [
    "### 사용자 정의 콜백"
   ]
  },
  {
   "cell_type": "code",
   "execution_count": 48,
   "id": "f5a2775a",
   "metadata": {},
   "outputs": [],
   "source": [
    "import matplotlib.pyplot as plt\n",
    "class LossHistory(keras.callbacks.Callback):\n",
    "    def on_train_begin(self,logs):\n",
    "        self.per_batch_losses = []\n",
    "    def on_batch_end(self,batch,logs):        \n",
    "        self.per_batch_losses.append(logs.get(\"loss\"))\n",
    "    def on_epoch_end(self,epoch,logs):        \n",
    "        plt.clf()\n",
    "        plt.plot(range(len(self.per_batch_losses)), self.per_batch_losses,\n",
    "                 label='Training loss for each batch')\n",
    "        plt.xlabel(f\"Batch (epoch{epoch})\")\n",
    "        plt.ylabel(\"Loss\")\n",
    "        plt.legend()\n",
    "        plt.savefig(f\"plot_at_epoch_{epoch}\")\n",
    "        self.per_batch_losses = []"
   ]
  },
  {
   "cell_type": "code",
   "execution_count": 49,
   "id": "45cca32f",
   "metadata": {},
   "outputs": [
    {
     "data": {
      "text/plain": [
       "[<keras.callbacks.EarlyStopping at 0x1ab5f7a9e50>,\n",
       " <keras.callbacks.ModelCheckpoint at 0x1ab5f7a98b0>,\n",
       " <__main__.LossHistory at 0x1ab610d8640>]"
      ]
     },
     "execution_count": 49,
     "metadata": {},
     "output_type": "execute_result"
    }
   ],
   "source": [
    "callback_list+[LossHistory()]"
   ]
  },
  {
   "cell_type": "code",
   "execution_count": 50,
   "id": "bc405624",
   "metadata": {},
   "outputs": [
    {
     "name": "stdout",
     "output_type": "stream",
     "text": [
      "Epoch 1/100\n",
      "1563/1563 [==============================] - 5s 3ms/step - loss: 0.2938 - accuracy: 0.9112 - val_loss: 0.1313 - val_accuracy: 0.9619\n",
      "Epoch 2/100\n",
      "1563/1563 [==============================] - 5s 3ms/step - loss: 0.1457 - accuracy: 0.9557 - val_loss: 0.0929 - val_accuracy: 0.9732\n",
      "Epoch 3/100\n",
      "1563/1563 [==============================] - 5s 4ms/step - loss: 0.1155 - accuracy: 0.9647 - val_loss: 0.0824 - val_accuracy: 0.9749\n",
      "Epoch 4/100\n",
      "1563/1563 [==============================] - 5s 3ms/step - loss: 0.0961 - accuracy: 0.9700 - val_loss: 0.0761 - val_accuracy: 0.9770\n",
      "Epoch 5/100\n",
      "1563/1563 [==============================] - 5s 3ms/step - loss: 0.0834 - accuracy: 0.9737 - val_loss: 0.0747 - val_accuracy: 0.9790\n",
      "Epoch 6/100\n",
      "1563/1563 [==============================] - 5s 3ms/step - loss: 0.0750 - accuracy: 0.9758 - val_loss: 0.0748 - val_accuracy: 0.9795\n",
      "Epoch 7/100\n",
      "1563/1563 [==============================] - 6s 4ms/step - loss: 0.0707 - accuracy: 0.9771 - val_loss: 0.0711 - val_accuracy: 0.9800\n",
      "Epoch 8/100\n",
      "1563/1563 [==============================] - 6s 4ms/step - loss: 0.0630 - accuracy: 0.9792 - val_loss: 0.0774 - val_accuracy: 0.9796\n",
      "Epoch 9/100\n",
      "1563/1563 [==============================] - 6s 4ms/step - loss: 0.0588 - accuracy: 0.9806 - val_loss: 0.0705 - val_accuracy: 0.9808\n",
      "Epoch 10/100\n",
      "1563/1563 [==============================] - 7s 4ms/step - loss: 0.0561 - accuracy: 0.9817 - val_loss: 0.0712 - val_accuracy: 0.9816\n",
      "Epoch 11/100\n",
      "1563/1563 [==============================] - 7s 4ms/step - loss: 0.0531 - accuracy: 0.9822 - val_loss: 0.0792 - val_accuracy: 0.9791\n",
      "Epoch 12/100\n",
      "1563/1563 [==============================] - 6s 4ms/step - loss: 0.0470 - accuracy: 0.9844 - val_loss: 0.0714 - val_accuracy: 0.9816\n"
     ]
    },
    {
     "data": {
      "text/plain": [
       "<keras.callbacks.History at 0x1ab63d0c7c0>"
      ]
     },
     "execution_count": 50,
     "metadata": {},
     "output_type": "execute_result"
    },
    {
     "data": {
      "image/png": "[encoded data removed]",
      "text/plain": [
       "<Figure size 432x288 with 1 Axes>"
      ]
     },
     "metadata": {
      "needs_background": "light"
     },
     "output_type": "display_data"
    }
   ],
   "source": [
    "model = get_mnist_model()\n",
    "model.compile(optimizer='adam', loss='sparse_categorical_crossentropy',metrics=['accuracy'])\n",
    "model.fit(train_images,train_labels,epochs=100,validation_data=(val_images,val_labels),\n",
    "#           callbacks=[LossHistory()]\n",
    "          callbacks=callback_list+[LossHistory()])"
   ]
  },
  {
   "cell_type": "markdown",
   "id": "e59f34c1",
   "metadata": {},
   "source": [
    "### 텐서보드를 이용한 모니터링과 시각화"
   ]
  },
  {
   "cell_type": "code",
   "execution_count": 51,
   "id": "61acd926",
   "metadata": {},
   "outputs": [
    {
     "name": "stdout",
     "output_type": "stream",
     "text": [
      "Epoch 1/10\n",
      "1563/1563 [==============================] - 5s 3ms/step - loss: 0.2934 - accuracy: 0.9122 - val_loss: 0.1300 - val_accuracy: 0.9635\n",
      "Epoch 2/10\n",
      "1563/1563 [==============================] - 5s 3ms/step - loss: 0.1469 - accuracy: 0.9544 - val_loss: 0.0967 - val_accuracy: 0.9724\n",
      "Epoch 3/10\n",
      "1563/1563 [==============================] - 6s 4ms/step - loss: 0.1167 - accuracy: 0.9629 - val_loss: 0.0818 - val_accuracy: 0.9761\n",
      "Epoch 4/10\n",
      "1563/1563 [==============================] - 4s 3ms/step - loss: 0.0937 - accuracy: 0.9702 - val_loss: 0.0817 - val_accuracy: 0.9760\n",
      "Epoch 5/10\n",
      "1563/1563 [==============================] - 6s 4ms/step - loss: 0.0860 - accuracy: 0.9733 - val_loss: 0.0766 - val_accuracy: 0.9774\n",
      "Epoch 6/10\n",
      "1563/1563 [==============================] - 5s 3ms/step - loss: 0.0777 - accuracy: 0.9754 - val_loss: 0.0808 - val_accuracy: 0.9774\n",
      "Epoch 7/10\n",
      "1563/1563 [==============================] - 5s 3ms/step - loss: 0.0695 - accuracy: 0.9768 - val_loss: 0.0796 - val_accuracy: 0.9766\n",
      "Epoch 8/10\n",
      "1563/1563 [==============================] - 5s 3ms/step - loss: 0.0650 - accuracy: 0.9792 - val_loss: 0.0748 - val_accuracy: 0.9808\n",
      "Epoch 9/10\n",
      "1563/1563 [==============================] - 4s 3ms/step - loss: 0.0594 - accuracy: 0.9809 - val_loss: 0.0751 - val_accuracy: 0.9788\n",
      "Epoch 10/10\n",
      "1563/1563 [==============================] - 5s 3ms/step - loss: 0.0564 - accuracy: 0.9817 - val_loss: 0.0779 - val_accuracy: 0.9799\n"
     ]
    },
    {
     "data": {
      "text/plain": [
       "<keras.callbacks.History at 0x1ab65674190>"
      ]
     },
     "execution_count": 51,
     "metadata": {},
     "output_type": "execute_result"
    }
   ],
   "source": [
    "model = get_mnist_model()\n",
    "model.compile(optimizer='adam',loss='sparse_categorical_crossentropy', metrics=['accuracy'])\n",
    "tensorboard = keras.callbacks.TensorBoard(log_dir='./tb_logs')\n",
    "model.fit(train_images,train_labels,epochs=10,validation_data=(val_images,val_labels),\n",
    "         callbacks=tensorboard)"
   ]
  },
  {
   "cell_type": "code",
   "execution_count": 52,
   "id": "b2e8e911",
   "metadata": {},
   "outputs": [
    {
     "name": "stdout",
     "output_type": "stream",
     "text": [
      "313/313 [==============================] - 0s 1ms/step - loss: 0.0675 - accuracy: 0.9819\n"
     ]
    },
    {
     "data": {
      "text/plain": [
       "[0.06749794632196426, 0.9818999767303467]"
      ]
     },
     "execution_count": 52,
     "metadata": {},
     "output_type": "execute_result"
    }
   ],
   "source": [
    "model.evaluate(test_images,test_labels)"
   ]
  },
  {
   "cell_type": "code",
   "execution_count": 53,
   "id": "81e347b7",
   "metadata": {},
   "outputs": [
    {
     "data": {
      "text/plain": [
       "Reusing TensorBoard on port 6006 (pid 9344), started 0:25:21 ago. (Use '!kill 9344' to kill it.)"
      ]
     },
     "metadata": {},
     "output_type": "display_data"
    },
    {
     "data": {
      "text/html": [
       "\n",
       "      <iframe id=\"tensorboard-frame-9fdde5a168ccada9\" width=\"100%\" height=\"800\" frameborder=\"0\">\n",
       "      </iframe>\n",
       "      <script>\n",
       "        (function() {\n",
       "          const frame = document.getElementById(\"tensorboard-frame-9fdde5a168ccada9\");\n",
       "          const url = new URL(\"/\", window.location);\n",
       "          const port = 6006;\n",
       "          if (port) {\n",
       "            url.port = port;\n",
       "          }\n",
       "          frame.src = url;\n",
       "        })();\n",
       "      </script>\n",
       "    "
      ],
      "text/plain": [
       "<IPython.core.display.HTML object>"
      ]
     },
     "metadata": {},
     "output_type": "display_data"
    }
   ],
   "source": [
    "%load_ext tensorboard\n",
    "%tensorboard --logdir ./tb_logs"
   ]
  },
  {
   "cell_type": "markdown",
   "id": "ef0de0f9",
   "metadata": {},
   "source": [
    "### 사용자 정의훈련, 평가 루프"
   ]
  },
  {
   "cell_type": "code",
   "execution_count": 54,
   "id": "9c1c2623",
   "metadata": {},
   "outputs": [
    {
     "data": {
      "text/plain": [
       "<tf.Tensor: shape=(), dtype=float32, numpy=1.0>"
      ]
     },
     "execution_count": 54,
     "metadata": {},
     "output_type": "execute_result"
    }
   ],
   "source": [
    "metric = keras.metrics.SparseCategoricalAccuracy()\n",
    "targets = [0,1,2]\n",
    "predictions = [[1,0,0],[0,1,0],[0,0,1]]\n",
    "metric.update_state(targets,predictions)\n",
    "current_result = metric.result()\n",
    "current_result"
   ]
  },
  {
   "cell_type": "code",
   "execution_count": 55,
   "id": "bf629e0e",
   "metadata": {},
   "outputs": [
    {
     "data": {
      "text/plain": [
       "<tf.Tensor: shape=(), dtype=float32, numpy=2.0>"
      ]
     },
     "execution_count": 55,
     "metadata": {},
     "output_type": "execute_result"
    }
   ],
   "source": [
    "values = [0,1,2,3,4]\n",
    "mean_tracker = keras.metrics.Mean()\n",
    "mean_tracker.update_state(values)\n",
    "mean_tracker.result()"
   ]
  },
  {
   "cell_type": "markdown",
   "id": "338b7e8e",
   "metadata": {},
   "source": [
    "### 훈련평가"
   ]
  },
  {
   "cell_type": "code",
   "execution_count": 56,
   "id": "aa1a5f23",
   "metadata": {},
   "outputs": [],
   "source": [
    "model = get_mnist_model()                                # 모델 생성\n",
    "loss_fn = keras.losses.SparseCategoricalCrossentropy()   # 손실 함수\n",
    "optimizer = keras.optimizers.Adam()                      # 최적화 알고리즘\n",
    "metrics = [keras.metrics.SparseCategoricalAccuracy()]    # 평가지표\n",
    "loss_tracking_metric = keras.metrics.Mean()              # 손실 추적 함수"
   ]
  },
  {
   "cell_type": "code",
   "execution_count": 57,
   "id": "4c44b2ff",
   "metadata": {},
   "outputs": [],
   "source": [
    "def train_step(inputs, targets):\n",
    "    with tf.GradientTape() as tape:\n",
    "        predictions = model(inputs,training=True)\n",
    "        loss = loss_fn(targets,predictions)\n",
    "    gradients = tape.gradient(loss,model.trainable_weights)\n",
    "    optimizer.apply_gradients(zip(gradients,model.trainable_weights))    \n",
    "    logs = {}\n",
    "    for metric in metrics:\n",
    "        metric.update_state(targets,predictions)\n",
    "        logs[metric.name] = metric.result()\n",
    "    loss_tracking_metric.update_state(loss)\n",
    "    logs['loss'] = loss_tracking_metric.result()\n",
    "    return logs"
   ]
  },
  {
   "cell_type": "markdown",
   "id": "361e2fd9",
   "metadata": {},
   "source": [
    "#### 단계별 훈련, 지표 재  설정"
   ]
  },
  {
   "cell_type": "code",
   "execution_count": 58,
   "id": "e8c4fab1",
   "metadata": {},
   "outputs": [],
   "source": [
    "def reset_metrics():\n",
    "    for metric in metrics:\n",
    "        metric.reset_state()\n",
    "    loss_tracking_metric.reset_state()      "
   ]
  },
  {
   "cell_type": "markdown",
   "id": "f7ba78b9",
   "metadata": {},
   "source": [
    "#### 단계별 훈련 루프 작성하기:훈련 루프 자체"
   ]
  },
  {
   "cell_type": "code",
   "execution_count": 59,
   "id": "1bef3413",
   "metadata": {},
   "outputs": [
    {
     "name": "stdout",
     "output_type": "stream",
     "text": [
      "0번째 에포크 결과\n",
      "...sparse_categorical_accuracy: 0.9115\n",
      "...loss: 0.2983\n",
      "1번째 에포크 결과\n",
      "...sparse_categorical_accuracy: 0.9325\n",
      "...loss: 0.2262\n",
      "2번째 에포크 결과\n",
      "...sparse_categorical_accuracy: 0.9427\n",
      "...loss: 0.1908\n"
     ]
    }
   ],
   "source": [
    "import tensorflow as tf\n",
    "training_dataset =  tf.data.Dataset.from_tensor_slices((train_images,train_labels ))\n",
    "training_dataset = training_dataset.batch(32)\n",
    "epochs=3\n",
    "for epoch in range(epochs):\n",
    "    for inputs_batch, targets_batch in training_dataset:\n",
    "        logs=train_step(inputs_batch,targets_batch)\n",
    "    print(f\"{epoch}번째 에포크 결과\")\n",
    "    for key, value in logs.items():\n",
    "        print(f\"...{key}: {value:.4f}\")"
   ]
  }
 ],
 "metadata": {
  "kernelspec": {
   "display_name": "Python 3 (ipykernel)",
   "language": "python",
   "name": "python3"
  },
  "language_info": {
   "codemirror_mode": {
    "name": "ipython",
    "version": 3
   },
   "file_extension": ".py",
   "mimetype": "text/x-python",
   "name": "python",
   "nbconvert_exporter": "python",
   "pygments_lexer": "ipython3",
   "version": "3.9.7"
  }
 },
 "nbformat": 4,
 "nbformat_minor": 5
}
