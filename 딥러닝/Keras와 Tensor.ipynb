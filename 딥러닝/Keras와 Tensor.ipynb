{
  "nbformat": 4,
  "nbformat_minor": 0,
  "metadata": {
    "colab": {
      "provenance": []
    },
    "kernelspec": {
      "name": "python3",
      "display_name": "Python 3"
    },
    "language_info": {
      "name": "python"
    },
    "accelerator": "GPU",
    "gpuClass": "standard"
  },
  "cells": [
    {
      "cell_type": "code",
      "execution_count": 1,
      "metadata": {
        "id": "65WYKI2cUujL"
      },
      "outputs": [],
      "source": [
        "# 상수와 텐서\n",
        "import tensorflow as tf\n",
        "import numpy as np"
      ]
    },
    {
      "cell_type": "code",
      "source": [
        "x = tf.ones(shape=(2,1))\n",
        "x"
      ],
      "metadata": {
        "colab": {
          "base_uri": "https://localhost:8080/"
        },
        "id": "T5Ejy-_FUzTQ",
        "outputId": "29c61c42-4cce-41ba-da4b-4c636f2acfad"
      },
      "execution_count": 2,
      "outputs": [
        {
          "output_type": "execute_result",
          "data": {
            "text/plain": [
              "<tf.Tensor: shape=(2, 1), dtype=float32, numpy=\n",
              "array([[1.],\n",
              "       [1.]], dtype=float32)>"
            ]
          },
          "metadata": {},
          "execution_count": 2
        }
      ]
    },
    {
      "cell_type": "code",
      "source": [
        "x = tf.zeros(shape=(2,1))\n",
        "x"
      ],
      "metadata": {
        "colab": {
          "base_uri": "https://localhost:8080/"
        },
        "id": "fruRb8lrXU3_",
        "outputId": "2b1ff844-163c-4dac-d723-98a06e135bac"
      },
      "execution_count": 3,
      "outputs": [
        {
          "output_type": "execute_result",
          "data": {
            "text/plain": [
              "<tf.Tensor: shape=(2, 1), dtype=float32, numpy=\n",
              "array([[0.],\n",
              "       [0.]], dtype=float32)>"
            ]
          },
          "metadata": {},
          "execution_count": 3
        }
      ]
    },
    {
      "cell_type": "code",
      "source": [
        "# 랜덤 텐서\n",
        "x = tf.random.normal(shape=(3,1),mean=0,stddev=1)\n",
        "x"
      ],
      "metadata": {
        "colab": {
          "base_uri": "https://localhost:8080/"
        },
        "id": "bbZ5mWysU2qv",
        "outputId": "5135bad9-4b30-4413-cf5f-f4495ca68960"
      },
      "execution_count": 4,
      "outputs": [
        {
          "output_type": "execute_result",
          "data": {
            "text/plain": [
              "<tf.Tensor: shape=(3, 1), dtype=float32, numpy=\n",
              "array([[-1.5438585 ],\n",
              "       [ 1.4191318 ],\n",
              "       [ 0.91515946]], dtype=float32)>"
            ]
          },
          "metadata": {},
          "execution_count": 4
        }
      ]
    },
    {
      "cell_type": "code",
      "source": [
        "x = tf.random.uniform(shape=(3,1),minval=0,maxval=1)\n",
        "x"
      ],
      "metadata": {
        "colab": {
          "base_uri": "https://localhost:8080/"
        },
        "id": "6rgdS6usVWV9",
        "outputId": "230b56a4-3662-489f-b3b5-b145382a96ca"
      },
      "execution_count": 5,
      "outputs": [
        {
          "output_type": "execute_result",
          "data": {
            "text/plain": [
              "<tf.Tensor: shape=(3, 1), dtype=float32, numpy=\n",
              "array([[0.44878483],\n",
              "       [0.04787076],\n",
              "       [0.26899707]], dtype=float32)>"
            ]
          },
          "metadata": {},
          "execution_count": 5
        }
      ]
    },
    {
      "cell_type": "code",
      "source": [
        "# numpy에 값 할당\n",
        "x = np.ones(shape=(2,2))\n",
        "x[0,0] = 0\n",
        "x"
      ],
      "metadata": {
        "colab": {
          "base_uri": "https://localhost:8080/"
        },
        "id": "yvSCBukgVdfl",
        "outputId": "22150136-bcea-4839-b2f3-74eb83c68700"
      },
      "execution_count": 6,
      "outputs": [
        {
          "output_type": "execute_result",
          "data": {
            "text/plain": [
              "array([[0., 1.],\n",
              "       [1., 1.]])"
            ]
          },
          "metadata": {},
          "execution_count": 6
        }
      ]
    },
    {
      "cell_type": "code",
      "source": [
        "# Tensorflow 변수 만들기\n",
        "v = tf.Variable(initial_value=tf.random.normal(shape=(3,1)))\n",
        "v"
      ],
      "metadata": {
        "colab": {
          "base_uri": "https://localhost:8080/"
        },
        "id": "fjuaSHKDV3uj",
        "outputId": "21402fc3-9fe1-400a-ce8e-6da93a3bb034"
      },
      "execution_count": 7,
      "outputs": [
        {
          "output_type": "execute_result",
          "data": {
            "text/plain": [
              "<tf.Variable 'Variable:0' shape=(3, 1) dtype=float32, numpy=\n",
              "array([[1.061588  ],\n",
              "       [0.31856427],\n",
              "       [1.2149783 ]], dtype=float32)>"
            ]
          },
          "metadata": {},
          "execution_count": 7
        }
      ]
    },
    {
      "cell_type": "code",
      "source": [
        "v.assign(tf.ones((3,1)))\n",
        "v"
      ],
      "metadata": {
        "colab": {
          "base_uri": "https://localhost:8080/"
        },
        "id": "U6RU9_f6WNf2",
        "outputId": "7d7a86bc-9b38-44a4-c955-836fa3949884"
      },
      "execution_count": 8,
      "outputs": [
        {
          "output_type": "execute_result",
          "data": {
            "text/plain": [
              "<tf.Variable 'Variable:0' shape=(3, 1) dtype=float32, numpy=\n",
              "array([[1.],\n",
              "       [1.],\n",
              "       [1.]], dtype=float32)>"
            ]
          },
          "metadata": {},
          "execution_count": 8
        }
      ]
    },
    {
      "cell_type": "code",
      "source": [
        "# 변수 일부에 값 할당\n",
        "v[0,0].assign(3)\n",
        "v"
      ],
      "metadata": {
        "colab": {
          "base_uri": "https://localhost:8080/"
        },
        "id": "LhsQNAeUWSVp",
        "outputId": "b394a7f5-52c6-4fbc-a72c-1c50d8e65653"
      },
      "execution_count": 9,
      "outputs": [
        {
          "output_type": "execute_result",
          "data": {
            "text/plain": [
              "<tf.Variable 'Variable:0' shape=(3, 1) dtype=float32, numpy=\n",
              "array([[3.],\n",
              "       [1.],\n",
              "       [1.]], dtype=float32)>"
            ]
          },
          "metadata": {},
          "execution_count": 9
        }
      ]
    },
    {
      "cell_type": "code",
      "source": [
        "v.assign_add(tf.ones((3,1)))\n",
        "v"
      ],
      "metadata": {
        "colab": {
          "base_uri": "https://localhost:8080/"
        },
        "id": "FLJSJfNFWfXR",
        "outputId": "5873a281-948d-4ad1-a36a-74c3d02ac8f7"
      },
      "execution_count": 10,
      "outputs": [
        {
          "output_type": "execute_result",
          "data": {
            "text/plain": [
              "<tf.Variable 'Variable:0' shape=(3, 1) dtype=float32, numpy=\n",
              "array([[4.],\n",
              "       [2.],\n",
              "       [2.]], dtype=float32)>"
            ]
          },
          "metadata": {},
          "execution_count": 10
        }
      ]
    },
    {
      "cell_type": "code",
      "source": [
        "# Tensorflow 기본적인 수학연산\n",
        "a = tf.ones((2,2))\n",
        "print(a)\n",
        "b = tf.square(a)\n",
        "print(b)\n",
        "c = tf.sqrt(b)\n",
        "print(c)\n",
        "d = b + c\n",
        "print(d)\n",
        "e = tf.matmul(a,d)\n",
        "print(e)\n",
        "e *= d\n",
        "print(e)"
      ],
      "metadata": {
        "colab": {
          "base_uri": "https://localhost:8080/"
        },
        "id": "BpxBLlG7W5Mg",
        "outputId": "20c3d15f-3061-4660-efde-c62e554e31db"
      },
      "execution_count": 11,
      "outputs": [
        {
          "output_type": "stream",
          "name": "stdout",
          "text": [
            "tf.Tensor(\n",
            "[[1. 1.]\n",
            " [1. 1.]], shape=(2, 2), dtype=float32)\n",
            "tf.Tensor(\n",
            "[[1. 1.]\n",
            " [1. 1.]], shape=(2, 2), dtype=float32)\n",
            "tf.Tensor(\n",
            "[[1. 1.]\n",
            " [1. 1.]], shape=(2, 2), dtype=float32)\n",
            "tf.Tensor(\n",
            "[[2. 2.]\n",
            " [2. 2.]], shape=(2, 2), dtype=float32)\n",
            "tf.Tensor(\n",
            "[[4. 4.]\n",
            " [4. 4.]], shape=(2, 2), dtype=float32)\n",
            "tf.Tensor(\n",
            "[[8. 8.]\n",
            " [8. 8.]], shape=(2, 2), dtype=float32)\n"
          ]
        }
      ]
    },
    {
      "cell_type": "code",
      "source": [
        "from numpy.lib.function_base import gradient\n",
        "# GradientTape 사용\n",
        "input_var = tf.Variable(initial_value=3.)\n",
        "with tf.GradientTape() as tape:\n",
        "  result = tf.square(input_var)\n",
        "gradient = tape.gradient(result,input_var)"
      ],
      "metadata": {
        "id": "2W94BMmmbJ_-"
      },
      "execution_count": 12,
      "outputs": []
    },
    {
      "cell_type": "code",
      "source": [
        "input_const = tf.constant(3.)\n",
        "with tf.GradientTape() as tape:\n",
        "  result = tf.square(input_var)\n",
        "gradient = tape.gradient(result,input_var)"
      ],
      "metadata": {
        "id": "9YsEOrguXyeO"
      },
      "execution_count": 13,
      "outputs": []
    },
    {
      "cell_type": "code",
      "source": [
        "# 중첩\n",
        "time = tf.Variable(0.)\n",
        "with tf.GradientTape() as outer_tape:\n",
        "  with tf.GradientTape() as inner_tape:\n",
        "    position = 4.9 * time**2\n",
        "  speed = inner_tape.gradient(position,time) \n",
        "acceleration = outer_tape.gradient(speed,time)"
      ],
      "metadata": {
        "id": "ZRbbGuKJcfDv"
      },
      "execution_count": 14,
      "outputs": []
    },
    {
      "cell_type": "code",
      "source": [
        "# Tensorflow 선형 분류기\n",
        "num_samples_per_class = 1000\n",
        "negative_samples = np.random.multivariate_normal(\n",
        "    mean = [0,3],\n",
        "    cov = [[1,0.5],[0.5,1]],\n",
        "    size = num_samples_per_class\n",
        ")\n",
        "positive_samples = np.random.multivariate_normal(\n",
        "    mean = [3,0],\n",
        "    cov = [[1,0.5],[0.5,1]],\n",
        "    size = num_samples_per_class\n",
        ")"
      ],
      "metadata": {
        "id": "vw-ltbu9eI79"
      },
      "execution_count": 15,
      "outputs": []
    },
    {
      "cell_type": "code",
      "source": [
        "negative_samples.shape"
      ],
      "metadata": {
        "colab": {
          "base_uri": "https://localhost:8080/"
        },
        "id": "0MhVgT6YevrY",
        "outputId": "bb4d54aa-460a-4cb0-86c9-66b146f92eac"
      },
      "execution_count": 16,
      "outputs": [
        {
          "output_type": "execute_result",
          "data": {
            "text/plain": [
              "(1000, 2)"
            ]
          },
          "metadata": {},
          "execution_count": 16
        }
      ]
    },
    {
      "cell_type": "code",
      "source": [
        "# 한 배열에 쌓기\n",
        "inputs = np.vstack((negative_samples,positive_samples)).astype(np.float32)"
      ],
      "metadata": {
        "id": "_9l8pDK0e-Gs"
      },
      "execution_count": 17,
      "outputs": []
    },
    {
      "cell_type": "code",
      "source": [
        "inputs.shape"
      ],
      "metadata": {
        "colab": {
          "base_uri": "https://localhost:8080/"
        },
        "id": "qjeHkK5DfI59",
        "outputId": "2046d8fd-974b-467b-8b74-e60b5c889a51"
      },
      "execution_count": 18,
      "outputs": [
        {
          "output_type": "execute_result",
          "data": {
            "text/plain": [
              "(2000, 2)"
            ]
          },
          "metadata": {},
          "execution_count": 18
        }
      ]
    },
    {
      "cell_type": "code",
      "source": [
        "# 0과 1로 되어있는 타깃을 구성\n",
        "targets = np.vstack((np.zeros((1000,1),dtype='float32'),\n",
        "                     np.ones((1000,1),dtype='float32')))"
      ],
      "metadata": {
        "id": "KpqeRDwpfapk"
      },
      "execution_count": 19,
      "outputs": []
    },
    {
      "cell_type": "code",
      "source": [
        "# 샘플 데이터 시각화\n",
        "import matplotlib.pyplot as plt\n",
        "plt.scatter(inputs[:,0],inputs[:,1],c=targets[:,0])\n",
        "plt.show()"
      ],
      "metadata": {
        "colab": {
          "base_uri": "https://localhost:8080/",
          "height": 265
        },
        "id": "ALAOgd1Gfz9s",
        "outputId": "31db145f-0f48-40b6-9253-5bbdc24b343f"
      },
      "execution_count": 20,
      "outputs": [
        {
          "output_type": "display_data",
          "data": {
            "text/plain": [
              "<Figure size 432x288 with 1 Axes>"
            ],
            "image/png": "[encoded data removed]"
          },
          "metadata": {
            "needs_background": "light"
          }
        }
      ]
    },
    {
      "cell_type": "code",
      "source": [
        "# 선형 분류기의 변수 \n",
        "input_dim = 2\n",
        "output_dim = 1\n",
        "W = tf.Variable(initial_value=tf.random.uniform(shape=(input_dim, output_dim)))\n",
        "b = tf.Variable(initial_value=tf.zeros(shape=(output_dim,)))"
      ],
      "metadata": {
        "id": "7bi1NtiCggPM"
      },
      "execution_count": 21,
      "outputs": []
    },
    {
      "cell_type": "code",
      "source": [
        "# 정방향 패스 함수\n",
        "def model(inputs):\n",
        "  return tf.matmul(inputs,W) + b"
      ],
      "metadata": {
        "id": "Fn12rq8xhN2H"
      },
      "execution_count": 22,
      "outputs": []
    },
    {
      "cell_type": "code",
      "source": [
        "# 평균 제곱 오차 손실함수\n",
        "def squared_loss(target,predictions):\n",
        "  per_sample_losses = tf.square(target-predictions)\n",
        "  return tf.reduce_mean(per_sample_losses)"
      ],
      "metadata": {
        "id": "Bc8hTzothdeN"
      },
      "execution_count": 23,
      "outputs": []
    },
    {
      "cell_type": "code",
      "source": [
        "# 스텝 훈련 함수\n",
        "learning_rate = 0.1\n",
        "def training_step(inputs, targets):\n",
        "  with tf.GradientTape() as tape:\n",
        "    predictions = model(inputs)\n",
        "    loss = squared_loss(targets,predictions)\n",
        "  grad_loss_wrd_W, grad_loss_wrd_b = tape.gradient(loss, [W,b])\n",
        "  W.assign_sub(grad_loss_wrd_W*learning_rate)\n",
        "  b.assign_sub(grad_loss_wrd_b*learning_rate)\n",
        "  return loss"
      ],
      "metadata": {
        "id": "kVw42BAfh278"
      },
      "execution_count": 24,
      "outputs": []
    },
    {
      "cell_type": "code",
      "source": [
        "for step in range(40):\n",
        "  loss = training_step(inputs, targets)\n",
        "  print(f\"{step}번째 스텝의 손실 : {loss:.4f}\")"
      ],
      "metadata": {
        "colab": {
          "base_uri": "https://localhost:8080/"
        },
        "id": "K-4KEHQVjENb",
        "outputId": "19119dd3-acc3-4a1b-f628-db0a77defd84"
      },
      "execution_count": 25,
      "outputs": [
        {
          "output_type": "stream",
          "name": "stdout",
          "text": [
            "0번째 스텝의 손실 : 0.6134\n",
            "1번째 스텝의 손실 : 0.1244\n",
            "2번째 스텝의 손실 : 0.0948\n",
            "3번째 스텝의 손실 : 0.0867\n",
            "4번째 스텝의 손실 : 0.0811\n",
            "5번째 스텝의 손실 : 0.0762\n",
            "6번째 스텝의 손실 : 0.0717\n",
            "7번째 스텝의 손실 : 0.0676\n",
            "8번째 스텝의 손실 : 0.0638\n",
            "9번째 스텝의 손실 : 0.0604\n",
            "10번째 스텝의 손실 : 0.0573\n",
            "11번째 스텝의 손실 : 0.0544\n",
            "12번째 스텝의 손실 : 0.0518\n",
            "13번째 스텝의 손실 : 0.0494\n",
            "14번째 스텝의 손실 : 0.0473\n",
            "15번째 스텝의 손실 : 0.0453\n",
            "16번째 스텝의 손실 : 0.0435\n",
            "17번째 스텝의 손실 : 0.0418\n",
            "18번째 스텝의 손실 : 0.0403\n",
            "19번째 스텝의 손실 : 0.0389\n",
            "20번째 스텝의 손실 : 0.0377\n",
            "21번째 스텝의 손실 : 0.0365\n",
            "22번째 스텝의 손실 : 0.0354\n",
            "23번째 스텝의 손실 : 0.0345\n",
            "24번째 스텝의 손실 : 0.0336\n",
            "25번째 스텝의 손실 : 0.0328\n",
            "26번째 스텝의 손실 : 0.0321\n",
            "27번째 스텝의 손실 : 0.0314\n",
            "28번째 스텝의 손실 : 0.0308\n",
            "29번째 스텝의 손실 : 0.0302\n",
            "30번째 스텝의 손실 : 0.0297\n",
            "31번째 스텝의 손실 : 0.0293\n",
            "32번째 스텝의 손실 : 0.0288\n",
            "33번째 스텝의 손실 : 0.0285\n",
            "34번째 스텝의 손실 : 0.0281\n",
            "35번째 스텝의 손실 : 0.0278\n",
            "36번째 스텝의 손실 : 0.0275\n",
            "37번째 스텝의 손실 : 0.0272\n",
            "38번째 스텝의 손실 : 0.0270\n",
            "39번째 스텝의 손실 : 0.0267\n"
          ]
        }
      ]
    },
    {
      "cell_type": "code",
      "source": [
        "predictions = model(inputs)\n",
        "plt.scatter(inputs[:,0],inputs[:,1], c=predictions[:,0] > 0.5)\n",
        "plt.show()"
      ],
      "metadata": {
        "id": "cKRWTldAjNPz",
        "colab": {
          "base_uri": "https://localhost:8080/",
          "height": 265
        },
        "outputId": "0465a366-8a01-41cf-8473-3cfcd3a946e0"
      },
      "execution_count": 26,
      "outputs": [
        {
          "output_type": "display_data",
          "data": {
            "text/plain": [
              "<Figure size 432x288 with 1 Axes>"
            ],
            "image/png": "[encoded data removed]"
          },
          "metadata": {
            "needs_background": "light"
          }
        }
      ]
    },
    {
      "cell_type": "code",
      "source": [
        "start_end = [[-4.,-4.],[6.,6.]]\n",
        "line_data = model(start_end)\n",
        "\n",
        "predictions = model(inputs)\n",
        "plt.scatter(inputs[:,0],inputs[:,1], c=predictions[:,0] > 0.5)\n",
        "plt.plot(line_data[0],line_data[1],'-r')\n",
        "plt.show()\n",
        "print(line_data[0],line_data[1])"
      ],
      "metadata": {
        "colab": {
          "base_uri": "https://localhost:8080/",
          "height": 283
        },
        "id": "thfSAyKvji-1",
        "outputId": "2a3d3067-b706-40df-d4e1-a5dbf011ac1e"
      },
      "execution_count": 27,
      "outputs": [
        {
          "output_type": "display_data",
          "data": {
            "text/plain": [
              "<Figure size 432x288 with 1 Axes>"
            ],
            "image/png": "[encoded data removed]"
          },
          "metadata": {
            "needs_background": "light"
          }
        },
        {
          "output_type": "stream",
          "name": "stdout",
          "text": [
            "tf.Tensor([0.20875734], shape=(1,), dtype=float32) tf.Tensor([0.7044723], shape=(1,), dtype=float32)\n"
          ]
        }
      ]
    },
    {
      "cell_type": "code",
      "source": [
        "line_data"
      ],
      "metadata": {
        "id": "su0fIKgsl3nE",
        "colab": {
          "base_uri": "https://localhost:8080/"
        },
        "outputId": "59b028c8-2f79-4629-b565-f755d1d8257c"
      },
      "execution_count": 28,
      "outputs": [
        {
          "output_type": "execute_result",
          "data": {
            "text/plain": [
              "<tf.Tensor: shape=(2, 1), dtype=float32, numpy=\n",
              "array([[0.20875734],\n",
              "       [0.7044723 ]], dtype=float32)>"
            ]
          },
          "metadata": {},
          "execution_count": 28
        }
      ]
    }
  ]
}