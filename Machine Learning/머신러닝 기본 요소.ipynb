{
 "cells": [
  {
   "cell_type": "markdown",
   "id": "506dd757",
   "metadata": {},
   "source": [
    "1. 과적합\n",
    "2. 노이즈\n",
    "3. 특성과 상관관계"
   ]
  },
  {
   "cell_type": "code",
   "execution_count": 1,
   "id": "46d4440b",
   "metadata": {},
   "outputs": [],
   "source": [
    "import tensorflow as tf\n",
    "import numpy as np"
   ]
  },
  {
   "cell_type": "code",
   "execution_count": 2,
   "id": "ee908789",
   "metadata": {},
   "outputs": [],
   "source": [
    "(x_train,y_train),(x_test,y_test) = tf.keras.datasets.mnist.load_data()"
   ]
  },
  {
   "cell_type": "code",
   "execution_count": 3,
   "id": "7c578033",
   "metadata": {},
   "outputs": [],
   "source": [
    "# 스케일링\n",
    "x_train = x_train.astype(np.float32)/255.0\n",
    "x_test = x_test.astype(np.float32)/255.0"
   ]
  },
  {
   "cell_type": "code",
   "execution_count": 4,
   "id": "5477f4bb",
   "metadata": {},
   "outputs": [
    {
     "data": {
      "text/plain": [
       "((60000, 784), (10000, 784))"
      ]
     },
     "execution_count": 4,
     "metadata": {},
     "output_type": "execute_result"
    }
   ],
   "source": [
    "# 차수변경\n",
    "x_train = x_train.reshape(x_train.shape[0],-1)\n",
    "x_test = x_test.reshape(x_test.shape[0],-1)\n",
    "x_train.shape, x_test.shape"
   ]
  },
  {
   "cell_type": "code",
   "execution_count": 5,
   "id": "cad5eaf4",
   "metadata": {},
   "outputs": [],
   "source": [
    "# 잡음섞기\n",
    "# np.random.random(len(x_train))\n",
    "# np.random.random((2,2))\n",
    "# np.random.random(x_train.shape)\n",
    "\n",
    "x_train_with_noise_channels = np.concatenate([x_train,np.random.random(x_train.shape)],axis=1)\n",
    "\n",
    "# 0픽셀을 추가\n",
    "x_train_with_zero_channels = np.concatenate([x_train,np.zeros(x_train.shape)],axis=1)"
   ]
  },
  {
   "cell_type": "code",
   "execution_count": 6,
   "id": "1d2a5819",
   "metadata": {},
   "outputs": [],
   "source": [
    "# 훈련\n",
    "from tensorflow import keras\n",
    "from tensorflow.keras import layers"
   ]
  },
  {
   "cell_type": "code",
   "execution_count": 7,
   "id": "af16e6d1",
   "metadata": {},
   "outputs": [],
   "source": [
    "def build_model():\n",
    "    model = tf.keras.Sequential([\n",
    "        layers.Dense(512,activation='relu'), # input_shape=(x_train_with_noise_channels[1])),\n",
    "        layers.Dense(10,activation='softmax')\n",
    "    ])\n",
    "    model.compile(optimizer='adam', loss = tf.keras.losses.sparse_categorical_crossentropy,\n",
    "                 metrics=['accuracy'])\n",
    "    return model"
   ]
  },
  {
   "cell_type": "code",
   "execution_count": 8,
   "id": "7898a6f7",
   "metadata": {
    "scrolled": true
   },
   "outputs": [
    {
     "name": "stdout",
     "output_type": "stream",
     "text": [
      "Epoch 1/10\n",
      "375/375 [==============================] - 3s 6ms/step - loss: 0.4586 - accuracy: 0.8625 - val_loss: 0.2716 - val_accuracy: 0.9248\n",
      "Epoch 2/10\n",
      "375/375 [==============================] - 2s 6ms/step - loss: 0.2381 - accuracy: 0.9297 - val_loss: 0.2084 - val_accuracy: 0.9408\n",
      "Epoch 3/10\n",
      "375/375 [==============================] - 2s 5ms/step - loss: 0.1627 - accuracy: 0.9519 - val_loss: 0.1964 - val_accuracy: 0.9417\n",
      "Epoch 4/10\n",
      "375/375 [==============================] - 2s 6ms/step - loss: 0.1181 - accuracy: 0.9650 - val_loss: 0.1570 - val_accuracy: 0.9510\n",
      "Epoch 5/10\n",
      "375/375 [==============================] - 2s 6ms/step - loss: 0.0898 - accuracy: 0.9735 - val_loss: 0.1516 - val_accuracy: 0.9549\n",
      "Epoch 6/10\n",
      "375/375 [==============================] - 2s 5ms/step - loss: 0.0642 - accuracy: 0.9815 - val_loss: 0.1398 - val_accuracy: 0.9578\n",
      "Epoch 7/10\n",
      "375/375 [==============================] - 2s 6ms/step - loss: 0.0455 - accuracy: 0.9871 - val_loss: 0.1325 - val_accuracy: 0.9611\n",
      "Epoch 8/10\n",
      "375/375 [==============================] - 2s 6ms/step - loss: 0.0309 - accuracy: 0.9926 - val_loss: 0.1374 - val_accuracy: 0.9592\n",
      "Epoch 9/10\n",
      "375/375 [==============================] - 2s 6ms/step - loss: 0.0250 - accuracy: 0.9931 - val_loss: 0.1376 - val_accuracy: 0.9619\n",
      "Epoch 10/10\n",
      "375/375 [==============================] - 2s 6ms/step - loss: 0.0184 - accuracy: 0.9958 - val_loss: 0.1350 - val_accuracy: 0.9633\n"
     ]
    }
   ],
   "source": [
    "model = build_model()\n",
    "history_noise = model.fit(\n",
    "    x_train_with_noise_channels,y_train,epochs=10,batch_size=128,validation_split=0.2\n",
    ")"
   ]
  },
  {
   "cell_type": "code",
   "execution_count": 9,
   "id": "740ba783",
   "metadata": {
    "scrolled": true
   },
   "outputs": [
    {
     "name": "stdout",
     "output_type": "stream",
     "text": [
      "Epoch 1/10\n",
      "375/375 [==============================] - 2s 6ms/step - loss: 0.3001 - accuracy: 0.9146 - val_loss: 0.1565 - val_accuracy: 0.9576\n",
      "Epoch 2/10\n",
      "375/375 [==============================] - 2s 6ms/step - loss: 0.1268 - accuracy: 0.9634 - val_loss: 0.1152 - val_accuracy: 0.9659\n",
      "Epoch 3/10\n",
      "375/375 [==============================] - 2s 5ms/step - loss: 0.0842 - accuracy: 0.9751 - val_loss: 0.0919 - val_accuracy: 0.9727\n",
      "Epoch 4/10\n",
      "375/375 [==============================] - 2s 6ms/step - loss: 0.0591 - accuracy: 0.9830 - val_loss: 0.0828 - val_accuracy: 0.9758\n",
      "Epoch 5/10\n",
      "375/375 [==============================] - 2s 6ms/step - loss: 0.0434 - accuracy: 0.9876 - val_loss: 0.0794 - val_accuracy: 0.9763\n",
      "Epoch 6/10\n",
      "375/375 [==============================] - 2s 5ms/step - loss: 0.0331 - accuracy: 0.9908 - val_loss: 0.0771 - val_accuracy: 0.9757\n",
      "Epoch 7/10\n",
      "375/375 [==============================] - 2s 5ms/step - loss: 0.0246 - accuracy: 0.9931 - val_loss: 0.0755 - val_accuracy: 0.9785\n",
      "Epoch 8/10\n",
      "375/375 [==============================] - 2s 5ms/step - loss: 0.0185 - accuracy: 0.9955 - val_loss: 0.0763 - val_accuracy: 0.9772\n",
      "Epoch 9/10\n",
      "375/375 [==============================] - 2s 5ms/step - loss: 0.0147 - accuracy: 0.9965 - val_loss: 0.0742 - val_accuracy: 0.9778\n",
      "Epoch 10/10\n",
      "375/375 [==============================] - 2s 5ms/step - loss: 0.0115 - accuracy: 0.9974 - val_loss: 0.0748 - val_accuracy: 0.9787\n"
     ]
    }
   ],
   "source": [
    "model = build_model()\n",
    "history_zeros = model.fit(\n",
    "    x_train_with_zero_channels,y_train,epochs=10,batch_size=128,validation_split=0.2\n",
    ")"
   ]
  },
  {
   "cell_type": "code",
   "execution_count": 10,
   "id": "cbd0cbf6",
   "metadata": {
    "scrolled": true
   },
   "outputs": [
    {
     "name": "stdout",
     "output_type": "stream",
     "text": [
      "Epoch 1/10\n",
      "375/375 [==============================] - 2s 4ms/step - loss: 0.2973 - accuracy: 0.9151 - val_loss: 0.1611 - val_accuracy: 0.9534\n",
      "Epoch 2/10\n",
      "375/375 [==============================] - 1s 3ms/step - loss: 0.1234 - accuracy: 0.9640 - val_loss: 0.1198 - val_accuracy: 0.9647\n",
      "Epoch 3/10\n",
      "375/375 [==============================] - 1s 3ms/step - loss: 0.0801 - accuracy: 0.9767 - val_loss: 0.0931 - val_accuracy: 0.9728\n",
      "Epoch 4/10\n",
      "375/375 [==============================] - 1s 3ms/step - loss: 0.0561 - accuracy: 0.9844 - val_loss: 0.0850 - val_accuracy: 0.9738\n",
      "Epoch 5/10\n",
      "375/375 [==============================] - 1s 3ms/step - loss: 0.0430 - accuracy: 0.9877 - val_loss: 0.0819 - val_accuracy: 0.9754\n",
      "Epoch 6/10\n",
      "375/375 [==============================] - 1s 3ms/step - loss: 0.0317 - accuracy: 0.9913 - val_loss: 0.0748 - val_accuracy: 0.9769\n",
      "Epoch 7/10\n",
      "375/375 [==============================] - 1s 3ms/step - loss: 0.0222 - accuracy: 0.9943 - val_loss: 0.0784 - val_accuracy: 0.9782\n",
      "Epoch 8/10\n",
      "375/375 [==============================] - 1s 3ms/step - loss: 0.0166 - accuracy: 0.9962 - val_loss: 0.0814 - val_accuracy: 0.9768\n",
      "Epoch 9/10\n",
      "375/375 [==============================] - 1s 3ms/step - loss: 0.0130 - accuracy: 0.9973 - val_loss: 0.0804 - val_accuracy: 0.9775\n",
      "Epoch 10/10\n",
      "375/375 [==============================] - 1s 3ms/step - loss: 0.0092 - accuracy: 0.9983 - val_loss: 0.0789 - val_accuracy: 0.9785\n"
     ]
    }
   ],
   "source": [
    "model = build_model()\n",
    "history = model.fit(x_train,y_train,\n",
    "                    epochs=10,batch_size=128,validation_split=0.2)"
   ]
  },
  {
   "cell_type": "code",
   "execution_count": 11,
   "id": "ad15ed88",
   "metadata": {},
   "outputs": [],
   "source": [
    "# 검증의 정확도 비교\n",
    "import matplotlib.pyplot as plt"
   ]
  },
  {
   "cell_type": "code",
   "execution_count": 12,
   "id": "2100639c",
   "metadata": {},
   "outputs": [
    {
     "data": {
      "text/plain": [
       "<function matplotlib.pyplot.show(close=None, block=None)>"
      ]
     },
     "execution_count": 12,
     "metadata": {},
     "output_type": "execute_result"
    },
    {
     "data": {
      "image/png": "[encoded data removed]",
      "text/plain": [
       "<Figure size 432x288 with 1 Axes>"
      ]
     },
     "metadata": {
      "needs_background": "light"
     },
     "output_type": "display_data"
    }
   ],
   "source": [
    "val_acc_noise = history_noise.history['val_accuracy']\n",
    "val_acc_zeros = history_zeros.history['val_accuracy']\n",
    "val_acc = history.history['val_accuracy']\n",
    "epochs = range(1,11)\n",
    "plt.plot(epochs,val_acc_noise, 'b-', label = 'noise_accuracy')\n",
    "plt.plot(epochs,val_acc_zeros, 'b--', label = 'zero_accuracy')\n",
    "plt.plot(epochs,val_acc, label = 'accuracy', c='red')\n",
    "plt.legend()\n",
    "plt.show"
   ]
  }
 ],
 "metadata": {
  "kernelspec": {
   "display_name": "Python 3 (ipykernel)",
   "language": "python",
   "name": "python3"
  },
  "language_info": {
   "codemirror_mode": {
    "name": "ipython",
    "version": 3
   },
   "file_extension": ".py",
   "mimetype": "text/x-python",
   "name": "python",
   "nbconvert_exporter": "python",
   "pygments_lexer": "ipython3",
   "version": "3.9.7"
  }
 },
 "nbformat": 4,
 "nbformat_minor": 5
}
