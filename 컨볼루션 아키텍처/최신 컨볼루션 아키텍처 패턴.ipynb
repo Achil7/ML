{
 "cells": [
  {
   "cell_type": "code",
   "execution_count": 1,
   "metadata": {
    "id": "eec1577a"
   },
   "outputs": [],
   "source": [
    "from tensorflow import keras\n",
    "from tensorflow.keras import layers"
   ]
  },
  {
   "cell_type": "code",
   "execution_count": 2,
   "metadata": {
    "id": "9b3ef889"
   },
   "outputs": [],
   "source": [
    "# 필터의 개수가 변경되는 블럭\n",
    "inputs = keras.Input(shape=(32, 32, 3))\n",
    "x = layers.Conv2D(32, 3, activation=\"relu\")(inputs)\n",
    "residual = x\n",
    "x = layers.Conv2D(64, 3, activation=\"relu\", padding = \"same\")(x)\n",
    "residual = layers.Conv2D(64, 1)(residual)\n",
    "x = layers.add([x, residual])"
   ]
  },
  {
   "cell_type": "code",
   "execution_count": 3,
   "metadata": {
    "id": "9af0c6f8"
   },
   "outputs": [],
   "source": [
    "# 최대 폴링층을 가지는 블럭\n",
    "inputs = keras.Input(shape=(32,32,3))\n",
    "x = layers.Conv2D(32,3,activation='relu')(inputs)\n",
    "residual = x\n",
    "x = layers.Conv2D(64, 3, activation=\"relu\", padding=\"same\")(x)\n",
    "x = layers.MaxPooling2D(2,padding='same')(x)\n",
    "residual = layers.Conv2D(64,1,strides=2)(residual)\n",
    "x = layers.add([x,residual])"
   ]
  },
  {
   "cell_type": "code",
   "execution_count": 4,
   "metadata": {
    "id": "88ce56e7"
   },
   "outputs": [],
   "source": [
    "inputs = keras.Input(shape=(32,32,3))\n",
    "x = layers.Rescaling(1./255)(inputs)\n",
    "def residual_block(x, filters, pooling=False):\n",
    "    residual = x\n",
    "    x = layers.Conv2D(filters, 3, activation=\"relu\", padding=\"same\")(x)\n",
    "    x = layers.Conv2D(filters, 3, activation=\"relu\", padding=\"same\")(x)\n",
    "    if pooling:\n",
    "        x = layers.MaxPooling2D(2, padding=\"same\")(x)\n",
    "        residual = layers.Conv2D(filters, 1, strides=2)(residual)\n",
    "    elif filters != residual.shape[-1]:\n",
    "        residual = layers.Conv2D(filters, 1)(residual)\n",
    "    x = layers.add([x, residual])\n",
    "    return x"
   ]
  },
  {
   "cell_type": "code",
   "execution_count": 5,
   "metadata": {
    "colab": {
     "base_uri": "https://localhost:8080/"
    },
    "id": "26630ee8",
    "outputId": "2e596988-bc3e-418a-f9cc-810e82040a99"
   },
   "outputs": [
    {
     "name": "stdout",
     "output_type": "stream",
     "text": [
      "Model: \"model\"\n",
      "__________________________________________________________________________________________________\n",
      " Layer (type)                   Output Shape         Param #     Connected to                     \n",
      "==================================================================================================\n",
      " input_3 (InputLayer)           [(None, 32, 32, 3)]  0           []                               \n",
      "                                                                                                  \n",
      " rescaling (Rescaling)          (None, 32, 32, 3)    0           ['input_3[0][0]']                \n",
      "                                                                                                  \n",
      " conv2d_6 (Conv2D)              (None, 32, 32, 32)   896         ['rescaling[0][0]']              \n",
      "                                                                                                  \n",
      " conv2d_7 (Conv2D)              (None, 32, 32, 32)   9248        ['conv2d_6[0][0]']               \n",
      "                                                                                                  \n",
      " max_pooling2d_1 (MaxPooling2D)  (None, 16, 16, 32)  0           ['conv2d_7[0][0]']               \n",
      "                                                                                                  \n",
      " conv2d_8 (Conv2D)              (None, 16, 16, 32)   128         ['rescaling[0][0]']              \n",
      "                                                                                                  \n",
      " add_2 (Add)                    (None, 16, 16, 32)   0           ['max_pooling2d_1[0][0]',        \n",
      "                                                                  'conv2d_8[0][0]']               \n",
      "                                                                                                  \n",
      " conv2d_9 (Conv2D)              (None, 16, 16, 64)   18496       ['add_2[0][0]']                  \n",
      "                                                                                                  \n",
      " conv2d_10 (Conv2D)             (None, 16, 16, 64)   36928       ['conv2d_9[0][0]']               \n",
      "                                                                                                  \n",
      " max_pooling2d_2 (MaxPooling2D)  (None, 8, 8, 64)    0           ['conv2d_10[0][0]']              \n",
      "                                                                                                  \n",
      " conv2d_11 (Conv2D)             (None, 8, 8, 64)     2112        ['add_2[0][0]']                  \n",
      "                                                                                                  \n",
      " add_3 (Add)                    (None, 8, 8, 64)     0           ['max_pooling2d_2[0][0]',        \n",
      "                                                                  'conv2d_11[0][0]']              \n",
      "                                                                                                  \n",
      " conv2d_12 (Conv2D)             (None, 8, 8, 128)    73856       ['add_3[0][0]']                  \n",
      "                                                                                                  \n",
      " conv2d_13 (Conv2D)             (None, 8, 8, 128)    147584      ['conv2d_12[0][0]']              \n",
      "                                                                                                  \n",
      " conv2d_14 (Conv2D)             (None, 8, 8, 128)    8320        ['add_3[0][0]']                  \n",
      "                                                                                                  \n",
      " add_4 (Add)                    (None, 8, 8, 128)    0           ['conv2d_13[0][0]',              \n",
      "                                                                  'conv2d_14[0][0]']              \n",
      "                                                                                                  \n",
      " global_max_pooling2d (GlobalMa  (None, 128)         0           ['add_4[0][0]']                  \n",
      " xPooling2D)                                                                                      \n",
      "                                                                                                  \n",
      " dense (Dense)                  (None, 1)            129         ['global_max_pooling2d[0][0]']   \n",
      "                                                                                                  \n",
      "==================================================================================================\n",
      "Total params: 297,697\n",
      "Trainable params: 297,697\n",
      "Non-trainable params: 0\n",
      "__________________________________________________________________________________________________\n"
     ]
    }
   ],
   "source": [
    "x = residual_block(x, filters=32, pooling=True)\n",
    "x = residual_block(x, filters=64, pooling=True)\n",
    "x = residual_block(x, filters=128, pooling=False)\n",
    "x =  layers.GlobalMaxPool2D()(x)\n",
    "outputs = layers.Dense(1, activation='sigmoid')(x)\n",
    "model = keras.Model(inputs=inputs, outputs = outputs)\n",
    "model.summary()"
   ]
  },
  {
   "cell_type": "markdown",
   "metadata": {
    "id": "c8022339"
   },
   "source": [
    "- 배치 정규화\n",
    "- 깊이별 분리 합성곱\n",
    "- Xception 유사 모델에 모두 적용"
   ]
  },
  {
   "cell_type": "code",
   "execution_count": 6,
   "metadata": {
    "colab": {
     "base_uri": "https://localhost:8080/",
     "height": 109
    },
    "id": "8e2bdbfb",
    "outputId": "3daa6634-1b72-48a8-d6fe-2858bd92f987"
   },
   "outputs": [
    {
     "name": "stderr",
     "output_type": "stream",
     "text": [
      "Downloading...\n",
      "From: https://drive.google.com/uc?id=18uC7WTuEXKJDDxbj-Jq6EjzpFrgE7IAd\n",
      "To: /content/dogs-vs-cats.zip\n",
      "100%|██████████| 852M/852M [00:04<00:00, 190MB/s]\n"
     ]
    },
    {
     "data": {
      "application/vnd.google.colaboratory.intrinsic+json": {
       "type": "string"
      },
      "text/plain": [
       "'dogs-vs-cats.zip'"
      ]
     },
     "execution_count": 6,
     "metadata": {},
     "output_type": "execute_result"
    }
   ],
   "source": [
    "import gdown\n",
    "gdown.download(id='18uC7WTuEXKJDDxbj-Jq6EjzpFrgE7IAd', output='dogs-vs-cats.zip')"
   ]
  },
  {
   "cell_type": "code",
   "execution_count": 7,
   "metadata": {
    "id": "301c4ce5"
   },
   "outputs": [],
   "source": [
    "# import zipfile\n",
    "# zipfile.ZipFile('./dogs-vs-cats.zip').extractall()\n",
    "# zipfile.ZipFile('./train.zip').extractall()"
   ]
  },
  {
   "cell_type": "code",
   "execution_count": 8,
   "metadata": {
    "id": "X0COXi21ErJk"
   },
   "outputs": [],
   "source": [
    "!unzip -qq 'dogs-vs-cats.zip'\n",
    "!unzip -qq 'train.zip'"
   ]
  },
  {
   "cell_type": "code",
   "execution_count": 9,
   "metadata": {
    "colab": {
     "base_uri": "https://localhost:8080/"
    },
    "id": "c21eca5c",
    "outputId": "ab6f0ae6-4f9a-49ef-b69c-169383a53106"
   },
   "outputs": [
    {
     "name": "stdout",
     "output_type": "stream",
     "text": [
      "Found 2000 files belonging to 2 classes.\n",
      "Found 1000 files belonging to 2 classes.\n",
      "Found 2000 files belonging to 2 classes.\n"
     ]
    }
   ],
   "source": [
    "import os, shutil, pathlib\n",
    "from tensorflow.keras.utils import image_dataset_from_directory\n",
    "\n",
    "original_dir = pathlib.Path(\"train\")\n",
    "new_base_dir = pathlib.Path(\"cats_vs_dogs_small\")\n",
    "\n",
    "def make_subset(subset_name, start_index, end_index):\n",
    "    for category in (\"cat\", \"dog\"):\n",
    "        dir = new_base_dir / subset_name / category\n",
    "        os.makedirs(dir)\n",
    "        fnames = [f\"{category}.{i}.jpg\" for i in range(start_index, end_index)]\n",
    "        for fname in fnames:\n",
    "            shutil.copyfile(src=original_dir / fname,\n",
    "                            dst=dir / fname)\n",
    "\n",
    "make_subset(\"train\", start_index=0, end_index=1000)\n",
    "make_subset(\"validation\", start_index=1000, end_index=1500)\n",
    "make_subset(\"test\", start_index=1500, end_index=2500)\n",
    "\n",
    "train_dataset = image_dataset_from_directory(\n",
    "    new_base_dir / \"train\",\n",
    "    image_size=(180, 180),\n",
    "    batch_size=32)\n",
    "validation_dataset = image_dataset_from_directory(\n",
    "    new_base_dir / \"validation\",\n",
    "    image_size=(180, 180),\n",
    "    batch_size=32)\n",
    "test_dataset = image_dataset_from_directory(\n",
    "    new_base_dir / \"test\",\n",
    "    image_size=(180, 180),\n",
    "    batch_size=32)"
   ]
  },
  {
   "cell_type": "code",
   "execution_count": 10,
   "metadata": {
    "id": "d8ab4248"
   },
   "outputs": [],
   "source": [
    "data_augmentation = keras.Sequential(\n",
    "    [\n",
    "        layers.RandomFlip(\"horizontal\"),\n",
    "        layers.RandomRotation(0.1),\n",
    "        layers.RandomZoom(0.2),\n",
    "    ]\n",
    ")"
   ]
  },
  {
   "cell_type": "code",
   "execution_count": 11,
   "metadata": {
    "id": "1bfdca64"
   },
   "outputs": [],
   "source": [
    "inputs = keras.Input(shape=(180, 180, 3))\n",
    "x = data_augmentation(inputs)\n",
    "\n",
    "x = layers.Rescaling(1./255)(x)\n",
    "x = layers.Conv2D(filters=32, kernel_size=5, use_bias=False)(x)\n",
    "\n",
    "for size in [32, 64, 128, 256, 512]:\n",
    "    residual = x\n",
    "\n",
    "    x = layers.BatchNormalization()(x)\n",
    "    x = layers.Activation(\"relu\")(x)\n",
    "    x = layers.SeparableConv2D(size, 3, padding=\"same\", use_bias=False)(x)\n",
    "\n",
    "    x = layers.BatchNormalization()(x)\n",
    "    x = layers.Activation(\"relu\")(x)\n",
    "    x = layers.SeparableConv2D(size, 3, padding=\"same\", use_bias=False)(x)\n",
    "\n",
    "    x = layers.MaxPooling2D(3, strides=2, padding=\"same\")(x)\n",
    "\n",
    "    residual = layers.Conv2D(\n",
    "        size, 1, strides=2, padding=\"same\", use_bias=False)(residual)\n",
    "    x = layers.add([x, residual])\n",
    "\n",
    "x = layers.GlobalAveragePooling2D()(x)\n",
    "x = layers.Dropout(0.5)(x)\n",
    "outputs = layers.Dense(1, activation=\"sigmoid\")(x)\n",
    "model = keras.Model(inputs=inputs, outputs=outputs)"
   ]
  },
  {
   "cell_type": "code",
   "execution_count": 12,
   "metadata": {
    "colab": {
     "base_uri": "https://localhost:8080/"
    },
    "id": "19d5a6a5",
    "outputId": "f0762e3f-9f88-4595-a1e3-f62a55035133"
   },
   "outputs": [
    {
     "name": "stdout",
     "output_type": "stream",
     "text": [
      "Epoch 1/100\n",
      "63/63 [==============================] - 42s 464ms/step - loss: 0.7018 - accuracy: 0.5790 - val_loss: 0.6932 - val_accuracy: 0.4980\n",
      "Epoch 2/100\n",
      "63/63 [==============================] - 29s 449ms/step - loss: 0.6636 - accuracy: 0.6030 - val_loss: 0.6925 - val_accuracy: 0.5210\n",
      "Epoch 3/100\n",
      "63/63 [==============================] - 29s 453ms/step - loss: 0.6370 - accuracy: 0.6350 - val_loss: 0.7093 - val_accuracy: 0.5000\n",
      "Epoch 4/100\n",
      "63/63 [==============================] - 30s 458ms/step - loss: 0.6286 - accuracy: 0.6445 - val_loss: 0.7344 - val_accuracy: 0.5000\n",
      "Epoch 5/100\n",
      "63/63 [==============================] - 29s 457ms/step - loss: 0.5989 - accuracy: 0.6920 - val_loss: 0.8074 - val_accuracy: 0.5000\n",
      "Epoch 6/100\n",
      "63/63 [==============================] - 29s 455ms/step - loss: 0.5865 - accuracy: 0.6920 - val_loss: 0.7719 - val_accuracy: 0.5000\n",
      "Epoch 7/100\n",
      "63/63 [==============================] - 30s 465ms/step - loss: 0.5648 - accuracy: 0.7015 - val_loss: 0.8293 - val_accuracy: 0.5040\n",
      "Epoch 8/100\n",
      "63/63 [==============================] - 29s 456ms/step - loss: 0.5616 - accuracy: 0.7185 - val_loss: 0.9617 - val_accuracy: 0.5410\n",
      "Epoch 9/100\n",
      "63/63 [==============================] - 29s 458ms/step - loss: 0.5209 - accuracy: 0.7490 - val_loss: 0.6474 - val_accuracy: 0.6260\n",
      "Epoch 10/100\n",
      "63/63 [==============================] - 29s 452ms/step - loss: 0.5149 - accuracy: 0.7540 - val_loss: 0.5280 - val_accuracy: 0.7370\n",
      "Epoch 11/100\n",
      "63/63 [==============================] - 29s 461ms/step - loss: 0.4883 - accuracy: 0.7725 - val_loss: 0.9283 - val_accuracy: 0.5770\n",
      "Epoch 12/100\n",
      "63/63 [==============================] - 29s 455ms/step - loss: 0.4877 - accuracy: 0.7705 - val_loss: 0.6384 - val_accuracy: 0.7050\n",
      "Epoch 13/100\n",
      "63/63 [==============================] - 29s 464ms/step - loss: 0.4718 - accuracy: 0.7755 - val_loss: 0.6447 - val_accuracy: 0.6990\n",
      "Epoch 14/100\n",
      "63/63 [==============================] - 29s 456ms/step - loss: 0.4695 - accuracy: 0.7695 - val_loss: 0.5893 - val_accuracy: 0.7350\n",
      "Epoch 15/100\n",
      "63/63 [==============================] - 29s 460ms/step - loss: 0.4528 - accuracy: 0.7875 - val_loss: 0.6884 - val_accuracy: 0.6830\n",
      "Epoch 16/100\n",
      "63/63 [==============================] - 29s 459ms/step - loss: 0.4302 - accuracy: 0.7955 - val_loss: 0.9115 - val_accuracy: 0.6710\n",
      "Epoch 17/100\n",
      "63/63 [==============================] - 29s 455ms/step - loss: 0.4239 - accuracy: 0.8085 - val_loss: 1.0843 - val_accuracy: 0.6730\n",
      "Epoch 18/100\n",
      "63/63 [==============================] - 29s 463ms/step - loss: 0.4240 - accuracy: 0.8105 - val_loss: 0.6166 - val_accuracy: 0.7010\n",
      "Epoch 19/100\n",
      "63/63 [==============================] - 29s 454ms/step - loss: 0.3896 - accuracy: 0.8290 - val_loss: 0.6446 - val_accuracy: 0.7280\n",
      "Epoch 20/100\n",
      "63/63 [==============================] - 29s 456ms/step - loss: 0.3951 - accuracy: 0.8335 - val_loss: 0.7605 - val_accuracy: 0.7260\n",
      "Epoch 21/100\n",
      "63/63 [==============================] - 30s 467ms/step - loss: 0.3939 - accuracy: 0.8230 - val_loss: 1.1600 - val_accuracy: 0.6360\n",
      "Epoch 22/100\n",
      "63/63 [==============================] - 29s 457ms/step - loss: 0.3932 - accuracy: 0.8305 - val_loss: 0.6339 - val_accuracy: 0.7320\n",
      "Epoch 23/100\n",
      "63/63 [==============================] - 29s 463ms/step - loss: 0.3661 - accuracy: 0.8330 - val_loss: 1.0795 - val_accuracy: 0.6660\n",
      "Epoch 24/100\n",
      "63/63 [==============================] - 30s 463ms/step - loss: 0.3713 - accuracy: 0.8410 - val_loss: 0.5215 - val_accuracy: 0.7600\n",
      "Epoch 25/100\n",
      "63/63 [==============================] - 30s 466ms/step - loss: 0.3455 - accuracy: 0.8470 - val_loss: 0.7902 - val_accuracy: 0.6900\n",
      "Epoch 26/100\n",
      "63/63 [==============================] - 29s 458ms/step - loss: 0.3321 - accuracy: 0.8535 - val_loss: 0.5629 - val_accuracy: 0.7540\n",
      "Epoch 27/100\n",
      "63/63 [==============================] - 29s 460ms/step - loss: 0.3452 - accuracy: 0.8505 - val_loss: 1.2332 - val_accuracy: 0.6540\n",
      "Epoch 28/100\n",
      "63/63 [==============================] - 29s 458ms/step - loss: 0.3245 - accuracy: 0.8500 - val_loss: 0.5662 - val_accuracy: 0.7520\n",
      "Epoch 29/100\n",
      "63/63 [==============================] - 29s 460ms/step - loss: 0.3310 - accuracy: 0.8580 - val_loss: 1.3905 - val_accuracy: 0.6520\n",
      "Epoch 30/100\n",
      "63/63 [==============================] - 29s 457ms/step - loss: 0.3282 - accuracy: 0.8545 - val_loss: 0.7012 - val_accuracy: 0.7720\n",
      "Epoch 31/100\n",
      "63/63 [==============================] - 29s 455ms/step - loss: 0.3040 - accuracy: 0.8640 - val_loss: 0.5484 - val_accuracy: 0.7590\n",
      "Epoch 32/100\n",
      "63/63 [==============================] - 29s 459ms/step - loss: 0.2978 - accuracy: 0.8705 - val_loss: 1.6396 - val_accuracy: 0.6320\n",
      "Epoch 33/100\n",
      "63/63 [==============================] - 29s 464ms/step - loss: 0.3086 - accuracy: 0.8635 - val_loss: 0.6007 - val_accuracy: 0.7780\n",
      "Epoch 34/100\n",
      "63/63 [==============================] - 29s 463ms/step - loss: 0.3062 - accuracy: 0.8710 - val_loss: 1.3128 - val_accuracy: 0.6780\n",
      "Epoch 35/100\n",
      "63/63 [==============================] - 29s 463ms/step - loss: 0.2877 - accuracy: 0.8800 - val_loss: 0.4832 - val_accuracy: 0.8150\n",
      "Epoch 36/100\n",
      "63/63 [==============================] - 29s 460ms/step - loss: 0.2928 - accuracy: 0.8780 - val_loss: 0.4647 - val_accuracy: 0.8230\n",
      "Epoch 37/100\n",
      "63/63 [==============================] - 29s 453ms/step - loss: 0.2646 - accuracy: 0.8820 - val_loss: 1.2457 - val_accuracy: 0.6870\n",
      "Epoch 38/100\n",
      "63/63 [==============================] - 29s 460ms/step - loss: 0.2629 - accuracy: 0.8905 - val_loss: 1.2547 - val_accuracy: 0.6780\n",
      "Epoch 39/100\n",
      "63/63 [==============================] - 29s 454ms/step - loss: 0.2492 - accuracy: 0.8915 - val_loss: 0.8622 - val_accuracy: 0.6910\n",
      "Epoch 40/100\n",
      "63/63 [==============================] - 29s 457ms/step - loss: 0.2722 - accuracy: 0.8900 - val_loss: 0.4125 - val_accuracy: 0.8260\n",
      "Epoch 41/100\n",
      "63/63 [==============================] - 29s 462ms/step - loss: 0.2462 - accuracy: 0.8950 - val_loss: 0.3850 - val_accuracy: 0.8340\n",
      "Epoch 42/100\n",
      "63/63 [==============================] - 29s 455ms/step - loss: 0.2422 - accuracy: 0.8950 - val_loss: 0.9388 - val_accuracy: 0.7280\n",
      "Epoch 43/100\n",
      "63/63 [==============================] - 30s 464ms/step - loss: 0.2431 - accuracy: 0.8940 - val_loss: 0.7115 - val_accuracy: 0.7890\n",
      "Epoch 44/100\n",
      "63/63 [==============================] - 29s 459ms/step - loss: 0.2435 - accuracy: 0.8920 - val_loss: 0.5258 - val_accuracy: 0.7950\n",
      "Epoch 45/100\n",
      "63/63 [==============================] - 29s 455ms/step - loss: 0.2327 - accuracy: 0.8970 - val_loss: 0.5168 - val_accuracy: 0.8180\n",
      "Epoch 46/100\n",
      "63/63 [==============================] - 29s 456ms/step - loss: 0.2449 - accuracy: 0.8965 - val_loss: 1.1138 - val_accuracy: 0.7490\n",
      "Epoch 47/100\n",
      "63/63 [==============================] - 29s 463ms/step - loss: 0.2185 - accuracy: 0.9075 - val_loss: 1.9210 - val_accuracy: 0.6470\n",
      "Epoch 48/100\n",
      "63/63 [==============================] - 29s 461ms/step - loss: 0.2103 - accuracy: 0.9070 - val_loss: 0.3496 - val_accuracy: 0.8600\n",
      "Epoch 49/100\n",
      "63/63 [==============================] - 29s 454ms/step - loss: 0.2024 - accuracy: 0.9285 - val_loss: 1.7043 - val_accuracy: 0.6440\n",
      "Epoch 50/100\n",
      "63/63 [==============================] - 29s 459ms/step - loss: 0.2154 - accuracy: 0.9165 - val_loss: 0.7782 - val_accuracy: 0.7600\n",
      "Epoch 51/100\n",
      "63/63 [==============================] - 30s 465ms/step - loss: 0.2149 - accuracy: 0.9155 - val_loss: 0.7020 - val_accuracy: 0.7290\n",
      "Epoch 52/100\n",
      "63/63 [==============================] - 30s 459ms/step - loss: 0.1927 - accuracy: 0.9225 - val_loss: 0.3574 - val_accuracy: 0.8530\n",
      "Epoch 53/100\n",
      "63/63 [==============================] - 29s 459ms/step - loss: 0.1943 - accuracy: 0.9220 - val_loss: 0.3405 - val_accuracy: 0.8650\n",
      "Epoch 54/100\n",
      "63/63 [==============================] - 29s 457ms/step - loss: 0.2071 - accuracy: 0.9125 - val_loss: 0.5265 - val_accuracy: 0.8280\n",
      "Epoch 55/100\n",
      "63/63 [==============================] - 29s 460ms/step - loss: 0.1786 - accuracy: 0.9260 - val_loss: 0.9108 - val_accuracy: 0.7530\n",
      "Epoch 56/100\n",
      "63/63 [==============================] - 29s 456ms/step - loss: 0.1842 - accuracy: 0.9300 - val_loss: 0.4287 - val_accuracy: 0.8400\n",
      "Epoch 57/100\n",
      "63/63 [==============================] - 29s 459ms/step - loss: 0.1848 - accuracy: 0.9235 - val_loss: 0.4581 - val_accuracy: 0.8430\n",
      "Epoch 58/100\n",
      "63/63 [==============================] - 29s 454ms/step - loss: 0.1853 - accuracy: 0.9275 - val_loss: 0.5857 - val_accuracy: 0.8080\n",
      "Epoch 59/100\n",
      "63/63 [==============================] - 29s 458ms/step - loss: 0.1663 - accuracy: 0.9330 - val_loss: 1.4678 - val_accuracy: 0.7090\n",
      "Epoch 60/100\n",
      "63/63 [==============================] - 30s 470ms/step - loss: 0.1801 - accuracy: 0.9240 - val_loss: 0.4567 - val_accuracy: 0.8770\n",
      "Epoch 61/100\n",
      "63/63 [==============================] - 29s 450ms/step - loss: 0.1672 - accuracy: 0.9355 - val_loss: 1.0939 - val_accuracy: 0.7310\n",
      "Epoch 62/100\n",
      "63/63 [==============================] - 29s 459ms/step - loss: 0.1513 - accuracy: 0.9380 - val_loss: 0.3493 - val_accuracy: 0.8790\n",
      "Epoch 63/100\n",
      "63/63 [==============================] - 29s 456ms/step - loss: 0.1616 - accuracy: 0.9405 - val_loss: 0.5485 - val_accuracy: 0.8270\n",
      "Epoch 64/100\n",
      "63/63 [==============================] - 29s 461ms/step - loss: 0.1578 - accuracy: 0.9410 - val_loss: 1.5689 - val_accuracy: 0.6340\n",
      "Epoch 65/100\n",
      "63/63 [==============================] - 29s 455ms/step - loss: 0.1584 - accuracy: 0.9305 - val_loss: 0.4675 - val_accuracy: 0.8700\n",
      "Epoch 66/100\n",
      "63/63 [==============================] - 29s 462ms/step - loss: 0.1710 - accuracy: 0.9310 - val_loss: 0.6056 - val_accuracy: 0.8150\n",
      "Epoch 67/100\n",
      "63/63 [==============================] - 29s 465ms/step - loss: 0.1573 - accuracy: 0.9340 - val_loss: 0.6649 - val_accuracy: 0.8110\n",
      "Epoch 68/100\n",
      "63/63 [==============================] - 29s 454ms/step - loss: 0.1586 - accuracy: 0.9335 - val_loss: 0.4355 - val_accuracy: 0.8430\n",
      "Epoch 69/100\n",
      "63/63 [==============================] - 29s 464ms/step - loss: 0.1582 - accuracy: 0.9345 - val_loss: 0.4637 - val_accuracy: 0.8490\n",
      "Epoch 70/100\n",
      "63/63 [==============================] - 29s 455ms/step - loss: 0.1491 - accuracy: 0.9415 - val_loss: 0.2994 - val_accuracy: 0.8780\n",
      "Epoch 71/100\n",
      "63/63 [==============================] - 29s 454ms/step - loss: 0.1427 - accuracy: 0.9490 - val_loss: 0.2881 - val_accuracy: 0.8740\n",
      "Epoch 72/100\n",
      "63/63 [==============================] - 29s 458ms/step - loss: 0.1350 - accuracy: 0.9470 - val_loss: 0.4398 - val_accuracy: 0.8880\n",
      "Epoch 73/100\n",
      "63/63 [==============================] - 29s 455ms/step - loss: 0.1562 - accuracy: 0.9385 - val_loss: 0.5152 - val_accuracy: 0.8500\n",
      "Epoch 74/100\n",
      "63/63 [==============================] - 29s 456ms/step - loss: 0.1485 - accuracy: 0.9440 - val_loss: 0.7940 - val_accuracy: 0.7970\n",
      "Epoch 75/100\n",
      "63/63 [==============================] - 29s 459ms/step - loss: 0.1497 - accuracy: 0.9425 - val_loss: 0.4877 - val_accuracy: 0.8650\n",
      "Epoch 76/100\n",
      "63/63 [==============================] - 30s 476ms/step - loss: 0.1282 - accuracy: 0.9495 - val_loss: 0.3560 - val_accuracy: 0.8730\n",
      "Epoch 77/100\n",
      "63/63 [==============================] - 30s 471ms/step - loss: 0.1419 - accuracy: 0.9460 - val_loss: 0.3456 - val_accuracy: 0.8850\n",
      "Epoch 78/100\n",
      "63/63 [==============================] - 29s 461ms/step - loss: 0.1533 - accuracy: 0.9330 - val_loss: 0.6115 - val_accuracy: 0.7950\n",
      "Epoch 79/100\n",
      "63/63 [==============================] - 29s 462ms/step - loss: 0.1161 - accuracy: 0.9550 - val_loss: 0.4157 - val_accuracy: 0.8580\n",
      "Epoch 80/100\n",
      "63/63 [==============================] - 29s 455ms/step - loss: 0.1306 - accuracy: 0.9505 - val_loss: 0.4824 - val_accuracy: 0.8660\n",
      "Epoch 81/100\n",
      "63/63 [==============================] - 30s 466ms/step - loss: 0.1251 - accuracy: 0.9470 - val_loss: 0.4926 - val_accuracy: 0.8550\n",
      "Epoch 82/100\n",
      "63/63 [==============================] - 29s 459ms/step - loss: 0.1200 - accuracy: 0.9485 - val_loss: 0.4053 - val_accuracy: 0.8810\n",
      "Epoch 83/100\n",
      "63/63 [==============================] - 29s 463ms/step - loss: 0.1171 - accuracy: 0.9565 - val_loss: 0.3660 - val_accuracy: 0.8900\n",
      "Epoch 84/100\n",
      "63/63 [==============================] - 29s 459ms/step - loss: 0.1295 - accuracy: 0.9530 - val_loss: 0.6679 - val_accuracy: 0.8060\n",
      "Epoch 85/100\n",
      "63/63 [==============================] - 29s 463ms/step - loss: 0.1153 - accuracy: 0.9550 - val_loss: 0.8440 - val_accuracy: 0.8180\n",
      "Epoch 86/100\n",
      "63/63 [==============================] - 29s 462ms/step - loss: 0.1253 - accuracy: 0.9535 - val_loss: 0.4592 - val_accuracy: 0.8520\n",
      "Epoch 87/100\n",
      "63/63 [==============================] - 30s 465ms/step - loss: 0.1064 - accuracy: 0.9570 - val_loss: 0.4024 - val_accuracy: 0.8630\n",
      "Epoch 88/100\n",
      "63/63 [==============================] - 29s 459ms/step - loss: 0.1383 - accuracy: 0.9500 - val_loss: 0.9391 - val_accuracy: 0.7900\n",
      "Epoch 89/100\n",
      "63/63 [==============================] - 29s 461ms/step - loss: 0.1029 - accuracy: 0.9635 - val_loss: 0.4362 - val_accuracy: 0.8690\n",
      "Epoch 90/100\n",
      "63/63 [==============================] - 29s 460ms/step - loss: 0.1288 - accuracy: 0.9535 - val_loss: 0.8252 - val_accuracy: 0.8080\n",
      "Epoch 91/100\n",
      "63/63 [==============================] - 29s 458ms/step - loss: 0.1233 - accuracy: 0.9505 - val_loss: 0.5478 - val_accuracy: 0.8540\n",
      "Epoch 92/100\n",
      "63/63 [==============================] - 29s 453ms/step - loss: 0.1010 - accuracy: 0.9605 - val_loss: 0.3833 - val_accuracy: 0.8770\n",
      "Epoch 93/100\n",
      "63/63 [==============================] - 30s 465ms/step - loss: 0.1030 - accuracy: 0.9585 - val_loss: 0.4426 - val_accuracy: 0.8760\n",
      "Epoch 94/100\n",
      "63/63 [==============================] - 30s 469ms/step - loss: 0.1131 - accuracy: 0.9545 - val_loss: 0.3760 - val_accuracy: 0.8860\n",
      "Epoch 95/100\n",
      "63/63 [==============================] - 29s 460ms/step - loss: 0.0956 - accuracy: 0.9635 - val_loss: 0.3095 - val_accuracy: 0.9030\n",
      "Epoch 96/100\n",
      "63/63 [==============================] - 29s 460ms/step - loss: 0.1016 - accuracy: 0.9590 - val_loss: 0.4175 - val_accuracy: 0.8780\n",
      "Epoch 97/100\n",
      "63/63 [==============================] - 30s 464ms/step - loss: 0.0957 - accuracy: 0.9650 - val_loss: 0.5986 - val_accuracy: 0.8500\n",
      "Epoch 98/100\n",
      "63/63 [==============================] - 30s 463ms/step - loss: 0.0910 - accuracy: 0.9675 - val_loss: 0.7081 - val_accuracy: 0.8740\n",
      "Epoch 99/100\n",
      "63/63 [==============================] - 29s 459ms/step - loss: 0.0988 - accuracy: 0.9610 - val_loss: 0.3722 - val_accuracy: 0.8930\n",
      "Epoch 100/100\n",
      "63/63 [==============================] - 29s 463ms/step - loss: 0.1006 - accuracy: 0.9600 - val_loss: 0.6031 - val_accuracy: 0.8260\n"
     ]
    }
   ],
   "source": [
    "model.compile(loss=\"binary_crossentropy\",\n",
    "              optimizer=\"rmsprop\",\n",
    "              metrics=[\"accuracy\"])\n",
    "history = model.fit(\n",
    "    train_dataset,\n",
    "    epochs=100,\n",
    "    validation_data=validation_dataset)\n",
    "\n",
    "# GPU 사용 했음에도 약 1시간걸림 주의\n",
    "# ** epochs를 줄여서 해보기"
   ]
  },
  {
   "cell_type": "code",
   "execution_count": 14,
   "metadata": {
    "colab": {
     "base_uri": "https://localhost:8080/",
     "height": 545
    },
    "id": "8fbe908b",
    "outputId": "8e123c8b-4fc8-4150-8e7f-2d9995c973ad"
   },
   "outputs": [
    {
     "data": {
      "image/png": "[encoded data removed]",
      "text/plain": [
       "<Figure size 432x288 with 1 Axes>"
      ]
     },
     "metadata": {
      "needs_background": "light"
     },
     "output_type": "display_data"
    },
    {
     "data": {
      "image/png": "[encoded data removed]",
      "text/plain": [
       "<Figure size 432x288 with 1 Axes>"
      ]
     },
     "metadata": {
      "needs_background": "light"
     },
     "output_type": "display_data"
    }
   ],
   "source": [
    "import matplotlib.pyplot as plt\n",
    "accuracy = history.history[\"accuracy\"]\n",
    "val_accuracy = history.history[\"val_accuracy\"]\n",
    "loss = history.history[\"loss\"]\n",
    "val_loss = history.history[\"val_loss\"]\n",
    "epochs = range(1, len(accuracy) + 1)\n",
    "plt.plot(epochs, accuracy, \"ro\", label=\"Training accuracy\")\n",
    "plt.plot(epochs, val_accuracy, \"b\", label=\"Validation accuracy\")\n",
    "plt.title(\"Training and validation accuracy\")\n",
    "plt.legend()\n",
    "plt.figure()\n",
    "plt.plot(epochs, loss, \"ro\", label=\"Training loss\")\n",
    "plt.plot(epochs, val_loss, \"b\", label=\"Validation loss\")\n",
    "plt.title(\"Training and validation loss\")\n",
    "plt.legend()\n",
    "plt.show()"
   ]
  }
 ],
 "metadata": {
  "accelerator": "GPU",
  "colab": {
   "collapsed_sections": [],
   "provenance": []
  },
  "gpuClass": "standard",
  "kernelspec": {
   "display_name": "Python 3 (ipykernel)",
   "language": "python",
   "name": "python3"
  },
  "language_info": {
   "codemirror_mode": {
    "name": "ipython",
    "version": 3
   },
   "file_extension": ".py",
   "mimetype": "text/x-python",
   "name": "python",
   "nbconvert_exporter": "python",
   "pygments_lexer": "ipython3",
   "version": "3.8.12"
  }
 },
 "nbformat": 4,
 "nbformat_minor": 1
}
