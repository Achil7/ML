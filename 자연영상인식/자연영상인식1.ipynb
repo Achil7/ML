{
  "nbformat": 4,
  "nbformat_minor": 0,
  "metadata": {
    "colab": {
      "provenance": []
    },
    "kernelspec": {
      "name": "python3",
      "display_name": "Python 3"
    },
    "language_info": {
      "name": "python"
    },
    "accelerator": "GPU"
  },
  "cells": [
    {
      "cell_type": "code",
      "execution_count": null,
      "metadata": {
        "id": "G0S8Y-kkHZHU"
      },
      "outputs": [],
      "source": [
        "# 딥러닝 학습용 데이터베이스\n",
        "# imageNet\n",
        "# MSCoCo\n",
        "# CIFAR - 10\n",
        "\n",
        "# CNN 인식"
      ]
    },
    {
      "cell_type": "code",
      "source": [
        "import numpy as np\n",
        "import tensorflow as tf\n",
        "from tensorflow.keras.datasets import cifar10\n",
        "from tensorflow.keras.models import Sequential\n",
        "from tensorflow.keras.layers import Conv2D, MaxPooling2D, Flatten, Dense, Dropout\n",
        "from tensorflow.keras.optimizers import Adam\n",
        "import matplotlib.pyplot as plt\n",
        "import seaborn as sns"
      ],
      "metadata": {
        "id": "wQB8Z5k5HxaO"
      },
      "execution_count": null,
      "outputs": []
    },
    {
      "cell_type": "code",
      "source": [
        "# 데이터 로드\n",
        "(x_train, y_train),(x_test,y_test) = cifar10.load_data()\n",
        "x_train = x_train.astype(np.float32)/255.0\n",
        "x_test = x_test.astype(np.float32)/255.0\n",
        "\n",
        "y_train = tf.keras.utils.to_categorical(y_train)\n",
        "y_test = tf.keras.utils.to_categorical(y_test)"
      ],
      "metadata": {
        "id": "erv8AbKxH5UX",
        "colab": {
          "base_uri": "https://localhost:8080/"
        },
        "outputId": "78e1dc06-ec97-4d66-d34d-280961d7519a"
      },
      "execution_count": null,
      "outputs": [
        {
          "output_type": "stream",
          "name": "stdout",
          "text": [
            "Downloading data from https://www.cs.toronto.edu/~kriz/cifar-10-python.tar.gz\n",
            "170500096/170498071 [==============================] - 4s 0us/step\n",
            "170508288/170498071 [==============================] - 4s 0us/step\n"
          ]
        }
      ]
    },
    {
      "cell_type": "code",
      "source": [
        "x_train.shape,y_train.shape"
      ],
      "metadata": {
        "colab": {
          "base_uri": "https://localhost:8080/"
        },
        "id": "HUhm3fdHux8o",
        "outputId": "e7479400-b16e-4d21-a682-f82539ba8112"
      },
      "execution_count": null,
      "outputs": [
        {
          "output_type": "execute_result",
          "data": {
            "text/plain": [
              "((50000, 32, 32, 3), (50000, 10))"
            ]
          },
          "metadata": {},
          "execution_count": 4
        }
      ]
    },
    {
      "cell_type": "code",
      "source": [
        "from tensorflow.python.ops.math_ops import Max\n",
        "# 신경망 설계 ccp d f(flatten) fc d fc\n",
        "cnn = Sequential()\n",
        "cnn.add(Conv2D(32,(3,3), activation='relu', input_shape = (32,32,3)))\n",
        "cnn.add(Conv2D(32,(3,3), activation='relu'))\n",
        "cnn.add(MaxPooling2D(pool_size=(2,2)))\n",
        "cnn.add(Dropout(0.25))\n",
        "\n",
        "cnn.add(Conv2D(64,(3,3), activation='relu'))\n",
        "cnn.add(Conv2D(64,(3,3), activation='relu'))\n",
        "cnn.add(MaxPooling2D(pool_size=(2,2)))\n",
        "cnn.add(Dropout(0.25))\n",
        "\n",
        "cnn.add(Flatten())\n",
        "cnn.add(Dense(512, activation = 'relu'))\n",
        "cnn.add(Dropout(0.5))\n",
        "cnn.add(Dense(10,activation='softmax'))"
      ],
      "metadata": {
        "id": "U7akZf5kuPm2"
      },
      "execution_count": null,
      "outputs": []
    },
    {
      "cell_type": "code",
      "source": [
        "from tensorflow.python import metrics\n",
        "# 모델 학습\n",
        "cnn.compile(loss=tf.keras.losses.categorical_crossentropy, optimizer = Adam(), metrics=['accuracy'])\n",
        "hist = cnn.fit(x_train,y_train, batch_size = 128, epochs=30, validation_data=(x_test,y_test),verbose=2)"
      ],
      "metadata": {
        "colab": {
          "base_uri": "https://localhost:8080/"
        },
        "id": "lm1ox7NHves4",
        "outputId": "af7cd7e0-7fb8-405c-ee46-df4f9cf25899"
      },
      "execution_count": null,
      "outputs": [
        {
          "output_type": "stream",
          "name": "stdout",
          "text": [
            "Epoch 1/30\n",
            "391/391 - 16s - loss: 1.6467 - accuracy: 0.3941 - val_loss: 1.2945 - val_accuracy: 0.5290 - 16s/epoch - 40ms/step\n",
            "Epoch 2/30\n",
            "391/391 - 4s - loss: 1.2543 - accuracy: 0.5524 - val_loss: 1.0687 - val_accuracy: 0.6166 - 4s/epoch - 10ms/step\n",
            "Epoch 3/30\n",
            "391/391 - 4s - loss: 1.0743 - accuracy: 0.6188 - val_loss: 0.9194 - val_accuracy: 0.6741 - 4s/epoch - 10ms/step\n",
            "Epoch 4/30\n",
            "391/391 - 4s - loss: 0.9660 - accuracy: 0.6591 - val_loss: 0.8610 - val_accuracy: 0.7036 - 4s/epoch - 10ms/step\n",
            "Epoch 5/30\n",
            "391/391 - 4s - loss: 0.8962 - accuracy: 0.6854 - val_loss: 0.7987 - val_accuracy: 0.7185 - 4s/epoch - 10ms/step\n",
            "Epoch 6/30\n",
            "391/391 - 4s - loss: 0.8286 - accuracy: 0.7095 - val_loss: 0.7640 - val_accuracy: 0.7351 - 4s/epoch - 10ms/step\n",
            "Epoch 7/30\n",
            "391/391 - 4s - loss: 0.7878 - accuracy: 0.7237 - val_loss: 0.7375 - val_accuracy: 0.7415 - 4s/epoch - 10ms/step\n",
            "Epoch 8/30\n",
            "391/391 - 4s - loss: 0.7439 - accuracy: 0.7379 - val_loss: 0.6958 - val_accuracy: 0.7534 - 4s/epoch - 11ms/step\n",
            "Epoch 9/30\n",
            "391/391 - 4s - loss: 0.7036 - accuracy: 0.7541 - val_loss: 0.6778 - val_accuracy: 0.7617 - 4s/epoch - 9ms/step\n",
            "Epoch 10/30\n",
            "391/391 - 4s - loss: 0.6833 - accuracy: 0.7591 - val_loss: 0.6938 - val_accuracy: 0.7587 - 4s/epoch - 10ms/step\n",
            "Epoch 11/30\n",
            "391/391 - 4s - loss: 0.6503 - accuracy: 0.7696 - val_loss: 0.6735 - val_accuracy: 0.7693 - 4s/epoch - 10ms/step\n",
            "Epoch 12/30\n",
            "391/391 - 4s - loss: 0.6234 - accuracy: 0.7801 - val_loss: 0.6695 - val_accuracy: 0.7704 - 4s/epoch - 10ms/step\n",
            "Epoch 13/30\n",
            "391/391 - 4s - loss: 0.6025 - accuracy: 0.7863 - val_loss: 0.6458 - val_accuracy: 0.7787 - 4s/epoch - 9ms/step\n",
            "Epoch 14/30\n",
            "391/391 - 4s - loss: 0.5902 - accuracy: 0.7900 - val_loss: 0.6368 - val_accuracy: 0.7779 - 4s/epoch - 9ms/step\n",
            "Epoch 15/30\n",
            "391/391 - 4s - loss: 0.5678 - accuracy: 0.7988 - val_loss: 0.6300 - val_accuracy: 0.7849 - 4s/epoch - 10ms/step\n",
            "Epoch 16/30\n",
            "391/391 - 4s - loss: 0.5473 - accuracy: 0.8063 - val_loss: 0.6437 - val_accuracy: 0.7815 - 4s/epoch - 9ms/step\n",
            "Epoch 17/30\n",
            "391/391 - 4s - loss: 0.5350 - accuracy: 0.8104 - val_loss: 0.6331 - val_accuracy: 0.7830 - 4s/epoch - 9ms/step\n",
            "Epoch 18/30\n",
            "391/391 - 4s - loss: 0.5257 - accuracy: 0.8128 - val_loss: 0.6425 - val_accuracy: 0.7787 - 4s/epoch - 10ms/step\n",
            "Epoch 19/30\n",
            "391/391 - 4s - loss: 0.5066 - accuracy: 0.8190 - val_loss: 0.6313 - val_accuracy: 0.7857 - 4s/epoch - 10ms/step\n",
            "Epoch 20/30\n",
            "391/391 - 4s - loss: 0.4972 - accuracy: 0.8247 - val_loss: 0.6112 - val_accuracy: 0.7937 - 4s/epoch - 9ms/step\n",
            "Epoch 21/30\n",
            "391/391 - 4s - loss: 0.4835 - accuracy: 0.8283 - val_loss: 0.6319 - val_accuracy: 0.7877 - 4s/epoch - 10ms/step\n",
            "Epoch 22/30\n",
            "391/391 - 4s - loss: 0.4714 - accuracy: 0.8312 - val_loss: 0.6222 - val_accuracy: 0.7916 - 4s/epoch - 10ms/step\n",
            "Epoch 23/30\n",
            "391/391 - 4s - loss: 0.4580 - accuracy: 0.8362 - val_loss: 0.6325 - val_accuracy: 0.7899 - 4s/epoch - 10ms/step\n",
            "Epoch 24/30\n",
            "391/391 - 4s - loss: 0.4502 - accuracy: 0.8383 - val_loss: 0.6310 - val_accuracy: 0.7877 - 4s/epoch - 9ms/step\n",
            "Epoch 25/30\n",
            "391/391 - 4s - loss: 0.4446 - accuracy: 0.8423 - val_loss: 0.6406 - val_accuracy: 0.7911 - 4s/epoch - 10ms/step\n",
            "Epoch 26/30\n",
            "391/391 - 4s - loss: 0.4343 - accuracy: 0.8445 - val_loss: 0.6136 - val_accuracy: 0.7975 - 4s/epoch - 9ms/step\n",
            "Epoch 27/30\n",
            "391/391 - 4s - loss: 0.4237 - accuracy: 0.8486 - val_loss: 0.6241 - val_accuracy: 0.7921 - 4s/epoch - 10ms/step\n",
            "Epoch 28/30\n",
            "391/391 - 4s - loss: 0.4198 - accuracy: 0.8509 - val_loss: 0.6257 - val_accuracy: 0.7960 - 4s/epoch - 9ms/step\n",
            "Epoch 29/30\n",
            "391/391 - 4s - loss: 0.4120 - accuracy: 0.8538 - val_loss: 0.6272 - val_accuracy: 0.7952 - 4s/epoch - 10ms/step\n",
            "Epoch 30/30\n",
            "391/391 - 4s - loss: 0.4074 - accuracy: 0.8547 - val_loss: 0.6339 - val_accuracy: 0.7909 - 4s/epoch - 9ms/step\n"
          ]
        }
      ]
    },
    {
      "cell_type": "code",
      "source": [
        "# 정확률 평가\n",
        "res = cnn.evaluate(x_test,y_test,verbose=2)\n",
        "res"
      ],
      "metadata": {
        "colab": {
          "base_uri": "https://localhost:8080/"
        },
        "id": "hipZRA_yuYxO",
        "outputId": "658342d6-9bcd-4906-f5ec-12142bbfb637"
      },
      "execution_count": null,
      "outputs": [
        {
          "output_type": "stream",
          "name": "stdout",
          "text": [
            "313/313 - 1s - loss: 0.6339 - accuracy: 0.7909 - 821ms/epoch - 3ms/step\n"
          ]
        },
        {
          "output_type": "execute_result",
          "data": {
            "text/plain": [
              "[0.6339215040206909, 0.7908999919891357]"
            ]
          },
          "metadata": {},
          "execution_count": 7
        }
      ]
    },
    {
      "cell_type": "markdown",
      "source": [
        "sns.lineplot(hist.history['accuracy'])"
      ],
      "metadata": {
        "id": "2T2MFXsAyNJ_"
      }
    },
    {
      "cell_type": "code",
      "source": [
        "hist.history.keys()"
      ],
      "metadata": {
        "colab": {
          "base_uri": "https://localhost:8080/"
        },
        "id": "KcVk28CQzqnm",
        "outputId": "1361d121-33b3-4d16-9fe8-f2e17c5fbd3e"
      },
      "execution_count": null,
      "outputs": [
        {
          "output_type": "execute_result",
          "data": {
            "text/plain": [
              "dict_keys(['loss', 'accuracy', 'val_loss', 'val_accuracy'])"
            ]
          },
          "metadata": {},
          "execution_count": 8
        }
      ]
    },
    {
      "cell_type": "code",
      "source": [
        "# 시각화\n",
        "sns.lineplot(data = hist.history['accuracy'])\n",
        "sns.lineplot(data = hist.history['val_accuracy'])            "
      ],
      "metadata": {
        "colab": {
          "base_uri": "https://localhost:8080/",
          "height": 284
        },
        "id": "L9hNhxtttJI8",
        "outputId": "18fb0565-1169-4c3f-a63d-8ea99ea88fc0"
      },
      "execution_count": null,
      "outputs": [
        {
          "output_type": "execute_result",
          "data": {
            "text/plain": [
              "<matplotlib.axes._subplots.AxesSubplot at 0x7f5d265abb90>"
            ]
          },
          "metadata": {},
          "execution_count": 9
        },
        {
          "output_type": "display_data",
          "data": {
            "text/plain": [
              "<Figure size 432x288 with 1 Axes>"
            ],
            "image/png": "[encoded data removed]"
          },
          "metadata": {
            "needs_background": "light"
          }
        }
      ]
    },
    {
      "cell_type": "code",
      "source": [
        "sns.lineplot(data = hist.history['loss'])\n",
        "sns.lineplot(data = hist.history['val_loss'])            "
      ],
      "metadata": {
        "colab": {
          "base_uri": "https://localhost:8080/",
          "height": 284
        },
        "id": "zbN0oDNSzm6M",
        "outputId": "d7b1fdb5-632c-4f94-b7ac-ed1a5035a020"
      },
      "execution_count": null,
      "outputs": [
        {
          "output_type": "execute_result",
          "data": {
            "text/plain": [
              "<matplotlib.axes._subplots.AxesSubplot at 0x7f5d2663d3d0>"
            ]
          },
          "metadata": {},
          "execution_count": 10
        },
        {
          "output_type": "display_data",
          "data": {
            "text/plain": [
              "<Figure size 432x288 with 1 Axes>"
            ],
            "image/png": "[encoded data removed]"
          },
          "metadata": {
            "needs_background": "light"
          }
        }
      ]
    },
    {
      "cell_type": "code",
      "source": [
        "# 학습된 모델을 저장하고 재활용\n",
        "# 학습에 시간이 많이 걸리므로 저장해 두고 필요할때 불러씀\n",
        "# save 함수로 구현(신경망의 구조정보와, 가중치 정보를 저장하여 HDF5 파일 형식)"
      ],
      "metadata": {
        "id": "68Mv8i640Gu2"
      },
      "execution_count": null,
      "outputs": []
    },
    {
      "cell_type": "code",
      "source": [
        "cnn.save('cnn1.h5')"
      ],
      "metadata": {
        "id": "vTUEWFIr0ark"
      },
      "execution_count": null,
      "outputs": []
    },
    {
      "cell_type": "code",
      "source": [
        "# 파일 다운로드 후\n",
        "# 모델을 쓸 새노트에서 다운로드한 'cnn1.h5' 파일을 업로드 하고 \n",
        "# cnn = tf.keras.models.load_model(\"/cnn1.h5\")"
      ],
      "metadata": {
        "id": "9nrYPOFu4gAN"
      },
      "execution_count": null,
      "outputs": []
    }
  ]
}