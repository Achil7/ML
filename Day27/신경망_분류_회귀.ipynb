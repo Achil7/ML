{
 "cells": [
  {
   "cell_type": "markdown",
   "id": "51009fd5",
   "metadata": {},
   "source": [
    "### 이진분류 : 영화리뷰"
   ]
  },
  {
   "cell_type": "code",
   "execution_count": 1,
   "id": "12ae1fc0",
   "metadata": {},
   "outputs": [],
   "source": [
    "from tensorflow.keras.datasets import imdb"
   ]
  },
  {
   "cell_type": "code",
   "execution_count": 2,
   "id": "31fa1fa6",
   "metadata": {},
   "outputs": [],
   "source": [
    "(x_train,y_train),(x_test,y_test) = imdb.load_data(num_words=1000)"
   ]
  },
  {
   "cell_type": "code",
   "execution_count": 3,
   "id": "11a04829",
   "metadata": {},
   "outputs": [
    {
     "data": {
      "text/plain": [
       "(25000,)"
      ]
     },
     "execution_count": 3,
     "metadata": {},
     "output_type": "execute_result"
    }
   ],
   "source": [
    "x_train.shape"
   ]
  },
  {
   "cell_type": "code",
   "execution_count": 4,
   "id": "87c0eb0b",
   "metadata": {},
   "outputs": [],
   "source": [
    "# 리뷰를 텍스트로 디코딩"
   ]
  },
  {
   "cell_type": "code",
   "execution_count": 5,
   "id": "5b4cf3c4",
   "metadata": {},
   "outputs": [],
   "source": [
    "import tensorflow as tf"
   ]
  },
  {
   "cell_type": "code",
   "execution_count": 6,
   "id": "b4d6ef58",
   "metadata": {},
   "outputs": [],
   "source": [
    "word_index = imdb.get_word_index()"
   ]
  },
  {
   "cell_type": "code",
   "execution_count": 7,
   "id": "28fd41c3",
   "metadata": {},
   "outputs": [],
   "source": [
    "reverse_word_index = dict(\n",
    "    [(value,key) for (key,value) in word_index.items()])"
   ]
  },
  {
   "cell_type": "code",
   "execution_count": 8,
   "id": "cd9ffd79",
   "metadata": {},
   "outputs": [],
   "source": [
    "decoded_review = \" \".join(\n",
    "    reverse_word_index.get(i-3,\"?\") for i in x_train[0]\n",
    ")"
   ]
  },
  {
   "cell_type": "code",
   "execution_count": 9,
   "id": "c5d9e9e4",
   "metadata": {},
   "outputs": [],
   "source": [
    "# 데이터 준비\n",
    "# 숫자를 멀티 - 핫 인코딩\n",
    "import numpy as np\n",
    "def vectorize_sequences(sequences, dimension = 1000):\n",
    "    results = np.zeros((len(sequences),dimension))\n",
    "    for i, sequence in enumerate(sequences):\n",
    "        for j in sequence:\n",
    "            results[i,j] = 1.\n",
    "    return results\n",
    "x_train = vectorize_sequences(x_train)\n",
    "x_test = vectorize_sequences(x_test)"
   ]
  },
  {
   "cell_type": "code",
   "execution_count": 10,
   "id": "84fc5dc6",
   "metadata": {},
   "outputs": [
    {
     "data": {
      "text/plain": [
       "(2, 2)"
      ]
     },
     "execution_count": 10,
     "metadata": {},
     "output_type": "execute_result"
    }
   ],
   "source": [
    "temp =[\n",
    "    [1,2],\n",
    "    [3,4]\n",
    "]\n",
    "np.array(temp).shape"
   ]
  },
  {
   "cell_type": "code",
   "execution_count": 11,
   "id": "ec1dc488",
   "metadata": {},
   "outputs": [
    {
     "data": {
      "text/plain": [
       "array([[0., 1., 1., 0., 0.],\n",
       "       [0., 0., 0., 1., 1.]])"
      ]
     },
     "execution_count": 11,
     "metadata": {},
     "output_type": "execute_result"
    }
   ],
   "source": [
    "vectorize_sequences(temp,5)"
   ]
  },
  {
   "cell_type": "code",
   "execution_count": 12,
   "id": "1c4c49ab",
   "metadata": {},
   "outputs": [],
   "source": [
    "y_train = np.asarray(y_train).astype('float32')\n",
    "y_test = np.asarray(y_test).astype('float32')"
   ]
  },
  {
   "cell_type": "markdown",
   "id": "58ff83fd",
   "metadata": {},
   "source": [
    "### 신경망 모델 생성"
   ]
  },
  {
   "cell_type": "code",
   "execution_count": 13,
   "id": "bfc29e6e",
   "metadata": {},
   "outputs": [],
   "source": [
    "from tensorflow import keras\n",
    "from tensorflow.keras import layers"
   ]
  },
  {
   "cell_type": "code",
   "execution_count": 14,
   "id": "5d187b9c",
   "metadata": {},
   "outputs": [],
   "source": [
    "model = keras.Sequential([\n",
    "    layers.Dense(16,activation='relu'),\n",
    "    layers.Dense(16,activation='relu'),\n",
    "    layers.Dense(1,activation='sigmoid')\n",
    "])"
   ]
  },
  {
   "cell_type": "code",
   "execution_count": 15,
   "id": "49139255",
   "metadata": {},
   "outputs": [],
   "source": [
    "model.compile(optimizer='adam', loss=tf.keras.losses.binary_crossentropy, metrics=['acc'])\n",
    "# 둘 중 하나이기 때문에 손실함수는 binary를 주었음"
   ]
  },
  {
   "cell_type": "code",
   "execution_count": 16,
   "id": "2e8f3660",
   "metadata": {},
   "outputs": [
    {
     "data": {
      "text/plain": [
       "((25000, 1000), (25000,))"
      ]
     },
     "execution_count": 16,
     "metadata": {},
     "output_type": "execute_result"
    }
   ],
   "source": [
    "x_train.shape, y_train.shape"
   ]
  },
  {
   "cell_type": "code",
   "execution_count": 17,
   "id": "0fdc5f4e",
   "metadata": {},
   "outputs": [
    {
     "data": {
      "text/plain": [
       "((18750, 1000), (6250, 1000))"
      ]
     },
     "execution_count": 17,
     "metadata": {},
     "output_type": "execute_result"
    }
   ],
   "source": [
    "# 훈련데이터를 학습용과 검증용 데이터로 split\n",
    "from sklearn.model_selection import train_test_split\n",
    "x_tr,x_val,y_tr,y_val = train_test_split(x_train,y_train,random_state=32)\n",
    "x_tr.shape, x_val.shape"
   ]
  },
  {
   "cell_type": "code",
   "execution_count": 18,
   "id": "43ab8c63",
   "metadata": {
    "scrolled": true
   },
   "outputs": [
    {
     "name": "stdout",
     "output_type": "stream",
     "text": [
      "Epoch 1/20\n",
      "37/37 [==============================] - 1s 6ms/step - loss: 0.6315 - acc: 0.6570 - val_loss: 0.5096 - val_acc: 0.7845\n",
      "Epoch 2/20\n",
      "37/37 [==============================] - 0s 3ms/step - loss: 0.4264 - acc: 0.8268 - val_loss: 0.3657 - val_acc: 0.8472\n",
      "Epoch 3/20\n",
      "37/37 [==============================] - 0s 3ms/step - loss: 0.3395 - acc: 0.8618 - val_loss: 0.3328 - val_acc: 0.8600\n",
      "Epoch 4/20\n",
      "37/37 [==============================] - 0s 3ms/step - loss: 0.3152 - acc: 0.8716 - val_loss: 0.3327 - val_acc: 0.8573\n",
      "Epoch 5/20\n",
      "37/37 [==============================] - 0s 3ms/step - loss: 0.3044 - acc: 0.8757 - val_loss: 0.3307 - val_acc: 0.8606\n",
      "Epoch 6/20\n",
      "37/37 [==============================] - 0s 3ms/step - loss: 0.2970 - acc: 0.8776 - val_loss: 0.3464 - val_acc: 0.8507\n",
      "Epoch 7/20\n",
      "37/37 [==============================] - 0s 3ms/step - loss: 0.2947 - acc: 0.8791 - val_loss: 0.3305 - val_acc: 0.8626\n",
      "Epoch 8/20\n",
      "37/37 [==============================] - 0s 4ms/step - loss: 0.2918 - acc: 0.8798 - val_loss: 0.3359 - val_acc: 0.8600\n",
      "Epoch 9/20\n",
      "37/37 [==============================] - 0s 3ms/step - loss: 0.2907 - acc: 0.8811 - val_loss: 0.3352 - val_acc: 0.8611\n",
      "Epoch 10/20\n",
      "37/37 [==============================] - 0s 3ms/step - loss: 0.2853 - acc: 0.8817 - val_loss: 0.3348 - val_acc: 0.8616\n",
      "Epoch 11/20\n",
      "37/37 [==============================] - 0s 3ms/step - loss: 0.2823 - acc: 0.8834 - val_loss: 0.3359 - val_acc: 0.8616\n",
      "Epoch 12/20\n",
      "37/37 [==============================] - 0s 3ms/step - loss: 0.2787 - acc: 0.8856 - val_loss: 0.3364 - val_acc: 0.8608\n",
      "Epoch 13/20\n",
      "37/37 [==============================] - 0s 3ms/step - loss: 0.2750 - acc: 0.8881 - val_loss: 0.3386 - val_acc: 0.8592\n",
      "Epoch 14/20\n",
      "37/37 [==============================] - 0s 3ms/step - loss: 0.2700 - acc: 0.8903 - val_loss: 0.3388 - val_acc: 0.8582\n",
      "Epoch 15/20\n",
      "37/37 [==============================] - 0s 3ms/step - loss: 0.2640 - acc: 0.8915 - val_loss: 0.3420 - val_acc: 0.8541\n",
      "Epoch 16/20\n",
      "37/37 [==============================] - 0s 3ms/step - loss: 0.2585 - acc: 0.8951 - val_loss: 0.3444 - val_acc: 0.8576\n",
      "Epoch 17/20\n",
      "37/37 [==============================] - 0s 3ms/step - loss: 0.2527 - acc: 0.8973 - val_loss: 0.3457 - val_acc: 0.8515\n",
      "Epoch 18/20\n",
      "37/37 [==============================] - 0s 3ms/step - loss: 0.2479 - acc: 0.8999 - val_loss: 0.3520 - val_acc: 0.8541\n",
      "Epoch 19/20\n",
      "37/37 [==============================] - 0s 3ms/step - loss: 0.2403 - acc: 0.9033 - val_loss: 0.3522 - val_acc: 0.8526\n",
      "Epoch 20/20\n",
      "37/37 [==============================] - 0s 3ms/step - loss: 0.2351 - acc: 0.9058 - val_loss: 0.3682 - val_acc: 0.8523\n"
     ]
    }
   ],
   "source": [
    "# 모델 훈련\n",
    "hist = model.fit(x_tr,y_tr, epochs=20, batch_size=512, validation_data=(x_val,y_val),verbose=1)"
   ]
  },
  {
   "cell_type": "code",
   "execution_count": 19,
   "id": "9677f954",
   "metadata": {},
   "outputs": [
    {
     "data": {
      "text/plain": [
       "dict_keys(['loss', 'acc', 'val_loss', 'val_acc'])"
      ]
     },
     "execution_count": 19,
     "metadata": {},
     "output_type": "execute_result"
    }
   ],
   "source": [
    "hist.history.keys()"
   ]
  },
  {
   "cell_type": "code",
   "execution_count": 20,
   "id": "2597cf73",
   "metadata": {},
   "outputs": [
    {
     "data": {
      "text/plain": [
       "<function matplotlib.pyplot.show(close=None, block=None)>"
      ]
     },
     "execution_count": 20,
     "metadata": {},
     "output_type": "execute_result"
    },
    {
     "data": {
      "image/png": "[encoded data removed]",
      "text/plain": [
       "<Figure size 432x288 with 1 Axes>"
      ]
     },
     "metadata": {
      "needs_background": "light"
     },
     "output_type": "display_data"
    }
   ],
   "source": [
    "import matplotlib.pyplot as plt\n",
    "history_dict = hist.history\n",
    "loss_values = history_dict['loss']\n",
    "val_loss_values = history_dict['val_loss']\n",
    "epochs = range(1,len(loss_values)+1)\n",
    "plt.plot(epochs, loss_values,\"ro\",label=\"Training loss\")\n",
    "plt.plot(epochs, val_loss_values,\"b\",label=\"Validation loss\")\n",
    "plt.legend()\n",
    "plt.show"
   ]
  },
  {
   "cell_type": "code",
   "execution_count": 21,
   "id": "c2c3a7e9",
   "metadata": {},
   "outputs": [
    {
     "data": {
      "text/plain": [
       "<function matplotlib.pyplot.show(close=None, block=None)>"
      ]
     },
     "execution_count": 21,
     "metadata": {},
     "output_type": "execute_result"
    },
    {
     "data": {
      "image/png": "[encoded data removed]",
      "text/plain": [
       "<Figure size 432x288 with 1 Axes>"
      ]
     },
     "metadata": {
      "needs_background": "light"
     },
     "output_type": "display_data"
    }
   ],
   "source": [
    "history_dict = hist.history\n",
    "loss_values = history_dict['acc']\n",
    "val_loss_values = history_dict['val_acc']\n",
    "epochs = range(1,len(loss_values)+1)\n",
    "plt.plot(epochs, loss_values,\"ro\",label=\"Training acc\")\n",
    "plt.plot(epochs, val_loss_values,\"b\",label=\"Validation acc\")\n",
    "plt.legend()\n",
    "plt.show"
   ]
  },
  {
   "cell_type": "code",
   "execution_count": 22,
   "id": "0b677838",
   "metadata": {},
   "outputs": [
    {
     "data": {
      "text/plain": [
       "array([[0.13056794],\n",
       "       [0.99980533],\n",
       "       [0.654661  ],\n",
       "       ...,\n",
       "       [0.08486184],\n",
       "       [0.01932102],\n",
       "       [0.4915745 ]], dtype=float32)"
      ]
     },
     "execution_count": 22,
     "metadata": {},
     "output_type": "execute_result"
    }
   ],
   "source": [
    "# 예측\n",
    "model.predict(x_test)"
   ]
  },
  {
   "cell_type": "code",
   "execution_count": 23,
   "id": "132c7fe8",
   "metadata": {},
   "outputs": [
    {
     "name": "stdout",
     "output_type": "stream",
     "text": [
      "782/782 [==============================] - ETA: 0s - loss: 0.3634 - acc: 0.850 - 0s 576us/step - loss: 0.3628 - acc: 0.8505\n"
     ]
    },
    {
     "data": {
      "text/plain": [
       "[0.36280587315559387, 0.8504800200462341]"
      ]
     },
     "execution_count": 23,
     "metadata": {},
     "output_type": "execute_result"
    }
   ],
   "source": [
    "# 평가\n",
    "model.evaluate(x_test,y_test)"
   ]
  },
  {
   "cell_type": "code",
   "execution_count": 24,
   "id": "8e75af71",
   "metadata": {},
   "outputs": [
    {
     "data": {
      "text/plain": [
       "((8982,), (2246,))"
      ]
     },
     "execution_count": 24,
     "metadata": {},
     "output_type": "execute_result"
    }
   ],
   "source": [
    "# 다중분류\n",
    "from tensorflow.keras.datasets import reuters\n",
    "(x_train,y_train),(x_test,y_test) = reuters.load_data(num_words=10000)\n",
    "x_train.shape, x_test.shape"
   ]
  },
  {
   "cell_type": "code",
   "execution_count": 25,
   "id": "2d1c1cc8",
   "metadata": {},
   "outputs": [],
   "source": [
    "x_train = vectorize_sequences(x_train, 10000)\n",
    "x_test = vectorize_sequences(x_test,10000)"
   ]
  },
  {
   "cell_type": "code",
   "execution_count": 26,
   "id": "26c7c19f",
   "metadata": {},
   "outputs": [],
   "source": [
    "# 레이블 인코딩을 했을 경우 손실함수를 categorical_crossentropy로 줘야함\n",
    "# 레이블 인코딩을 하지 않았을 경우 손실함수를 sparse_categorical_crossentropy로 줘야함\n",
    "# y_train = tf.keras.utils.to_categorical(y_train)\n",
    "# y_test = tf.keras.utils.to_categorical(y_test)"
   ]
  },
  {
   "cell_type": "code",
   "execution_count": 27,
   "id": "4f027d7e",
   "metadata": {},
   "outputs": [],
   "source": [
    "model = tf.keras.Sequential([\n",
    "    layers.Dense(128,activation='relu'),\n",
    "    layers.Dropout(0.25),\n",
    "    layers.Dense(64,activation='relu'),\n",
    "    layers.Dropout(0.5),\n",
    "    layers.Dense(32,activation='relu'),\n",
    "    layers.Dropout(0.5),\n",
    "    layers.Dense(46,activation='softmax')\n",
    "])"
   ]
  },
  {
   "cell_type": "code",
   "execution_count": 28,
   "id": "a0a0a83b",
   "metadata": {},
   "outputs": [],
   "source": [
    "model.compile(optimizer='adam',loss=tf.keras.losses.sparse_categorical_crossentropy,metrics=['acc'])"
   ]
  },
  {
   "cell_type": "code",
   "execution_count": 29,
   "id": "1e807b31",
   "metadata": {},
   "outputs": [
    {
     "data": {
      "text/plain": [
       "((6736, 10000), (2246, 10000))"
      ]
     },
     "execution_count": 29,
     "metadata": {},
     "output_type": "execute_result"
    }
   ],
   "source": [
    "# 훈련데이터를 학습용과 검증용 데이터로 split\n",
    "x_tr,x_val,y_tr,y_val = train_test_split(x_train,y_train)\n",
    "x_tr.shape, x_val.shape"
   ]
  },
  {
   "cell_type": "code",
   "execution_count": 30,
   "id": "4a5bf877",
   "metadata": {
    "scrolled": true
   },
   "outputs": [
    {
     "name": "stdout",
     "output_type": "stream",
     "text": [
      "Epoch 1/30\n",
      "53/53 [==============================] - 1s 13ms/step - loss: 3.0639 - acc: 0.2672 - val_loss: 1.8719 - val_acc: 0.5784\n",
      "Epoch 2/30\n",
      "53/53 [==============================] - 1s 11ms/step - loss: 1.9273 - acc: 0.5251 - val_loss: 1.5521 - val_acc: 0.6305\n",
      "Epoch 3/30\n",
      "53/53 [==============================] - 1s 11ms/step - loss: 1.6332 - acc: 0.6004 - val_loss: 1.4256 - val_acc: 0.6825\n",
      "Epoch 4/30\n",
      "53/53 [==============================] - 1s 11ms/step - loss: 1.4134 - acc: 0.6611 - val_loss: 1.3362 - val_acc: 0.6928\n",
      "Epoch 5/30\n",
      "53/53 [==============================] - 1s 10ms/step - loss: 1.2651 - acc: 0.6827 - val_loss: 1.3305 - val_acc: 0.6937\n",
      "Epoch 6/30\n",
      "53/53 [==============================] - 1s 11ms/step - loss: 1.1613 - acc: 0.7028 - val_loss: 1.3066 - val_acc: 0.7008\n",
      "Epoch 7/30\n",
      "53/53 [==============================] - 1s 10ms/step - loss: 1.0800 - acc: 0.7184 - val_loss: 1.3016 - val_acc: 0.7204\n",
      "Epoch 8/30\n",
      "53/53 [==============================] - 1s 11ms/step - loss: 1.0021 - acc: 0.7374 - val_loss: 1.2897 - val_acc: 0.7240\n",
      "Epoch 9/30\n",
      "53/53 [==============================] - 1s 11ms/step - loss: 0.9239 - acc: 0.7550 - val_loss: 1.3339 - val_acc: 0.7302\n",
      "Epoch 10/30\n",
      "53/53 [==============================] - 1s 11ms/step - loss: 0.8922 - acc: 0.7599 - val_loss: 1.3524 - val_acc: 0.7351\n",
      "Epoch 11/30\n",
      "53/53 [==============================] - 1s 11ms/step - loss: 0.8474 - acc: 0.7699 - val_loss: 1.3627 - val_acc: 0.7440\n",
      "Epoch 12/30\n",
      "53/53 [==============================] - 1s 10ms/step - loss: 0.7932 - acc: 0.7784 - val_loss: 1.3914 - val_acc: 0.7471\n",
      "Epoch 13/30\n",
      "53/53 [==============================] - 1s 12ms/step - loss: 0.7826 - acc: 0.7804 - val_loss: 1.3799 - val_acc: 0.7507\n",
      "Epoch 14/30\n",
      "53/53 [==============================] - 1s 10ms/step - loss: 0.7422 - acc: 0.7950 - val_loss: 1.3721 - val_acc: 0.7511\n",
      "Epoch 15/30\n",
      "53/53 [==============================] - 1s 10ms/step - loss: 0.7141 - acc: 0.7982 - val_loss: 1.4342 - val_acc: 0.7605\n",
      "Epoch 16/30\n",
      "53/53 [==============================] - 1s 10ms/step - loss: 0.6958 - acc: 0.8012 - val_loss: 1.4347 - val_acc: 0.7622\n",
      "Epoch 17/30\n",
      "53/53 [==============================] - 1s 10ms/step - loss: 0.6680 - acc: 0.8086 - val_loss: 1.4873 - val_acc: 0.7591\n",
      "Epoch 18/30\n",
      "53/53 [==============================] - 1s 11ms/step - loss: 0.6541 - acc: 0.8100 - val_loss: 1.4905 - val_acc: 0.7587\n",
      "Epoch 19/30\n",
      "53/53 [==============================] - 1s 11ms/step - loss: 0.6332 - acc: 0.8184 - val_loss: 1.5245 - val_acc: 0.7605\n",
      "Epoch 20/30\n",
      "53/53 [==============================] - 1s 10ms/step - loss: 0.6207 - acc: 0.8198 - val_loss: 1.5464 - val_acc: 0.7658\n",
      "Epoch 21/30\n",
      "53/53 [==============================] - 1s 10ms/step - loss: 0.6029 - acc: 0.8235 - val_loss: 1.5957 - val_acc: 0.7640\n",
      "Epoch 22/30\n",
      "53/53 [==============================] - 1s 10ms/step - loss: 0.6003 - acc: 0.8253 - val_loss: 1.5715 - val_acc: 0.7605\n",
      "Epoch 23/30\n",
      "53/53 [==============================] - 1s 10ms/step - loss: 0.5929 - acc: 0.8250 - val_loss: 1.5956 - val_acc: 0.7622\n",
      "Epoch 24/30\n",
      "53/53 [==============================] - 1s 10ms/step - loss: 0.5618 - acc: 0.8339 - val_loss: 1.6154 - val_acc: 0.7671\n",
      "Epoch 25/30\n",
      "53/53 [==============================] - 1s 10ms/step - loss: 0.5584 - acc: 0.8331 - val_loss: 1.6751 - val_acc: 0.7622\n",
      "Epoch 26/30\n",
      "53/53 [==============================] - 1s 10ms/step - loss: 0.5552 - acc: 0.8371 - val_loss: 1.6569 - val_acc: 0.7640\n",
      "Epoch 27/30\n",
      "53/53 [==============================] - 1s 10ms/step - loss: 0.5319 - acc: 0.8391 - val_loss: 1.7065 - val_acc: 0.7685\n",
      "Epoch 28/30\n",
      "53/53 [==============================] - 1s 11ms/step - loss: 0.5284 - acc: 0.8407 - val_loss: 1.7705 - val_acc: 0.7658\n",
      "Epoch 29/30\n",
      "53/53 [==============================] - 1s 10ms/step - loss: 0.5245 - acc: 0.8403 - val_loss: 1.8142 - val_acc: 0.7680\n",
      "Epoch 30/30\n",
      "53/53 [==============================] - 1s 11ms/step - loss: 0.5181 - acc: 0.8455 - val_loss: 1.7422 - val_acc: 0.7689\n"
     ]
    }
   ],
   "source": [
    "hist = model.fit(x_tr,y_tr, epochs=30, batch_size = 128, validation_data=(x_val,y_val),verbose=1)"
   ]
  },
  {
   "cell_type": "code",
   "execution_count": 31,
   "id": "488c7323",
   "metadata": {},
   "outputs": [
    {
     "data": {
      "text/plain": [
       "<function matplotlib.pyplot.show(close=None, block=None)>"
      ]
     },
     "execution_count": 31,
     "metadata": {},
     "output_type": "execute_result"
    },
    {
     "data": {
      "image/png": "[encoded data removed]",
      "text/plain": [
       "<Figure size 432x288 with 1 Axes>"
      ]
     },
     "metadata": {
      "needs_background": "light"
     },
     "output_type": "display_data"
    }
   ],
   "source": [
    "history_dict = hist.history\n",
    "loss_values = history_dict['loss']\n",
    "val_loss_values = history_dict['val_loss']\n",
    "epochs = range(1,len(loss_values)+1)\n",
    "plt.plot(epochs, loss_values,\"ro\",label=\"Training loss\")\n",
    "plt.plot(epochs, val_loss_values,\"b\",label=\"Validation loss\")\n",
    "plt.legend()\n",
    "plt.show"
   ]
  },
  {
   "cell_type": "code",
   "execution_count": 32,
   "id": "c88aa2eb",
   "metadata": {},
   "outputs": [
    {
     "data": {
      "text/plain": [
       "<function matplotlib.pyplot.show(close=None, block=None)>"
      ]
     },
     "execution_count": 32,
     "metadata": {},
     "output_type": "execute_result"
    },
    {
     "data": {
      "image/png": "[encoded data removed]",
      "text/plain": [
       "<Figure size 432x288 with 1 Axes>"
      ]
     },
     "metadata": {
      "needs_background": "light"
     },
     "output_type": "display_data"
    }
   ],
   "source": [
    "history_dict = hist.history\n",
    "loss_values = history_dict['acc']\n",
    "val_loss_values = history_dict['val_acc']\n",
    "epochs = range(1,len(loss_values)+1)\n",
    "plt.plot(epochs, loss_values,\"ro\",label=\"Training acc\")\n",
    "plt.plot(epochs, val_loss_values,\"b\",label=\"Validation acc\")\n",
    "plt.legend()\n",
    "plt.show"
   ]
  },
  {
   "cell_type": "code",
   "execution_count": 33,
   "id": "48f6c448",
   "metadata": {},
   "outputs": [
    {
     "name": "stdout",
     "output_type": "stream",
     "text": [
      "71/71 [==============================] - 0s 2ms/step - loss: 1.8043 - acc: 0.7676\n"
     ]
    },
    {
     "data": {
      "text/plain": [
       "[1.8042960166931152, 0.7675868272781372]"
      ]
     },
     "execution_count": 33,
     "metadata": {},
     "output_type": "execute_result"
    }
   ],
   "source": [
    "model.evaluate(x_test,y_test)"
   ]
  },
  {
   "cell_type": "markdown",
   "id": "3776d89c",
   "metadata": {},
   "source": [
    "### 보스턴 주택 가격"
   ]
  },
  {
   "cell_type": "code",
   "execution_count": 34,
   "id": "f765228c",
   "metadata": {},
   "outputs": [],
   "source": [
    "from tensorflow.keras.datasets import boston_housing\n",
    "(train_data, train_targets),(test_data,test_targets) = boston_housing.load_data()"
   ]
  },
  {
   "cell_type": "code",
   "execution_count": 35,
   "id": "a5816039",
   "metadata": {},
   "outputs": [
    {
     "data": {
      "text/plain": [
       "(404, 13)"
      ]
     },
     "execution_count": 35,
     "metadata": {},
     "output_type": "execute_result"
    }
   ],
   "source": [
    "train_data.shape"
   ]
  },
  {
   "cell_type": "code",
   "execution_count": 36,
   "id": "2db194c2",
   "metadata": {},
   "outputs": [],
   "source": [
    "# 데이터 정규화\n",
    "mean = train_data.mean(axis = 0)\n",
    "train_data -= mean\n",
    "std = train_data.std(axis = 0)\n",
    "\n",
    "train_data /= std\n",
    "\n",
    "test_data -= mean\n",
    "test_data /= std"
   ]
  },
  {
   "cell_type": "code",
   "execution_count": 37,
   "id": "ee91575a",
   "metadata": {},
   "outputs": [],
   "source": [
    "# 모델 정의\n",
    "# 분류가 아닌 예측모델이므로 마지막 층에는 활성화함수를 따로 주지 않음\n",
    "def build_model():\n",
    "    model = keras.Sequential([\n",
    "        layers.Dense(64,activation='relu'),\n",
    "        layers.Dense(64,activation='relu'),\n",
    "        layers.Dense(1)\n",
    "    ])\n",
    "    model.compile(optimizer='adam', loss='mse', metrics=['mae'])\n",
    "    return model"
   ]
  },
  {
   "cell_type": "code",
   "execution_count": 52,
   "id": "d30a55c3",
   "metadata": {},
   "outputs": [],
   "source": [
    "# k-fold 검증\n",
    "k = 4\n",
    "num_val_samples =  len(train_data) // k\n",
    "num_epochs = 100\n",
    "all_scores = []\n",
    "\n",
    "for i in range(k):\n",
    "    print(f\"#{i}번째 폴드 처리중\")\n",
    "    val_data = train_data[i*num_val_samples:(i+1)*num_val_samples]\n",
    "    val_targets = train_targets[i*num_val_samples:(i+1)*num_val_samples]\n",
    "    partial_train_data = np.concatenate(\n",
    "        [\n",
    "            train_data[:i*num_val_samples],\n",
    "            train_data[(i+1)*num_val_samples:]\n",
    "        ],\n",
    "        axis=0\n",
    "    )\n",
    "    partial_train_targets = np.concatenate(\n",
    "        [\n",
    "            train_targets[:i*num_val_samples],\n",
    "            train_targets[(i+1)*num_val_samples:]\n",
    "        ],\n",
    "        axis=0\n",
    "    )\n",
    "    model = build_model()\n",
    "    model.fit(partial_train_data,partial_train_targets,epochs=num_epochs,batch_size=16)\n",
    "    val_mse, val_mae =  model.evaluate(val_data,val_targets)\n",
    "    all_scores.append(val_mae)"
   ]
  },
  {
   "cell_type": "code",
   "execution_count": 39,
   "id": "4340e1aa",
   "metadata": {},
   "outputs": [
    {
     "data": {
      "text/plain": [
       "[2.024608612060547, 2.3919522762298584, 2.3310441970825195, 2.4382214546203613]"
      ]
     },
     "execution_count": 39,
     "metadata": {},
     "output_type": "execute_result"
    }
   ],
   "source": [
    "all_scores"
   ]
  },
  {
   "cell_type": "code",
   "execution_count": 40,
   "id": "c83c70eb",
   "metadata": {},
   "outputs": [
    {
     "data": {
      "text/plain": [
       "2.2964566349983215"
      ]
     },
     "execution_count": 40,
     "metadata": {},
     "output_type": "execute_result"
    }
   ],
   "source": [
    "np.mean(all_scores)"
   ]
  },
  {
   "cell_type": "code",
   "execution_count": 51,
   "id": "ce78be07",
   "metadata": {},
   "outputs": [],
   "source": [
    "# k-겹 검증 \n",
    "k = 4\n",
    "num_val_samples =  len(train_data) // k\n",
    "num_epochs = 500\n",
    "all_mae_histories = []\n",
    "for i in range(k):\n",
    "    print(f\"#{i}번째 폴드 처리중\")\n",
    "    val_data = train_data[i*num_val_samples:(i+1)*num_val_samples]\n",
    "    val_targets = train_targets[i*num_val_samples:(i+1)*num_val_samples]\n",
    "    partial_train_data = np.concatenate(\n",
    "        [\n",
    "            train_data[:i*num_val_samples],\n",
    "            train_data[(i+1)*num_val_samples:]\n",
    "        ],\n",
    "        axis=0\n",
    "    )\n",
    "    partial_train_targets = np.concatenate(\n",
    "        [\n",
    "            train_targets[:i*num_val_samples],\n",
    "            train_targets[(i+1)*num_val_samples:]\n",
    "        ],\n",
    "        axis=0\n",
    "    )\n",
    "    model = build_model()\n",
    "    history = model.fit(partial_train_data,partial_train_targets,epochs=num_epochs,batch_size=16,\n",
    "                        validation_data=(val_data,val_targets) )\n",
    "    val_mse, val_mae =  model.evaluate(val_data,val_targets)\n",
    "    all_mae_histories.append(history.history['val_mae'])"
   ]
  },
  {
   "cell_type": "code",
   "execution_count": 42,
   "id": "4709f2b4",
   "metadata": {},
   "outputs": [
    {
     "data": {
      "text/plain": [
       "(4, 500)"
      ]
     },
     "execution_count": 42,
     "metadata": {},
     "output_type": "execute_result"
    }
   ],
   "source": [
    "np.array(all_mae_histories).shape"
   ]
  },
  {
   "cell_type": "code",
   "execution_count": 43,
   "id": "2b4faf9d",
   "metadata": {},
   "outputs": [
    {
     "data": {
      "text/plain": [
       "500"
      ]
     },
     "execution_count": 43,
     "metadata": {},
     "output_type": "execute_result"
    }
   ],
   "source": [
    "num_epochs"
   ]
  },
  {
   "cell_type": "code",
   "execution_count": 44,
   "id": "e156afa5",
   "metadata": {},
   "outputs": [
    {
     "data": {
      "text/plain": [
       "500"
      ]
     },
     "execution_count": 44,
     "metadata": {},
     "output_type": "execute_result"
    }
   ],
   "source": [
    "# k겹 검증 점수 평균을 기록\n",
    "average_mae_history = [np.mean( [x[i] for x in all_mae_histories] )  for i in range(num_epochs)]\n",
    "len(average_mae_history)"
   ]
  },
  {
   "cell_type": "code",
   "execution_count": 45,
   "id": "d6c517ca",
   "metadata": {},
   "outputs": [
    {
     "data": {
      "text/plain": [
       "(500, 4)"
      ]
     },
     "execution_count": 45,
     "metadata": {},
     "output_type": "execute_result"
    }
   ],
   "source": [
    "np.array([[x[i] for x in all_mae_histories]   for i in range(num_epochs)]).shape"
   ]
  },
  {
   "cell_type": "code",
   "execution_count": 46,
   "id": "364d70d1",
   "metadata": {},
   "outputs": [
    {
     "data": {
      "image/png": "[encoded data removed]",
      "text/plain": [
       "<Figure size 432x288 with 1 Axes>"
      ]
     },
     "metadata": {
      "needs_background": "light"
     },
     "output_type": "display_data"
    }
   ],
   "source": [
    "# 검증점수  epoch당 \n",
    "import matplotlib.pyplot as plt\n",
    "plt.plot(range(1,len(average_mae_history)+1), average_mae_history)\n",
    "plt.show()"
   ]
  },
  {
   "cell_type": "code",
   "execution_count": 47,
   "id": "e480dabf",
   "metadata": {},
   "outputs": [
    {
     "data": {
      "image/png": "[encoded data removed]",
      "text/plain": [
       "<Figure size 432x288 with 1 Axes>"
      ]
     },
     "metadata": {
      "needs_background": "light"
     },
     "output_type": "display_data"
    }
   ],
   "source": [
    "# 처음 10개의 포인터를 제외하고 그려보면\n",
    "truncated_mae_history = average_mae_history[10:]\n",
    "plt.plot(range(1,len(truncated_mae_history)+1), truncated_mae_history)\n",
    "plt.show()"
   ]
  },
  {
   "cell_type": "code",
   "execution_count": 48,
   "id": "0cba65e5",
   "metadata": {},
   "outputs": [
    {
     "name": "stdout",
     "output_type": "stream",
     "text": [
      "4/4 [==============================] - 0s 5ms/step - loss: 13.3100 - mae: 2.3862\n"
     ]
    }
   ],
   "source": [
    "# 다시 훈련\n",
    "model = build_model()\n",
    "model.fit(train_data, train_targets,\n",
    "          epochs=130, batch_size=16, verbose=0)\n",
    "test_mse_score, test_mae_score = model.evaluate(test_data, test_targets)"
   ]
  },
  {
   "cell_type": "code",
   "execution_count": 49,
   "id": "baa47eae",
   "metadata": {},
   "outputs": [
    {
     "data": {
      "text/plain": [
       "2.386168956756592"
      ]
     },
     "execution_count": 49,
     "metadata": {},
     "output_type": "execute_result"
    }
   ],
   "source": [
    "test_mae_score"
   ]
  },
  {
   "cell_type": "code",
   "execution_count": 50,
   "id": "dd75a947",
   "metadata": {},
   "outputs": [
    {
     "data": {
      "text/plain": [
       "array([7.0517864], dtype=float32)"
      ]
     },
     "execution_count": 50,
     "metadata": {},
     "output_type": "execute_result"
    }
   ],
   "source": [
    "predictions = model.predict(test_data)\n",
    "predictions[0]"
   ]
  }
 ],
 "metadata": {
  "kernelspec": {
   "display_name": "Python 3 (ipykernel)",
   "language": "python",
   "name": "python3"
  },
  "language_info": {
   "codemirror_mode": {
    "name": "ipython",
    "version": 3
   },
   "file_extension": ".py",
   "mimetype": "text/x-python",
   "name": "python",
   "nbconvert_exporter": "python",
   "pygments_lexer": "ipython3",
   "version": "3.9.7"
  }
 },
 "nbformat": 4,
 "nbformat_minor": 5
}
