{
  "nbformat": 4,
  "nbformat_minor": 0,
  "metadata": {
    "colab": {
      "provenance": [],
      "collapsed_sections": []
    },
    "kernelspec": {
      "name": "python3",
      "display_name": "Python 3"
    },
    "language_info": {
      "name": "python"
    },
    "accelerator": "GPU"
  },
  "cells": [
    {
      "cell_type": "code",
      "execution_count": null,
      "metadata": {
        "id": "G0S8Y-kkHZHU"
      },
      "outputs": [],
      "source": [
        "# 딥러닝 학습용 데이터베이스\n",
        "# imageNet\n",
        "# MSCoCo\n",
        "# CIFAR - 10\n",
        "\n",
        "# CNN 인식"
      ]
    },
    {
      "cell_type": "code",
      "source": [
        "import numpy as np\n",
        "import tensorflow as tf\n",
        "from tensorflow.keras.datasets import cifar10\n",
        "from tensorflow.keras.models import Sequential\n",
        "from tensorflow.keras.layers import Conv2D, MaxPooling2D, Flatten, Dense, Dropout\n",
        "from tensorflow.keras.optimizers import Adam\n",
        "import matplotlib.pyplot as plt\n",
        "import seaborn as sns"
      ],
      "metadata": {
        "id": "wQB8Z5k5HxaO"
      },
      "execution_count": null,
      "outputs": []
    },
    {
      "cell_type": "code",
      "source": [
        "# 데이터 로드\n",
        "(x_train, y_train),(x_test,y_test) = cifar10.load_data()\n",
        "x_train = x_train.astype(np.float32)/255.0\n",
        "x_test = x_test.astype(np.float32)/255.0\n",
        "\n",
        "y_train = tf.keras.utils.to_categorical(y_train)\n",
        "y_test = tf.keras.utils.to_categorical(y_test)"
      ],
      "metadata": {
        "id": "erv8AbKxH5UX"
      },
      "execution_count": null,
      "outputs": []
    },
    {
      "cell_type": "code",
      "source": [
        "x_train.shape,y_train.shape"
      ],
      "metadata": {
        "colab": {
          "base_uri": "https://localhost:8080/"
        },
        "id": "HUhm3fdHux8o",
        "outputId": "0e7275ed-98d9-48cf-f78a-24c5186e8b9e"
      },
      "execution_count": null,
      "outputs": [
        {
          "output_type": "execute_result",
          "data": {
            "text/plain": [
              "((50000, 32, 32, 3), (50000, 10))"
            ]
          },
          "metadata": {},
          "execution_count": 23
        }
      ]
    },
    {
      "cell_type": "code",
      "source": [
        "from tensorflow.python.ops.math_ops import Max\n",
        "# 신경망 설계 ccp d f(flatten) fc d fc\n",
        "cnn = Sequential()\n",
        "cnn.add(Conv2D(32,(3,3), activation='relu', input_shape = (32,32,3)))\n",
        "cnn.add(Conv2D(32,(3,3), activation='relu'))\n",
        "cnn.add(MaxPooling2D(pool_size=(2,2)))\n",
        "cnn.add(Dropout(0.25))\n",
        "\n",
        "cnn.add(Conv2D(64,(3,3), activation='relu'))\n",
        "cnn.add(Conv2D(64,(3,3), activation='relu'))\n",
        "cnn.add(MaxPooling2D(pool_size=(2,2)))\n",
        "cnn.add(Dropout(0.25))\n",
        "\n",
        "cnn.add(Flatten())\n",
        "cnn.add(Dense(512, activation = 'relu'))\n",
        "cnn.add(Dropout(0.5))\n",
        "cnn.add(Dense(10,activation='softmax'))"
      ],
      "metadata": {
        "id": "U7akZf5kuPm2"
      },
      "execution_count": null,
      "outputs": []
    },
    {
      "cell_type": "code",
      "source": [
        "from tensorflow.python import metrics\n",
        "# 모델 학습\n",
        "cnn.compile(loss=tf.keras.losses.categorical_crossentropy, optimizer = Adam(), metrics=['accuracy'])\n",
        "hist = cnn.fit(x_train,y_train, batch_size = 128, epochs=30, validation_data=(x_test,y_test),verbose=2)"
      ],
      "metadata": {
        "colab": {
          "base_uri": "https://localhost:8080/"
        },
        "id": "lm1ox7NHves4",
        "outputId": "d14fa814-ae25-416c-ee6e-90f7291b99a1"
      },
      "execution_count": null,
      "outputs": [
        {
          "output_type": "stream",
          "name": "stdout",
          "text": [
            "Epoch 1/30\n",
            "391/391 - 5s - loss: 1.6556 - accuracy: 0.3885 - val_loss: 1.3516 - val_accuracy: 0.5260 - 5s/epoch - 13ms/step\n",
            "Epoch 2/30\n",
            "391/391 - 4s - loss: 1.2612 - accuracy: 0.5492 - val_loss: 1.0989 - val_accuracy: 0.6069 - 4s/epoch - 9ms/step\n",
            "Epoch 3/30\n",
            "391/391 - 4s - loss: 1.0946 - accuracy: 0.6121 - val_loss: 0.9660 - val_accuracy: 0.6570 - 4s/epoch - 9ms/step\n",
            "Epoch 4/30\n",
            "391/391 - 4s - loss: 0.9869 - accuracy: 0.6525 - val_loss: 0.8840 - val_accuracy: 0.6866 - 4s/epoch - 9ms/step\n",
            "Epoch 5/30\n",
            "391/391 - 4s - loss: 0.9097 - accuracy: 0.6803 - val_loss: 0.8184 - val_accuracy: 0.7153 - 4s/epoch - 9ms/step\n",
            "Epoch 6/30\n",
            "391/391 - 4s - loss: 0.8493 - accuracy: 0.7014 - val_loss: 0.7657 - val_accuracy: 0.7330 - 4s/epoch - 9ms/step\n",
            "Epoch 7/30\n",
            "391/391 - 4s - loss: 0.7964 - accuracy: 0.7181 - val_loss: 0.7597 - val_accuracy: 0.7328 - 4s/epoch - 9ms/step\n",
            "Epoch 8/30\n",
            "391/391 - 4s - loss: 0.7547 - accuracy: 0.7350 - val_loss: 0.7359 - val_accuracy: 0.7445 - 4s/epoch - 9ms/step\n",
            "Epoch 9/30\n",
            "391/391 - 4s - loss: 0.7282 - accuracy: 0.7431 - val_loss: 0.7447 - val_accuracy: 0.7434 - 4s/epoch - 10ms/step\n",
            "Epoch 10/30\n",
            "391/391 - 4s - loss: 0.7039 - accuracy: 0.7551 - val_loss: 0.6985 - val_accuracy: 0.7580 - 4s/epoch - 10ms/step\n",
            "Epoch 11/30\n",
            "391/391 - 4s - loss: 0.6756 - accuracy: 0.7613 - val_loss: 0.6792 - val_accuracy: 0.7671 - 4s/epoch - 10ms/step\n",
            "Epoch 12/30\n",
            "391/391 - 4s - loss: 0.6496 - accuracy: 0.7700 - val_loss: 0.6561 - val_accuracy: 0.7746 - 4s/epoch - 10ms/step\n",
            "Epoch 13/30\n",
            "391/391 - 4s - loss: 0.6360 - accuracy: 0.7758 - val_loss: 0.6580 - val_accuracy: 0.7724 - 4s/epoch - 9ms/step\n",
            "Epoch 14/30\n",
            "391/391 - 4s - loss: 0.6097 - accuracy: 0.7855 - val_loss: 0.6672 - val_accuracy: 0.7699 - 4s/epoch - 9ms/step\n",
            "Epoch 15/30\n",
            "391/391 - 4s - loss: 0.5933 - accuracy: 0.7917 - val_loss: 0.6717 - val_accuracy: 0.7678 - 4s/epoch - 10ms/step\n",
            "Epoch 16/30\n",
            "391/391 - 4s - loss: 0.5774 - accuracy: 0.7959 - val_loss: 0.6490 - val_accuracy: 0.7778 - 4s/epoch - 10ms/step\n",
            "Epoch 17/30\n",
            "391/391 - 4s - loss: 0.5601 - accuracy: 0.8010 - val_loss: 0.6400 - val_accuracy: 0.7817 - 4s/epoch - 10ms/step\n",
            "Epoch 18/30\n",
            "391/391 - 4s - loss: 0.5572 - accuracy: 0.8027 - val_loss: 0.6463 - val_accuracy: 0.7789 - 4s/epoch - 10ms/step\n",
            "Epoch 19/30\n",
            "391/391 - 4s - loss: 0.5350 - accuracy: 0.8106 - val_loss: 0.6409 - val_accuracy: 0.7799 - 4s/epoch - 11ms/step\n",
            "Epoch 20/30\n",
            "391/391 - 4s - loss: 0.5198 - accuracy: 0.8147 - val_loss: 0.6396 - val_accuracy: 0.7873 - 4s/epoch - 11ms/step\n",
            "Epoch 21/30\n",
            "391/391 - 4s - loss: 0.5118 - accuracy: 0.8174 - val_loss: 0.6286 - val_accuracy: 0.7854 - 4s/epoch - 10ms/step\n",
            "Epoch 22/30\n",
            "391/391 - 4s - loss: 0.4989 - accuracy: 0.8208 - val_loss: 0.6472 - val_accuracy: 0.7854 - 4s/epoch - 10ms/step\n",
            "Epoch 23/30\n",
            "391/391 - 4s - loss: 0.4920 - accuracy: 0.8251 - val_loss: 0.6282 - val_accuracy: 0.7889 - 4s/epoch - 9ms/step\n",
            "Epoch 24/30\n",
            "391/391 - 4s - loss: 0.4828 - accuracy: 0.8284 - val_loss: 0.6310 - val_accuracy: 0.7898 - 4s/epoch - 9ms/step\n",
            "Epoch 25/30\n",
            "391/391 - 4s - loss: 0.4805 - accuracy: 0.8298 - val_loss: 0.6255 - val_accuracy: 0.7883 - 4s/epoch - 9ms/step\n",
            "Epoch 26/30\n",
            "391/391 - 4s - loss: 0.4565 - accuracy: 0.8367 - val_loss: 0.6254 - val_accuracy: 0.7915 - 4s/epoch - 10ms/step\n",
            "Epoch 27/30\n",
            "391/391 - 4s - loss: 0.4556 - accuracy: 0.8373 - val_loss: 0.6436 - val_accuracy: 0.7875 - 4s/epoch - 10ms/step\n",
            "Epoch 28/30\n",
            "391/391 - 4s - loss: 0.4523 - accuracy: 0.8398 - val_loss: 0.6293 - val_accuracy: 0.7878 - 4s/epoch - 10ms/step\n",
            "Epoch 29/30\n",
            "391/391 - 4s - loss: 0.4426 - accuracy: 0.8423 - val_loss: 0.6388 - val_accuracy: 0.7890 - 4s/epoch - 10ms/step\n",
            "Epoch 30/30\n",
            "391/391 - 4s - loss: 0.4343 - accuracy: 0.8454 - val_loss: 0.6325 - val_accuracy: 0.7951 - 4s/epoch - 9ms/step\n"
          ]
        }
      ]
    },
    {
      "cell_type": "code",
      "source": [
        "# 정확률 평가\n",
        "res = cnn.evaluate(x_test,y_test,verbose=2)\n",
        "res"
      ],
      "metadata": {
        "colab": {
          "base_uri": "https://localhost:8080/"
        },
        "id": "hipZRA_yuYxO",
        "outputId": "643f75d9-dc18-4945-853f-2668d191b37a"
      },
      "execution_count": null,
      "outputs": [
        {
          "output_type": "stream",
          "name": "stdout",
          "text": [
            "313/313 - 1s - loss: 0.6325 - accuracy: 0.7951 - 945ms/epoch - 3ms/step\n"
          ]
        },
        {
          "output_type": "execute_result",
          "data": {
            "text/plain": [
              "[0.6324777603149414, 0.7950999736785889]"
            ]
          },
          "metadata": {},
          "execution_count": 26
        }
      ]
    },
    {
      "cell_type": "markdown",
      "source": [
        "sns.lineplot(hist.history['accuracy'])"
      ],
      "metadata": {
        "id": "2T2MFXsAyNJ_"
      }
    },
    {
      "cell_type": "code",
      "source": [
        "hist.history.keys()"
      ],
      "metadata": {
        "colab": {
          "base_uri": "https://localhost:8080/"
        },
        "id": "KcVk28CQzqnm",
        "outputId": "b7d278e0-c8fa-4c88-9f98-6de479301dce"
      },
      "execution_count": null,
      "outputs": [
        {
          "output_type": "execute_result",
          "data": {
            "text/plain": [
              "dict_keys(['loss', 'accuracy', 'val_loss', 'val_accuracy'])"
            ]
          },
          "metadata": {},
          "execution_count": 35
        }
      ]
    },
    {
      "cell_type": "code",
      "source": [
        "# 시각화\n",
        "sns.lineplot(data = hist.history['accuracy'])\n",
        "sns.lineplot(data = hist.history['val_accuracy'])            "
      ],
      "metadata": {
        "colab": {
          "base_uri": "https://localhost:8080/",
          "height": 283
        },
        "id": "L9hNhxtttJI8",
        "outputId": "e0adc44f-2390-48cf-b2f0-7eff4d5b38a9"
      },
      "execution_count": null,
      "outputs": [
        {
          "output_type": "execute_result",
          "data": {
            "text/plain": [
              "<matplotlib.axes._subplots.AxesSubplot at 0x7f4e00049290>"
            ]
          },
          "metadata": {},
          "execution_count": 32
        },
        {
          "output_type": "display_data",
          "data": {
            "text/plain": [
              "<Figure size 432x288 with 1 Axes>"
            ],
            "image/png": "[encoded data removed]"
          },
          "metadata": {
            "needs_background": "light"
          }
        }
      ]
    },
    {
      "cell_type": "code",
      "source": [
        "sns.lineplot(data = hist.history['loss'])\n",
        "sns.lineplot(data = hist.history['val_loss'])            "
      ],
      "metadata": {
        "colab": {
          "base_uri": "https://localhost:8080/",
          "height": 283
        },
        "id": "zbN0oDNSzm6M",
        "outputId": "61974906-882b-4832-c0c8-dd717ef5bb75"
      },
      "execution_count": null,
      "outputs": [
        {
          "output_type": "execute_result",
          "data": {
            "text/plain": [
              "<matplotlib.axes._subplots.AxesSubplot at 0x7f4e00095fd0>"
            ]
          },
          "metadata": {},
          "execution_count": 36
        },
        {
          "output_type": "display_data",
          "data": {
            "text/plain": [
              "<Figure size 432x288 with 1 Axes>"
            ],
            "image/png": "[encoded data removed]"
          },
          "metadata": {
            "needs_background": "light"
          }
        }
      ]
    },
    {
      "cell_type": "code",
      "source": [
        "# 학습된 모델을 저장하고 재활용\n",
        "# 학습에 시간이 많이 걸리므로 저장해 두고 필요할때 불러씀\n",
        "# save 함수로 구현(신경망의 구조정보와, 가중치 정보를 저장하여 HDF5 파일 형식)"
      ],
      "metadata": {
        "id": "68Mv8i640Gu2"
      },
      "execution_count": null,
      "outputs": []
    },
    {
      "cell_type": "code",
      "source": [
        "cnn.save('cnn1.h5')"
      ],
      "metadata": {
        "id": "vTUEWFIr0ark"
      },
      "execution_count": null,
      "outputs": []
    },
    {
      "cell_type": "code",
      "source": [
        "# 파일 다운로드 후\n",
        "# 모델을 쓸 새노트에서 다운로드한 'cnn1.h5' 파일을 업로드 하고 \n",
        "# cnn = tf.keras.models.load_model(\"/cnn1.h5\")"
      ],
      "metadata": {
        "id": "9nrYPOFu4gAN"
      },
      "execution_count": null,
      "outputs": []
    }
  ]
}