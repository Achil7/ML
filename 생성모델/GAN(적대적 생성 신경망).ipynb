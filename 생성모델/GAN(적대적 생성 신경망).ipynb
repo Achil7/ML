{
 "cells": [
  {
   "cell_type": "code",
   "execution_count": 1,
   "metadata": {
    "id": "QaiWW7oMlZ8q"
   },
   "outputs": [],
   "source": [
    "# 오토인코더  = 자연과학... 불량품 판정  양품이 대수고.. 불량데이터는 극히적어.."
   ]
  },
  {
   "cell_type": "code",
   "execution_count": 2,
   "metadata": {
    "id": "izxH3p1slzYZ"
   },
   "outputs": [],
   "source": [
    "import numpy as np\n",
    "import matplotlib.pyplot as plt\n",
    "from scipy.stats import norm\n",
    "import tensorflow as tf\n",
    "from tensorflow.keras.layers import Input, Dense, Lambda, Reshape\n",
    "from tensorflow.keras.models import Model\n",
    "from tensorflow.keras import backend as K\n",
    "from tensorflow.keras import metrics\n",
    "from tensorflow.keras.datasets import mnist"
   ]
  },
  {
   "cell_type": "code",
   "execution_count": 3,
   "metadata": {
    "id": "DLMGMcbjpNPg"
   },
   "outputs": [],
   "source": [
    "# 주요 변수\n",
    "batch_size = 100\n",
    "original_dim = 784\n",
    "latent_dim = 2\n",
    "intermediate_dim = 256\n",
    "epochs = 50\n",
    "epsilon_std = 1.0"
   ]
  },
  {
   "cell_type": "code",
   "execution_count": 4,
   "metadata": {
    "id": "tSYyy2kGpbOY"
   },
   "outputs": [],
   "source": [
    "# 셈플링 함수\n",
    "def sampling(args:tuple):\n",
    "  z_mean, z_log_var = args\n",
    "  epsilon = K.random_normal(shape = (K.shape(z_mean)[0], latent_dim), mean=0. , stddev = epsilon_std  )\n",
    "  return z_mean + K.exp(z_log_var / 2) * epsilon"
   ]
  },
  {
   "cell_type": "code",
   "execution_count": 5,
   "metadata": {
    "colab": {
     "base_uri": "https://localhost:8080/"
    },
    "id": "x9spjlE9qLqp",
    "outputId": "330b1da7-b8c5-4736-da69-03441967f239"
   },
   "outputs": [
    {
     "name": "stdout",
     "output_type": "stream",
     "text": [
      "Model: \"model\"\n",
      "__________________________________________________________________________________________________\n",
      " Layer (type)                   Output Shape         Param #     Connected to                     \n",
      "==================================================================================================\n",
      " input_1 (InputLayer)           [(None, 784)]        0           []                               \n",
      "                                                                                                  \n",
      " dense (Dense)                  (None, 256)          200960      ['input_1[0][0]']                \n",
      "                                                                                                  \n",
      " dense_1 (Dense)                (None, 2)            514         ['dense[0][0]']                  \n",
      "                                                                                                  \n",
      " dense_2 (Dense)                (None, 2)            514         ['dense[0][0]']                  \n",
      "                                                                                                  \n",
      " lambda (Lambda)                (None, 2)            0           ['dense_1[0][0]',                \n",
      "                                                                  'dense_2[0][0]']                \n",
      "                                                                                                  \n",
      "==================================================================================================\n",
      "Total params: 201,988\n",
      "Trainable params: 201,988\n",
      "Non-trainable params: 0\n",
      "__________________________________________________________________________________________________\n"
     ]
    }
   ],
   "source": [
    "from numpy.core.fromnumeric import shape\n",
    "# 인코더 정의\n",
    "x = Input(shape = (original_dim,))\n",
    "# 중간층\n",
    "h = Dense(intermediate_dim,activation='relu')(x)\n",
    "# 잠복공간의 평균을 정의\n",
    "z_mean = Dense(latent_dim)(h)\n",
    "# 잠복공간의 로그분산을 정의\n",
    "z_log_var = Dense(latent_dim)(h)\n",
    "# 역전파를이용... 텐서플로의 벡엔드를 이용한다.\n",
    "z = Lambda(sampling, output_shape = (latent_dim,))([z_mean, z_log_var])\n",
    "# 케라스 모델로 인코더를 정의\n",
    "encoder = Model(x, [z_mean, z_log_var, z])\n",
    "encoder.summary()"
   ]
  },
  {
   "cell_type": "code",
   "execution_count": 6,
   "metadata": {
    "colab": {
     "base_uri": "https://localhost:8080/"
    },
    "id": "orsktsaKq38Q",
    "outputId": "24c35b18-3724-4f47-8060-212a3239ba98"
   },
   "outputs": [
    {
     "name": "stdout",
     "output_type": "stream",
     "text": [
      "Model: \"model_1\"\n",
      "_________________________________________________________________\n",
      " Layer (type)                Output Shape              Param #   \n",
      "=================================================================\n",
      " input_2 (InputLayer)        [(None, 2)]               0         \n",
      "                                                                 \n",
      " dense_3 (Dense)             (None, 256)               768       \n",
      "                                                                 \n",
      " dense_4 (Dense)             (None, 784)               201488    \n",
      "                                                                 \n",
      "=================================================================\n",
      "Total params: 202,256\n",
      "Trainable params: 202,256\n",
      "Non-trainable params: 0\n",
      "_________________________________________________________________\n"
     ]
    }
   ],
   "source": [
    "# 디코더 정의\n",
    "input_decoder = Input(shape=(latent_dim,))\n",
    "h = Dense(intermediate_dim, activation='relu')(input_decoder)\n",
    "x = Dense(original_dim, activation='sigmoid')(h)\n",
    "decoder = Model(input_decoder,x)\n",
    "decoder.summary()"
   ]
  }
 ],
 "metadata": {
  "colab": {
   "collapsed_sections": [],
   "provenance": []
  },
  "kernelspec": {
   "display_name": "Python 3 (ipykernel)",
   "language": "python",
   "name": "python3"
  },
  "language_info": {
   "codemirror_mode": {
    "name": "ipython",
    "version": 3
   },
   "file_extension": ".py",
   "mimetype": "text/x-python",
   "name": "python",
   "nbconvert_exporter": "python",
   "pygments_lexer": "ipython3",
   "version": "3.9.7"
  }
 },
 "nbformat": 4,
 "nbformat_minor": 1
}
