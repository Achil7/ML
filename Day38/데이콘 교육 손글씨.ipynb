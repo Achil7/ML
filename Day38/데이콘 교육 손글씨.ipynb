{
  "cells": [
    {
      "cell_type": "code",
      "source": [
        "from google.colab import drive\n",
        "drive.mount('/content/drive')"
      ],
      "metadata": {
        "colab": {
          "base_uri": "https://localhost:8080/"
        },
        "id": "00bb14Ohq8vj",
        "outputId": "0842fc87-d710-45d7-95e5-96863869a24e"
      },
      "id": "00bb14Ohq8vj",
      "execution_count": 1,
      "outputs": [
        {
          "output_type": "stream",
          "name": "stdout",
          "text": [
            "Mounted at /content/drive\n"
          ]
        }
      ]
    },
    {
      "cell_type": "code",
      "execution_count": 2,
      "id": "f68fa985",
      "metadata": {
        "id": "f68fa985"
      },
      "outputs": [],
      "source": [
        "import pandas as pd\n",
        "import numpy as np\n",
        "import tensorflow as tf\n",
        "from tensorflow.keras.layers import Conv2D,MaxPooling2D,Dropout,Flatten,Dense"
      ]
    },
    {
      "cell_type": "code",
      "execution_count": 13,
      "id": "d4a87a54",
      "metadata": {
        "colab": {
          "base_uri": "https://localhost:8080/"
        },
        "id": "d4a87a54",
        "outputId": "aece123f-559e-41bc-a7b8-6ddc93fb0852"
      },
      "outputs": [
        {
          "output_type": "execute_result",
          "data": {
            "text/plain": [
              "((45000, 784), (45000, 10))"
            ]
          },
          "metadata": {},
          "execution_count": 13
        }
      ],
      "source": [
        "# train 데이터 로드\n",
        "train_df = pd.read_csv('/content/drive/MyDrive/Colab Notebooks/데이터/mnist/train.csv',index_col=0)\n",
        "x_train = train_df.iloc[:,1:]\n",
        "y_train = train_df.iloc[:,0]\n",
        "x_train = x_train.astype('float32')/255.     # 데이터 정규화\n",
        "y_train = tf.keras.utils.to_categorical(y_train,10)\n",
        "\n",
        "from sklearn.model_selection import train_test_split\n",
        "x_train,x_test, y_train, y_test = train_test_split(x_train,y_train,random_state = 32)\n",
        "x_train.shape, y_train.shape"
      ]
    },
    {
      "cell_type": "code",
      "execution_count": 14,
      "id": "640ea680",
      "metadata": {
        "id": "640ea680"
      },
      "outputs": [],
      "source": [
        "from tensorflow.keras.applications.resnet50 import  ResNet50\n",
        "resnet50 = ResNet50(include_top=False,weights='imagenet', input_shape=(32,32,3))"
      ]
    },
    {
      "cell_type": "code",
      "execution_count": null,
      "id": "15522883",
      "metadata": {
        "id": "15522883"
      },
      "outputs": [],
      "source": [
        "resnet50.summary()"
      ]
    },
    {
      "cell_type": "code",
      "execution_count": 16,
      "id": "830fcff9",
      "metadata": {
        "id": "830fcff9"
      },
      "outputs": [],
      "source": [
        "inputs = tf.keras.Input(shape=(28,28,1))\n",
        "x = Conv2D(32,3,activation='relu')(inputs)\n",
        "x = tf.keras.layers.BatchNormalization()(x)\n",
        "x = MaxPooling2D(2)(x)\n",
        "x = Conv2D(16,3,activation='relu')(x)\n",
        "x = tf.keras.layers.BatchNormalization()(x)\n",
        "x = MaxPooling2D(2)(x)\n",
        "x = Conv2D(32,3,activation='relu')(x)\n",
        "x = tf.keras.layers.BatchNormalization()(x)\n",
        "x = MaxPooling2D(2)(x)\n",
        "x = Flatten()(x)\n",
        "x = Dense(64,activation='relu')(x)\n",
        "outputs = Dense(10,activation='softmax')(x)"
      ]
    },
    {
      "cell_type": "code",
      "execution_count": 18,
      "id": "5c9f6d51",
      "metadata": {
        "colab": {
          "base_uri": "https://localhost:8080/"
        },
        "id": "5c9f6d51",
        "outputId": "14cd94d1-2b65-4bdd-ba7a-814eb81bfa66"
      },
      "outputs": [
        {
          "output_type": "stream",
          "name": "stdout",
          "text": [
            "Epoch 1/200\n",
            "358/358 [==============================] - 3s 8ms/step - loss: 0.0017 - acc: 0.9895 - val_loss: 0.0032 - val_acc: 0.9792\n",
            "Epoch 2/200\n",
            "358/358 [==============================] - 2s 6ms/step - loss: 0.0016 - acc: 0.9905 - val_loss: 0.0028 - val_acc: 0.9819\n",
            "Epoch 3/200\n",
            "358/358 [==============================] - 2s 6ms/step - loss: 0.0015 - acc: 0.9912 - val_loss: 0.0038 - val_acc: 0.9761\n",
            "Epoch 4/200\n",
            "358/358 [==============================] - 2s 6ms/step - loss: 0.0013 - acc: 0.9922 - val_loss: 0.0033 - val_acc: 0.9793\n",
            "Epoch 5/200\n",
            "358/358 [==============================] - 2s 6ms/step - loss: 0.0010 - acc: 0.9937 - val_loss: 0.0031 - val_acc: 0.9801\n",
            "Epoch 6/200\n",
            "358/358 [==============================] - 2s 6ms/step - loss: 0.0011 - acc: 0.9939 - val_loss: 0.0032 - val_acc: 0.9802\n",
            "Epoch 7/200\n",
            "358/358 [==============================] - 2s 6ms/step - loss: 9.4335e-04 - acc: 0.9946 - val_loss: 0.0035 - val_acc: 0.9780\n"
          ]
        }
      ],
      "source": [
        "model = tf.keras.Model(inputs,outputs)\n",
        "callback = [\n",
        "    tf.keras.callbacks.EarlyStopping(patience=5)\n",
        "]\n",
        "model.compile(loss='mse',\n",
        "              optimizer='adam',metrics=['acc'])\n",
        "x_train_reshape = x_train.to_numpy().reshape(-1,28,28,1)\n",
        "x_test_reshape = x_test.to_numpy().reshape(-1,28,28,1)\n",
        "hisy = model.fit(x_train_reshape,y_train, batch_size = 126, epochs = 200, callbacks = callback, validation_data = (x_test_reshape,y_test))"
      ]
    },
    {
      "cell_type": "code",
      "execution_count": 35,
      "id": "4581b381",
      "metadata": {
        "id": "4581b381"
      },
      "outputs": [],
      "source": [
        "# 모델이 완성되었으니 제공된 test를 돌려서 제출\n",
        "test_df = pd.read_csv('/content/drive/MyDrive/Colab Notebooks/데이터/mnist/test.csv',index_col=0)\n",
        "x_test = x_test.astype('float32')/255.   # 데이터 정규화"
      ]
    },
    {
      "cell_type": "code",
      "source": [
        "test_reshape = test_df.to_numpy().reshape(-1,28,28,1)\n",
        "test_reshape.shape"
      ],
      "metadata": {
        "colab": {
          "base_uri": "https://localhost:8080/"
        },
        "id": "FmiFoW33tsRd",
        "outputId": "33cc2dcd-fe10-44ff-aa7f-eaa040bbe953"
      },
      "id": "FmiFoW33tsRd",
      "execution_count": 36,
      "outputs": [
        {
          "output_type": "execute_result",
          "data": {
            "text/plain": [
              "(10000, 28, 28, 1)"
            ]
          },
          "metadata": {},
          "execution_count": 36
        }
      ]
    },
    {
      "cell_type": "code",
      "source": [
        "len(test_df)"
      ],
      "metadata": {
        "colab": {
          "base_uri": "https://localhost:8080/"
        },
        "id": "cdYaeEmwvelm",
        "outputId": "b4c73bb2-7e6e-465b-f658-23fb8939501d"
      },
      "id": "cdYaeEmwvelm",
      "execution_count": 37,
      "outputs": [
        {
          "output_type": "execute_result",
          "data": {
            "text/plain": [
              "10000"
            ]
          },
          "metadata": {},
          "execution_count": 37
        }
      ]
    },
    {
      "cell_type": "code",
      "source": [
        "result = model.predict(test_reshape)"
      ],
      "metadata": {
        "colab": {
          "base_uri": "https://localhost:8080/"
        },
        "id": "Yj1YKU8mvHNM",
        "outputId": "12a9f28a-1531-4ef6-e0d4-43b7a9b9a625"
      },
      "id": "Yj1YKU8mvHNM",
      "execution_count": 39,
      "outputs": [
        {
          "output_type": "stream",
          "name": "stdout",
          "text": [
            "313/313 [==============================] - 1s 2ms/step\n"
          ]
        }
      ]
    },
    {
      "cell_type": "code",
      "source": [
        "submission_df = pd.read_csv('/content/drive/MyDrive/Colab Notebooks/데이터/mnist/sample_submission.csv',index_col = 0)"
      ],
      "metadata": {
        "id": "QD7Urrq_vAqL"
      },
      "id": "QD7Urrq_vAqL",
      "execution_count": 40,
      "outputs": []
    },
    {
      "cell_type": "code",
      "source": [
        "submission_df['label'] = [np.argmax(i) for i in result]"
      ],
      "metadata": {
        "id": "wRau5cAvvix4"
      },
      "id": "wRau5cAvvix4",
      "execution_count": 41,
      "outputs": []
    },
    {
      "cell_type": "code",
      "source": [
        "submission_df.to_csv('submission.csv')"
      ],
      "metadata": {
        "id": "n-wowWX9wHbi"
      },
      "id": "n-wowWX9wHbi",
      "execution_count": 43,
      "outputs": []
    }
  ],
  "metadata": {
    "kernelspec": {
      "display_name": "Python 3 (ipykernel)",
      "language": "python",
      "name": "python3"
    },
    "language_info": {
      "codemirror_mode": {
        "name": "ipython",
        "version": 3
      },
      "file_extension": ".py",
      "mimetype": "text/x-python",
      "name": "python",
      "nbconvert_exporter": "python",
      "pygments_lexer": "ipython3",
      "version": "3.9.7"
    },
    "colab": {
      "provenance": [],
      "collapsed_sections": []
    },
    "accelerator": "GPU",
    "gpuClass": "standard"
  },
  "nbformat": 4,
  "nbformat_minor": 5
}