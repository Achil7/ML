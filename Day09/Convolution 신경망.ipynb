{
 "cells": [
  {
   "cell_type": "markdown",
   "id": "fcda8f42",
   "metadata": {},
   "source": [
    "- 컨볼루션 신경망은 딥러닝에서 가장 성공한 모델\n",
    "- 자율주행, 딥드림, 영상 주석, 병변부위 찾기"
   ]
  },
  {
   "cell_type": "markdown",
   "id": "cf570023",
   "metadata": {},
   "source": [
    "##### 컨볼루션 연산\n",
    "- 특징 추출 또는 신호변환에 이용\n",
    "- 사용장(파란부분)과 커널의 선형 결합식\n",
    "- z는 입력신호, u는 커널, h는 커널의 크기"
   ]
  },
  {
   "cell_type": "code",
   "execution_count": 3,
   "id": "40e1bfca",
   "metadata": {},
   "outputs": [],
   "source": [
    "from IPython import display\n",
    "display.Image('./img/025.jpg', width = 500, height = 500)"
   ]
  },
  {
   "cell_type": "code",
   "execution_count": null,
   "id": "16ff8d95",
   "metadata": {},
   "outputs": [],
   "source": [
    "display.Image('./img/026.jpg', width = 500, height = 500)"
   ]
  },
  {
   "cell_type": "code",
   "execution_count": null,
   "id": "47ef0e50",
   "metadata": {},
   "outputs": [],
   "source": [
    "display.Image('./img/027.jpg', width = 500, height = 500)"
   ]
  },
  {
   "cell_type": "markdown",
   "id": "4f6a67a2",
   "metadata": {},
   "source": [
    "#### 컨볼루션 특징\n",
    "- 커널에 따라서 특징 맵을 추출해 줌 : 수평엣지 수직엣지\n",
    "- 원본영상과 같은 크기의 특징 맵 생성\n",
    "- 원본영상 자체에 연산을 적용하기에 정보손실이 없음"
   ]
  },
  {
   "cell_type": "markdown",
   "id": "1c99c57b",
   "metadata": {},
   "source": [
    "1. 표준컨볼루션에 몇가지 아이디어를 추가\n",
    "2. 특징 맵이 작아지는 문제해결 덧대기\n",
    "3. 영상크기를 축소 할 수 잇는 보폭(k로 설정하면 1/k로 줄어듦)\n",
    "4. bias를 추가"
   ]
  },
  {
   "cell_type": "code",
   "execution_count": 25,
   "id": "7e64fd5b",
   "metadata": {},
   "outputs": [],
   "source": [
    "display.Image('./img/029.jpg', width = 500, height = 500)"
   ]
  },
  {
   "cell_type": "markdown",
   "id": "e01862f5",
   "metadata": {},
   "source": [
    "- 컨볼루션층과 폴링층 : 다중 커널"
   ]
  },
  {
   "cell_type": "markdown",
   "id": "85431dd7",
   "metadata": {},
   "source": [
    "---"
   ]
  },
  {
   "cell_type": "code",
   "execution_count": null,
   "id": "69b6b59a",
   "metadata": {},
   "outputs": [],
   "source": [
    "# 폴링층\n",
    "# 최대 폴링은 커널 안에 있는 촤소중에 최대값을 취함(평균폴링은 평균)\n",
    "# 특징맵에 있는 지나친 상세함을 줄여서 요약 통계량을 추출\n",
    "# 보폭을 s로 하면 특징 맵은 s배 만큼 줄어듦\n",
    "\n",
    "display.Image('./img/030.jpg', width = 500, height = 500)"
   ]
  },
  {
   "cell_type": "code",
   "execution_count": null,
   "id": "3579cc18",
   "metadata": {},
   "outputs": [],
   "source": [
    "# 컨볼루션 신경망은 약어를 이용해서 설계\n",
    "# c p c p c fc fc\n",
    "display.Image('./img/031.jpg', width = 500, height = 500)"
   ]
  },
  {
   "cell_type": "code",
   "execution_count": null,
   "id": "e9dd4d93",
   "metadata": {},
   "outputs": [],
   "source": [
    "display.Image('./img/032.jpg', width = 500, height = 500)"
   ]
  },
  {
   "cell_type": "code",
   "execution_count": 47,
   "id": "55f608d4",
   "metadata": {},
   "outputs": [],
   "source": [
    "# LeNet-5 로 MNIST인식\n",
    "import numpy as np\n",
    "import tensorflow as tf\n",
    "from tensorflow.keras.datasets import mnist\n",
    "from tensorflow.keras.models import Sequential\n",
    "from tensorflow.keras.layers import Conv2D, MaxPooling2D, Flatten, Dense\n",
    "from tensorflow.keras.optimizers import Adam"
   ]
  },
  {
   "cell_type": "code",
   "execution_count": 49,
   "id": "1f210c95",
   "metadata": {},
   "outputs": [],
   "source": [
    "# load dataset\n",
    "(x_train, y_train),(x_test,y_test) = mnist.load_data()\n",
    "\n",
    "# 차수 변경 & 표준화\n",
    "x_train = x_train.reshape(-1,28,28,1).astype(np.float32)/255.0\n",
    "x_test = x_test.reshape(-1,28,28,1).astype(np.float32)/255.0\n",
    "\n",
    "# one hot encoding\n",
    "y_train = tf.keras.utils.to_categorical(y_train)\n",
    "y_test = tf.keras.utils.to_categorical(y_test)"
   ]
  },
  {
   "cell_type": "code",
   "execution_count": 52,
   "id": "167e33d1",
   "metadata": {},
   "outputs": [],
   "source": [
    "# LeNet-5 신경망 모델 설계\n",
    "cnn = Sequential()\n",
    "cnn.add(Conv2D(6,(5,5), padding = 'same', activation='relu',input_shape = (28,28,1)))\n",
    "cnn.add(MaxPooling2D(pool_size=(2,2)))\n",
    "cnn.add(Conv2D(16,(5,5), padding = 'same', activation='relu'))\n",
    "cnn.add(MaxPooling2D(pool_size=(2,2)))\n",
    "cnn.add(Conv2D(120,(5,5), padding = 'same', activation='relu'))\n",
    "cnn.add(MaxPooling2D(pool_size=(2,2)))\n",
    "cnn.add(Flatten())\n",
    "cnn.add(Dense(84,activation='relu'))\n",
    "cnn.add(Dense(10,activation='softmax'))"
   ]
  },
  {
   "cell_type": "code",
   "execution_count": 55,
   "id": "0d774670",
   "metadata": {},
   "outputs": [
    {
     "name": "stdout",
     "output_type": "stream",
     "text": [
      "Epoch 1/30\n",
      "469/469 - 17s - loss: 0.2640 - accuracy: 0.9190 - val_loss: 0.0682 - val_accuracy: 0.9781 - 17s/epoch - 37ms/step\n",
      "Epoch 2/30\n",
      "469/469 - 17s - loss: 0.0691 - accuracy: 0.9782 - val_loss: 0.0599 - val_accuracy: 0.9792 - 17s/epoch - 36ms/step\n",
      "Epoch 3/30\n",
      "469/469 - 16s - loss: 0.0445 - accuracy: 0.9861 - val_loss: 0.0356 - val_accuracy: 0.9879 - 16s/epoch - 34ms/step\n",
      "Epoch 4/30\n",
      "469/469 - 16s - loss: 0.0350 - accuracy: 0.9890 - val_loss: 0.0452 - val_accuracy: 0.9859 - 16s/epoch - 34ms/step\n",
      "Epoch 5/30\n",
      "469/469 - 16s - loss: 0.0278 - accuracy: 0.9911 - val_loss: 0.0337 - val_accuracy: 0.9885 - 16s/epoch - 34ms/step\n",
      "Epoch 6/30\n",
      "469/469 - 16s - loss: 0.0228 - accuracy: 0.9927 - val_loss: 0.0299 - val_accuracy: 0.9905 - 16s/epoch - 34ms/step\n",
      "Epoch 7/30\n",
      "469/469 - 16s - loss: 0.0179 - accuracy: 0.9945 - val_loss: 0.0315 - val_accuracy: 0.9893 - 16s/epoch - 34ms/step\n",
      "Epoch 8/30\n",
      "469/469 - 16s - loss: 0.0173 - accuracy: 0.9942 - val_loss: 0.0375 - val_accuracy: 0.9874 - 16s/epoch - 34ms/step\n",
      "Epoch 9/30\n",
      "469/469 - 16s - loss: 0.0132 - accuracy: 0.9958 - val_loss: 0.0342 - val_accuracy: 0.9897 - 16s/epoch - 34ms/step\n",
      "Epoch 10/30\n",
      "469/469 - 16s - loss: 0.0125 - accuracy: 0.9955 - val_loss: 0.0376 - val_accuracy: 0.9890 - 16s/epoch - 34ms/step\n",
      "Epoch 11/30\n",
      "469/469 - 16s - loss: 0.0110 - accuracy: 0.9966 - val_loss: 0.0364 - val_accuracy: 0.9899 - 16s/epoch - 34ms/step\n",
      "Epoch 12/30\n",
      "469/469 - 16s - loss: 0.0090 - accuracy: 0.9970 - val_loss: 0.0415 - val_accuracy: 0.9887 - 16s/epoch - 34ms/step\n",
      "Epoch 13/30\n",
      "469/469 - 16s - loss: 0.0095 - accuracy: 0.9968 - val_loss: 0.0337 - val_accuracy: 0.9907 - 16s/epoch - 34ms/step\n",
      "Epoch 14/30\n",
      "469/469 - 16s - loss: 0.0085 - accuracy: 0.9970 - val_loss: 0.0376 - val_accuracy: 0.9907 - 16s/epoch - 34ms/step\n",
      "Epoch 15/30\n",
      "469/469 - 16s - loss: 0.0065 - accuracy: 0.9978 - val_loss: 0.0373 - val_accuracy: 0.9913 - 16s/epoch - 34ms/step\n",
      "Epoch 16/30\n",
      "469/469 - 16s - loss: 0.0082 - accuracy: 0.9972 - val_loss: 0.0292 - val_accuracy: 0.9928 - 16s/epoch - 35ms/step\n",
      "Epoch 17/30\n",
      "469/469 - 16s - loss: 0.0061 - accuracy: 0.9980 - val_loss: 0.0295 - val_accuracy: 0.9919 - 16s/epoch - 34ms/step\n",
      "Epoch 18/30\n",
      "469/469 - 16s - loss: 0.0064 - accuracy: 0.9981 - val_loss: 0.0394 - val_accuracy: 0.9910 - 16s/epoch - 34ms/step\n",
      "Epoch 19/30\n",
      "469/469 - 16s - loss: 0.0054 - accuracy: 0.9984 - val_loss: 0.0369 - val_accuracy: 0.9910 - 16s/epoch - 35ms/step\n",
      "Epoch 20/30\n",
      "469/469 - 16s - loss: 0.0068 - accuracy: 0.9979 - val_loss: 0.0428 - val_accuracy: 0.9895 - 16s/epoch - 35ms/step\n",
      "Epoch 21/30\n",
      "469/469 - 16s - loss: 0.0032 - accuracy: 0.9988 - val_loss: 0.0432 - val_accuracy: 0.9898 - 16s/epoch - 35ms/step\n",
      "Epoch 22/30\n",
      "469/469 - 16s - loss: 0.0053 - accuracy: 0.9984 - val_loss: 0.0434 - val_accuracy: 0.9902 - 16s/epoch - 35ms/step\n",
      "Epoch 23/30\n",
      "469/469 - 17s - loss: 0.0060 - accuracy: 0.9981 - val_loss: 0.0451 - val_accuracy: 0.9890 - 17s/epoch - 36ms/step\n",
      "Epoch 24/30\n",
      "469/469 - 16s - loss: 0.0042 - accuracy: 0.9985 - val_loss: 0.0467 - val_accuracy: 0.9913 - 16s/epoch - 35ms/step\n",
      "Epoch 25/30\n",
      "469/469 - 17s - loss: 0.0042 - accuracy: 0.9985 - val_loss: 0.0476 - val_accuracy: 0.9903 - 17s/epoch - 35ms/step\n",
      "Epoch 26/30\n",
      "469/469 - 16s - loss: 0.0046 - accuracy: 0.9984 - val_loss: 0.0395 - val_accuracy: 0.9917 - 16s/epoch - 34ms/step\n",
      "Epoch 27/30\n",
      "469/469 - 17s - loss: 0.0018 - accuracy: 0.9995 - val_loss: 0.0407 - val_accuracy: 0.9913 - 17s/epoch - 36ms/step\n",
      "Epoch 28/30\n",
      "469/469 - 16s - loss: 0.0039 - accuracy: 0.9988 - val_loss: 0.0430 - val_accuracy: 0.9904 - 16s/epoch - 35ms/step\n",
      "Epoch 29/30\n",
      "469/469 - 17s - loss: 0.0060 - accuracy: 0.9980 - val_loss: 0.0353 - val_accuracy: 0.9932 - 17s/epoch - 35ms/step\n",
      "Epoch 30/30\n",
      "469/469 - 17s - loss: 0.0026 - accuracy: 0.9991 - val_loss: 0.0377 - val_accuracy: 0.9920 - 17s/epoch - 36ms/step\n"
     ]
    }
   ],
   "source": [
    "# 학습\n",
    "cnn.compile(loss = tf.keras.losses.categorical_crossentropy, optimizer = Adam(), metrics = ['accuracy'])\n",
    "hist = cnn.fit(x_train,y_train, batch_size=128, epochs = 30, validation_data=(x_test,y_test), verbose = 2)"
   ]
  },
  {
   "cell_type": "code",
   "execution_count": 57,
   "id": "29a95d1f",
   "metadata": {},
   "outputs": [
    {
     "name": "stdout",
     "output_type": "stream",
     "text": [
      "313/313 [==============================] - 1s 3ms/step - loss: 0.0377 - accuracy: 0.9920\n"
     ]
    },
    {
     "data": {
      "text/plain": [
       "[0.03767770528793335, 0.9919999837875366]"
      ]
     },
     "execution_count": 57,
     "metadata": {},
     "output_type": "execute_result"
    }
   ],
   "source": [
    "# 신경망 모델 정확률 평가\n",
    "res = cnn.evaluate(x_test,y_test)\n",
    "res"
   ]
  },
  {
   "cell_type": "code",
   "execution_count": 70,
   "id": "c3ef558f",
   "metadata": {},
   "outputs": [
    {
     "data": {
      "text/plain": [
       "<AxesSubplot:>"
      ]
     },
     "execution_count": 70,
     "metadata": {},
     "output_type": "execute_result"
    },
    {
     "data": {
      "image/png": "[encoded data removed]",
      "text/plain": [
       "<Figure size 1080x360 with 2 Axes>"
      ]
     },
     "metadata": {
      "needs_background": "light"
     },
     "output_type": "display_data"
    }
   ],
   "source": [
    "import seaborn as sns\n",
    "import matplotlib.pyplot as plt\n",
    "fig, ax = plt.subplots(1,2, figsize = (15,5))\n",
    "sns.lineplot(data = hist.history['accuracy'], ax=ax[0])\n",
    "sns.lineplot(data = hist.history['val_accuracy'], ax=ax[0])\n",
    "plt.legend(['accuracy', 'val_accuracy'])\n",
    "sns.lineplot(data = hist.history['loss'], ax=ax[1])\n",
    "sns.lineplot(data = hist.history['val_loss'], ax=ax[1])\n"
   ]
  },
  {
   "cell_type": "code",
   "execution_count": null,
   "id": "882ec593",
   "metadata": {},
   "outputs": [],
   "source": [
    "# 위의 컨볼루션 기법에서 좀 더 유연한 구조 - colab"
   ]
  },
  {
   "cell_type": "code",
   "execution_count": null,
   "id": "0c87ed15",
   "metadata": {},
   "outputs": [],
   "source": []
  }
 ],
 "metadata": {
  "kernelspec": {
   "display_name": "Python 3 (ipykernel)",
   "language": "python",
   "name": "python3"
  },
  "language_info": {
   "codemirror_mode": {
    "name": "ipython",
    "version": 3
   },
   "file_extension": ".py",
   "mimetype": "text/x-python",
   "name": "python",
   "nbconvert_exporter": "python",
   "pygments_lexer": "ipython3",
   "version": "3.9.7"
  }
 },
 "nbformat": 4,
 "nbformat_minor": 5
}
