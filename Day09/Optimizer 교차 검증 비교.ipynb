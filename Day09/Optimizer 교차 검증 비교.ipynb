{
 "cells": [
  {
   "cell_type": "markdown",
   "id": "2b97b46b",
   "metadata": {},
   "source": [
    "# 교차검증을 이용한 옵티마이저 비교"
   ]
  },
  {
   "cell_type": "code",
   "execution_count": 6,
   "id": "c1cc46e0",
   "metadata": {},
   "outputs": [],
   "source": [
    "import numpy as np\n",
    "import pandas as pd\n",
    "import tensorflow as tf\n",
    "from tensorflow.keras.datasets import fashion_mnist\n",
    "from tensorflow.keras.models import Sequential\n",
    "from tensorflow.keras.layers import Dense\n",
    "from tensorflow.keras.optimizers import SGD, Adam, Adagrad, RMSprop\n",
    "from sklearn.model_selection import KFold\n",
    "from sklearn.model_selection import cross_validate"
   ]
  },
  {
   "cell_type": "code",
   "execution_count": 32,
   "id": "795fe718",
   "metadata": {},
   "outputs": [],
   "source": [
    "# load dataset\n",
    "(x_train, y_train),(x_test,y_test) = fashion_mnist.load_data()\n",
    "\n",
    "# 차수 변경 & 표준화\n",
    "x_train = x_train.reshape(-1,28*28).astype(np.float32)/255.0\n",
    "x_test = x_test.reshape(-1,28*28).astype(np.float32)/255.0\n",
    "\n",
    "# one hot encoding\n",
    "y_train = tf.keras.utils.to_categorical(y_train)\n",
    "y_test = tf.keras.utils.to_categorical(y_test)\n",
    "\n",
    "# L = 5\n",
    "n_input = 784  # x_train 출력 값\n",
    "n_hidden1 = 1024\n",
    "n_hidden2 = 512\n",
    "n_hidden3 = 512\n",
    "n_hidden4 = 512\n",
    "n_output = 10   # y_train 출력 값\n",
    "\n",
    "# 하이퍼매개변수\n",
    "batch_size = 256\n",
    "n_epoch = 2\n",
    "k = 2"
   ]
  },
  {
   "cell_type": "code",
   "execution_count": 33,
   "id": "d8b07c06",
   "metadata": {},
   "outputs": [],
   "source": [
    "def build_model():\n",
    "    model = Sequential()\n",
    "    model.add(Dense(units=n_hidden1,input_shape=(n_input,), activation = 'relu'))\n",
    "    model.add(Dense(units=n_hidden2, activation = 'relu'))\n",
    "    model.add(Dense(units=n_hidden3, activation = 'relu'))\n",
    "    model.add(Dense(units=n_hidden4, activation = 'relu'))\n",
    "    model.add(Dense(units=n_output, activation = 'softmax'))\n",
    "    return model"
   ]
  },
  {
   "cell_type": "code",
   "execution_count": 34,
   "id": "fe8e78e1",
   "metadata": {
    "scrolled": true
   },
   "outputs": [
    {
     "data": {
      "text/plain": [
       "[(array([10, 11, 12, 13, 14, 15, 16, 17, 18, 19]),\n",
       "  array([0, 1, 2, 3, 4, 5, 6, 7, 8, 9])),\n",
       " (array([0, 1, 2, 3, 4, 5, 6, 7, 8, 9]),\n",
       "  array([10, 11, 12, 13, 14, 15, 16, 17, 18, 19]))]"
      ]
     },
     "execution_count": 34,
     "metadata": {},
     "output_type": "execute_result"
    }
   ],
   "source": [
    "temp = pd.DataFrame({'data' : range(10,30)})\n",
    "list(KFold(k).split(temp))"
   ]
  },
  {
   "cell_type": "code",
   "execution_count": 35,
   "id": "9c10c4d0",
   "metadata": {},
   "outputs": [],
   "source": [
    "# cross_validata(모델. x,y, scoring = 'accuracy', cv = 5)"
   ]
  },
  {
   "cell_type": "code",
   "execution_count": 36,
   "id": "5a301a38",
   "metadata": {},
   "outputs": [],
   "source": [
    "def cross_val(opt):\n",
    "    accuracy = []\n",
    "    for train_index, val_index in KFold(k).split(x_train):\n",
    "        xtrain, xval = x_train[train_index], x_train[val_index]\n",
    "        ytrain, yval = y_train[train_index], y_train[val_index]\n",
    "        model = build_model()\n",
    "        model.compile(loss = tf.keras.losses.categorical_crossentropy, optimizer = opt, metrics = ['accuracy'])\n",
    "        model.fit(xtrain, ytrain, batch_size = batch_size, epochs = n_epoch, verbose = 0)\n",
    "        accuracy.append(model.evaluate(xval,yval))\n",
    "    return accuracy"
   ]
  },
  {
   "cell_type": "code",
   "execution_count": 37,
   "id": "68d8df65",
   "metadata": {},
   "outputs": [
    {
     "name": "stdout",
     "output_type": "stream",
     "text": [
      "938/938 [==============================] - 3s 3ms/step - loss: 0.8607 - accuracy: 0.7228\n",
      "938/938 [==============================] - 3s 3ms/step - loss: 0.8436 - accuracy: 0.6913\n",
      "938/938 [==============================] - 3s 3ms/step - loss: 0.3913 - accuracy: 0.8551\n",
      "938/938 [==============================] - 3s 3ms/step - loss: 0.3759 - accuracy: 0.8634\n",
      "938/938 [==============================] - 3s 3ms/step - loss: 1.5625 - accuracy: 0.6208\n",
      "938/938 [==============================] - 3s 3ms/step - loss: 1.5719 - accuracy: 0.6411\n",
      "938/938 [==============================] - 3s 3ms/step - loss: 1.0227 - accuracy: 0.7435\n",
      "938/938 [==============================] - 3s 4ms/step - loss: 0.5845 - accuracy: 0.7831\n"
     ]
    }
   ],
   "source": [
    "# 4개 모델에 대해서 교차 검증 수행\n",
    "\n",
    "sgd = cross_val(SGD())\n",
    "adam = cross_val(Adam())\n",
    "adagrad = cross_val(Adagrad())\n",
    "rmsprop = cross_val(RMSprop())"
   ]
  },
  {
   "cell_type": "code",
   "execution_count": 60,
   "id": "26f9dedd",
   "metadata": {},
   "outputs": [
    {
     "name": "stdout",
     "output_type": "stream",
     "text": [
      "0.7070666551589966\n",
      "0.8592666685581207\n",
      "0.6309333443641663\n",
      "0.7633166611194611\n"
     ]
    }
   ],
   "source": [
    "print(np.array(sgd).mean(axis=0)[1])\n",
    "print(np.array(adam).mean(axis=0)[1])\n",
    "print(np.array(adagrad).mean(axis=0)[1])\n",
    "print(np.array(rmsprop).mean(axis=0)[1])"
   ]
  },
  {
   "cell_type": "code",
   "execution_count": 65,
   "id": "df1e398c",
   "metadata": {},
   "outputs": [
    {
     "name": "stdout",
     "output_type": "stream",
     "text": [
      "[[0.860704779624939, 0.7228333353996277], [0.8436371088027954, 0.6912999749183655]]\n"
     ]
    },
    {
     "data": {
      "text/plain": [
       "[0.7228333353996277, 0.6912999749183655]"
      ]
     },
     "execution_count": 65,
     "metadata": {},
     "output_type": "execute_result"
    }
   ],
   "source": [
    "print(sgd)\n",
    "[i[1] for i in sgd]"
   ]
  },
  {
   "cell_type": "code",
   "execution_count": 88,
   "id": "8b371944",
   "metadata": {},
   "outputs": [
    {
     "data": {
      "text/html": [
       "<div>\n",
       "<style scoped>\n",
       "    .dataframe tbody tr th:only-of-type {\n",
       "        vertical-align: middle;\n",
       "    }\n",
       "\n",
       "    .dataframe tbody tr th {\n",
       "        vertical-align: top;\n",
       "    }\n",
       "\n",
       "    .dataframe thead th {\n",
       "        text-align: right;\n",
       "    }\n",
       "</style>\n",
       "<table border=\"1\" class=\"dataframe\">\n",
       "  <thead>\n",
       "    <tr style=\"text-align: right;\">\n",
       "      <th></th>\n",
       "      <th>sgd</th>\n",
       "      <th>adam</th>\n",
       "      <th>adagrad</th>\n",
       "      <th>rmsprop</th>\n",
       "    </tr>\n",
       "  </thead>\n",
       "  <tbody>\n",
       "    <tr>\n",
       "      <th>0</th>\n",
       "      <td>0.722833</td>\n",
       "      <td>0.855133</td>\n",
       "      <td>0.620800</td>\n",
       "      <td>0.743533</td>\n",
       "    </tr>\n",
       "    <tr>\n",
       "      <th>1</th>\n",
       "      <td>0.691300</td>\n",
       "      <td>0.863400</td>\n",
       "      <td>0.641067</td>\n",
       "      <td>0.783100</td>\n",
       "    </tr>\n",
       "  </tbody>\n",
       "</table>\n",
       "</div>"
      ],
      "text/plain": [
       "        sgd      adam   adagrad   rmsprop\n",
       "0  0.722833  0.855133  0.620800  0.743533\n",
       "1  0.691300  0.863400  0.641067  0.783100"
      ]
     },
     "execution_count": 88,
     "metadata": {},
     "output_type": "execute_result"
    }
   ],
   "source": [
    "import seaborn as sns\n",
    "temp = pd.DataFrame(data = [\n",
    "[i[1] for i in sgd],\n",
    "[i[1] for i in adam],\n",
    "[i[1] for i in adagrad],\n",
    "[i[1] for i in rmsprop],\n",
    "]).T\n",
    "temp.columns = ['sgd','adam','adagrad','rmsprop']\n",
    "temp"
   ]
  },
  {
   "cell_type": "code",
   "execution_count": 99,
   "id": "a269dac6",
   "metadata": {},
   "outputs": [
    {
     "data": {
      "text/plain": [
       "<AxesSubplot:>"
      ]
     },
     "execution_count": 99,
     "metadata": {},
     "output_type": "execute_result"
    },
    {
     "data": {
      "image/png": "[encoded data removed]",
      "text/plain": [
       "<Figure size 432x288 with 1 Axes>"
      ]
     },
     "metadata": {
      "needs_background": "light"
     },
     "output_type": "display_data"
    }
   ],
   "source": [
    "sns.boxplot(data = temp)"
   ]
  }
 ],
 "metadata": {
  "kernelspec": {
   "display_name": "Python 3 (ipykernel)",
   "language": "python",
   "name": "python3"
  },
  "language_info": {
   "codemirror_mode": {
    "name": "ipython",
    "version": 3
   },
   "file_extension": ".py",
   "mimetype": "text/x-python",
   "name": "python",
   "nbconvert_exporter": "python",
   "pygments_lexer": "ipython3",
   "version": "3.9.7"
  }
 },
 "nbformat": 4,
 "nbformat_minor": 5
}
