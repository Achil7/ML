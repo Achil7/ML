{
  "nbformat": 4,
  "nbformat_minor": 0,
  "metadata": {
    "colab": {
      "provenance": [],
      "collapsed_sections": []
    },
    "kernelspec": {
      "name": "python3",
      "display_name": "Python 3"
    },
    "language_info": {
      "name": "python"
    },
    "accelerator": "GPU"
  },
  "cells": [
    {
      "cell_type": "code",
      "source": [
        "# 컨볼루션 신경망 설계 드롭아웃을 적용해서 유연한 구조로 변경\n",
        "# c p c p c fc d fc     c c p fc fc\n",
        "#\n",
        "import numpy as np\n",
        "import tensorflow as tf\n",
        "from tensorflow.keras.datasets import mnist\n",
        "from tensorflow.keras.models import Sequential\n",
        "from tensorflow.keras.layers import Conv2D, MaxPooling2D, Flatten, Dense, Dropout\n",
        "from tensorflow.keras.optimizers import Adam"
      ],
      "metadata": {
        "id": "DcG07Rr_CUb2"
      },
      "execution_count": null,
      "outputs": []
    },
    {
      "cell_type": "code",
      "source": [
        "# load dataset\n",
        "(x_train, y_train),(x_test,y_test) = mnist.load_data()\n",
        "\n",
        "# 차수 변경 & 표준화\n",
        "x_train = x_train.reshape(-1,28,28,1).astype(np.float32)/255.0\n",
        "x_test = x_test.reshape(-1,28,28,1).astype(np.float32)/255.0\n",
        "\n",
        "# one hot encoding\n",
        "y_train = tf.keras.utils.to_categorical(y_train)\n",
        "y_test = tf.keras.utils.to_categorical(y_test)"
      ],
      "metadata": {
        "id": "INYS7ulBDlcy"
      },
      "execution_count": null,
      "outputs": []
    },
    {
      "cell_type": "code",
      "source": [
        "# c-c-p-fc-fc 구조\n",
        "# convolution-convolution-pooling\n",
        "# LeNet-5 신경망 모델 설계\n",
        "cnn = Sequential()\n",
        "cnn.add(Conv2D(32,(5,5), padding = 'same', activation='relu',input_shape = (28,28,1)))\n",
        "cnn.add(Conv2D(64,(5,5), padding = 'same', activation='relu',input_shape = (28,28,1)))\n",
        "cnn.add(MaxPooling2D(pool_size=(2,2)))\n",
        "cnn.add(Dropout(0.25))\n",
        "\n",
        "cnn.add(Flatten())\n",
        "cnn.add(Dense(84,activation='relu'))\n",
        "cnn.add(Dropout(0.25))\n",
        "cnn.add(Dense(10,activation='softmax'))"
      ],
      "metadata": {
        "id": "WSzQYb57DrGX"
      },
      "execution_count": null,
      "outputs": []
    },
    {
      "cell_type": "code",
      "source": [
        "# 학습\n",
        "cnn.compile(loss = tf.keras.losses.categorical_crossentropy, optimizer = Adam(), metrics = ['accuracy'])\n",
        "hist = cnn.fit(x_train,y_train, batch_size=128, epochs = 30, validation_data=(x_test,y_test), verbose = 2)"
      ],
      "metadata": {
        "colab": {
          "base_uri": "https://localhost:8080/"
        },
        "id": "93Rd9pgEEqeq",
        "outputId": "05aeca49-3e3e-4360-b7cc-39e0e664fa84"
      },
      "execution_count": null,
      "outputs": [
        {
          "output_type": "stream",
          "name": "stdout",
          "text": [
            "Epoch 1/30\n",
            "469/469 - 16s - loss: 0.1849 - accuracy: 0.9435 - val_loss: 0.0407 - val_accuracy: 0.9870 - 16s/epoch - 34ms/step\n",
            "Epoch 2/30\n",
            "469/469 - 4s - loss: 0.0590 - accuracy: 0.9816 - val_loss: 0.0339 - val_accuracy: 0.9884 - 4s/epoch - 9ms/step\n",
            "Epoch 3/30\n",
            "469/469 - 4s - loss: 0.0430 - accuracy: 0.9863 - val_loss: 0.0310 - val_accuracy: 0.9897 - 4s/epoch - 10ms/step\n",
            "Epoch 4/30\n",
            "469/469 - 4s - loss: 0.0321 - accuracy: 0.9899 - val_loss: 0.0280 - val_accuracy: 0.9909 - 4s/epoch - 9ms/step\n",
            "Epoch 5/30\n",
            "469/469 - 4s - loss: 0.0277 - accuracy: 0.9913 - val_loss: 0.0260 - val_accuracy: 0.9908 - 4s/epoch - 9ms/step\n",
            "Epoch 6/30\n",
            "469/469 - 4s - loss: 0.0221 - accuracy: 0.9929 - val_loss: 0.0270 - val_accuracy: 0.9910 - 4s/epoch - 9ms/step\n",
            "Epoch 7/30\n",
            "469/469 - 4s - loss: 0.0194 - accuracy: 0.9934 - val_loss: 0.0327 - val_accuracy: 0.9905 - 4s/epoch - 9ms/step\n",
            "Epoch 8/30\n",
            "469/469 - 4s - loss: 0.0181 - accuracy: 0.9938 - val_loss: 0.0244 - val_accuracy: 0.9926 - 4s/epoch - 9ms/step\n",
            "Epoch 9/30\n",
            "469/469 - 4s - loss: 0.0159 - accuracy: 0.9942 - val_loss: 0.0297 - val_accuracy: 0.9919 - 4s/epoch - 9ms/step\n",
            "Epoch 10/30\n",
            "469/469 - 4s - loss: 0.0142 - accuracy: 0.9955 - val_loss: 0.0284 - val_accuracy: 0.9914 - 4s/epoch - 9ms/step\n",
            "Epoch 11/30\n",
            "469/469 - 4s - loss: 0.0123 - accuracy: 0.9959 - val_loss: 0.0292 - val_accuracy: 0.9918 - 4s/epoch - 9ms/step\n",
            "Epoch 12/30\n",
            "469/469 - 4s - loss: 0.0118 - accuracy: 0.9961 - val_loss: 0.0277 - val_accuracy: 0.9918 - 4s/epoch - 9ms/step\n",
            "Epoch 13/30\n",
            "469/469 - 4s - loss: 0.0099 - accuracy: 0.9969 - val_loss: 0.0295 - val_accuracy: 0.9920 - 4s/epoch - 9ms/step\n",
            "Epoch 14/30\n",
            "469/469 - 4s - loss: 0.0123 - accuracy: 0.9959 - val_loss: 0.0307 - val_accuracy: 0.9922 - 4s/epoch - 9ms/step\n",
            "Epoch 15/30\n",
            "469/469 - 4s - loss: 0.0087 - accuracy: 0.9969 - val_loss: 0.0302 - val_accuracy: 0.9929 - 4s/epoch - 9ms/step\n",
            "Epoch 16/30\n",
            "469/469 - 4s - loss: 0.0085 - accuracy: 0.9972 - val_loss: 0.0331 - val_accuracy: 0.9919 - 4s/epoch - 9ms/step\n",
            "Epoch 17/30\n",
            "469/469 - 4s - loss: 0.0077 - accuracy: 0.9974 - val_loss: 0.0293 - val_accuracy: 0.9915 - 4s/epoch - 9ms/step\n",
            "Epoch 18/30\n",
            "469/469 - 4s - loss: 0.0074 - accuracy: 0.9976 - val_loss: 0.0392 - val_accuracy: 0.9914 - 4s/epoch - 9ms/step\n",
            "Epoch 19/30\n",
            "469/469 - 4s - loss: 0.0077 - accuracy: 0.9974 - val_loss: 0.0380 - val_accuracy: 0.9910 - 4s/epoch - 9ms/step\n",
            "Epoch 20/30\n",
            "469/469 - 4s - loss: 0.0083 - accuracy: 0.9973 - val_loss: 0.0251 - val_accuracy: 0.9935 - 4s/epoch - 9ms/step\n",
            "Epoch 21/30\n",
            "469/469 - 4s - loss: 0.0055 - accuracy: 0.9981 - val_loss: 0.0352 - val_accuracy: 0.9922 - 4s/epoch - 9ms/step\n",
            "Epoch 22/30\n",
            "469/469 - 4s - loss: 0.0071 - accuracy: 0.9978 - val_loss: 0.0343 - val_accuracy: 0.9931 - 4s/epoch - 9ms/step\n",
            "Epoch 23/30\n",
            "469/469 - 4s - loss: 0.0048 - accuracy: 0.9984 - val_loss: 0.0389 - val_accuracy: 0.9924 - 4s/epoch - 9ms/step\n",
            "Epoch 24/30\n",
            "469/469 - 4s - loss: 0.0061 - accuracy: 0.9981 - val_loss: 0.0342 - val_accuracy: 0.9921 - 4s/epoch - 9ms/step\n",
            "Epoch 25/30\n",
            "469/469 - 4s - loss: 0.0065 - accuracy: 0.9979 - val_loss: 0.0404 - val_accuracy: 0.9915 - 4s/epoch - 9ms/step\n",
            "Epoch 26/30\n",
            "469/469 - 4s - loss: 0.0061 - accuracy: 0.9980 - val_loss: 0.0381 - val_accuracy: 0.9929 - 4s/epoch - 9ms/step\n",
            "Epoch 27/30\n",
            "469/469 - 4s - loss: 0.0064 - accuracy: 0.9978 - val_loss: 0.0341 - val_accuracy: 0.9924 - 4s/epoch - 9ms/step\n",
            "Epoch 28/30\n",
            "469/469 - 4s - loss: 0.0057 - accuracy: 0.9979 - val_loss: 0.0362 - val_accuracy: 0.9924 - 4s/epoch - 9ms/step\n",
            "Epoch 29/30\n",
            "469/469 - 4s - loss: 0.0056 - accuracy: 0.9978 - val_loss: 0.0393 - val_accuracy: 0.9925 - 4s/epoch - 9ms/step\n",
            "Epoch 30/30\n",
            "469/469 - 4s - loss: 0.0053 - accuracy: 0.9982 - val_loss: 0.0346 - val_accuracy: 0.9921 - 4s/epoch - 10ms/step\n"
          ]
        }
      ]
    },
    {
      "cell_type": "code",
      "source": [
        "# 신경망 모델 정확률 평가\n",
        "res = cnn.evaluate(x_test,y_test)\n",
        "res"
      ],
      "metadata": {
        "colab": {
          "base_uri": "https://localhost:8080/"
        },
        "id": "b9LNw1wuFWau",
        "outputId": "e8743f18-2661-4ec4-cb96-d38380a4ee95"
      },
      "execution_count": null,
      "outputs": [
        {
          "output_type": "stream",
          "name": "stdout",
          "text": [
            "313/313 [==============================] - 1s 3ms/step - loss: 0.0346 - accuracy: 0.9921\n"
          ]
        },
        {
          "output_type": "execute_result",
          "data": {
            "text/plain": [
              "[0.03460012748837471, 0.9921000003814697]"
            ]
          },
          "metadata": {},
          "execution_count": 9
        }
      ]
    },
    {
      "cell_type": "code",
      "source": [
        "import seaborn as sns\n",
        "import matplotlib.pyplot as plt\n",
        "fig, ax = plt.subplots(1,2, figsize = (15,5))\n",
        "sns.lineplot(data = hist.history['accuracy'], ax=ax[0])\n",
        "sns.lineplot(data = hist.history['val_accuracy'], ax=ax[0])\n",
        "plt.legend(['accuracy', 'val_accuracy'])\n",
        "sns.lineplot(data = hist.history['loss'], ax=ax[1])\n",
        "sns.lineplot(data = hist.history['val_loss'], ax=ax[1])\n"
      ],
      "metadata": {
        "colab": {
          "base_uri": "https://localhost:8080/",
          "height": 338
        },
        "id": "ZvNLH-bAF8Hm",
        "outputId": "216dfdd5-8615-420b-8ada-b6a71a6e948a"
      },
      "execution_count": null,
      "outputs": [
        {
          "output_type": "execute_result",
          "data": {
            "text/plain": [
              "<matplotlib.axes._subplots.AxesSubplot at 0x7f848a0df250>"
            ]
          },
          "metadata": {},
          "execution_count": 10
        },
        {
          "output_type": "display_data",
          "data": {
            "text/plain": [
              "<Figure size 1080x360 with 2 Axes>"
            ],
            "image/png": "[encoded data removed]"
          },
          "metadata": {
            "needs_background": "light"
          }
        }
      ]
    },
    {
      "cell_type": "code",
      "source": [
        "# 텐서플로에서 중요한 클래스 4\n",
        "# model\n",
        "# layers\n",
        "# loss\n",
        "# optimizer"
      ],
      "metadata": {
        "id": "CO5i_vzbGKIg"
      },
      "execution_count": null,
      "outputs": []
    },
    {
      "cell_type": "code",
      "source": [
        "# functional API 함수\n",
        "# 텐서가 흐르다가 중간에 여러재고 갈라지는 경우(출력이 여러개)\n",
        "# 시계열이나 생성모델에서 종종 발생\n"
      ],
      "metadata": {
        "id": "XQYutScpGTcg"
      },
      "execution_count": null,
      "outputs": []
    }
  ]
}