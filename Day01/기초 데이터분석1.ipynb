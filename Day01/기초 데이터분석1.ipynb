{
 "cells": [
  {
   "cell_type": "code",
   "execution_count": 1,
   "id": "3e876c23",
   "metadata": {},
   "outputs": [],
   "source": [
    "import pandas as pd\n",
    "import numpy as np\n",
    "import matplotlib.pyplot as plt\n",
    "import seaborn as sns\n",
    "# C:/Windows/Fonts/H2GSRB.TTF\n",
    "import matplotlib as mp\n",
    "import matplotlib.font_manager as fm\n",
    "import os\n",
    "\n",
    "# 한글폰트 설정 - matplot lib 한글을 지원하지 않으므로 자신의 컴퓨터에 있는 한글 폰트는 셋팅\n",
    "# 디자인용도>>한국어문자\n",
    "# H2GSRB.TTF 와 같이 이름과 속성이름이 다르기에 직접 찾아서 설정\n",
    "location = 'C:/Windows/Fonts/H2GSRB.TTF'\n",
    "font_name = fm.FontProperties(fname=location).get_name()\n",
    "mp.rc('font',family=font_name)"
   ]
  },
  {
   "cell_type": "code",
   "execution_count": 2,
   "id": "02cdd709",
   "metadata": {},
   "outputs": [
    {
     "data": {
      "text/plain": [
       "'C:\\\\Users\\\\achil\\\\Desktop\\\\빅데이터\\\\심화\\\\Day01'"
      ]
     },
     "execution_count": 2,
     "metadata": {},
     "output_type": "execute_result"
    }
   ],
   "source": [
    "# 경로\n",
    "os.getcwd()"
   ]
  },
  {
   "cell_type": "code",
   "execution_count": 3,
   "id": "ab6f1b3a",
   "metadata": {},
   "outputs": [],
   "source": [
    "# 파일 읽기 - 데이터 수집\n",
    "seoul_df = pd.read_csv('./data/seoul.csv') # encoding = 'cp989'"
   ]
  },
  {
   "cell_type": "code",
   "execution_count": 4,
   "id": "0be4d2dd",
   "metadata": {},
   "outputs": [],
   "source": [
    "# 변수이름을 생략없이 보여줌\n",
    "pd.options.display.max_columns = None"
   ]
  },
  {
   "cell_type": "code",
   "execution_count": 5,
   "id": "24c3557e",
   "metadata": {
    "scrolled": true
   },
   "outputs": [
    {
     "data": {
      "text/html": [
       "<div>\n",
       "<style scoped>\n",
       "    .dataframe tbody tr th:only-of-type {\n",
       "        vertical-align: middle;\n",
       "    }\n",
       "\n",
       "    .dataframe tbody tr th {\n",
       "        vertical-align: top;\n",
       "    }\n",
       "\n",
       "    .dataframe thead th {\n",
       "        text-align: right;\n",
       "    }\n",
       "</style>\n",
       "<table border=\"1\" class=\"dataframe\">\n",
       "  <thead>\n",
       "    <tr style=\"text-align: right;\">\n",
       "      <th></th>\n",
       "      <th>상가업소번호</th>\n",
       "      <th>상호명</th>\n",
       "      <th>지점명</th>\n",
       "      <th>상권업종대분류코드</th>\n",
       "      <th>상권업종대분류명</th>\n",
       "      <th>상권업종중분류코드</th>\n",
       "      <th>상권업종중분류명</th>\n",
       "      <th>상권업종소분류코드</th>\n",
       "      <th>상권업종소분류명</th>\n",
       "      <th>표준산업분류코드</th>\n",
       "      <th>표준산업분류명</th>\n",
       "      <th>시도코드</th>\n",
       "      <th>시도명</th>\n",
       "      <th>시군구코드</th>\n",
       "      <th>시군구명</th>\n",
       "      <th>행정동코드</th>\n",
       "      <th>행정동명</th>\n",
       "      <th>법정동코드</th>\n",
       "      <th>법정동명</th>\n",
       "      <th>지번코드</th>\n",
       "      <th>대지구분코드</th>\n",
       "      <th>대지구분명</th>\n",
       "      <th>지번본번지</th>\n",
       "      <th>지번부번지</th>\n",
       "      <th>지번주소</th>\n",
       "      <th>도로명코드</th>\n",
       "      <th>도로명</th>\n",
       "      <th>건물본번지</th>\n",
       "      <th>건물부번지</th>\n",
       "      <th>건물관리번호</th>\n",
       "      <th>건물명</th>\n",
       "      <th>도로명주소</th>\n",
       "      <th>구우편번호</th>\n",
       "      <th>신우편번호</th>\n",
       "      <th>동정보</th>\n",
       "      <th>층정보</th>\n",
       "      <th>호정보</th>\n",
       "      <th>경도</th>\n",
       "      <th>위도</th>\n",
       "    </tr>\n",
       "  </thead>\n",
       "  <tbody>\n",
       "    <tr>\n",
       "      <th>0</th>\n",
       "      <td>23324279</td>\n",
       "      <td>제중건강원</td>\n",
       "      <td>NaN</td>\n",
       "      <td>D</td>\n",
       "      <td>소매</td>\n",
       "      <td>D10</td>\n",
       "      <td>건강/미용식품</td>\n",
       "      <td>D10A07</td>\n",
       "      <td>건강원</td>\n",
       "      <td>G47216</td>\n",
       "      <td>건강보조식품 소매업</td>\n",
       "      <td>11</td>\n",
       "      <td>서울특별시</td>\n",
       "      <td>11560</td>\n",
       "      <td>영등포구</td>\n",
       "      <td>1156053500</td>\n",
       "      <td>영등포동</td>\n",
       "      <td>1156010600</td>\n",
       "      <td>영등포동5가</td>\n",
       "      <td>1156010600100410001</td>\n",
       "      <td>1</td>\n",
       "      <td>대지</td>\n",
       "      <td>41</td>\n",
       "      <td>1.0</td>\n",
       "      <td>서울특별시 영등포구 영등포동5가 41-1</td>\n",
       "      <td>115604154799</td>\n",
       "      <td>서울특별시 영등포구 영중로14길</td>\n",
       "      <td>11</td>\n",
       "      <td>17.0</td>\n",
       "      <td>1156010600100410002034626</td>\n",
       "      <td>NaN</td>\n",
       "      <td>서울특별시 영등포구 영중로14길 11-17</td>\n",
       "      <td>150035</td>\n",
       "      <td>7250.0</td>\n",
       "      <td>NaN</td>\n",
       "      <td>1</td>\n",
       "      <td>NaN</td>\n",
       "      <td>126.907168</td>\n",
       "      <td>37.520613</td>\n",
       "    </tr>\n",
       "    <tr>\n",
       "      <th>1</th>\n",
       "      <td>24525909</td>\n",
       "      <td>민속악기사</td>\n",
       "      <td>NaN</td>\n",
       "      <td>D</td>\n",
       "      <td>소매</td>\n",
       "      <td>D04</td>\n",
       "      <td>취미/오락관련소매</td>\n",
       "      <td>D04A09</td>\n",
       "      <td>악기판매</td>\n",
       "      <td>G47593</td>\n",
       "      <td>악기 소매업</td>\n",
       "      <td>11</td>\n",
       "      <td>서울특별시</td>\n",
       "      <td>11200</td>\n",
       "      <td>성동구</td>\n",
       "      <td>1120079000</td>\n",
       "      <td>용답동</td>\n",
       "      <td>1120012200</td>\n",
       "      <td>용답동</td>\n",
       "      <td>1120012200101420011</td>\n",
       "      <td>1</td>\n",
       "      <td>대지</td>\n",
       "      <td>142</td>\n",
       "      <td>11.0</td>\n",
       "      <td>서울특별시 성동구 용답동 142-11</td>\n",
       "      <td>112004109480</td>\n",
       "      <td>서울특별시 성동구 용답5길</td>\n",
       "      <td>2</td>\n",
       "      <td>NaN</td>\n",
       "      <td>1120012200101420011000227</td>\n",
       "      <td>NaN</td>\n",
       "      <td>서울특별시 성동구 용답5길 2</td>\n",
       "      <td>133849</td>\n",
       "      <td>4803.0</td>\n",
       "      <td>NaN</td>\n",
       "      <td>NaN</td>\n",
       "      <td>NaN</td>\n",
       "      <td>127.049018</td>\n",
       "      <td>37.566857</td>\n",
       "    </tr>\n",
       "    <tr>\n",
       "      <th>2</th>\n",
       "      <td>24715368</td>\n",
       "      <td>태평양진주</td>\n",
       "      <td>NaN</td>\n",
       "      <td>D</td>\n",
       "      <td>소매</td>\n",
       "      <td>D26</td>\n",
       "      <td>시계/귀금속소매</td>\n",
       "      <td>D26A01</td>\n",
       "      <td>시계/귀금속</td>\n",
       "      <td>G47830</td>\n",
       "      <td>시계 및 귀금속 소매업</td>\n",
       "      <td>11</td>\n",
       "      <td>서울특별시</td>\n",
       "      <td>11110</td>\n",
       "      <td>종로구</td>\n",
       "      <td>1111061500</td>\n",
       "      <td>종로1.2.3.4가동</td>\n",
       "      <td>1111015200</td>\n",
       "      <td>봉익동</td>\n",
       "      <td>1111015200100430001</td>\n",
       "      <td>1</td>\n",
       "      <td>대지</td>\n",
       "      <td>43</td>\n",
       "      <td>1.0</td>\n",
       "      <td>서울특별시 종로구 봉익동 43-1</td>\n",
       "      <td>111104100163</td>\n",
       "      <td>서울특별시 종로구 서순라길</td>\n",
       "      <td>17</td>\n",
       "      <td>10.0</td>\n",
       "      <td>1111015200100440000000001</td>\n",
       "      <td>금사랑투빌딩</td>\n",
       "      <td>서울특별시 종로구 서순라길 17-10</td>\n",
       "      <td>110390</td>\n",
       "      <td>3138.0</td>\n",
       "      <td>NaN</td>\n",
       "      <td>NaN</td>\n",
       "      <td>NaN</td>\n",
       "      <td>126.993530</td>\n",
       "      <td>37.571848</td>\n",
       "    </tr>\n",
       "    <tr>\n",
       "      <th>3</th>\n",
       "      <td>15554136</td>\n",
       "      <td>김선희꼼꼼국어교습소</td>\n",
       "      <td>NaN</td>\n",
       "      <td>R</td>\n",
       "      <td>학문/교육</td>\n",
       "      <td>R01</td>\n",
       "      <td>학원-보습교습입시</td>\n",
       "      <td>R01A01</td>\n",
       "      <td>학원-입시</td>\n",
       "      <td>P85501</td>\n",
       "      <td>일반 교과 학원</td>\n",
       "      <td>11</td>\n",
       "      <td>서울특별시</td>\n",
       "      <td>11710</td>\n",
       "      <td>송파구</td>\n",
       "      <td>1171056100</td>\n",
       "      <td>방이1동</td>\n",
       "      <td>1171011100</td>\n",
       "      <td>방이동</td>\n",
       "      <td>1171011100101970003</td>\n",
       "      <td>1</td>\n",
       "      <td>대지</td>\n",
       "      <td>197</td>\n",
       "      <td>3.0</td>\n",
       "      <td>서울특별시 송파구 방이동 197-3</td>\n",
       "      <td>117104169448</td>\n",
       "      <td>서울특별시 송파구 위례성대로12길</td>\n",
       "      <td>31</td>\n",
       "      <td>NaN</td>\n",
       "      <td>1171011100101970003017195</td>\n",
       "      <td>NaN</td>\n",
       "      <td>서울특별시 송파구 위례성대로12길 31</td>\n",
       "      <td>138834</td>\n",
       "      <td>5640.0</td>\n",
       "      <td>NaN</td>\n",
       "      <td>2</td>\n",
       "      <td>NaN</td>\n",
       "      <td>127.121520</td>\n",
       "      <td>37.510967</td>\n",
       "    </tr>\n",
       "    <tr>\n",
       "      <th>4</th>\n",
       "      <td>17174175</td>\n",
       "      <td>비지트</td>\n",
       "      <td>NaN</td>\n",
       "      <td>Q</td>\n",
       "      <td>음식</td>\n",
       "      <td>Q01</td>\n",
       "      <td>한식</td>\n",
       "      <td>Q01A01</td>\n",
       "      <td>한식/백반/한정식</td>\n",
       "      <td>I56111</td>\n",
       "      <td>한식 음식점업</td>\n",
       "      <td>11</td>\n",
       "      <td>서울특별시</td>\n",
       "      <td>11650</td>\n",
       "      <td>서초구</td>\n",
       "      <td>1165062100</td>\n",
       "      <td>방배4동</td>\n",
       "      <td>1165010100</td>\n",
       "      <td>방배동</td>\n",
       "      <td>1165010100108540018</td>\n",
       "      <td>1</td>\n",
       "      <td>대지</td>\n",
       "      <td>854</td>\n",
       "      <td>18.0</td>\n",
       "      <td>서울특별시 서초구 방배동 854-18</td>\n",
       "      <td>116504163117</td>\n",
       "      <td>서울특별시 서초구 동광로18길</td>\n",
       "      <td>82</td>\n",
       "      <td>NaN</td>\n",
       "      <td>1165010100108540018009586</td>\n",
       "      <td>상랑의빌딩</td>\n",
       "      <td>서울특별시 서초구 동광로18길 82</td>\n",
       "      <td>137837</td>\n",
       "      <td>6572.0</td>\n",
       "      <td>NaN</td>\n",
       "      <td>1</td>\n",
       "      <td>NaN</td>\n",
       "      <td>126.991394</td>\n",
       "      <td>37.488375</td>\n",
       "    </tr>\n",
       "  </tbody>\n",
       "</table>\n",
       "</div>"
      ],
      "text/plain": [
       "     상가업소번호         상호명  지점명 상권업종대분류코드 상권업종대분류명 상권업종중분류코드   상권업종중분류명  \\\n",
       "0  23324279       제중건강원  NaN         D       소매       D10    건강/미용식품   \n",
       "1  24525909       민속악기사  NaN         D       소매       D04  취미/오락관련소매   \n",
       "2  24715368       태평양진주  NaN         D       소매       D26   시계/귀금속소매   \n",
       "3  15554136  김선희꼼꼼국어교습소  NaN         R    학문/교육       R01  학원-보습교습입시   \n",
       "4  17174175         비지트  NaN         Q       음식       Q01         한식   \n",
       "\n",
       "  상권업종소분류코드   상권업종소분류명 표준산업분류코드       표준산업분류명  시도코드    시도명  시군구코드  시군구명  \\\n",
       "0    D10A07        건강원   G47216    건강보조식품 소매업    11  서울특별시  11560  영등포구   \n",
       "1    D04A09       악기판매   G47593        악기 소매업    11  서울특별시  11200   성동구   \n",
       "2    D26A01     시계/귀금속   G47830  시계 및 귀금속 소매업    11  서울특별시  11110   종로구   \n",
       "3    R01A01      학원-입시   P85501      일반 교과 학원    11  서울특별시  11710   송파구   \n",
       "4    Q01A01  한식/백반/한정식   I56111       한식 음식점업    11  서울특별시  11650   서초구   \n",
       "\n",
       "        행정동코드         행정동명       법정동코드    법정동명                 지번코드  대지구분코드  \\\n",
       "0  1156053500         영등포동  1156010600  영등포동5가  1156010600100410001       1   \n",
       "1  1120079000          용답동  1120012200     용답동  1120012200101420011       1   \n",
       "2  1111061500  종로1.2.3.4가동  1111015200     봉익동  1111015200100430001       1   \n",
       "3  1171056100         방이1동  1171011100     방이동  1171011100101970003       1   \n",
       "4  1165062100         방배4동  1165010100     방배동  1165010100108540018       1   \n",
       "\n",
       "  대지구분명  지번본번지  지번부번지                    지번주소         도로명코드  \\\n",
       "0    대지     41    1.0  서울특별시 영등포구 영등포동5가 41-1  115604154799   \n",
       "1    대지    142   11.0    서울특별시 성동구 용답동 142-11  112004109480   \n",
       "2    대지     43    1.0      서울특별시 종로구 봉익동 43-1  111104100163   \n",
       "3    대지    197    3.0     서울특별시 송파구 방이동 197-3  117104169448   \n",
       "4    대지    854   18.0    서울특별시 서초구 방배동 854-18  116504163117   \n",
       "\n",
       "                  도로명  건물본번지  건물부번지                     건물관리번호     건물명  \\\n",
       "0   서울특별시 영등포구 영중로14길     11   17.0  1156010600100410002034626     NaN   \n",
       "1      서울특별시 성동구 용답5길      2    NaN  1120012200101420011000227     NaN   \n",
       "2      서울특별시 종로구 서순라길     17   10.0  1111015200100440000000001  금사랑투빌딩   \n",
       "3  서울특별시 송파구 위례성대로12길     31    NaN  1171011100101970003017195     NaN   \n",
       "4    서울특별시 서초구 동광로18길     82    NaN  1165010100108540018009586   상랑의빌딩   \n",
       "\n",
       "                     도로명주소   구우편번호   신우편번호  동정보  층정보  호정보          경도  \\\n",
       "0  서울특별시 영등포구 영중로14길 11-17  150035  7250.0  NaN    1  NaN  126.907168   \n",
       "1         서울특별시 성동구 용답5길 2  133849  4803.0  NaN  NaN  NaN  127.049018   \n",
       "2     서울특별시 종로구 서순라길 17-10  110390  3138.0  NaN  NaN  NaN  126.993530   \n",
       "3    서울특별시 송파구 위례성대로12길 31  138834  5640.0  NaN    2  NaN  127.121520   \n",
       "4      서울특별시 서초구 동광로18길 82  137837  6572.0  NaN    1  NaN  126.991394   \n",
       "\n",
       "          위도  \n",
       "0  37.520613  \n",
       "1  37.566857  \n",
       "2  37.571848  \n",
       "3  37.510967  \n",
       "4  37.488375  "
      ]
     },
     "execution_count": 5,
     "metadata": {},
     "output_type": "execute_result"
    }
   ],
   "source": [
    "seoul_df.head()"
   ]
  },
  {
   "cell_type": "code",
   "execution_count": 6,
   "id": "7cc49f91",
   "metadata": {},
   "outputs": [
    {
     "data": {
      "text/plain": [
       "(346229, 39)"
      ]
     },
     "execution_count": 6,
     "metadata": {},
     "output_type": "execute_result"
    }
   ],
   "source": [
    "seoul_df.shape"
   ]
  },
  {
   "cell_type": "code",
   "execution_count": 7,
   "id": "5759ba2f",
   "metadata": {},
   "outputs": [
    {
     "name": "stdout",
     "output_type": "stream",
     "text": [
      "<class 'pandas.core.frame.DataFrame'>\n",
      "RangeIndex: 346229 entries, 0 to 346228\n",
      "Data columns (total 39 columns):\n",
      " #   Column     Non-Null Count   Dtype  \n",
      "---  ------     --------------   -----  \n",
      " 0   상가업소번호     346229 non-null  int64  \n",
      " 1   상호명        346229 non-null  object \n",
      " 2   지점명        59038 non-null   object \n",
      " 3   상권업종대분류코드  346229 non-null  object \n",
      " 4   상권업종대분류명   346229 non-null  object \n",
      " 5   상권업종중분류코드  346229 non-null  object \n",
      " 6   상권업종중분류명   346229 non-null  object \n",
      " 7   상권업종소분류코드  346229 non-null  object \n",
      " 8   상권업종소분류명   346229 non-null  object \n",
      " 9   표준산업분류코드   323688 non-null  object \n",
      " 10  표준산업분류명    323688 non-null  object \n",
      " 11  시도코드       346229 non-null  int64  \n",
      " 12  시도명        346229 non-null  object \n",
      " 13  시군구코드      346229 non-null  int64  \n",
      " 14  시군구명       346229 non-null  object \n",
      " 15  행정동코드      346229 non-null  int64  \n",
      " 16  행정동명       346229 non-null  object \n",
      " 17  법정동코드      346229 non-null  int64  \n",
      " 18  법정동명       346229 non-null  object \n",
      " 19  지번코드       346229 non-null  int64  \n",
      " 20  대지구분코드     346229 non-null  int64  \n",
      " 21  대지구분명      346229 non-null  object \n",
      " 22  지번본번지      346229 non-null  int64  \n",
      " 23  지번부번지      274757 non-null  float64\n",
      " 24  지번주소       346229 non-null  object \n",
      " 25  도로명코드      346229 non-null  int64  \n",
      " 26  도로명        346229 non-null  object \n",
      " 27  건물본번지      346229 non-null  int64  \n",
      " 28  건물부번지      45666 non-null   float64\n",
      " 29  건물관리번호     346229 non-null  object \n",
      " 30  건물명        170571 non-null  object \n",
      " 31  도로명주소      346229 non-null  object \n",
      " 32  구우편번호      346229 non-null  int64  \n",
      " 33  신우편번호      346193 non-null  float64\n",
      " 34  동정보        37701 non-null   object \n",
      " 35  층정보        210702 non-null  object \n",
      " 36  호정보        0 non-null       float64\n",
      " 37  경도         346229 non-null  float64\n",
      " 38  위도         346229 non-null  float64\n",
      "dtypes: float64(6), int64(11), object(22)\n",
      "memory usage: 103.0+ MB\n"
     ]
    }
   ],
   "source": [
    "seoul_df.info()"
   ]
  },
  {
   "cell_type": "code",
   "execution_count": 8,
   "id": "da77bfcf",
   "metadata": {},
   "outputs": [],
   "source": [
    "# 결측치 확인\n",
    "# 1. 수치형 데이터를 확인 - 갯수, 평균\n",
    "# 2. 시각화를 통해 확인"
   ]
  },
  {
   "cell_type": "code",
   "execution_count": 9,
   "id": "94acc816",
   "metadata": {},
   "outputs": [
    {
     "data": {
      "text/plain": [
       "상가업소번호       0.000000\n",
       "상호명          0.000000\n",
       "지점명          0.829483\n",
       "상권업종대분류코드    0.000000\n",
       "상권업종대분류명     0.000000\n",
       "상권업종중분류코드    0.000000\n",
       "상권업종중분류명     0.000000\n",
       "상권업종소분류코드    0.000000\n",
       "상권업종소분류명     0.000000\n",
       "표준산업분류코드     0.065104\n",
       "표준산업분류명      0.065104\n",
       "시도코드         0.000000\n",
       "시도명          0.000000\n",
       "시군구코드        0.000000\n",
       "시군구명         0.000000\n",
       "행정동코드        0.000000\n",
       "행정동명         0.000000\n",
       "법정동코드        0.000000\n",
       "법정동명         0.000000\n",
       "지번코드         0.000000\n",
       "대지구분코드       0.000000\n",
       "대지구분명        0.000000\n",
       "지번본번지        0.000000\n",
       "지번부번지        0.206430\n",
       "지번주소         0.000000\n",
       "도로명코드        0.000000\n",
       "도로명          0.000000\n",
       "건물본번지        0.000000\n",
       "건물부번지        0.868105\n",
       "건물관리번호       0.000000\n",
       "건물명          0.507346\n",
       "도로명주소        0.000000\n",
       "구우편번호        0.000000\n",
       "신우편번호        0.000104\n",
       "동정보          0.891110\n",
       "층정보          0.391437\n",
       "호정보          1.000000\n",
       "경도           0.000000\n",
       "위도           0.000000\n",
       "dtype: float64"
      ]
     },
     "execution_count": 9,
     "metadata": {},
     "output_type": "execute_result"
    }
   ],
   "source": [
    "# 1.\n",
    "# seoul_df.isna()\n",
    "# seoul_df.isna().sum()\n",
    "seoul_df.isna().mean()"
   ]
  },
  {
   "cell_type": "code",
   "execution_count": 10,
   "id": "bcde33c8",
   "metadata": {},
   "outputs": [
    {
     "data": {
      "text/plain": [
       "<AxesSubplot:>"
      ]
     },
     "execution_count": 10,
     "metadata": {},
     "output_type": "execute_result"
    },
    {
     "data": {
      "image/png": "[encoded data removed]",
      "text/plain": [
       "<Figure size 1000x1000 with 1 Axes>"
      ]
     },
     "metadata": {},
     "output_type": "display_data"
    }
   ],
   "source": [
    "# 2.\n",
    "seoul_df.isna().mean().plot.barh(figsize = (10,10))\n",
    "# bar표시가 있는 것들은 결측치가 있음"
   ]
  },
  {
   "cell_type": "code",
   "execution_count": 11,
   "id": "d47d33a0",
   "metadata": {},
   "outputs": [],
   "source": [
    "# 필요한 컬럼\n",
    "# 상호명, 상권분류.. , 시도명, 시군구, 행정동, 법정동, 도로명주소, 위도, 경도\n",
    "# 원 데이터에서 필요한 컬럼만 뽑아서 새로운 dataframe에 저장"
   ]
  },
  {
   "cell_type": "code",
   "execution_count": 12,
   "id": "c4fc7d86",
   "metadata": {},
   "outputs": [
    {
     "data": {
      "text/plain": [
       "Index(['상가업소번호', '상호명', '지점명', '상권업종대분류코드', '상권업종대분류명', '상권업종중분류코드',\n",
       "       '상권업종중분류명', '상권업종소분류코드', '상권업종소분류명', '표준산업분류코드', '표준산업분류명', '시도코드',\n",
       "       '시도명', '시군구코드', '시군구명', '행정동코드', '행정동명', '법정동코드', '법정동명', '지번코드',\n",
       "       '대지구분코드', '대지구분명', '지번본번지', '지번부번지', '지번주소', '도로명코드', '도로명', '건물본번지',\n",
       "       '건물부번지', '건물관리번호', '건물명', '도로명주소', '구우편번호', '신우편번호', '동정보', '층정보',\n",
       "       '호정보', '경도', '위도'],\n",
       "      dtype='object')"
      ]
     },
     "execution_count": 12,
     "metadata": {},
     "output_type": "execute_result"
    }
   ],
   "source": [
    "seoul_df.columns"
   ]
  },
  {
   "cell_type": "code",
   "execution_count": 13,
   "id": "5d20c4ad",
   "metadata": {},
   "outputs": [
    {
     "data": {
      "text/plain": [
       "['상호명',\n",
       " '시도명',\n",
       " '시군구명',\n",
       " '행정동명',\n",
       " '법정동명',\n",
       " '도로명주소',\n",
       " '위도',\n",
       " '경도',\n",
       " '상권업종대분류코드',\n",
       " '상권업종대분류명',\n",
       " '상권업종중분류코드',\n",
       " '상권업종중분류명',\n",
       " '상권업종소분류코드',\n",
       " '상권업종소분류명']"
      ]
     },
     "execution_count": 13,
     "metadata": {},
     "output_type": "execute_result"
    }
   ],
   "source": [
    "# 리스트 끼리 더하면 하나의 리스트생성\n",
    "new_cols = ['상호명','시도명','시군구명','행정동명','법정동명','도로명주소','위도','경도'] + [i for i in seoul_df.columns if '상권' in i]\n",
    "new_cols"
   ]
  },
  {
   "cell_type": "code",
   "execution_count": 14,
   "id": "e72aa02c",
   "metadata": {
    "scrolled": false
   },
   "outputs": [
    {
     "data": {
      "text/html": [
       "<div>\n",
       "<style scoped>\n",
       "    .dataframe tbody tr th:only-of-type {\n",
       "        vertical-align: middle;\n",
       "    }\n",
       "\n",
       "    .dataframe tbody tr th {\n",
       "        vertical-align: top;\n",
       "    }\n",
       "\n",
       "    .dataframe thead th {\n",
       "        text-align: right;\n",
       "    }\n",
       "</style>\n",
       "<table border=\"1\" class=\"dataframe\">\n",
       "  <thead>\n",
       "    <tr style=\"text-align: right;\">\n",
       "      <th></th>\n",
       "      <th>상호명</th>\n",
       "      <th>시도명</th>\n",
       "      <th>시군구명</th>\n",
       "      <th>행정동명</th>\n",
       "      <th>법정동명</th>\n",
       "      <th>도로명주소</th>\n",
       "      <th>위도</th>\n",
       "      <th>경도</th>\n",
       "      <th>상권업종대분류코드</th>\n",
       "      <th>상권업종대분류명</th>\n",
       "      <th>상권업종중분류코드</th>\n",
       "      <th>상권업종중분류명</th>\n",
       "      <th>상권업종소분류코드</th>\n",
       "      <th>상권업종소분류명</th>\n",
       "    </tr>\n",
       "  </thead>\n",
       "  <tbody>\n",
       "    <tr>\n",
       "      <th>0</th>\n",
       "      <td>제중건강원</td>\n",
       "      <td>서울특별시</td>\n",
       "      <td>영등포구</td>\n",
       "      <td>영등포동</td>\n",
       "      <td>영등포동5가</td>\n",
       "      <td>서울특별시 영등포구 영중로14길 11-17</td>\n",
       "      <td>37.520613</td>\n",
       "      <td>126.907168</td>\n",
       "      <td>D</td>\n",
       "      <td>소매</td>\n",
       "      <td>D10</td>\n",
       "      <td>건강/미용식품</td>\n",
       "      <td>D10A07</td>\n",
       "      <td>건강원</td>\n",
       "    </tr>\n",
       "    <tr>\n",
       "      <th>1</th>\n",
       "      <td>민속악기사</td>\n",
       "      <td>서울특별시</td>\n",
       "      <td>성동구</td>\n",
       "      <td>용답동</td>\n",
       "      <td>용답동</td>\n",
       "      <td>서울특별시 성동구 용답5길 2</td>\n",
       "      <td>37.566857</td>\n",
       "      <td>127.049018</td>\n",
       "      <td>D</td>\n",
       "      <td>소매</td>\n",
       "      <td>D04</td>\n",
       "      <td>취미/오락관련소매</td>\n",
       "      <td>D04A09</td>\n",
       "      <td>악기판매</td>\n",
       "    </tr>\n",
       "    <tr>\n",
       "      <th>2</th>\n",
       "      <td>태평양진주</td>\n",
       "      <td>서울특별시</td>\n",
       "      <td>종로구</td>\n",
       "      <td>종로1.2.3.4가동</td>\n",
       "      <td>봉익동</td>\n",
       "      <td>서울특별시 종로구 서순라길 17-10</td>\n",
       "      <td>37.571848</td>\n",
       "      <td>126.993530</td>\n",
       "      <td>D</td>\n",
       "      <td>소매</td>\n",
       "      <td>D26</td>\n",
       "      <td>시계/귀금속소매</td>\n",
       "      <td>D26A01</td>\n",
       "      <td>시계/귀금속</td>\n",
       "    </tr>\n",
       "    <tr>\n",
       "      <th>3</th>\n",
       "      <td>김선희꼼꼼국어교습소</td>\n",
       "      <td>서울특별시</td>\n",
       "      <td>송파구</td>\n",
       "      <td>방이1동</td>\n",
       "      <td>방이동</td>\n",
       "      <td>서울특별시 송파구 위례성대로12길 31</td>\n",
       "      <td>37.510967</td>\n",
       "      <td>127.121520</td>\n",
       "      <td>R</td>\n",
       "      <td>학문/교육</td>\n",
       "      <td>R01</td>\n",
       "      <td>학원-보습교습입시</td>\n",
       "      <td>R01A01</td>\n",
       "      <td>학원-입시</td>\n",
       "    </tr>\n",
       "    <tr>\n",
       "      <th>4</th>\n",
       "      <td>비지트</td>\n",
       "      <td>서울특별시</td>\n",
       "      <td>서초구</td>\n",
       "      <td>방배4동</td>\n",
       "      <td>방배동</td>\n",
       "      <td>서울특별시 서초구 동광로18길 82</td>\n",
       "      <td>37.488375</td>\n",
       "      <td>126.991394</td>\n",
       "      <td>Q</td>\n",
       "      <td>음식</td>\n",
       "      <td>Q01</td>\n",
       "      <td>한식</td>\n",
       "      <td>Q01A01</td>\n",
       "      <td>한식/백반/한정식</td>\n",
       "    </tr>\n",
       "  </tbody>\n",
       "</table>\n",
       "</div>"
      ],
      "text/plain": [
       "          상호명    시도명  시군구명         행정동명    법정동명                    도로명주소  \\\n",
       "0       제중건강원  서울특별시  영등포구         영등포동  영등포동5가  서울특별시 영등포구 영중로14길 11-17   \n",
       "1       민속악기사  서울특별시   성동구          용답동     용답동         서울특별시 성동구 용답5길 2   \n",
       "2       태평양진주  서울특별시   종로구  종로1.2.3.4가동     봉익동     서울특별시 종로구 서순라길 17-10   \n",
       "3  김선희꼼꼼국어교습소  서울특별시   송파구         방이1동     방이동    서울특별시 송파구 위례성대로12길 31   \n",
       "4         비지트  서울특별시   서초구         방배4동     방배동      서울특별시 서초구 동광로18길 82   \n",
       "\n",
       "          위도          경도 상권업종대분류코드 상권업종대분류명 상권업종중분류코드   상권업종중분류명 상권업종소분류코드  \\\n",
       "0  37.520613  126.907168         D       소매       D10    건강/미용식품    D10A07   \n",
       "1  37.566857  127.049018         D       소매       D04  취미/오락관련소매    D04A09   \n",
       "2  37.571848  126.993530         D       소매       D26   시계/귀금속소매    D26A01   \n",
       "3  37.510967  127.121520         R    학문/교육       R01  학원-보습교습입시    R01A01   \n",
       "4  37.488375  126.991394         Q       음식       Q01         한식    Q01A01   \n",
       "\n",
       "    상권업종소분류명  \n",
       "0        건강원  \n",
       "1       악기판매  \n",
       "2     시계/귀금속  \n",
       "3      학원-입시  \n",
       "4  한식/백반/한정식  "
      ]
     },
     "execution_count": 14,
     "metadata": {},
     "output_type": "execute_result"
    }
   ],
   "source": [
    "new_df = seoul_df.loc[:,new_cols]\n",
    "new_df.head()"
   ]
  },
  {
   "cell_type": "code",
   "execution_count": 15,
   "id": "4cc9e264",
   "metadata": {},
   "outputs": [
    {
     "name": "stdout",
     "output_type": "stream",
     "text": [
      "<class 'pandas.core.frame.DataFrame'>\n",
      "RangeIndex: 346229 entries, 0 to 346228\n",
      "Data columns (total 14 columns):\n",
      " #   Column     Non-Null Count   Dtype  \n",
      "---  ------     --------------   -----  \n",
      " 0   상호명        346229 non-null  object \n",
      " 1   시도명        346229 non-null  object \n",
      " 2   시군구명       346229 non-null  object \n",
      " 3   행정동명       346229 non-null  object \n",
      " 4   법정동명       346229 non-null  object \n",
      " 5   도로명주소      346229 non-null  object \n",
      " 6   위도         346229 non-null  float64\n",
      " 7   경도         346229 non-null  float64\n",
      " 8   상권업종대분류코드  346229 non-null  object \n",
      " 9   상권업종대분류명   346229 non-null  object \n",
      " 10  상권업종중분류코드  346229 non-null  object \n",
      " 11  상권업종중분류명   346229 non-null  object \n",
      " 12  상권업종소분류코드  346229 non-null  object \n",
      " 13  상권업종소분류명   346229 non-null  object \n",
      "dtypes: float64(2), object(12)\n",
      "memory usage: 37.0+ MB\n"
     ]
    }
   ],
   "source": [
    "new_df.info()"
   ]
  },
  {
   "cell_type": "code",
   "execution_count": 16,
   "id": "1ab5741e",
   "metadata": {},
   "outputs": [
    {
     "data": {
      "text/plain": [
       "array(['영등포구', '성동구', '종로구', '송파구', '서초구', '동작구', '강남구', '마포구', '중랑구',\n",
       "       '은평구', '성북구', '강동구', '양천구', '서대문구', '중구', '광진구', '용산구', '관악구',\n",
       "       '강서구', '노원구', '강북구', '구로구', '금천구', '도봉구', '동대문구'], dtype=object)"
      ]
     },
     "execution_count": 16,
     "metadata": {},
     "output_type": "execute_result"
    }
   ],
   "source": [
    "# 시군구의 갯수 및 이름값 파악\n",
    "new_df['시군구명'].unique()"
   ]
  },
  {
   "cell_type": "code",
   "execution_count": 17,
   "id": "bb44264f",
   "metadata": {},
   "outputs": [
    {
     "data": {
      "text/plain": [
       "강남구     33454\n",
       "송파구     21050\n",
       "서초구     20069\n",
       "강서구     17182\n",
       "마포구     16740\n",
       "중구      16599\n",
       "영등포구    14987\n",
       "종로구     14258\n",
       "강동구     14004\n",
       "광진구     13529\n",
       "구로구     13008\n",
       "관악구     12606\n",
       "동대문구    12550\n",
       "은평구     12094\n",
       "양천구     11960\n",
       "노원구     11904\n",
       "성북구     11872\n",
       "중랑구     11106\n",
       "용산구     11022\n",
       "성동구     10672\n",
       "금천구      9715\n",
       "동작구      9573\n",
       "서대문구     9444\n",
       "강북구      8877\n",
       "도봉구      7954\n",
       "Name: 시군구명, dtype: int64"
      ]
     },
     "execution_count": 17,
     "metadata": {},
     "output_type": "execute_result"
    }
   ],
   "source": [
    "new_df['시군구명'].value_counts()"
   ]
  },
  {
   "cell_type": "code",
   "execution_count": 18,
   "id": "fb211779",
   "metadata": {},
   "outputs": [],
   "source": [
    "# 파일저장\n",
    "new_df.to_csv('./data/seoul_modify_store.csv', index = False)"
   ]
  },
  {
   "cell_type": "code",
   "execution_count": 19,
   "id": "d4004465",
   "metadata": {},
   "outputs": [
    {
     "data": {
      "text/html": [
       "<div>\n",
       "<style scoped>\n",
       "    .dataframe tbody tr th:only-of-type {\n",
       "        vertical-align: middle;\n",
       "    }\n",
       "\n",
       "    .dataframe tbody tr th {\n",
       "        vertical-align: top;\n",
       "    }\n",
       "\n",
       "    .dataframe thead th {\n",
       "        text-align: right;\n",
       "    }\n",
       "</style>\n",
       "<table border=\"1\" class=\"dataframe\">\n",
       "  <thead>\n",
       "    <tr style=\"text-align: right;\">\n",
       "      <th></th>\n",
       "      <th>상호명</th>\n",
       "      <th>시도명</th>\n",
       "      <th>시군구명</th>\n",
       "      <th>행정동명</th>\n",
       "      <th>법정동명</th>\n",
       "      <th>도로명주소</th>\n",
       "      <th>위도</th>\n",
       "      <th>경도</th>\n",
       "      <th>상권업종대분류코드</th>\n",
       "      <th>상권업종대분류명</th>\n",
       "      <th>상권업종중분류코드</th>\n",
       "      <th>상권업종중분류명</th>\n",
       "      <th>상권업종소분류코드</th>\n",
       "      <th>상권업종소분류명</th>\n",
       "    </tr>\n",
       "  </thead>\n",
       "  <tbody>\n",
       "    <tr>\n",
       "      <th>0</th>\n",
       "      <td>제중건강원</td>\n",
       "      <td>서울특별시</td>\n",
       "      <td>영등포구</td>\n",
       "      <td>영등포동</td>\n",
       "      <td>영등포동5가</td>\n",
       "      <td>서울특별시 영등포구 영중로14길 11-17</td>\n",
       "      <td>37.520613</td>\n",
       "      <td>126.907168</td>\n",
       "      <td>D</td>\n",
       "      <td>소매</td>\n",
       "      <td>D10</td>\n",
       "      <td>건강/미용식품</td>\n",
       "      <td>D10A07</td>\n",
       "      <td>건강원</td>\n",
       "    </tr>\n",
       "    <tr>\n",
       "      <th>1</th>\n",
       "      <td>민속악기사</td>\n",
       "      <td>서울특별시</td>\n",
       "      <td>성동구</td>\n",
       "      <td>용답동</td>\n",
       "      <td>용답동</td>\n",
       "      <td>서울특별시 성동구 용답5길 2</td>\n",
       "      <td>37.566857</td>\n",
       "      <td>127.049018</td>\n",
       "      <td>D</td>\n",
       "      <td>소매</td>\n",
       "      <td>D04</td>\n",
       "      <td>취미/오락관련소매</td>\n",
       "      <td>D04A09</td>\n",
       "      <td>악기판매</td>\n",
       "    </tr>\n",
       "    <tr>\n",
       "      <th>2</th>\n",
       "      <td>태평양진주</td>\n",
       "      <td>서울특별시</td>\n",
       "      <td>종로구</td>\n",
       "      <td>종로1.2.3.4가동</td>\n",
       "      <td>봉익동</td>\n",
       "      <td>서울특별시 종로구 서순라길 17-10</td>\n",
       "      <td>37.571848</td>\n",
       "      <td>126.993530</td>\n",
       "      <td>D</td>\n",
       "      <td>소매</td>\n",
       "      <td>D26</td>\n",
       "      <td>시계/귀금속소매</td>\n",
       "      <td>D26A01</td>\n",
       "      <td>시계/귀금속</td>\n",
       "    </tr>\n",
       "    <tr>\n",
       "      <th>3</th>\n",
       "      <td>김선희꼼꼼국어교습소</td>\n",
       "      <td>서울특별시</td>\n",
       "      <td>송파구</td>\n",
       "      <td>방이1동</td>\n",
       "      <td>방이동</td>\n",
       "      <td>서울특별시 송파구 위례성대로12길 31</td>\n",
       "      <td>37.510967</td>\n",
       "      <td>127.121520</td>\n",
       "      <td>R</td>\n",
       "      <td>학문/교육</td>\n",
       "      <td>R01</td>\n",
       "      <td>학원-보습교습입시</td>\n",
       "      <td>R01A01</td>\n",
       "      <td>학원-입시</td>\n",
       "    </tr>\n",
       "    <tr>\n",
       "      <th>4</th>\n",
       "      <td>비지트</td>\n",
       "      <td>서울특별시</td>\n",
       "      <td>서초구</td>\n",
       "      <td>방배4동</td>\n",
       "      <td>방배동</td>\n",
       "      <td>서울특별시 서초구 동광로18길 82</td>\n",
       "      <td>37.488375</td>\n",
       "      <td>126.991394</td>\n",
       "      <td>Q</td>\n",
       "      <td>음식</td>\n",
       "      <td>Q01</td>\n",
       "      <td>한식</td>\n",
       "      <td>Q01A01</td>\n",
       "      <td>한식/백반/한정식</td>\n",
       "    </tr>\n",
       "  </tbody>\n",
       "</table>\n",
       "</div>"
      ],
      "text/plain": [
       "          상호명    시도명  시군구명         행정동명    법정동명                    도로명주소  \\\n",
       "0       제중건강원  서울특별시  영등포구         영등포동  영등포동5가  서울특별시 영등포구 영중로14길 11-17   \n",
       "1       민속악기사  서울특별시   성동구          용답동     용답동         서울특별시 성동구 용답5길 2   \n",
       "2       태평양진주  서울특별시   종로구  종로1.2.3.4가동     봉익동     서울특별시 종로구 서순라길 17-10   \n",
       "3  김선희꼼꼼국어교습소  서울특별시   송파구         방이1동     방이동    서울특별시 송파구 위례성대로12길 31   \n",
       "4         비지트  서울특별시   서초구         방배4동     방배동      서울특별시 서초구 동광로18길 82   \n",
       "\n",
       "          위도          경도 상권업종대분류코드 상권업종대분류명 상권업종중분류코드   상권업종중분류명 상권업종소분류코드  \\\n",
       "0  37.520613  126.907168         D       소매       D10    건강/미용식품    D10A07   \n",
       "1  37.566857  127.049018         D       소매       D04  취미/오락관련소매    D04A09   \n",
       "2  37.571848  126.993530         D       소매       D26   시계/귀금속소매    D26A01   \n",
       "3  37.510967  127.121520         R    학문/교육       R01  학원-보습교습입시    R01A01   \n",
       "4  37.488375  126.991394         Q       음식       Q01         한식    Q01A01   \n",
       "\n",
       "    상권업종소분류명  \n",
       "0        건강원  \n",
       "1       악기판매  \n",
       "2     시계/귀금속  \n",
       "3      학원-입시  \n",
       "4  한식/백반/한정식  "
      ]
     },
     "execution_count": 19,
     "metadata": {},
     "output_type": "execute_result"
    }
   ],
   "source": [
    "df = pd.read_csv('./data/seoul_modify_store.csv')\n",
    "df.head()"
   ]
  },
  {
   "cell_type": "code",
   "execution_count": 20,
   "id": "851e1e1e",
   "metadata": {},
   "outputs": [
    {
     "data": {
      "text/plain": [
       "array(['건강/미용식품', '취미/오락관련소매', '시계/귀금속소매', '학원-보습교습입시', '한식', '유흥주점',\n",
       "       '학원-창업취업취미', '자동차/자동차용품', '부동산중개', '사진/광학/정밀기기소매', '도서관/독서실',\n",
       "       '커피점/카페', '대중목욕탕/휴게', '주유소/충전소', '패스트푸드', '닭/오리요리', '자동차/이륜차',\n",
       "       '선물/팬시/기념품', '이/미용/건강', '사무/문구/컴퓨터', '중식', 'PC/오락/당구/볼링등',\n",
       "       '음/식료품소매', '종합소매점', '세탁/가사서비스', '기타서비스업', '의복의류', '가방/신발/액세서리',\n",
       "       '양식', '제과제빵떡케익', '무도/유흥/가무', '가정/주방/인테리어', '운동/경기용품소매', '개인서비스',\n",
       "       '학원-예능취미체육', '학원기타', '가전제품소매', '유아교육', '물품기기대여', '학문교육기타', '기타판매업',\n",
       "       '사진', '분식', '화장품소매', '애견/애완/동물', '학원-음악미술무용', '대행업',\n",
       "       '철물/난방/건설자재소매', '별식/퓨전요리', '주택수리', '연극/영화/극장', '모텔/여관/여인숙',\n",
       "       '호텔/콘도', '의약/의료품소매', '실외운동시설', '학원-어학', '기타음식업', '광고/인쇄',\n",
       "       '예식/의례/관혼상제', '실내운동시설', '일식/수산물', '책/서적/도서', '가구소매', '운송/배달/택배',\n",
       "       '요가/단전/마사지', '개인/가정용품수리', '인력/고용/용역알선', '평가/개발/관리', '법무세무회계',\n",
       "       '운영관리시설', '부페', '중고품소매/교환', '장례/묘지', '유아용품', '분양', '예술품/골동품/수석/분재',\n",
       "       '페인트/유리제품소매', '행사/이벤트', '스포츠/운동', '음식배달서비스', '놀이/여가/취미', '종교용품판매',\n",
       "       '민박/하숙', '경마/경륜/성인오락', '학원-자격/국가고시', '학원-컴퓨터', '캠프/별장/펜션',\n",
       "       '부동산관련서비스', '유스호스텔'], dtype=object)"
      ]
     },
     "execution_count": 20,
     "metadata": {},
     "output_type": "execute_result"
    }
   ],
   "source": [
    "df['상권업종중분류명'].unique()"
   ]
  },
  {
   "cell_type": "code",
   "execution_count": 21,
   "id": "c65ce56e",
   "metadata": {},
   "outputs": [],
   "source": [
    "# '상권업종중분류명' 중에서 패스트푸드에 해당하는 데이터 추출"
   ]
  },
  {
   "cell_type": "code",
   "execution_count": 22,
   "id": "d1e93c8b",
   "metadata": {},
   "outputs": [],
   "source": [
    "# extract : 해당하는 문자열이 들어있는 데이터 추출\n",
    "temp = df['상권업종중분류명'].str.lower()"
   ]
  },
  {
   "cell_type": "code",
   "execution_count": 23,
   "id": "6a2a6705",
   "metadata": {},
   "outputs": [
    {
     "data": {
      "text/plain": [
       "패스트푸드    5662\n",
       "Name: 0, dtype: int64"
      ]
     },
     "execution_count": 23,
     "metadata": {},
     "output_type": "execute_result"
    }
   ],
   "source": [
    "temp.str.extract('(패스트푸드)')[0].value_counts()"
   ]
  },
  {
   "cell_type": "code",
   "execution_count": 24,
   "id": "d0ce9884",
   "metadata": {},
   "outputs": [
    {
     "data": {
      "text/plain": [
       "346229"
      ]
     },
     "execution_count": 24,
     "metadata": {},
     "output_type": "execute_result"
    }
   ],
   "source": [
    "len(temp)"
   ]
  },
  {
   "cell_type": "code",
   "execution_count": 25,
   "id": "e4ad4d58",
   "metadata": {},
   "outputs": [],
   "source": [
    "fastfood_df = df[df['상권업종중분류명'] == '패스트푸드'].copy()"
   ]
  },
  {
   "cell_type": "code",
   "execution_count": 26,
   "id": "9610cceb",
   "metadata": {},
   "outputs": [
    {
     "data": {
      "text/html": [
       "<div>\n",
       "<style scoped>\n",
       "    .dataframe tbody tr th:only-of-type {\n",
       "        vertical-align: middle;\n",
       "    }\n",
       "\n",
       "    .dataframe tbody tr th {\n",
       "        vertical-align: top;\n",
       "    }\n",
       "\n",
       "    .dataframe thead th {\n",
       "        text-align: right;\n",
       "    }\n",
       "</style>\n",
       "<table border=\"1\" class=\"dataframe\">\n",
       "  <thead>\n",
       "    <tr style=\"text-align: right;\">\n",
       "      <th></th>\n",
       "      <th>상호명</th>\n",
       "      <th>시도명</th>\n",
       "      <th>시군구명</th>\n",
       "      <th>행정동명</th>\n",
       "      <th>법정동명</th>\n",
       "      <th>도로명주소</th>\n",
       "      <th>위도</th>\n",
       "      <th>경도</th>\n",
       "      <th>상권업종대분류코드</th>\n",
       "      <th>상권업종대분류명</th>\n",
       "      <th>상권업종중분류코드</th>\n",
       "      <th>상권업종중분류명</th>\n",
       "      <th>상권업종소분류코드</th>\n",
       "      <th>상권업종소분류명</th>\n",
       "    </tr>\n",
       "  </thead>\n",
       "  <tbody>\n",
       "    <tr>\n",
       "      <th>23</th>\n",
       "      <td>이삭토스트</td>\n",
       "      <td>서울특별시</td>\n",
       "      <td>양천구</td>\n",
       "      <td>목5동</td>\n",
       "      <td>목동</td>\n",
       "      <td>서울특별시 양천구 목동동로 379</td>\n",
       "      <td>37.535600</td>\n",
       "      <td>126.878696</td>\n",
       "      <td>Q</td>\n",
       "      <td>음식</td>\n",
       "      <td>Q07</td>\n",
       "      <td>패스트푸드</td>\n",
       "      <td>Q07A10</td>\n",
       "      <td>토스트전문</td>\n",
       "    </tr>\n",
       "    <tr>\n",
       "      <th>139</th>\n",
       "      <td>본도시락</td>\n",
       "      <td>서울특별시</td>\n",
       "      <td>성북구</td>\n",
       "      <td>안암동</td>\n",
       "      <td>안암동5가</td>\n",
       "      <td>서울특별시 성북구 안암로 63</td>\n",
       "      <td>37.582278</td>\n",
       "      <td>127.028589</td>\n",
       "      <td>Q</td>\n",
       "      <td>음식</td>\n",
       "      <td>Q07</td>\n",
       "      <td>패스트푸드</td>\n",
       "      <td>Q07A02</td>\n",
       "      <td>도시락전문점</td>\n",
       "    </tr>\n",
       "    <tr>\n",
       "      <th>200</th>\n",
       "      <td>메가박스상봉</td>\n",
       "      <td>서울특별시</td>\n",
       "      <td>중랑구</td>\n",
       "      <td>상봉2동</td>\n",
       "      <td>상봉동</td>\n",
       "      <td>서울특별시 중랑구 망우로30길 3</td>\n",
       "      <td>37.593074</td>\n",
       "      <td>127.074729</td>\n",
       "      <td>Q</td>\n",
       "      <td>음식</td>\n",
       "      <td>Q07</td>\n",
       "      <td>패스트푸드</td>\n",
       "      <td>Q07A04</td>\n",
       "      <td>패스트푸드</td>\n",
       "    </tr>\n",
       "    <tr>\n",
       "      <th>268</th>\n",
       "      <td>던킨도너츠동대문홈플러스</td>\n",
       "      <td>서울특별시</td>\n",
       "      <td>동대문구</td>\n",
       "      <td>용신동</td>\n",
       "      <td>용두동</td>\n",
       "      <td>서울특별시 동대문구 천호대로 133</td>\n",
       "      <td>37.574540</td>\n",
       "      <td>127.038754</td>\n",
       "      <td>Q</td>\n",
       "      <td>음식</td>\n",
       "      <td>Q07</td>\n",
       "      <td>패스트푸드</td>\n",
       "      <td>Q07A06</td>\n",
       "      <td>도너츠전문</td>\n",
       "    </tr>\n",
       "    <tr>\n",
       "      <th>594</th>\n",
       "      <td>배스킨라빈스공릉점</td>\n",
       "      <td>서울특별시</td>\n",
       "      <td>노원구</td>\n",
       "      <td>공릉2동</td>\n",
       "      <td>공릉동</td>\n",
       "      <td>서울특별시 노원구 공릉로 198</td>\n",
       "      <td>37.627425</td>\n",
       "      <td>127.078586</td>\n",
       "      <td>Q</td>\n",
       "      <td>음식</td>\n",
       "      <td>Q07</td>\n",
       "      <td>패스트푸드</td>\n",
       "      <td>Q07A07</td>\n",
       "      <td>아이스크림판매</td>\n",
       "    </tr>\n",
       "  </tbody>\n",
       "</table>\n",
       "</div>"
      ],
      "text/plain": [
       "              상호명    시도명  시군구명  행정동명   법정동명                도로명주소         위도  \\\n",
       "23          이삭토스트  서울특별시   양천구   목5동     목동   서울특별시 양천구 목동동로 379  37.535600   \n",
       "139          본도시락  서울특별시   성북구   안암동  안암동5가     서울특별시 성북구 안암로 63  37.582278   \n",
       "200        메가박스상봉  서울특별시   중랑구  상봉2동    상봉동   서울특별시 중랑구 망우로30길 3  37.593074   \n",
       "268  던킨도너츠동대문홈플러스  서울특별시  동대문구   용신동    용두동  서울특별시 동대문구 천호대로 133  37.574540   \n",
       "594     배스킨라빈스공릉점  서울특별시   노원구  공릉2동    공릉동    서울특별시 노원구 공릉로 198  37.627425   \n",
       "\n",
       "             경도 상권업종대분류코드 상권업종대분류명 상권업종중분류코드 상권업종중분류명 상권업종소분류코드 상권업종소분류명  \n",
       "23   126.878696         Q       음식       Q07    패스트푸드    Q07A10    토스트전문  \n",
       "139  127.028589         Q       음식       Q07    패스트푸드    Q07A02   도시락전문점  \n",
       "200  127.074729         Q       음식       Q07    패스트푸드    Q07A04    패스트푸드  \n",
       "268  127.038754         Q       음식       Q07    패스트푸드    Q07A06    도너츠전문  \n",
       "594  127.078586         Q       음식       Q07    패스트푸드    Q07A07  아이스크림판매  "
      ]
     },
     "execution_count": 26,
     "metadata": {},
     "output_type": "execute_result"
    }
   ],
   "source": [
    "fastfood_df.head()"
   ]
  },
  {
   "cell_type": "code",
   "execution_count": 27,
   "id": "af032a11",
   "metadata": {},
   "outputs": [
    {
     "data": {
      "text/plain": [
       "23        패스트푸드\n",
       "139       패스트푸드\n",
       "200       패스트푸드\n",
       "268       패스트푸드\n",
       "594       패스트푸드\n",
       "          ...  \n",
       "346016    패스트푸드\n",
       "346052    패스트푸드\n",
       "346110    패스트푸드\n",
       "346147    패스트푸드\n",
       "346193    패스트푸드\n",
       "Name: 상권업종중분류명, Length: 5662, dtype: object"
      ]
     },
     "execution_count": 27,
     "metadata": {},
     "output_type": "execute_result"
    }
   ],
   "source": [
    "fastfood_df['상권업종중분류명']"
   ]
  },
  {
   "cell_type": "code",
   "execution_count": 28,
   "id": "6aee692d",
   "metadata": {
    "scrolled": true
   },
   "outputs": [
    {
     "data": {
      "text/plain": [
       "array(['토스트전문', '도시락전문점', '패스트푸드', '도너츠전문', '아이스크림판매', '피자전문', '샌드위치전문점',\n",
       "       '핫도그', '생과자점', '유산균아이스크림전문'], dtype=object)"
      ]
     },
     "execution_count": 28,
     "metadata": {},
     "output_type": "execute_result"
    }
   ],
   "source": [
    "fastfood_df['상권업종소분류명'].unique()"
   ]
  },
  {
   "cell_type": "code",
   "execution_count": 29,
   "id": "b705b722",
   "metadata": {},
   "outputs": [
    {
     "name": "stdout",
     "output_type": "stream",
     "text": [
      "<class 'pandas.core.frame.DataFrame'>\n",
      "Int64Index: 1406 entries, 200 to 345299\n",
      "Data columns (total 14 columns):\n",
      " #   Column     Non-Null Count  Dtype  \n",
      "---  ------     --------------  -----  \n",
      " 0   상호명        1406 non-null   object \n",
      " 1   시도명        1406 non-null   object \n",
      " 2   시군구명       1406 non-null   object \n",
      " 3   행정동명       1406 non-null   object \n",
      " 4   법정동명       1406 non-null   object \n",
      " 5   도로명주소      1406 non-null   object \n",
      " 6   위도         1406 non-null   float64\n",
      " 7   경도         1406 non-null   float64\n",
      " 8   상권업종대분류코드  1406 non-null   object \n",
      " 9   상권업종대분류명   1406 non-null   object \n",
      " 10  상권업종중분류코드  1406 non-null   object \n",
      " 11  상권업종중분류명   1406 non-null   object \n",
      " 12  상권업종소분류코드  1406 non-null   object \n",
      " 13  상권업종소분류명   1406 non-null   object \n",
      "dtypes: float64(2), object(12)\n",
      "memory usage: 164.8+ KB\n"
     ]
    }
   ],
   "source": [
    "food_df =  fastfood_df[fastfood_df['상권업종소분류명']=='패스트푸드']\n",
    "food_df.info()"
   ]
  },
  {
   "cell_type": "code",
   "execution_count": 30,
   "id": "18a07009",
   "metadata": {},
   "outputs": [],
   "source": [
    "# 버거 피자 단어가 포함된 상호명 추출\n",
    "# list1 = ['맥도날드','버거킹','맘스터치','롯데리아','뉴욕버거','써브웨이']"
   ]
  },
  {
   "cell_type": "code",
   "execution_count": 31,
   "id": "c77f6899",
   "metadata": {},
   "outputs": [],
   "source": [
    "food_df = food_df[food_df['상호명'].str.contains(\"버거|피자\")].copy()"
   ]
  },
  {
   "cell_type": "code",
   "execution_count": 32,
   "id": "f173f6c7",
   "metadata": {},
   "outputs": [
    {
     "name": "stdout",
     "output_type": "stream",
     "text": [
      "<class 'pandas.core.frame.DataFrame'>\n",
      "Int64Index: 559 entries, 722 to 323930\n",
      "Data columns (total 6 columns):\n",
      " #   Column  Non-Null Count  Dtype  \n",
      "---  ------  --------------  -----  \n",
      " 0   상호명     559 non-null    object \n",
      " 1   시군구명    559 non-null    object \n",
      " 2   행정동명    559 non-null    object \n",
      " 3   도로명주소   559 non-null    object \n",
      " 4   위도      559 non-null    float64\n",
      " 5   경도      559 non-null    float64\n",
      "dtypes: float64(2), object(4)\n",
      "memory usage: 30.6+ KB\n"
     ]
    }
   ],
   "source": [
    "food_df = food_df[['상호명','시군구명','행정동명','도로명주소','위도','경도']]\n",
    "food_df.info()"
   ]
  },
  {
   "cell_type": "code",
   "execution_count": 33,
   "id": "e8d5d757",
   "metadata": {},
   "outputs": [
    {
     "data": {
      "text/html": [
       "<div>\n",
       "<style scoped>\n",
       "    .dataframe tbody tr th:only-of-type {\n",
       "        vertical-align: middle;\n",
       "    }\n",
       "\n",
       "    .dataframe tbody tr th {\n",
       "        vertical-align: top;\n",
       "    }\n",
       "\n",
       "    .dataframe thead th {\n",
       "        text-align: right;\n",
       "    }\n",
       "</style>\n",
       "<table border=\"1\" class=\"dataframe\">\n",
       "  <thead>\n",
       "    <tr style=\"text-align: right;\">\n",
       "      <th></th>\n",
       "      <th>상호명</th>\n",
       "      <th>시군구명</th>\n",
       "      <th>행정동명</th>\n",
       "      <th>도로명주소</th>\n",
       "      <th>위도</th>\n",
       "      <th>경도</th>\n",
       "    </tr>\n",
       "  </thead>\n",
       "  <tbody>\n",
       "    <tr>\n",
       "      <th>0</th>\n",
       "      <td>좀비수제버거</td>\n",
       "      <td>마포구</td>\n",
       "      <td>염리동</td>\n",
       "      <td>서울특별시 마포구 숭문길 210</td>\n",
       "      <td>37.555761</td>\n",
       "      <td>126.946630</td>\n",
       "    </tr>\n",
       "    <tr>\n",
       "      <th>1</th>\n",
       "      <td>화이브앤투버거저니</td>\n",
       "      <td>강남구</td>\n",
       "      <td>논현2동</td>\n",
       "      <td>서울특별시 강남구 언주로115길 18</td>\n",
       "      <td>37.509951</td>\n",
       "      <td>127.035149</td>\n",
       "    </tr>\n",
       "    <tr>\n",
       "      <th>2</th>\n",
       "      <td>버거킹</td>\n",
       "      <td>강동구</td>\n",
       "      <td>성내2동</td>\n",
       "      <td>서울특별시 강동구 천호대로 1012</td>\n",
       "      <td>37.538090</td>\n",
       "      <td>127.124133</td>\n",
       "    </tr>\n",
       "    <tr>\n",
       "      <th>3</th>\n",
       "      <td>유로코피자</td>\n",
       "      <td>동대문구</td>\n",
       "      <td>휘경2동</td>\n",
       "      <td>서울특별시 동대문구 망우로20길 59</td>\n",
       "      <td>37.590658</td>\n",
       "      <td>127.065440</td>\n",
       "    </tr>\n",
       "    <tr>\n",
       "      <th>4</th>\n",
       "      <td>밀스버거</td>\n",
       "      <td>용산구</td>\n",
       "      <td>한강로동</td>\n",
       "      <td>서울특별시 용산구 한강대로 210-2</td>\n",
       "      <td>37.537128</td>\n",
       "      <td>126.974421</td>\n",
       "    </tr>\n",
       "    <tr>\n",
       "      <th>...</th>\n",
       "      <td>...</td>\n",
       "      <td>...</td>\n",
       "      <td>...</td>\n",
       "      <td>...</td>\n",
       "      <td>...</td>\n",
       "      <td>...</td>\n",
       "    </tr>\n",
       "    <tr>\n",
       "      <th>554</th>\n",
       "      <td>버거버거</td>\n",
       "      <td>동작구</td>\n",
       "      <td>신대방2동</td>\n",
       "      <td>서울특별시 동작구 여의대방로22길 121</td>\n",
       "      <td>37.498256</td>\n",
       "      <td>126.926629</td>\n",
       "    </tr>\n",
       "    <tr>\n",
       "      <th>555</th>\n",
       "      <td>버거룸</td>\n",
       "      <td>송파구</td>\n",
       "      <td>송파2동</td>\n",
       "      <td>서울특별시 송파구 가락로 156</td>\n",
       "      <td>37.502983</td>\n",
       "      <td>127.113018</td>\n",
       "    </tr>\n",
       "    <tr>\n",
       "      <th>556</th>\n",
       "      <td>프랭크버거</td>\n",
       "      <td>강남구</td>\n",
       "      <td>대치4동</td>\n",
       "      <td>서울특별시 강남구 선릉로86길 15</td>\n",
       "      <td>37.503518</td>\n",
       "      <td>127.050817</td>\n",
       "    </tr>\n",
       "    <tr>\n",
       "      <th>557</th>\n",
       "      <td>노브랜드버거</td>\n",
       "      <td>광진구</td>\n",
       "      <td>중곡1동</td>\n",
       "      <td>서울특별시 광진구 천호대로 549</td>\n",
       "      <td>37.557794</td>\n",
       "      <td>127.078855</td>\n",
       "    </tr>\n",
       "    <tr>\n",
       "      <th>558</th>\n",
       "      <td>서오릉피자</td>\n",
       "      <td>노원구</td>\n",
       "      <td>상계10동</td>\n",
       "      <td>서울특별시 노원구 노원로38길 76</td>\n",
       "      <td>37.663996</td>\n",
       "      <td>127.062277</td>\n",
       "    </tr>\n",
       "  </tbody>\n",
       "</table>\n",
       "<p>559 rows × 6 columns</p>\n",
       "</div>"
      ],
      "text/plain": [
       "           상호명  시군구명   행정동명                   도로명주소         위도          경도\n",
       "0       좀비수제버거   마포구    염리동       서울특별시 마포구 숭문길 210  37.555761  126.946630\n",
       "1    화이브앤투버거저니   강남구   논현2동    서울특별시 강남구 언주로115길 18  37.509951  127.035149\n",
       "2          버거킹   강동구   성내2동     서울특별시 강동구 천호대로 1012  37.538090  127.124133\n",
       "3        유로코피자  동대문구   휘경2동    서울특별시 동대문구 망우로20길 59  37.590658  127.065440\n",
       "4         밀스버거   용산구   한강로동    서울특별시 용산구 한강대로 210-2  37.537128  126.974421\n",
       "..         ...   ...    ...                     ...        ...         ...\n",
       "554       버거버거   동작구  신대방2동  서울특별시 동작구 여의대방로22길 121  37.498256  126.926629\n",
       "555        버거룸   송파구   송파2동       서울특별시 송파구 가락로 156  37.502983  127.113018\n",
       "556      프랭크버거   강남구   대치4동     서울특별시 강남구 선릉로86길 15  37.503518  127.050817\n",
       "557     노브랜드버거   광진구   중곡1동      서울특별시 광진구 천호대로 549  37.557794  127.078855\n",
       "558      서오릉피자   노원구  상계10동     서울특별시 노원구 노원로38길 76  37.663996  127.062277\n",
       "\n",
       "[559 rows x 6 columns]"
      ]
     },
     "execution_count": 33,
     "metadata": {},
     "output_type": "execute_result"
    }
   ],
   "source": [
    "food_df = food_df.reset_index(drop=True)\n",
    "food_df"
   ]
  },
  {
   "cell_type": "code",
   "execution_count": 34,
   "id": "907316f4",
   "metadata": {},
   "outputs": [],
   "source": [
    "# 새로운 컬럼 생성하고 기본값으로 버거를 세팅\n",
    "# 상호명에 피자가 들어가 있는 index"
   ]
  },
  {
   "cell_type": "code",
   "execution_count": 35,
   "id": "12fd4bd4",
   "metadata": {},
   "outputs": [],
   "source": [
    "food_df['종류'] = '버거'"
   ]
  },
  {
   "cell_type": "code",
   "execution_count": 36,
   "id": "bf4ba944",
   "metadata": {},
   "outputs": [],
   "source": [
    "pizza_index = food_df[food_df['상호명'].str.contains(\"피자\")].index"
   ]
  },
  {
   "cell_type": "code",
   "execution_count": 37,
   "id": "7ffd1b47",
   "metadata": {},
   "outputs": [],
   "source": [
    "food_df.loc[pizza_index, '종류'] = '피자'"
   ]
  },
  {
   "cell_type": "code",
   "execution_count": 38,
   "id": "9a2819a4",
   "metadata": {},
   "outputs": [
    {
     "data": {
      "text/html": [
       "<div>\n",
       "<style scoped>\n",
       "    .dataframe tbody tr th:only-of-type {\n",
       "        vertical-align: middle;\n",
       "    }\n",
       "\n",
       "    .dataframe tbody tr th {\n",
       "        vertical-align: top;\n",
       "    }\n",
       "\n",
       "    .dataframe thead th {\n",
       "        text-align: right;\n",
       "    }\n",
       "</style>\n",
       "<table border=\"1\" class=\"dataframe\">\n",
       "  <thead>\n",
       "    <tr style=\"text-align: right;\">\n",
       "      <th></th>\n",
       "      <th>상호명</th>\n",
       "      <th>시군구명</th>\n",
       "      <th>행정동명</th>\n",
       "      <th>도로명주소</th>\n",
       "      <th>위도</th>\n",
       "      <th>경도</th>\n",
       "      <th>종류</th>\n",
       "    </tr>\n",
       "  </thead>\n",
       "  <tbody>\n",
       "    <tr>\n",
       "      <th>0</th>\n",
       "      <td>좀비수제버거</td>\n",
       "      <td>마포구</td>\n",
       "      <td>염리동</td>\n",
       "      <td>서울특별시 마포구 숭문길 210</td>\n",
       "      <td>37.555761</td>\n",
       "      <td>126.946630</td>\n",
       "      <td>버거</td>\n",
       "    </tr>\n",
       "    <tr>\n",
       "      <th>1</th>\n",
       "      <td>화이브앤투버거저니</td>\n",
       "      <td>강남구</td>\n",
       "      <td>논현2동</td>\n",
       "      <td>서울특별시 강남구 언주로115길 18</td>\n",
       "      <td>37.509951</td>\n",
       "      <td>127.035149</td>\n",
       "      <td>버거</td>\n",
       "    </tr>\n",
       "    <tr>\n",
       "      <th>2</th>\n",
       "      <td>버거킹</td>\n",
       "      <td>강동구</td>\n",
       "      <td>성내2동</td>\n",
       "      <td>서울특별시 강동구 천호대로 1012</td>\n",
       "      <td>37.538090</td>\n",
       "      <td>127.124133</td>\n",
       "      <td>버거</td>\n",
       "    </tr>\n",
       "    <tr>\n",
       "      <th>3</th>\n",
       "      <td>유로코피자</td>\n",
       "      <td>동대문구</td>\n",
       "      <td>휘경2동</td>\n",
       "      <td>서울특별시 동대문구 망우로20길 59</td>\n",
       "      <td>37.590658</td>\n",
       "      <td>127.065440</td>\n",
       "      <td>피자</td>\n",
       "    </tr>\n",
       "    <tr>\n",
       "      <th>4</th>\n",
       "      <td>밀스버거</td>\n",
       "      <td>용산구</td>\n",
       "      <td>한강로동</td>\n",
       "      <td>서울특별시 용산구 한강대로 210-2</td>\n",
       "      <td>37.537128</td>\n",
       "      <td>126.974421</td>\n",
       "      <td>버거</td>\n",
       "    </tr>\n",
       "    <tr>\n",
       "      <th>...</th>\n",
       "      <td>...</td>\n",
       "      <td>...</td>\n",
       "      <td>...</td>\n",
       "      <td>...</td>\n",
       "      <td>...</td>\n",
       "      <td>...</td>\n",
       "      <td>...</td>\n",
       "    </tr>\n",
       "    <tr>\n",
       "      <th>554</th>\n",
       "      <td>버거버거</td>\n",
       "      <td>동작구</td>\n",
       "      <td>신대방2동</td>\n",
       "      <td>서울특별시 동작구 여의대방로22길 121</td>\n",
       "      <td>37.498256</td>\n",
       "      <td>126.926629</td>\n",
       "      <td>버거</td>\n",
       "    </tr>\n",
       "    <tr>\n",
       "      <th>555</th>\n",
       "      <td>버거룸</td>\n",
       "      <td>송파구</td>\n",
       "      <td>송파2동</td>\n",
       "      <td>서울특별시 송파구 가락로 156</td>\n",
       "      <td>37.502983</td>\n",
       "      <td>127.113018</td>\n",
       "      <td>버거</td>\n",
       "    </tr>\n",
       "    <tr>\n",
       "      <th>556</th>\n",
       "      <td>프랭크버거</td>\n",
       "      <td>강남구</td>\n",
       "      <td>대치4동</td>\n",
       "      <td>서울특별시 강남구 선릉로86길 15</td>\n",
       "      <td>37.503518</td>\n",
       "      <td>127.050817</td>\n",
       "      <td>버거</td>\n",
       "    </tr>\n",
       "    <tr>\n",
       "      <th>557</th>\n",
       "      <td>노브랜드버거</td>\n",
       "      <td>광진구</td>\n",
       "      <td>중곡1동</td>\n",
       "      <td>서울특별시 광진구 천호대로 549</td>\n",
       "      <td>37.557794</td>\n",
       "      <td>127.078855</td>\n",
       "      <td>버거</td>\n",
       "    </tr>\n",
       "    <tr>\n",
       "      <th>558</th>\n",
       "      <td>서오릉피자</td>\n",
       "      <td>노원구</td>\n",
       "      <td>상계10동</td>\n",
       "      <td>서울특별시 노원구 노원로38길 76</td>\n",
       "      <td>37.663996</td>\n",
       "      <td>127.062277</td>\n",
       "      <td>피자</td>\n",
       "    </tr>\n",
       "  </tbody>\n",
       "</table>\n",
       "<p>559 rows × 7 columns</p>\n",
       "</div>"
      ],
      "text/plain": [
       "           상호명  시군구명   행정동명                   도로명주소         위도          경도  종류\n",
       "0       좀비수제버거   마포구    염리동       서울특별시 마포구 숭문길 210  37.555761  126.946630  버거\n",
       "1    화이브앤투버거저니   강남구   논현2동    서울특별시 강남구 언주로115길 18  37.509951  127.035149  버거\n",
       "2          버거킹   강동구   성내2동     서울특별시 강동구 천호대로 1012  37.538090  127.124133  버거\n",
       "3        유로코피자  동대문구   휘경2동    서울특별시 동대문구 망우로20길 59  37.590658  127.065440  피자\n",
       "4         밀스버거   용산구   한강로동    서울특별시 용산구 한강대로 210-2  37.537128  126.974421  버거\n",
       "..         ...   ...    ...                     ...        ...         ...  ..\n",
       "554       버거버거   동작구  신대방2동  서울특별시 동작구 여의대방로22길 121  37.498256  126.926629  버거\n",
       "555        버거룸   송파구   송파2동       서울특별시 송파구 가락로 156  37.502983  127.113018  버거\n",
       "556      프랭크버거   강남구   대치4동     서울특별시 강남구 선릉로86길 15  37.503518  127.050817  버거\n",
       "557     노브랜드버거   광진구   중곡1동      서울특별시 광진구 천호대로 549  37.557794  127.078855  버거\n",
       "558      서오릉피자   노원구  상계10동     서울특별시 노원구 노원로38길 76  37.663996  127.062277  피자\n",
       "\n",
       "[559 rows x 7 columns]"
      ]
     },
     "execution_count": 38,
     "metadata": {},
     "output_type": "execute_result"
    }
   ],
   "source": [
    "food_df"
   ]
  },
  {
   "cell_type": "code",
   "execution_count": 39,
   "id": "b4216fbd",
   "metadata": {},
   "outputs": [],
   "source": [
    "# 서울에 있는 소상공인 데이터중에 중분류 소분류가 패스트푸드이고 업종에 피자 또는 버거가 들어가 있는 가게들"
   ]
  },
  {
   "cell_type": "code",
   "execution_count": 40,
   "id": "f1613e97",
   "metadata": {},
   "outputs": [
    {
     "data": {
      "image/png": "[encoded data removed]",
      "text/plain": [
       "<Figure size 640x480 with 1 Axes>"
      ]
     },
     "metadata": {},
     "output_type": "display_data"
    }
   ],
   "source": [
    "sns.countplot(data=food_df,y='종류')\n",
    "plt.title('서울시')\n",
    "plt.show()"
   ]
  },
  {
   "cell_type": "code",
   "execution_count": 41,
   "id": "a83d7d0b",
   "metadata": {},
   "outputs": [
    {
     "data": {
      "image/png": "[encoded data removed]",
      "text/plain": [
       "<Figure size 1500x800 with 1 Axes>"
      ]
     },
     "metadata": {},
     "output_type": "display_data"
    }
   ],
   "source": [
    "plt.figure(figsize=(15,8))\n",
    "ax = sns.countplot(data=food_df,y='종류', hue = '시군구명')"
   ]
  },
  {
   "cell_type": "code",
   "execution_count": 42,
   "id": "d8c9248e",
   "metadata": {},
   "outputs": [
    {
     "data": {
      "text/plain": [
       "<seaborn.axisgrid.FacetGrid at 0x15dade14b50>"
      ]
     },
     "execution_count": 42,
     "metadata": {},
     "output_type": "execute_result"
    },
    {
     "data": {
      "image/png": "[encoded data removed]",
      "text/plain": [
       "<Figure size 2000x3500 with 25 Axes>"
      ]
     },
     "metadata": {},
     "output_type": "display_data"
    }
   ],
   "source": [
    "# 상권중에서 시군구별로 시각화\n",
    "temp = food_df.groupby(['시군구명','종류'])['상호명'].count()\n",
    "temp = temp.reset_index()\n",
    "# temp = temp.unstack()\n",
    "# sns.catplot(data=temp,y='')\n",
    "temp\n",
    "sns.catplot(data=temp, y= '종류', x='상호명', col='시군구명',col_wrap=4, kind = 'bar')"
   ]
  },
  {
   "cell_type": "code",
   "execution_count": 43,
   "id": "6cd48718",
   "metadata": {},
   "outputs": [
    {
     "data": {
      "text/plain": [
       "<AxesSubplot:xlabel='경도', ylabel='위도'>"
      ]
     },
     "execution_count": 43,
     "metadata": {},
     "output_type": "execute_result"
    },
    {
     "data": {
      "image/png": "[encoded data removed]",
      "text/plain": [
       "<Figure size 640x480 with 1 Axes>"
      ]
     },
     "metadata": {},
     "output_type": "display_data"
    }
   ],
   "source": [
    "food_df\n",
    "sns.scatterplot(data=food_df, x='경도', y='위도', hue ='종류')"
   ]
  },
  {
   "cell_type": "code",
   "execution_count": 44,
   "id": "e9460981",
   "metadata": {},
   "outputs": [
    {
     "name": "stdout",
     "output_type": "stream",
     "text": [
      "Requirement already satisfied: folium in c:\\programdata\\anaconda3\\lib\\site-packages (0.12.1.post1)\n",
      "Requirement already satisfied: jinja2>=2.9 in c:\\programdata\\anaconda3\\lib\\site-packages (from folium) (2.11.3)\n",
      "Requirement already satisfied: branca>=0.3.0 in c:\\programdata\\anaconda3\\lib\\site-packages (from folium) (0.4.2)\n",
      "Requirement already satisfied: requests in c:\\programdata\\anaconda3\\lib\\site-packages (from folium) (2.28.1)\n",
      "Requirement already satisfied: numpy in c:\\programdata\\anaconda3\\lib\\site-packages (from folium) (1.21.5)\n",
      "Requirement already satisfied: MarkupSafe>=0.23 in c:\\programdata\\anaconda3\\lib\\site-packages (from jinja2>=2.9->folium) (2.0.1)\n",
      "Requirement already satisfied: certifi>=2017.4.17 in c:\\programdata\\anaconda3\\lib\\site-packages (from requests->folium) (2022.6.15)\n",
      "Requirement already satisfied: idna<4,>=2.5 in c:\\programdata\\anaconda3\\lib\\site-packages (from requests->folium) (3.3)\n",
      "Requirement already satisfied: urllib3<1.27,>=1.21.1 in c:\\programdata\\anaconda3\\lib\\site-packages (from requests->folium) (1.26.11)\n",
      "Requirement already satisfied: charset-normalizer<3,>=2 in c:\\programdata\\anaconda3\\lib\\site-packages (from requests->folium) (2.0.4)\n",
      "Note: you may need to restart the kernel to use updated packages.\n"
     ]
    },
    {
     "name": "stderr",
     "output_type": "stream",
     "text": [
      "WARNING: Ignoring invalid distribution -mportlib-metadata (c:\\programdata\\anaconda3\\lib\\site-packages)\n",
      "WARNING: Ignoring invalid distribution - (c:\\programdata\\anaconda3\\lib\\site-packages)\n",
      "WARNING: Ignoring invalid distribution -ensorflow-estimator (c:\\programdata\\anaconda3\\lib\\site-packages)\n",
      "WARNING: Ignoring invalid distribution -mportlib-metadata (c:\\programdata\\anaconda3\\lib\\site-packages)\n",
      "WARNING: Ignoring invalid distribution - (c:\\programdata\\anaconda3\\lib\\site-packages)\n",
      "WARNING: Ignoring invalid distribution -ensorflow-estimator (c:\\programdata\\anaconda3\\lib\\site-packages)\n",
      "WARNING: Ignoring invalid distribution -mportlib-metadata (c:\\programdata\\anaconda3\\lib\\site-packages)\n",
      "WARNING: Ignoring invalid distribution - (c:\\programdata\\anaconda3\\lib\\site-packages)\n",
      "WARNING: Ignoring invalid distribution -ensorflow-estimator (c:\\programdata\\anaconda3\\lib\\site-packages)\n",
      "WARNING: Ignoring invalid distribution -mportlib-metadata (c:\\programdata\\anaconda3\\lib\\site-packages)\n",
      "WARNING: Ignoring invalid distribution - (c:\\programdata\\anaconda3\\lib\\site-packages)\n",
      "WARNING: Ignoring invalid distribution -ensorflow-estimator (c:\\programdata\\anaconda3\\lib\\site-packages)\n",
      "WARNING: Ignoring invalid distribution -mportlib-metadata (c:\\programdata\\anaconda3\\lib\\site-packages)\n",
      "WARNING: Ignoring invalid distribution - (c:\\programdata\\anaconda3\\lib\\site-packages)\n",
      "WARNING: Ignoring invalid distribution -ensorflow-estimator (c:\\programdata\\anaconda3\\lib\\site-packages)\n",
      "WARNING: Ignoring invalid distribution -mportlib-metadata (c:\\programdata\\anaconda3\\lib\\site-packages)\n",
      "WARNING: Ignoring invalid distribution - (c:\\programdata\\anaconda3\\lib\\site-packages)\n",
      "WARNING: Ignoring invalid distribution -ensorflow-estimator (c:\\programdata\\anaconda3\\lib\\site-packages)\n"
     ]
    }
   ],
   "source": [
    "# pip install folium"
   ]
  },
  {
   "cell_type": "code",
   "execution_count": 45,
   "id": "7e536c3c",
   "metadata": {},
   "outputs": [],
   "source": [
    "import folium"
   ]
  },
  {
   "cell_type": "code",
   "execution_count": 46,
   "id": "800a38b6",
   "metadata": {},
   "outputs": [],
   "source": [
    "lat = food_df['위도'].mean()\n",
    "lnt = food_df['경도'].mean()"
   ]
  },
  {
   "cell_type": "code",
   "execution_count": 47,
   "id": "82dbc142",
   "metadata": {},
   "outputs": [],
   "source": [
    "m = folium.Map([lat,lnt])"
   ]
  },
  {
   "cell_type": "code",
   "execution_count": 48,
   "id": "ec5e08f9",
   "metadata": {},
   "outputs": [],
   "source": [
    "for i in range(len(food_df)):\n",
    "    temp = food_df.loc[i]\n",
    "    folium.Marker(\n",
    "        [temp['위도'],temp['경도']],\n",
    "        tooltip=temp['상호명']+ '-'+temp['도로명주소']\n",
    "    ).add_to(m)"
   ]
  },
  {
   "cell_type": "code",
   "execution_count": 49,
   "id": "ef78c834",
   "metadata": {},
   "outputs": [],
   "source": [
    "m.save('버거피자_서울.html')"
   ]
  },
  {
   "cell_type": "code",
   "execution_count": 50,
   "id": "87c69c9b",
   "metadata": {},
   "outputs": [],
   "source": [
    "# 리스트 컴프리핸선\n",
    "# pandas - groupby, merge, contains, isin\n",
    "# 시각화 - seaborn(matplot wrap class)\n",
    "# folium"
   ]
  },
  {
   "cell_type": "code",
   "execution_count": 51,
   "id": "80888d63",
   "metadata": {},
   "outputs": [
    {
     "data": {
      "text/plain": [
       "[7, 73, 83, 45, 26, 81, 52, 49, 25, 16]"
      ]
     },
     "execution_count": 51,
     "metadata": {},
     "output_type": "execute_result"
    }
   ],
   "source": [
    "# ex1\n",
    "from random import sample\n",
    "\n",
    "# 100개중 10개를 랜덤하게 추출\n",
    "list1 = sample(range(100),10)\n",
    "list1"
   ]
  },
  {
   "cell_type": "code",
   "execution_count": 52,
   "id": "b42b1824",
   "metadata": {},
   "outputs": [
    {
     "name": "stdout",
     "output_type": "stream",
     "text": [
      "7\n",
      "73\n",
      "83\n",
      "45\n",
      "26\n",
      "81\n",
      "52\n",
      "49\n",
      "25\n",
      "16\n"
     ]
    }
   ],
   "source": [
    "for i in list1:\n",
    "    print(i)"
   ]
  },
  {
   "cell_type": "code",
   "execution_count": 53,
   "id": "fc02644b",
   "metadata": {},
   "outputs": [
    {
     "data": {
      "text/plain": [
       "[14, 146, 166, 90, 52, 162, 104, 98, 50, 32]"
      ]
     },
     "execution_count": 53,
     "metadata": {},
     "output_type": "execute_result"
    }
   ],
   "source": [
    "# [i+10 for i in list1]\n",
    "[i*2 for i in list1]"
   ]
  },
  {
   "cell_type": "code",
   "execution_count": 54,
   "id": "2ca7ad1e",
   "metadata": {},
   "outputs": [
    {
     "data": {
      "text/plain": [
       "[73, 83, 81, 52]"
      ]
     },
     "execution_count": 54,
     "metadata": {},
     "output_type": "execute_result"
    }
   ],
   "source": [
    "[i for i in list1 if i > 50]"
   ]
  },
  {
   "cell_type": "code",
   "execution_count": 55,
   "id": "eebd4694",
   "metadata": {},
   "outputs": [
    {
     "data": {
      "text/plain": [
       "['업종명',\n",
       " '상권업종대분류코드',\n",
       " '상권업종대분류명',\n",
       " '상권업종중분류코드',\n",
       " '상권업종중분류명',\n",
       " '상권업종소분류코드',\n",
       " '상권업종소분류명']"
      ]
     },
     "execution_count": 55,
     "metadata": {},
     "output_type": "execute_result"
    }
   ],
   "source": [
    "['업종명'] +[i for i in seoul_df.columns if '상권' in i]"
   ]
  },
  {
   "cell_type": "code",
   "execution_count": 56,
   "id": "3d05b5e8",
   "metadata": {},
   "outputs": [],
   "source": [
    "list2 = ['동해물과','백두산이','마르고 닳도록']"
   ]
  },
  {
   "cell_type": "code",
   "execution_count": 57,
   "id": "dda9b0f2",
   "metadata": {},
   "outputs": [
    {
     "data": {
      "text/plain": [
       "[True]"
      ]
     },
     "execution_count": 57,
     "metadata": {},
     "output_type": "execute_result"
    }
   ],
   "source": [
    "['동' in '동해물과']"
   ]
  },
  {
   "cell_type": "code",
   "execution_count": 58,
   "id": "3414e51e",
   "metadata": {},
   "outputs": [
    {
     "data": {
      "text/plain": [
       "['동해물과']"
      ]
     },
     "execution_count": 58,
     "metadata": {},
     "output_type": "execute_result"
    }
   ],
   "source": [
    "[i for i in list2 if '동' in i]"
   ]
  },
  {
   "cell_type": "code",
   "execution_count": 59,
   "id": "989e68ae",
   "metadata": {},
   "outputs": [
    {
     "data": {
      "text/plain": [
       "[7, 73, 83, 45, 26, 81, 52, 49, 25, 16, '동해물과', '백두산이', '마르고 닳도록']"
      ]
     },
     "execution_count": 59,
     "metadata": {},
     "output_type": "execute_result"
    }
   ],
   "source": [
    "list1 + list2"
   ]
  },
  {
   "cell_type": "markdown",
   "id": "775fced2",
   "metadata": {},
   "source": [
    "----------------------------------------------------------------------------------"
   ]
  },
  {
   "cell_type": "code",
   "execution_count": 60,
   "id": "040a3e5a",
   "metadata": {},
   "outputs": [
    {
     "data": {
      "text/plain": [
       "{'id': [3, 1, 83, 73, 78, 32, 64, 19, 91, 34],\n",
       " 'data': [35, 0, 55, 91, 96, 5, 63, 98, 32, 14]}"
      ]
     },
     "execution_count": 60,
     "metadata": {},
     "output_type": "execute_result"
    }
   ],
   "source": [
    "data = {\n",
    "    'id' : sample(range(100),10),\n",
    "    'data' : sample(range(100),10),\n",
    "}\n",
    "data"
   ]
  },
  {
   "cell_type": "code",
   "execution_count": 61,
   "id": "0b70b0d2",
   "metadata": {},
   "outputs": [],
   "source": [
    "# dataframe -> 액셀형태로\n",
    "tm_df = pd.DataFrame(data=data)"
   ]
  },
  {
   "cell_type": "code",
   "execution_count": 62,
   "id": "54cfe4f8",
   "metadata": {},
   "outputs": [
    {
     "data": {
      "text/plain": [
       "0     38\n",
       "1      1\n",
       "2    138\n",
       "3    164\n",
       "4    174\n",
       "5     37\n",
       "6    127\n",
       "7    117\n",
       "8    123\n",
       "9     48\n",
       "dtype: int64"
      ]
     },
     "execution_count": 62,
     "metadata": {},
     "output_type": "execute_result"
    }
   ],
   "source": [
    "tm_df.sum(axis=1)"
   ]
  },
  {
   "cell_type": "code",
   "execution_count": 63,
   "id": "0afbb2f6",
   "metadata": {},
   "outputs": [
    {
     "data": {
      "text/html": [
       "<div>\n",
       "<style scoped>\n",
       "    .dataframe tbody tr th:only-of-type {\n",
       "        vertical-align: middle;\n",
       "    }\n",
       "\n",
       "    .dataframe tbody tr th {\n",
       "        vertical-align: top;\n",
       "    }\n",
       "\n",
       "    .dataframe thead th {\n",
       "        text-align: right;\n",
       "    }\n",
       "</style>\n",
       "<table border=\"1\" class=\"dataframe\">\n",
       "  <thead>\n",
       "    <tr style=\"text-align: right;\">\n",
       "      <th></th>\n",
       "      <th>id</th>\n",
       "      <th>data</th>\n",
       "    </tr>\n",
       "  </thead>\n",
       "  <tbody>\n",
       "    <tr>\n",
       "      <th>0</th>\n",
       "      <td>3</td>\n",
       "      <td>35</td>\n",
       "    </tr>\n",
       "    <tr>\n",
       "      <th>1</th>\n",
       "      <td>1</td>\n",
       "      <td>0</td>\n",
       "    </tr>\n",
       "    <tr>\n",
       "      <th>2</th>\n",
       "      <td>83</td>\n",
       "      <td>55</td>\n",
       "    </tr>\n",
       "    <tr>\n",
       "      <th>3</th>\n",
       "      <td>73</td>\n",
       "      <td>91</td>\n",
       "    </tr>\n",
       "    <tr>\n",
       "      <th>4</th>\n",
       "      <td>78</td>\n",
       "      <td>96</td>\n",
       "    </tr>\n",
       "    <tr>\n",
       "      <th>5</th>\n",
       "      <td>32</td>\n",
       "      <td>5</td>\n",
       "    </tr>\n",
       "    <tr>\n",
       "      <th>6</th>\n",
       "      <td>64</td>\n",
       "      <td>63</td>\n",
       "    </tr>\n",
       "    <tr>\n",
       "      <th>7</th>\n",
       "      <td>19</td>\n",
       "      <td>98</td>\n",
       "    </tr>\n",
       "    <tr>\n",
       "      <th>8</th>\n",
       "      <td>91</td>\n",
       "      <td>32</td>\n",
       "    </tr>\n",
       "    <tr>\n",
       "      <th>9</th>\n",
       "      <td>34</td>\n",
       "      <td>14</td>\n",
       "    </tr>\n",
       "  </tbody>\n",
       "</table>\n",
       "</div>"
      ],
      "text/plain": [
       "   id  data\n",
       "0   3    35\n",
       "1   1     0\n",
       "2  83    55\n",
       "3  73    91\n",
       "4  78    96\n",
       "5  32     5\n",
       "6  64    63\n",
       "7  19    98\n",
       "8  91    32\n",
       "9  34    14"
      ]
     },
     "execution_count": 63,
     "metadata": {},
     "output_type": "execute_result"
    }
   ],
   "source": [
    "tm_df"
   ]
  },
  {
   "cell_type": "code",
   "execution_count": 64,
   "id": "0a375fe2",
   "metadata": {},
   "outputs": [],
   "source": [
    "#list1 = [11,12,13]\n",
    "#list1[0]\n",
    "\n",
    "#list1[:5]\n",
    "#list1[-1]\n",
    "#list1[-3:]\n",
    "#list1[0:5:2]\n",
    "#list1[5:0:-1]\n",
    "#list1[:]\n",
    "#list1[::2]\n",
    "#list1[::-1]\n",
    "\n",
    "#정렬...오름차순...[::-1]"
   ]
  },
  {
   "cell_type": "code",
   "execution_count": 65,
   "id": "95a786ec",
   "metadata": {},
   "outputs": [
    {
     "data": {
      "text/plain": [
       "pandas.core.series.Series"
      ]
     },
     "execution_count": 65,
     "metadata": {},
     "output_type": "execute_result"
    }
   ],
   "source": [
    "type(tm_df['id'])"
   ]
  },
  {
   "cell_type": "code",
   "execution_count": 66,
   "id": "314785a7",
   "metadata": {},
   "outputs": [
    {
     "data": {
      "text/plain": [
       "<pandas.core.indexing._LocIndexer at 0x15da7ab7950>"
      ]
     },
     "execution_count": 66,
     "metadata": {},
     "output_type": "execute_result"
    }
   ],
   "source": [
    "tm_df.loc\n",
    "#tm_df.loc[2,'data']\n",
    "#tm_df.loc[2,:]\n",
    "#tm_df.loc[4:5,'data']"
   ]
  }
 ],
 "metadata": {
  "kernelspec": {
   "display_name": "Python 3 (ipykernel)",
   "language": "python",
   "name": "python3"
  },
  "language_info": {
   "codemirror_mode": {
    "name": "ipython",
    "version": 3
   },
   "file_extension": ".py",
   "mimetype": "text/x-python",
   "name": "python",
   "nbconvert_exporter": "python",
   "pygments_lexer": "ipython3",
   "version": "3.8.12"
  }
 },
 "nbformat": 4,
 "nbformat_minor": 5
}
