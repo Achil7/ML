{
 "cells": [
  {
   "cell_type": "code",
   "execution_count": 1,
   "metadata": {
    "id": "65WYKI2cUujL"
   },
   "outputs": [],
   "source": [
    "import tensorflow as tf\n",
    "import numpy as np"
   ]
  },
  {
   "cell_type": "code",
   "execution_count": 2,
   "metadata": {
    "colab": {
     "base_uri": "https://localhost:8080/"
    },
    "id": "T5Ejy-_FUzTQ",
    "outputId": "2e228d85-394e-472e-b27e-4c02b79f3e88"
   },
   "outputs": [
    {
     "data": {
      "text/plain": [
       "<tf.Tensor: shape=(2, 1), dtype=float32, numpy=\n",
       "array([[1.],\n",
       "       [1.]], dtype=float32)>"
      ]
     },
     "execution_count": 2,
     "metadata": {},
     "output_type": "execute_result"
    }
   ],
   "source": [
    "x = tf.ones(shape=(2,1))\n",
    "x"
   ]
  },
  {
   "cell_type": "code",
   "execution_count": 3,
   "metadata": {
    "colab": {
     "base_uri": "https://localhost:8080/"
    },
    "id": "bbZ5mWysU2qv",
    "outputId": "411370d0-8961-4d46-eaf4-5e8c3983dd3a"
   },
   "outputs": [
    {
     "data": {
      "text/plain": [
       "0.71842647"
      ]
     },
     "execution_count": 3,
     "metadata": {},
     "output_type": "execute_result"
    }
   ],
   "source": [
    "x = tf.random.normal(shape=(3,1),mean=0,stddev=1)\n",
    "np.mean(x)"
   ]
  },
  {
   "cell_type": "code",
   "execution_count": 4,
   "metadata": {
    "colab": {
     "base_uri": "https://localhost:8080/"
    },
    "id": "6rgdS6usVWV9",
    "outputId": "9eea19cf-1e44-44d1-9eab-6d16935028f1"
   },
   "outputs": [
    {
     "data": {
      "text/plain": [
       "<tf.Tensor: shape=(3, 1), dtype=float32, numpy=\n",
       "array([[0.75069344],\n",
       "       [0.3195212 ],\n",
       "       [0.21629131]], dtype=float32)>"
      ]
     },
     "execution_count": 4,
     "metadata": {},
     "output_type": "execute_result"
    }
   ],
   "source": [
    "x = tf.random.uniform(shape=(3,1),minval=0,maxval=1)\n",
    "x"
   ]
  },
  {
   "cell_type": "code",
   "execution_count": 5,
   "metadata": {
    "colab": {
     "base_uri": "https://localhost:8080/"
    },
    "id": "yvSCBukgVdfl",
    "outputId": "848e84e5-bd44-49ec-9f07-f4918cb23a72"
   },
   "outputs": [
    {
     "data": {
      "text/plain": [
       "array([[0., 1.],\n",
       "       [1., 1.]])"
      ]
     },
     "execution_count": 5,
     "metadata": {},
     "output_type": "execute_result"
    }
   ],
   "source": [
    "# numpy에 값 할당\n",
    "x = np.ones(shape=(2,2))\n",
    "x[0,0] = 0\n",
    "x"
   ]
  },
  {
   "cell_type": "code",
   "execution_count": 6,
   "metadata": {
    "colab": {
     "base_uri": "https://localhost:8080/"
    },
    "id": "fjuaSHKDV3uj",
    "outputId": "bd2e3ed2-8b93-4496-8400-28c3f4207a79"
   },
   "outputs": [
    {
     "data": {
      "text/plain": [
       "<tf.Variable 'Variable:0' shape=(3, 1) dtype=float32, numpy=\n",
       "array([[-0.8815106 ],\n",
       "       [-0.4871253 ],\n",
       "       [ 0.26032403]], dtype=float32)>"
      ]
     },
     "execution_count": 6,
     "metadata": {},
     "output_type": "execute_result"
    }
   ],
   "source": [
    "# Tensorflow 변수 만들기\n",
    "v = tf.Variable(initial_value=tf.random.normal(shape=(3,1)))\n",
    "v"
   ]
  },
  {
   "cell_type": "code",
   "execution_count": 7,
   "metadata": {
    "colab": {
     "base_uri": "https://localhost:8080/"
    },
    "id": "U6RU9_f6WNf2",
    "outputId": "3e3cc562-e630-40c7-a560-d98c66702cd5"
   },
   "outputs": [
    {
     "data": {
      "text/plain": [
       "<tf.Variable 'Variable:0' shape=(3, 1) dtype=float32, numpy=\n",
       "array([[1.],\n",
       "       [1.],\n",
       "       [1.]], dtype=float32)>"
      ]
     },
     "execution_count": 7,
     "metadata": {},
     "output_type": "execute_result"
    }
   ],
   "source": [
    "v.assign(tf.ones((3,1)))\n",
    "v"
   ]
  },
  {
   "cell_type": "code",
   "execution_count": 8,
   "metadata": {
    "colab": {
     "base_uri": "https://localhost:8080/"
    },
    "id": "LhsQNAeUWSVp",
    "outputId": "dbdfc767-14fe-4b5e-b36e-52428215ae1a"
   },
   "outputs": [
    {
     "data": {
      "text/plain": [
       "<tf.Variable 'Variable:0' shape=(3, 1) dtype=float32, numpy=\n",
       "array([[3.],\n",
       "       [1.],\n",
       "       [1.]], dtype=float32)>"
      ]
     },
     "execution_count": 8,
     "metadata": {},
     "output_type": "execute_result"
    }
   ],
   "source": [
    "# 변수 일부에 값 할당\n",
    "v[0,0].assign(3)\n",
    "v"
   ]
  },
  {
   "cell_type": "code",
   "execution_count": 9,
   "metadata": {
    "colab": {
     "base_uri": "https://localhost:8080/"
    },
    "id": "FLJSJfNFWfXR",
    "outputId": "eeecfebc-1bcb-4fda-888b-19d6cd91ece8"
   },
   "outputs": [
    {
     "data": {
      "text/plain": [
       "<tf.Variable 'Variable:0' shape=(3, 1) dtype=float32, numpy=\n",
       "array([[4.],\n",
       "       [2.],\n",
       "       [2.]], dtype=float32)>"
      ]
     },
     "execution_count": 9,
     "metadata": {},
     "output_type": "execute_result"
    }
   ],
   "source": [
    "v.assign_add(tf.ones((3,1)))\n",
    "v"
   ]
  },
  {
   "cell_type": "code",
   "execution_count": 10,
   "metadata": {
    "colab": {
     "base_uri": "https://localhost:8080/"
    },
    "id": "BpxBLlG7W5Mg",
    "outputId": "b16ad7b5-ec39-46b4-bd81-ddcafaed48d6"
   },
   "outputs": [
    {
     "name": "stdout",
     "output_type": "stream",
     "text": [
      "tf.Tensor(\n",
      "[[1. 1.]\n",
      " [1. 1.]], shape=(2, 2), dtype=float32)\n",
      "tf.Tensor(\n",
      "[[1. 1.]\n",
      " [1. 1.]], shape=(2, 2), dtype=float32)\n",
      "tf.Tensor(\n",
      "[[0.99999994 0.99999994]\n",
      " [0.99999994 0.99999994]], shape=(2, 2), dtype=float32)\n",
      "tf.Tensor(\n",
      "[[2. 2.]\n",
      " [2. 2.]], shape=(2, 2), dtype=float32)\n",
      "tf.Tensor(\n",
      "[[4. 4.]\n",
      " [4. 4.]], shape=(2, 2), dtype=float32)\n",
      "tf.Tensor(\n",
      "[[8. 8.]\n",
      " [8. 8.]], shape=(2, 2), dtype=float32)\n"
     ]
    }
   ],
   "source": [
    "# Tensorflow 기본적인 수학연산\n",
    "a = tf.ones((2,2))\n",
    "print(a)\n",
    "b = tf.square(a)\n",
    "print(b)\n",
    "c = tf.sqrt(b)\n",
    "print(c)\n",
    "d = b + c\n",
    "print(d)\n",
    "e = tf.matmul(a,d)\n",
    "print(e)\n",
    "e *= d\n",
    "print(e)"
   ]
  },
  {
   "cell_type": "code",
   "execution_count": 11,
   "metadata": {
    "id": "2W94BMmmbJ_-"
   },
   "outputs": [],
   "source": [
    "from numpy.lib.function_base import gradient\n",
    "\n",
    "# GradientTape 사용\n",
    "input_var = tf.Variable(initial_value=3.)\n",
    "with tf.GradientTape() as tape:\n",
    "    result = tf.square(input_var)\n",
    "    gradient = tape.gradient(result,input_var)"
   ]
  },
  {
   "cell_type": "code",
   "execution_count": 12,
   "metadata": {
    "id": "9YsEOrguXyeO"
   },
   "outputs": [],
   "source": [
    "input_const = tf.constant(3.)\n",
    "with tf.GradientTape() as tape:\n",
    "    result = tf.square(input_var)\n",
    "    gradient = tape.gradient(result,input_var)"
   ]
  },
  {
   "cell_type": "code",
   "execution_count": 13,
   "metadata": {
    "id": "ZRbbGuKJcfDv"
   },
   "outputs": [],
   "source": [
    "# 중첩\n",
    "time = tf.Variable(0.)\n",
    "with tf.GradientTape() as outer_tape:\n",
    "    with tf.GradientTape() as inner_tape:\n",
    "        position = 4.9*time**2\n",
    "        speed = inner_tape.gradient(position,time)\n",
    "        acceleration = outer_tape.gradient(speed,time)"
   ]
  },
  {
   "cell_type": "code",
   "execution_count": 14,
   "metadata": {
    "id": "vw-ltbu9eI79"
   },
   "outputs": [],
   "source": [
    "# Tensorflow 선형 분류기\n",
    "num_samples_per_class = 1000\n",
    "negative_samples = np.random.multivariate_normal(\n",
    "    mean = [0,3],\n",
    "    cov = [[1,0.5],[0.5,1]],\n",
    "    size = num_samples_per_class\n",
    ")\n",
    "positive_samples = np.random.multivariate_normal(\n",
    "    mean = [3,0],\n",
    "    cov = [[1,0.5],[0.5,1]],\n",
    "    size = num_samples_per_class\n",
    ")"
   ]
  },
  {
   "cell_type": "code",
   "execution_count": 15,
   "metadata": {
    "colab": {
     "base_uri": "https://localhost:8080/"
    },
    "id": "0MhVgT6YevrY",
    "outputId": "8311a4cb-d2f0-49b2-f91b-5659a84ce5ea"
   },
   "outputs": [
    {
     "data": {
      "text/plain": [
       "(1000, 2)"
      ]
     },
     "execution_count": 15,
     "metadata": {},
     "output_type": "execute_result"
    }
   ],
   "source": [
    "negative_samples.shape"
   ]
  },
  {
   "cell_type": "code",
   "execution_count": 16,
   "metadata": {
    "id": "_9l8pDK0e-Gs"
   },
   "outputs": [],
   "source": [
    "# 한 배열에 쌓기\n",
    "inputs = np.vstack((negative_samples,positive_samples)).astype(np.float32)"
   ]
  },
  {
   "cell_type": "code",
   "execution_count": 17,
   "metadata": {
    "colab": {
     "base_uri": "https://localhost:8080/"
    },
    "id": "qjeHkK5DfI59",
    "outputId": "f17d39f9-1965-432c-f153-1a76fe0fb9ac"
   },
   "outputs": [
    {
     "data": {
      "text/plain": [
       "(2000, 2)"
      ]
     },
     "execution_count": 17,
     "metadata": {},
     "output_type": "execute_result"
    }
   ],
   "source": [
    "inputs.shape"
   ]
  },
  {
   "cell_type": "code",
   "execution_count": 18,
   "metadata": {
    "id": "KpqeRDwpfapk"
   },
   "outputs": [],
   "source": [
    "# 0과 1로 되어있는 타깃을 구성\n",
    "targets = np.vstack((np.zeros((1000,1),dtype='float32'),\n",
    "                     np.ones((1000,1),dtype='float32')))"
   ]
  },
  {
   "cell_type": "code",
   "execution_count": 19,
   "metadata": {
    "colab": {
     "base_uri": "https://localhost:8080/",
     "height": 265
    },
    "id": "ALAOgd1Gfz9s",
    "outputId": "a693a815-1610-4c8a-eb1c-302eb5e91d58"
   },
   "outputs": [
    {
     "data": {
      "image/png": "[encoded data removed]",
      "text/plain": [
       "<Figure size 432x288 with 1 Axes>"
      ]
     },
     "metadata": {
      "needs_background": "light"
     },
     "output_type": "display_data"
    }
   ],
   "source": [
    "# 샘플 데이터 시각화\n",
    "import matplotlib.pyplot as plt\n",
    "plt.scatter(inputs[:,0],inputs[:,1],c=targets[:,0])\n",
    "plt.show()"
   ]
  },
  {
   "cell_type": "code",
   "execution_count": 20,
   "metadata": {
    "id": "7bi1NtiCggPM"
   },
   "outputs": [],
   "source": [
    "from prompt_toolkit import output\n",
    "# 선형 분류기의 변수\n",
    "input_dim = 2\n",
    "output_dim = 1\n",
    "W = tf.Variable(initial_value=tf.random.uniform(shape=(input_dim,output_dim)))\n",
    "b = tf.Variable(initial_value=tf.zeros(shape=(output_dim,)))"
   ]
  },
  {
   "cell_type": "code",
   "execution_count": 21,
   "metadata": {
    "id": "Fn12rq8xhN2H"
   },
   "outputs": [],
   "source": [
    "# 정방향 패스 함수\n",
    "def model(inputs):\n",
    "    return tf.matmul(inputs,W) + b"
   ]
  },
  {
   "cell_type": "code",
   "execution_count": 22,
   "metadata": {
    "id": "Bc8hTzothdeN"
   },
   "outputs": [],
   "source": [
    "# 평균 제곱 오차 손실함수\n",
    "def squared_loss(target,predictions):\n",
    "    per_sample_losses = tf.square(target-predictions)\n",
    "    return tf.reduce_mean(per_sample_losses)"
   ]
  },
  {
   "cell_type": "code",
   "execution_count": 23,
   "metadata": {
    "id": "kVw42BAfh278"
   },
   "outputs": [],
   "source": [
    "# 훈련스텝 함수\n",
    "learning_rate = 0.1\n",
    "def training_step(inputs, targets):\n",
    "    with tf.GradientTape() as tape:\n",
    "        predictions = model(inputs)\n",
    "        loss = squared_loss(targets,predictions)\n",
    "    grad_loss_wrd_W, grad_loss_wrd_b = tape.gradient(loss,[W,b])\n",
    "    W.assign_sub(grad_loss_wrd_W*learning_rate)\n",
    "    b.assign_sub(grad_loss_wrd_b*learning_rate)\n",
    "    return loss"
   ]
  },
  {
   "cell_type": "code",
   "execution_count": 24,
   "metadata": {
    "colab": {
     "base_uri": "https://localhost:8080/",
     "height": 211
    },
    "id": "K-4KEHQVjENb",
    "outputId": "3b91641a-2cb6-48e8-d070-629fbd02d525"
   },
   "outputs": [
    {
     "name": "stdout",
     "output_type": "stream",
     "text": [
      "0번째 스텝의 손실 : 1.9987\n",
      "1번째 스텝의 손실 : 0.3225\n",
      "2번째 스텝의 손실 : 0.1389\n",
      "3번째 스텝의 손실 : 0.1115\n",
      "4번째 스텝의 손실 : 0.1021\n",
      "5번째 스텝의 손실 : 0.0952\n",
      "6번째 스텝의 손실 : 0.0892\n",
      "7번째 스텝의 손실 : 0.0836\n",
      "8번째 스텝의 손실 : 0.0785\n",
      "9번째 스텝의 손실 : 0.0739\n",
      "10번째 스텝의 손실 : 0.0696\n",
      "11번째 스텝의 손실 : 0.0658\n",
      "12번째 스텝의 손실 : 0.0622\n",
      "13번째 스텝의 손실 : 0.0589\n",
      "14번째 스텝의 손실 : 0.0560\n",
      "15번째 스텝의 손실 : 0.0532\n",
      "16번째 스텝의 손실 : 0.0507\n",
      "17번째 스텝의 손실 : 0.0485\n",
      "18번째 스텝의 손실 : 0.0464\n",
      "19번째 스텝의 손실 : 0.0445\n",
      "20번째 스텝의 손실 : 0.0427\n",
      "21번째 스텝의 손실 : 0.0411\n",
      "22번째 스텝의 손실 : 0.0396\n",
      "23번째 스텝의 손실 : 0.0383\n",
      "24번째 스텝의 손실 : 0.0371\n",
      "25번째 스텝의 손실 : 0.0359\n",
      "26번째 스텝의 손실 : 0.0349\n",
      "27번째 스텝의 손실 : 0.0340\n",
      "28번째 스텝의 손실 : 0.0331\n",
      "29번째 스텝의 손실 : 0.0323\n",
      "30번째 스텝의 손실 : 0.0316\n",
      "31번째 스텝의 손실 : 0.0309\n",
      "32번째 스텝의 손실 : 0.0303\n",
      "33번째 스텝의 손실 : 0.0298\n",
      "34번째 스텝의 손실 : 0.0293\n",
      "35번째 스텝의 손실 : 0.0288\n",
      "36번째 스텝의 손실 : 0.0284\n",
      "37번째 스텝의 손실 : 0.0280\n",
      "38번째 스텝의 손실 : 0.0277\n",
      "39번째 스텝의 손실 : 0.0273\n"
     ]
    }
   ],
   "source": [
    "for step in range(40):\n",
    "    loss = training_step(inputs, targets)\n",
    "    print(f\"{step}번째 스텝의 손실 : {loss:.4f}\")"
   ]
  },
  {
   "cell_type": "code",
   "execution_count": 25,
   "metadata": {
    "colab": {
     "base_uri": "https://localhost:8080/",
     "height": 284
    },
    "id": "thfSAyKvji-1",
    "outputId": "82333887-7374-4761-a158-442d11b02335"
   },
   "outputs": [
    {
     "data": {
      "image/png": "[encoded data removed]",
      "text/plain": [
       "<Figure size 432x288 with 1 Axes>"
      ]
     },
     "metadata": {
      "needs_background": "light"
     },
     "output_type": "display_data"
    },
    {
     "name": "stdout",
     "output_type": "stream",
     "text": [
      "tf.Tensor([0.12552941], shape=(1,), dtype=float32) tf.Tensor([0.7635145], shape=(1,), dtype=float32)\n"
     ]
    }
   ],
   "source": [
    "start_end = [[-4.,-4.],[6.,6.]]\n",
    "line_data = model(start_end)\n",
    "\n",
    "predictions = model(inputs)\n",
    "plt.scatter(inputs[:,0],inputs[:,1], c=predictions[:,0] > 0.5)\n",
    "plt.plot(line_data[0],line_data[1],'-r')\n",
    "plt.show()\n",
    "print(line_data[0],line_data[1])"
   ]
  },
  {
   "cell_type": "code",
   "execution_count": 26,
   "metadata": {},
   "outputs": [
    {
     "data": {
      "text/plain": [
       "[<matplotlib.lines.Line2D at 0x15a34a0ff10>]"
      ]
     },
     "execution_count": 26,
     "metadata": {},
     "output_type": "execute_result"
    },
    {
     "data": {
      "image/png": "[encoded data removed]",
      "text/plain": [
       "<Figure size 432x288 with 1 Axes>"
      ]
     },
     "metadata": {
      "needs_background": "light"
     },
     "output_type": "display_data"
    }
   ],
   "source": [
    "# [-1,4]\n",
    "x = np.linspace(-1,4,100)\n",
    "y = -W[0] / W[1] * x + (0.5-b) / W[1]\n",
    "plt.plot(x,y,'-r')\n",
    "plt.scatter(inputs[:,0],inputs[:,1], c=predictions[:,0] > 0.5)\n",
    "plt.plot(line_data[0],line_data[1],'-r')"
   ]
  },
  {
   "cell_type": "code",
   "execution_count": 27,
   "metadata": {},
   "outputs": [],
   "source": [
    "from tensorflow import keras\n",
    "class SimpleDense(keras.layers.Layer):\n",
    "    def __init__(self,units,activation=None):\n",
    "        super().__init__()\n",
    "        self.units = units\n",
    "        self.activation = activation\n",
    "    def build(self, input_shape):\n",
    "        input_dim = input_shape[-1]\n",
    "        self.W = self.add_weight(shape=(input_dim, self.units),initializer='random_normal')\n",
    "        self.b = self.add_weight(shape=(self.units),initializer ='zeros')\n",
    "    def call(self, inputs):\n",
    "        y = tf.matmul(inputs, self.W) + self.b\n",
    "        if self.activation is not None:\n",
    "            y = self.activation(y)\n",
    "        return y"
   ]
  },
  {
   "cell_type": "code",
   "execution_count": 28,
   "metadata": {},
   "outputs": [
    {
     "data": {
      "text/plain": [
       "TensorShape([2, 32])"
      ]
     },
     "execution_count": 28,
     "metadata": {},
     "output_type": "execute_result"
    }
   ],
   "source": [
    "my_dense = SimpleDense(units= 32, activation=tf.nn.relu)\n",
    "input_tensor = tf.ones(shape = (2,784))\n",
    "output_tensor = my_dense(input_tensor)\n",
    "output_tensor.shape"
   ]
  },
  {
   "cell_type": "code",
   "execution_count": 29,
   "metadata": {},
   "outputs": [],
   "source": [
    "from tensorflow.keras import models, layers\n",
    "model = models.Sequential([\n",
    "    layers.Dense(32,activation='relu'),\n",
    "    layers.Dense(32)\n",
    "    ])"
   ]
  },
  {
   "cell_type": "code",
   "execution_count": 30,
   "metadata": {},
   "outputs": [],
   "source": [
    "model = models.Sequential([\n",
    "    SimpleDense(32,activation='relu'),\n",
    "    SimpleDense(64,activation='relu'),\n",
    "    SimpleDense(32,activation='relu'),\n",
    "    SimpleDense(10,activation='relu')\n",
    "])"
   ]
  },
  {
   "cell_type": "code",
   "execution_count": 31,
   "metadata": {},
   "outputs": [],
   "source": [
    "# 학습과정 설계\n",
    "model = keras.Sequential([keras.layers.Dense(1)])\n",
    "model.compile(optimizer = 'adam',loss='mse',metrics=['acc'])"
   ]
  },
  {
   "cell_type": "code",
   "execution_count": 32,
   "metadata": {},
   "outputs": [
    {
     "name": "stdout",
     "output_type": "stream",
     "text": [
      "Epoch 1/5\n",
      "16/16 [==============================] - 0s 440us/step - loss: 4.9530 - acc: 0.9875\n",
      "Epoch 2/5\n",
      "16/16 [==============================] - 0s 265us/step - loss: 4.7310 - acc: 0.9875\n",
      "Epoch 3/5\n",
      "16/16 [==============================] - 0s 295us/step - loss: 4.5202 - acc: 0.9875\n",
      "Epoch 4/5\n",
      "16/16 [==============================] - 0s 1ms/step - loss: 4.3137 - acc: 0.9875\n",
      "Epoch 5/5\n",
      "16/16 [==============================] - 0s 1ms/step - loss: 4.1171 - acc: 0.9870\n"
     ]
    }
   ],
   "source": [
    "hist = model.fit(inputs,targets,epochs=5,batch_size=128)"
   ]
  },
  {
   "cell_type": "code",
   "execution_count": 33,
   "metadata": {},
   "outputs": [
    {
     "data": {
      "text/plain": [
       "{'loss': [4.952981472015381,\n",
       "  4.730991363525391,\n",
       "  4.520247936248779,\n",
       "  4.313675880432129,\n",
       "  4.1170759201049805],\n",
       " 'acc': [0.987500011920929,\n",
       "  0.987500011920929,\n",
       "  0.987500011920929,\n",
       "  0.987500011920929,\n",
       "  0.9869999885559082]}"
      ]
     },
     "execution_count": 33,
     "metadata": {},
     "output_type": "execute_result"
    }
   ],
   "source": [
    "hist.history"
   ]
  }
 ],
 "metadata": {
  "colab": {
   "collapsed_sections": [],
   "provenance": []
  },
  "kernelspec": {
   "display_name": "Python 3 (ipykernel)",
   "language": "python",
   "name": "python3"
  },
  "language_info": {
   "codemirror_mode": {
    "name": "ipython",
    "version": 3
   },
   "file_extension": ".py",
   "mimetype": "text/x-python",
   "name": "python",
   "nbconvert_exporter": "python",
   "pygments_lexer": "ipython3",
   "version": "3.9.7"
  }
 },
 "nbformat": 4,
 "nbformat_minor": 1
}
