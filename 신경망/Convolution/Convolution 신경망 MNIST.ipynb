{
  "nbformat": 4,
  "nbformat_minor": 0,
  "metadata": {
    "colab": {
      "provenance": [],
      "collapsed_sections": []
    },
    "kernelspec": {
      "name": "python3",
      "display_name": "Python 3"
    },
    "language_info": {
      "name": "python"
    },
    "accelerator": "GPU"
  },
  "cells": [
    {
      "cell_type": "code",
      "source": [
        "# 컨볼루션 신경망 설계 드롭아웃을 적용해서 유연한 구조로 변경\n",
        "# c p c p c fc d fc     c c p fc fc\n",
        "#\n",
        "import numpy as np\n",
        "import tensorflow as tf\n",
        "from tensorflow.keras.datasets import mnist\n",
        "from tensorflow.keras.models import Sequential\n",
        "from tensorflow.keras.layers import Conv2D, MaxPooling2D, Flatten, Dense, Dropout\n",
        "from tensorflow.keras.optimizers import Adam"
      ],
      "metadata": {
        "id": "DcG07Rr_CUb2"
      },
      "execution_count": null,
      "outputs": []
    },
    {
      "cell_type": "code",
      "source": [
        "# load dataset\n",
        "(x_train, y_train),(x_test,y_test) = mnist.load_data()\n",
        "\n",
        "# 차수 변경 & 표준화\n",
        "x_train = x_train.reshape(-1,28,28,1).astype(np.float32)/255.0\n",
        "x_test = x_test.reshape(-1,28,28,1).astype(np.float32)/255.0\n",
        "\n",
        "# one hot encoding\n",
        "y_train = tf.keras.utils.to_categorical(y_train)\n",
        "y_test = tf.keras.utils.to_categorical(y_test)"
      ],
      "metadata": {
        "id": "INYS7ulBDlcy",
        "colab": {
          "base_uri": "https://localhost:8080/"
        },
        "outputId": "3c25d308-41fd-4b9e-95f5-652a00cb4002"
      },
      "execution_count": null,
      "outputs": [
        {
          "output_type": "stream",
          "name": "stdout",
          "text": [
            "Downloading data from https://storage.googleapis.com/tensorflow/tf-keras-datasets/mnist.npz\n",
            "11493376/11490434 [==============================] - 0s 0us/step\n",
            "11501568/11490434 [==============================] - 0s 0us/step\n"
          ]
        }
      ]
    },
    {
      "cell_type": "code",
      "source": [
        "# c-c-p-fc-fc 구조\n",
        "# convolution-convolution-pooling\n",
        "# LeNet-5 신경망 모델 설계\n",
        "cnn = Sequential()\n",
        "cnn.add(Conv2D(32,(5,5), padding = 'same', activation='relu',input_shape = (28,28,1)))\n",
        "cnn.add(Conv2D(64,(5,5), padding = 'same', activation='relu',input_shape = (28,28,1)))\n",
        "cnn.add(MaxPooling2D(pool_size=(2,2)))\n",
        "cnn.add(Dropout(0.25))\n",
        "\n",
        "cnn.add(Flatten())\n",
        "cnn.add(Dense(84,activation='relu'))\n",
        "cnn.add(Dropout(0.25))\n",
        "cnn.add(Dense(10,activation='softmax'))"
      ],
      "metadata": {
        "id": "WSzQYb57DrGX"
      },
      "execution_count": null,
      "outputs": []
    },
    {
      "cell_type": "code",
      "source": [
        "# 학습\n",
        "cnn.compile(loss = tf.keras.losses.categorical_crossentropy, optimizer = Adam(), metrics = ['accuracy'])\n",
        "hist = cnn.fit(x_train,y_train, batch_size=128, epochs = 30, validation_data=(x_test,y_test), verbose = 2)"
      ],
      "metadata": {
        "colab": {
          "base_uri": "https://localhost:8080/"
        },
        "id": "93Rd9pgEEqeq",
        "outputId": "98127f1a-e4f7-4e73-dde4-9dd953d15967"
      },
      "execution_count": null,
      "outputs": [
        {
          "output_type": "stream",
          "name": "stdout",
          "text": [
            "Epoch 1/30\n",
            "469/469 - 20s - loss: 0.1768 - accuracy: 0.9471 - val_loss: 0.0401 - val_accuracy: 0.9877 - 20s/epoch - 43ms/step\n",
            "Epoch 2/30\n",
            "469/469 - 4s - loss: 0.0591 - accuracy: 0.9822 - val_loss: 0.0362 - val_accuracy: 0.9881 - 4s/epoch - 9ms/step\n",
            "Epoch 3/30\n",
            "469/469 - 4s - loss: 0.0411 - accuracy: 0.9870 - val_loss: 0.0291 - val_accuracy: 0.9904 - 4s/epoch - 9ms/step\n",
            "Epoch 4/30\n",
            "469/469 - 4s - loss: 0.0310 - accuracy: 0.9901 - val_loss: 0.0255 - val_accuracy: 0.9918 - 4s/epoch - 9ms/step\n",
            "Epoch 5/30\n",
            "469/469 - 4s - loss: 0.0253 - accuracy: 0.9918 - val_loss: 0.0260 - val_accuracy: 0.9905 - 4s/epoch - 9ms/step\n",
            "Epoch 6/30\n",
            "469/469 - 5s - loss: 0.0226 - accuracy: 0.9929 - val_loss: 0.0233 - val_accuracy: 0.9921 - 5s/epoch - 10ms/step\n",
            "Epoch 7/30\n",
            "469/469 - 4s - loss: 0.0177 - accuracy: 0.9941 - val_loss: 0.0281 - val_accuracy: 0.9909 - 4s/epoch - 9ms/step\n",
            "Epoch 8/30\n",
            "469/469 - 4s - loss: 0.0172 - accuracy: 0.9946 - val_loss: 0.0262 - val_accuracy: 0.9914 - 4s/epoch - 9ms/step\n",
            "Epoch 9/30\n",
            "469/469 - 5s - loss: 0.0133 - accuracy: 0.9954 - val_loss: 0.0244 - val_accuracy: 0.9936 - 5s/epoch - 10ms/step\n",
            "Epoch 10/30\n",
            "469/469 - 5s - loss: 0.0140 - accuracy: 0.9954 - val_loss: 0.0232 - val_accuracy: 0.9932 - 5s/epoch - 10ms/step\n",
            "Epoch 11/30\n",
            "469/469 - 4s - loss: 0.0108 - accuracy: 0.9964 - val_loss: 0.0277 - val_accuracy: 0.9920 - 4s/epoch - 9ms/step\n",
            "Epoch 12/30\n",
            "469/469 - 4s - loss: 0.0118 - accuracy: 0.9960 - val_loss: 0.0287 - val_accuracy: 0.9924 - 4s/epoch - 9ms/step\n",
            "Epoch 13/30\n",
            "469/469 - 4s - loss: 0.0112 - accuracy: 0.9962 - val_loss: 0.0241 - val_accuracy: 0.9937 - 4s/epoch - 9ms/step\n",
            "Epoch 14/30\n",
            "469/469 - 4s - loss: 0.0107 - accuracy: 0.9961 - val_loss: 0.0249 - val_accuracy: 0.9928 - 4s/epoch - 9ms/step\n",
            "Epoch 15/30\n",
            "469/469 - 4s - loss: 0.0086 - accuracy: 0.9972 - val_loss: 0.0260 - val_accuracy: 0.9936 - 4s/epoch - 9ms/step\n",
            "Epoch 16/30\n",
            "469/469 - 4s - loss: 0.0079 - accuracy: 0.9973 - val_loss: 0.0296 - val_accuracy: 0.9924 - 4s/epoch - 9ms/step\n",
            "Epoch 17/30\n",
            "469/469 - 4s - loss: 0.0083 - accuracy: 0.9971 - val_loss: 0.0284 - val_accuracy: 0.9924 - 4s/epoch - 9ms/step\n",
            "Epoch 18/30\n",
            "469/469 - 4s - loss: 0.0085 - accuracy: 0.9972 - val_loss: 0.0357 - val_accuracy: 0.9918 - 4s/epoch - 9ms/step\n",
            "Epoch 19/30\n",
            "469/469 - 4s - loss: 0.0070 - accuracy: 0.9977 - val_loss: 0.0268 - val_accuracy: 0.9930 - 4s/epoch - 9ms/step\n",
            "Epoch 20/30\n",
            "469/469 - 4s - loss: 0.0068 - accuracy: 0.9977 - val_loss: 0.0256 - val_accuracy: 0.9939 - 4s/epoch - 9ms/step\n",
            "Epoch 21/30\n",
            "469/469 - 4s - loss: 0.0064 - accuracy: 0.9982 - val_loss: 0.0323 - val_accuracy: 0.9931 - 4s/epoch - 9ms/step\n",
            "Epoch 22/30\n",
            "469/469 - 4s - loss: 0.0058 - accuracy: 0.9980 - val_loss: 0.0300 - val_accuracy: 0.9942 - 4s/epoch - 9ms/step\n",
            "Epoch 23/30\n",
            "469/469 - 4s - loss: 0.0064 - accuracy: 0.9979 - val_loss: 0.0370 - val_accuracy: 0.9921 - 4s/epoch - 9ms/step\n",
            "Epoch 24/30\n",
            "469/469 - 4s - loss: 0.0069 - accuracy: 0.9979 - val_loss: 0.0296 - val_accuracy: 0.9926 - 4s/epoch - 9ms/step\n",
            "Epoch 25/30\n",
            "469/469 - 4s - loss: 0.0058 - accuracy: 0.9982 - val_loss: 0.0240 - val_accuracy: 0.9949 - 4s/epoch - 9ms/step\n",
            "Epoch 26/30\n",
            "469/469 - 4s - loss: 0.0040 - accuracy: 0.9986 - val_loss: 0.0328 - val_accuracy: 0.9938 - 4s/epoch - 9ms/step\n",
            "Epoch 27/30\n",
            "469/469 - 4s - loss: 0.0052 - accuracy: 0.9983 - val_loss: 0.0319 - val_accuracy: 0.9935 - 4s/epoch - 9ms/step\n",
            "Epoch 28/30\n",
            "469/469 - 4s - loss: 0.0055 - accuracy: 0.9981 - val_loss: 0.0479 - val_accuracy: 0.9914 - 4s/epoch - 9ms/step\n",
            "Epoch 29/30\n",
            "469/469 - 5s - loss: 0.0050 - accuracy: 0.9983 - val_loss: 0.0345 - val_accuracy: 0.9939 - 5s/epoch - 10ms/step\n",
            "Epoch 30/30\n",
            "469/469 - 4s - loss: 0.0053 - accuracy: 0.9982 - val_loss: 0.0355 - val_accuracy: 0.9922 - 4s/epoch - 9ms/step\n"
          ]
        }
      ]
    },
    {
      "cell_type": "code",
      "source": [
        "# 신경망 모델 정확률 평가\n",
        "res = cnn.evaluate(x_test,y_test)\n",
        "res"
      ],
      "metadata": {
        "colab": {
          "base_uri": "https://localhost:8080/"
        },
        "id": "b9LNw1wuFWau",
        "outputId": "4c89ccb3-bf41-4252-9f47-8a5dafb7079a"
      },
      "execution_count": null,
      "outputs": [
        {
          "output_type": "stream",
          "name": "stdout",
          "text": [
            "313/313 [==============================] - 1s 3ms/step - loss: 0.0355 - accuracy: 0.9922\n"
          ]
        },
        {
          "output_type": "execute_result",
          "data": {
            "text/plain": [
              "[0.03553520515561104, 0.9922000169754028]"
            ]
          },
          "metadata": {},
          "execution_count": 5
        }
      ]
    },
    {
      "cell_type": "code",
      "source": [
        "import seaborn as sns\n",
        "import matplotlib.pyplot as plt\n",
        "fig, ax = plt.subplots(1,2, figsize = (15,5))\n",
        "sns.lineplot(data = hist.history['accuracy'], ax=ax[0])\n",
        "sns.lineplot(data = hist.history['val_accuracy'], ax=ax[0])\n",
        "plt.legend(['accuracy', 'val_accuracy'])\n",
        "sns.lineplot(data = hist.history['loss'], ax=ax[1])\n",
        "sns.lineplot(data = hist.history['val_loss'], ax=ax[1])\n"
      ],
      "metadata": {
        "colab": {
          "base_uri": "https://localhost:8080/"
        },
        "id": "ZvNLH-bAF8Hm",
        "outputId": "7a2f5790-647a-48da-f4ac-3e701bb64a4f"
      },
      "execution_count": null,
      "outputs": [
        {
          "output_type": "execute_result",
          "data": {
            "text/plain": [
              "<matplotlib.axes._subplots.AxesSubplot at 0x7fe306969390>"
            ]
          },
          "metadata": {},
          "execution_count": 6
        },
        {
          "output_type": "display_data",
          "data": {
            "text/plain": [
              "<Figure size 1080x360 with 2 Axes>"
            ],
            "image/png": "[encoded data removed]"
          },
          "metadata": {
            "needs_background": "light"
          }
        }
      ]
    },
    {
      "cell_type": "code",
      "source": [
        "# 텐서플로에서 중요한 클래스 4\n",
        "# model\n",
        "# layers\n",
        "# loss\n",
        "# optimizer"
      ],
      "metadata": {
        "id": "CO5i_vzbGKIg"
      },
      "execution_count": null,
      "outputs": []
    },
    {
      "cell_type": "code",
      "source": [
        "# functional API 함수\n",
        "# 텐서가 흐르다가 중간에 여러재고 갈라지는 경우(출력이 여러개)\n",
        "# 시계열이나 생성모델에서 종종 발생\n"
      ],
      "metadata": {
        "id": "XQYutScpGTcg"
      },
      "execution_count": null,
      "outputs": []
    }
  ]
}