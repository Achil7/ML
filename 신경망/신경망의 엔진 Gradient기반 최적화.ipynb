{
 "cells": [
  {
   "cell_type": "code",
   "execution_count": 1,
   "id": "a805b147",
   "metadata": {},
   "outputs": [
    {
     "data": {
      "text/plain": [
       "<tf.Variable 'Variable:0' shape=() dtype=float32, numpy=0.0>"
      ]
     },
     "execution_count": 1,
     "metadata": {},
     "output_type": "execute_result"
    }
   ],
   "source": [
    "# 텐서플로의 Gradient 테이프\n",
    "import tensorflow as tf\n",
    "x = tf.Variable(0.)\n",
    "x"
   ]
  },
  {
   "cell_type": "code",
   "execution_count": 2,
   "id": "8834e893",
   "metadata": {},
   "outputs": [],
   "source": [
    "x = tf.Variable(tf.zeros(2,2))\n",
    "with tf.GradientTape() as tape:\n",
    "    y = 2*x+3\n",
    "grad_of_y_wrt_x = tape.gradient(x,y) "
   ]
  },
  {
   "cell_type": "code",
   "execution_count": 3,
   "id": "594a9569",
   "metadata": {},
   "outputs": [],
   "source": [
    "W = tf.Variable(tf.random.uniform((2,2))) # 가중치를 초기화\n",
    "b = tf.Variable(tf.zeros((2,)))\n",
    "x = tf.random.uniform((2,2))\n",
    "with tf.GradientTape() as tape:\n",
    "    y = tf.matmul(x,W) + b\n",
    "grad_of_y_wrt_W_and_b = tape.gradient(y,[W,b])"
   ]
  },
  {
   "cell_type": "code",
   "execution_count": 4,
   "id": "1ee7e03e",
   "metadata": {},
   "outputs": [
    {
     "data": {
      "text/plain": [
       "((60000, 784), (10000, 784))"
      ]
     },
     "execution_count": 4,
     "metadata": {},
     "output_type": "execute_result"
    }
   ],
   "source": [
    "# 데이터 로드\n",
    "from tensorflow.keras.datasets import mnist\n",
    "(x_train,y_train),(x_test,y_test) = mnist.load_data()\n",
    "x_train = x_train.astype('float32')/255.0\n",
    "x_test = x_test.astype('float32')/255.0\n",
    "\n",
    "x_train = x_train.reshape(x_train.shape[0],-1)\n",
    "x_test = x_test.reshape(x_test.shape[0],-1)\n",
    "x_train.shape, x_test.shape"
   ]
  },
  {
   "cell_type": "code",
   "execution_count": 5,
   "id": "de0c07a4",
   "metadata": {},
   "outputs": [],
   "source": [
    "model = tf.keras.Sequential([\n",
    "    tf.keras.layers.Dense(512,activation='relu'),\n",
    "    tf.keras.layers.Dense(10,activation='softmax')\n",
    "])"
   ]
  },
  {
   "cell_type": "code",
   "execution_count": 6,
   "id": "67ca4e82",
   "metadata": {},
   "outputs": [],
   "source": [
    "model.compile(optimizer='adam', loss=tf.keras.losses.sparse_categorical_crossentropy,\n",
    "             metrics=['acc'])"
   ]
  },
  {
   "cell_type": "code",
   "execution_count": 7,
   "id": "e6da1d19",
   "metadata": {},
   "outputs": [
    {
     "name": "stdout",
     "output_type": "stream",
     "text": [
      "Epoch 1/5\n",
      "469/469 [==============================] - 2s 3ms/step - loss: 0.2716 - acc: 0.9239\n",
      "Epoch 2/5\n",
      "469/469 [==============================] - 1s 3ms/step - loss: 0.1108 - acc: 0.9670\n",
      "Epoch 3/5\n",
      "469/469 [==============================] - 2s 3ms/step - loss: 0.0717 - acc: 0.9792\n",
      "Epoch 4/5\n",
      "469/469 [==============================] - 2s 3ms/step - loss: 0.0504 - acc: 0.9853\n",
      "Epoch 5/5\n",
      "469/469 [==============================] - 1s 3ms/step - loss: 0.0365 - acc: 0.9894\n"
     ]
    },
    {
     "data": {
      "text/plain": [
       "<keras.callbacks.History at 0x19d5e8da910>"
      ]
     },
     "execution_count": 7,
     "metadata": {},
     "output_type": "execute_result"
    }
   ],
   "source": [
    "model.fit(x_train,y_train, epochs=5, batch_size=128)"
   ]
  },
  {
   "cell_type": "code",
   "execution_count": 8,
   "id": "2e985579",
   "metadata": {},
   "outputs": [],
   "source": [
    "# 텐서플로우를 이용해서 위의 식을 구현해보기\n",
    "\n",
    "import tensorflow as tf\n",
    "\n",
    "class NaiveDense:\n",
    "    def __init__(self, input_size, output_size, activation):\n",
    "        self.activation = activation\n",
    "\n",
    "        w_shape = (input_size, output_size)\n",
    "        w_initial_value = tf.random.uniform(w_shape, minval=0, maxval=1e-1)\n",
    "        self.W = tf.Variable(w_initial_value)\n",
    "\n",
    "        b_shape = (output_size,)\n",
    "        b_initial_value = tf.zeros(b_shape)\n",
    "        self.b = tf.Variable(b_initial_value)\n",
    "\n",
    "    def __call__(self, inputs):\n",
    "        return self.activation(tf.matmul(inputs, self.W) + self.b)\n",
    "\n",
    "    @property\n",
    "    def weights(self):\n",
    "        return [self.W, self.b]"
   ]
  },
  {
   "cell_type": "code",
   "execution_count": 9,
   "id": "edc986d4",
   "metadata": {},
   "outputs": [],
   "source": [
    "class NaiveSequential:\n",
    "    def __init__(self, layers):\n",
    "        self.layers = layers\n",
    "\n",
    "    def __call__(self, inputs):\n",
    "        x = inputs\n",
    "        for layer in self.layers:\n",
    "            x = layer(x)\n",
    "        return x\n",
    "\n",
    "    @property\n",
    "    def weights(self):\n",
    "        weights = []\n",
    "        for layer in self.layers:\n",
    "            weights += layer.weights\n",
    "        return weights"
   ]
  },
  {
   "cell_type": "code",
   "execution_count": 10,
   "id": "dc0c9548",
   "metadata": {},
   "outputs": [],
   "source": [
    "model = NaiveSequential([\n",
    "    NaiveDense(input_size=28 * 28, output_size=512, activation=tf.nn.relu),\n",
    "    NaiveDense(input_size=512, output_size=10, activation=tf.nn.softmax)\n",
    "])\n",
    "assert len(model.weights) == 4"
   ]
  },
  {
   "cell_type": "code",
   "execution_count": 11,
   "id": "e1f678b2",
   "metadata": {},
   "outputs": [],
   "source": [
    "#배치 제너레이터\n",
    "import math\n",
    "\n",
    "class BatchGenerator:\n",
    "    def __init__(self, images, labels, batch_size=128):\n",
    "        assert len(images) == len(labels)\n",
    "        self.index = 0\n",
    "        self.images = images\n",
    "        self.labels = labels\n",
    "        self.batch_size = batch_size\n",
    "        self.num_batches = math.ceil(len(images) / batch_size)\n",
    "\n",
    "    def next(self):\n",
    "        images = self.images[self.index : self.index + self.batch_size]\n",
    "        labels = self.labels[self.index : self.index + self.batch_size]\n",
    "        self.index += self.batch_size\n",
    "        return images, labels"
   ]
  },
  {
   "cell_type": "code",
   "execution_count": 12,
   "id": "5bacf70f",
   "metadata": {},
   "outputs": [],
   "source": [
    "# 훈련스텝 실행\n",
    "def one_training_step(model, images_batch, labels_batch):\n",
    "    with tf.GradientTape() as tape:\n",
    "        predictions = model(images_batch)\n",
    "        per_sample_losses = tf.keras.losses.sparse_categorical_crossentropy(\n",
    "            labels_batch, predictions)\n",
    "        average_loss = tf.reduce_mean(per_sample_losses)\n",
    "    gradients = tape.gradient(average_loss, model.weights)\n",
    "    update_weights(gradients, model.weights)\n",
    "    return average_loss"
   ]
  },
  {
   "cell_type": "code",
   "execution_count": 13,
   "id": "92f769d2",
   "metadata": {},
   "outputs": [],
   "source": [
    "# 가중치 업데이트\n",
    "learning_rate = 1e-3\n",
    "\n",
    "def update_weights(gradients, weights):\n",
    "    for g, w in zip(gradients, weights):\n",
    "        w.assign_sub(g * learning_rate)"
   ]
  },
  {
   "cell_type": "code",
   "execution_count": 14,
   "id": "c4fb4f34",
   "metadata": {},
   "outputs": [],
   "source": [
    "# 옵티마이저\n",
    "from tensorflow.keras import optimizers\n",
    "\n",
    "optimizer = optimizers.SGD(learning_rate=1e-3)\n",
    "\n",
    "def update_weights(gradients, weights):\n",
    "    optimizer.apply_gradients(zip(gradients, weights))"
   ]
  },
  {
   "cell_type": "code",
   "execution_count": 15,
   "id": "57ee4a4a",
   "metadata": {},
   "outputs": [],
   "source": [
    "# 훈련\n",
    "def fit(model, images, labels, epochs, batch_size=128):\n",
    "    for epoch_counter in range(epochs):\n",
    "        print(f\"에포크 {epoch_counter}\")\n",
    "        batch_generator = BatchGenerator(images, labels)\n",
    "        for batch_counter in range(batch_generator.num_batches):\n",
    "            images_batch, labels_batch = batch_generator.next()\n",
    "            loss = one_training_step(model, images_batch, labels_batch)\n",
    "            if batch_counter % 100 == 0:\n",
    "                print(f\"{batch_counter}번째 배치 손실: {loss:.2f}\")"
   ]
  },
  {
   "cell_type": "code",
   "execution_count": 16,
   "id": "7021af6f",
   "metadata": {},
   "outputs": [
    {
     "name": "stdout",
     "output_type": "stream",
     "text": [
      "에포크 0\n",
      "0번째 배치 손실: 4.79\n",
      "100번째 배치 손실: 2.22\n",
      "200번째 배치 손실: 2.22\n",
      "300번째 배치 손실: 2.06\n",
      "400번째 배치 손실: 2.26\n",
      "에포크 1\n",
      "0번째 배치 손실: 1.90\n",
      "100번째 배치 손실: 1.87\n",
      "200번째 배치 손실: 1.84\n",
      "300번째 배치 손실: 1.68\n",
      "400번째 배치 손실: 1.85\n",
      "에포크 2\n",
      "0번째 배치 손실: 1.58\n",
      "100번째 배치 손실: 1.57\n",
      "200번째 배치 손실: 1.51\n",
      "300번째 배치 손실: 1.39\n",
      "400번째 배치 손실: 1.52\n",
      "에포크 3\n",
      "0번째 배치 손실: 1.32\n",
      "100번째 배치 손실: 1.33\n",
      "200번째 배치 손실: 1.24\n",
      "300번째 배치 손실: 1.18\n",
      "400번째 배치 손실: 1.28\n",
      "에포크 4\n",
      "0번째 배치 손실: 1.12\n",
      "100번째 배치 손실: 1.15\n",
      "200번째 배치 손실: 1.04\n",
      "300번째 배치 손실: 1.02\n",
      "400번째 배치 손실: 1.11\n",
      "에포크 5\n",
      "0번째 배치 손실: 0.97\n",
      "100번째 배치 손실: 1.01\n",
      "200번째 배치 손실: 0.90\n",
      "300번째 배치 손실: 0.90\n",
      "400번째 배치 손실: 0.99\n",
      "에포크 6\n",
      "0번째 배치 손실: 0.87\n",
      "100번째 배치 손실: 0.90\n",
      "200번째 배치 손실: 0.80\n",
      "300번째 배치 손실: 0.81\n",
      "400번째 배치 손실: 0.90\n",
      "에포크 7\n",
      "0번째 배치 손실: 0.78\n",
      "100번째 배치 손실: 0.82\n",
      "200번째 배치 손실: 0.72\n",
      "300번째 배치 손실: 0.74\n",
      "400번째 배치 손실: 0.83\n",
      "에포크 8\n",
      "0번째 배치 손실: 0.72\n",
      "100번째 배치 손실: 0.75\n",
      "200번째 배치 손실: 0.66\n",
      "300번째 배치 손실: 0.69\n",
      "400번째 배치 손실: 0.78\n",
      "에포크 9\n",
      "0번째 배치 손실: 0.67\n",
      "100번째 배치 손실: 0.70\n",
      "200번째 배치 손실: 0.61\n",
      "300번째 배치 손실: 0.65\n",
      "400번째 배치 손실: 0.74\n"
     ]
    }
   ],
   "source": [
    "fit(model, x_train,y_train, epochs=10, batch_size=128)"
   ]
  },
  {
   "cell_type": "code",
   "execution_count": 17,
   "id": "e88272af",
   "metadata": {},
   "outputs": [
    {
     "name": "stdout",
     "output_type": "stream",
     "text": [
      "정확도:0.82\n"
     ]
    }
   ],
   "source": [
    "# 모델평가하기\n",
    "import numpy as np\n",
    "predictions = model(x_test)\n",
    "predictions = predictions.numpy()\n",
    "predicted_labels = np.argmax(predictions,axis=1)\n",
    "matches = predicted_labels == y_test\n",
    "print(f\"정확도:{matches.mean():.2f}\")"
   ]
  }
 ],
 "metadata": {
  "kernelspec": {
   "display_name": "Python 3 (ipykernel)",
   "language": "python",
   "name": "python3"
  },
  "language_info": {
   "codemirror_mode": {
    "name": "ipython",
    "version": 3
   },
   "file_extension": ".py",
   "mimetype": "text/x-python",
   "name": "python",
   "nbconvert_exporter": "python",
   "pygments_lexer": "ipython3",
   "version": "3.9.7"
  }
 },
 "nbformat": 4,
 "nbformat_minor": 5
}
