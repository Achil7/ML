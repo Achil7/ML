{
 "cells": [
  {
   "cell_type": "code",
   "execution_count": 1,
   "id": "2ae6ed98",
   "metadata": {},
   "outputs": [],
   "source": [
    "from tensorflow.keras.datasets import mnist\n",
    "(x_train,y_train),(x_test,y_test) = mnist.load_data()"
   ]
  },
  {
   "cell_type": "code",
   "execution_count": 2,
   "id": "17c7ffbb",
   "metadata": {},
   "outputs": [
    {
     "data": {
      "text/plain": [
       "((60000, 28, 28), (60000,))"
      ]
     },
     "execution_count": 2,
     "metadata": {},
     "output_type": "execute_result"
    }
   ],
   "source": [
    "x_train.shape,y_train.shape"
   ]
  },
  {
   "cell_type": "code",
   "execution_count": 3,
   "id": "ea0a6e4d",
   "metadata": {},
   "outputs": [],
   "source": [
    "# 신경망 구조\n",
    "from tensorflow import keras\n",
    "from tensorflow.keras import layers\n",
    "model = keras.Sequential([\n",
    "    layers.Dense(512,activation = 'relu',input_shape=(28*28,)),\n",
    "    layers.Dense(10,activation = 'softmax')\n",
    "])"
   ]
  },
  {
   "cell_type": "code",
   "execution_count": 4,
   "id": "636f260d",
   "metadata": {},
   "outputs": [
    {
     "data": {
      "text/plain": [
       "((60000, 784), (10000, 784))"
      ]
     },
     "execution_count": 4,
     "metadata": {},
     "output_type": "execute_result"
    }
   ],
   "source": [
    "x_train = x_train.astype('float32') / 255.0\n",
    "x_test = x_test.astype('float32') / 255.0\n",
    "x_train = x_train.reshape(x_train.shape[0],-1)\n",
    "x_test = x_test.reshape(x_test.shape[0],-1)\n",
    "x_train.shape,x_test.shape"
   ]
  },
  {
   "cell_type": "code",
   "execution_count": 5,
   "id": "74b29a4a",
   "metadata": {},
   "outputs": [
    {
     "name": "stdout",
     "output_type": "stream",
     "text": [
      "Epoch 1/5\n",
      "469/469 [==============================] - 2s 3ms/step - loss: 0.2640 - accuracy: 0.9259\n",
      "Epoch 2/5\n",
      "469/469 [==============================] - 1s 3ms/step - loss: 0.1081 - accuracy: 0.9686\n",
      "Epoch 3/5\n",
      "469/469 [==============================] - 1s 3ms/step - loss: 0.0702 - accuracy: 0.9793\n",
      "Epoch 4/5\n",
      "469/469 [==============================] - 1s 3ms/step - loss: 0.0515 - accuracy: 0.9845\n",
      "Epoch 5/5\n",
      "469/469 [==============================] - 1s 3ms/step - loss: 0.0363 - accuracy: 0.9895\n"
     ]
    },
    {
     "data": {
      "text/plain": [
       "<keras.callbacks.History at 0x26c262f9c40>"
      ]
     },
     "execution_count": 5,
     "metadata": {},
     "output_type": "execute_result"
    }
   ],
   "source": [
    "#모델 훈련\n",
    "import tensorflow as tf\n",
    "model.compile(optimizer='Adam',loss=tf.keras.losses.sparse_categorical_crossentropy ,metrics=['accuracy'])\n",
    "model.fit(x_train,y_train,epochs=5,batch_size=128)"
   ]
  },
  {
   "cell_type": "code",
   "execution_count": 6,
   "id": "1a577e64",
   "metadata": {},
   "outputs": [
    {
     "data": {
      "text/plain": [
       "7"
      ]
     },
     "execution_count": 6,
     "metadata": {},
     "output_type": "execute_result"
    }
   ],
   "source": [
    "# 모델 예측\n",
    "import numpy as np\n",
    "x_test10 = x_test[:10]\n",
    "predction = model.predict(x_test10)\n",
    "np.argmax(predction[0])"
   ]
  },
  {
   "cell_type": "code",
   "execution_count": 7,
   "id": "c2dff8ba",
   "metadata": {},
   "outputs": [
    {
     "data": {
      "text/plain": [
       "7"
      ]
     },
     "execution_count": 7,
     "metadata": {},
     "output_type": "execute_result"
    }
   ],
   "source": [
    "y_test[0]"
   ]
  },
  {
   "cell_type": "code",
   "execution_count": 8,
   "id": "4fa68048",
   "metadata": {},
   "outputs": [
    {
     "data": {
      "text/plain": [
       "0.9976427"
      ]
     },
     "execution_count": 8,
     "metadata": {},
     "output_type": "execute_result"
    }
   ],
   "source": [
    "predction[0][7]"
   ]
  },
  {
   "cell_type": "code",
   "execution_count": 9,
   "id": "9c69dca8",
   "metadata": {},
   "outputs": [
    {
     "name": "stdout",
     "output_type": "stream",
     "text": [
      "313/313 [==============================] - 0s 996us/step - loss: 0.0631 - accuracy: 0.9794\n"
     ]
    },
    {
     "data": {
      "text/plain": [
       "[0.0631118193268776, 0.9793999791145325]"
      ]
     },
     "execution_count": 9,
     "metadata": {},
     "output_type": "execute_result"
    }
   ],
   "source": [
    "model.evaluate(x_test,y_test)"
   ]
  },
  {
   "cell_type": "code",
   "execution_count": 10,
   "id": "8f483ca6",
   "metadata": {},
   "outputs": [],
   "source": [
    "# 평가 교차알고리즘 KFold\n",
    "from sklearn.model_selection import KFold"
   ]
  },
  {
   "cell_type": "code",
   "execution_count": 11,
   "id": "59b3939e",
   "metadata": {},
   "outputs": [
    {
     "name": "stdout",
     "output_type": "stream",
     "text": [
      "Epoch 1/5\n",
      "469/469 [==============================] - 2s 3ms/step - loss: 0.2730 - accuracy: 0.9221\n",
      "Epoch 2/5\n",
      "469/469 [==============================] - 1s 3ms/step - loss: 0.1104 - accuracy: 0.9672\n",
      "Epoch 3/5\n",
      "469/469 [==============================] - 1s 3ms/step - loss: 0.0717 - accuracy: 0.9787\n",
      "Epoch 4/5\n",
      "469/469 [==============================] - 1s 3ms/step - loss: 0.0502 - accuracy: 0.9850\n",
      "Epoch 5/5\n",
      "469/469 [==============================] - 1s 3ms/step - loss: 0.0374 - accuracy: 0.9893\n",
      "313/313 [==============================] - 0s 1ms/step - loss: 0.0607 - accuracy: 0.9808\n",
      "Epoch 1/5\n",
      "469/469 [==============================] - 2s 3ms/step - loss: 0.2662 - accuracy: 0.9245\n",
      "Epoch 2/5\n",
      "469/469 [==============================] - 1s 3ms/step - loss: 0.1088 - accuracy: 0.9678\n",
      "Epoch 3/5\n",
      "469/469 [==============================] - 1s 3ms/step - loss: 0.0706 - accuracy: 0.9792\n",
      "Epoch 4/5\n",
      "469/469 [==============================] - 1s 3ms/step - loss: 0.0503 - accuracy: 0.9850\n",
      "Epoch 5/5\n",
      "469/469 [==============================] - 1s 3ms/step - loss: 0.0362 - accuracy: 0.9894\n",
      "313/313 [==============================] - 0s 1ms/step - loss: 0.0683 - accuracy: 0.9781\n",
      "Epoch 1/5\n",
      "469/469 [==============================] - 2s 3ms/step - loss: 0.2667 - accuracy: 0.9245\n",
      "Epoch 2/5\n",
      "469/469 [==============================] - 1s 3ms/step - loss: 0.1089 - accuracy: 0.9678\n",
      "Epoch 3/5\n",
      "469/469 [==============================] - 1s 3ms/step - loss: 0.0710 - accuracy: 0.9796\n",
      "Epoch 4/5\n",
      "469/469 [==============================] - 1s 3ms/step - loss: 0.0500 - accuracy: 0.9855\n",
      "Epoch 5/5\n",
      "469/469 [==============================] - 1s 3ms/step - loss: 0.0371 - accuracy: 0.9890\n",
      "313/313 [==============================] - 0s 1ms/step - loss: 0.0671 - accuracy: 0.9785\n",
      "Epoch 1/5\n",
      "469/469 [==============================] - 2s 3ms/step - loss: 0.2637 - accuracy: 0.9254\n",
      "Epoch 2/5\n",
      "469/469 [==============================] - 1s 3ms/step - loss: 0.1087 - accuracy: 0.9679\n",
      "Epoch 3/5\n",
      "469/469 [==============================] - 1s 3ms/step - loss: 0.0710 - accuracy: 0.9791\n",
      "Epoch 4/5\n",
      "469/469 [==============================] - 1s 3ms/step - loss: 0.0506 - accuracy: 0.9852\n",
      "Epoch 5/5\n",
      "469/469 [==============================] - 1s 3ms/step - loss: 0.0356 - accuracy: 0.9897\n",
      "313/313 [==============================] - 0s 1ms/step - loss: 0.0635 - accuracy: 0.9807: 0s - loss: 0.0616 - accuracy: 0.98\n",
      "Epoch 1/5\n",
      "469/469 [==============================] - 2s 3ms/step - loss: 0.2622 - accuracy: 0.9252\n",
      "Epoch 2/5\n",
      "469/469 [==============================] - 1s 3ms/step - loss: 0.1079 - accuracy: 0.9682\n",
      "Epoch 3/5\n",
      "469/469 [==============================] - 1s 3ms/step - loss: 0.0708 - accuracy: 0.9793\n",
      "Epoch 4/5\n",
      "469/469 [==============================] - 1s 3ms/step - loss: 0.0505 - accuracy: 0.9850\n",
      "Epoch 5/5\n",
      "469/469 [==============================] - 1s 3ms/step - loss: 0.0375 - accuracy: 0.9889\n",
      "313/313 [==============================] - 0s 1ms/step - loss: 0.0653 - accuracy: 0.9809\n"
     ]
    }
   ],
   "source": [
    "accuracy = []\n",
    "for tindex, vindex in  KFold().split(x_train):\n",
    "    x_tr,x_val =  x_train[tindex],x_train[vindex]\n",
    "    y_tr,y_val =  y_train[tindex],y_train[vindex]\n",
    "    \n",
    "    model = keras.Sequential([\n",
    "        layers.Dense(512,activation = 'relu',input_shape=(28*28,)),\n",
    "        layers.Dense(10,activation = 'softmax')\n",
    "    ])\n",
    "    model.compile(optimizer='Adam',loss=tf.keras.losses.sparse_categorical_crossentropy ,metrics=['accuracy'])\n",
    "    model.fit(x_train,y_train,epochs=5,batch_size=128)\n",
    "    accuracy.append( model.evaluate(x_test,y_test)[1])    "
   ]
  },
  {
   "cell_type": "code",
   "execution_count": 12,
   "id": "6dc785bf",
   "metadata": {},
   "outputs": [
    {
     "data": {
      "text/plain": [
       "0.979799997806549"
      ]
     },
     "execution_count": 12,
     "metadata": {},
     "output_type": "execute_result"
    }
   ],
   "source": [
    "np.array(accuracy).mean()"
   ]
  },
  {
   "cell_type": "code",
   "execution_count": 13,
   "id": "ea81fede",
   "metadata": {},
   "outputs": [
    {
     "data": {
      "text/plain": [
       "((), array(12), 0)"
      ]
     },
     "execution_count": 13,
     "metadata": {},
     "output_type": "execute_result"
    }
   ],
   "source": [
    "# 신경망에서 사용하는 데이터\n",
    "# 스칼라(랭크-0 텐서)\n",
    "x = np.array(12)\n",
    "x.shape, x, x.ndim"
   ]
  },
  {
   "cell_type": "code",
   "execution_count": 14,
   "id": "0af8667d",
   "metadata": {},
   "outputs": [
    {
     "data": {
      "text/plain": [
       "(array([1, 2, 3, 4]), (4,), 1)"
      ]
     },
     "execution_count": 14,
     "metadata": {},
     "output_type": "execute_result"
    }
   ],
   "source": [
    "# 벡터(랭크-1 텐서)\n",
    "x = np.array([1,2,3,4])\n",
    "x, x.shape, x.ndim"
   ]
  },
  {
   "cell_type": "code",
   "execution_count": 15,
   "id": "a92cb571",
   "metadata": {},
   "outputs": [
    {
     "data": {
      "text/plain": [
       "(array([[1, 2, 3, 4],\n",
       "        [1, 2, 3, 4]]),\n",
       " (2, 4),\n",
       " 2)"
      ]
     },
     "execution_count": 15,
     "metadata": {},
     "output_type": "execute_result"
    }
   ],
   "source": [
    "# 행렬(랭크-2 텐서)\n",
    "x = np.array([[1,2,3,4],[1,2,3,4]])\n",
    "x, x.shape, x.ndim"
   ]
  },
  {
   "cell_type": "code",
   "execution_count": 16,
   "id": "bed19f85",
   "metadata": {},
   "outputs": [
    {
     "data": {
      "text/plain": [
       "(array([[[1, 2, 3, 4],\n",
       "         [1, 2, 3, 4]],\n",
       " \n",
       "        [[1, 2, 3, 4],\n",
       "         [1, 2, 3, 4]]]),\n",
       " (2, 2, 4),\n",
       " 3)"
      ]
     },
     "execution_count": 16,
     "metadata": {},
     "output_type": "execute_result"
    }
   ],
   "source": [
    "# 랭크-3 텐서\n",
    "x = np.array([[[1,2,3,4],[1,2,3,4]],[[1,2,3,4],[1,2,3,4]]])\n",
    "x, x.shape, x.ndim"
   ]
  },
  {
   "cell_type": "code",
   "execution_count": 17,
   "id": "8f434e33",
   "metadata": {},
   "outputs": [
    {
     "data": {
      "text/plain": [
       "3"
      ]
     },
     "execution_count": 17,
     "metadata": {},
     "output_type": "execute_result"
    }
   ],
   "source": [
    "(x_train,y_train),(x_test,y_test)=mnist.load_data()\n",
    "x_train.ndim"
   ]
  },
  {
   "cell_type": "code",
   "execution_count": 18,
   "id": "5ca02af7",
   "metadata": {},
   "outputs": [
    {
     "data": {
      "image/png": "[encoded data removed]",
      "text/plain": [
       "<Figure size 432x288 with 1 Axes>"
      ]
     },
     "metadata": {
      "needs_background": "light"
     },
     "output_type": "display_data"
    }
   ],
   "source": [
    "import matplotlib.pyplot as plt\n",
    "plt.imshow(x_train[0],cmap='gray_r')\n",
    "plt.axis('off')\n",
    "plt.show()"
   ]
  },
  {
   "cell_type": "code",
   "execution_count": 19,
   "id": "f3c90a3a",
   "metadata": {},
   "outputs": [
    {
     "data": {
      "text/plain": [
       "5"
      ]
     },
     "execution_count": 19,
     "metadata": {},
     "output_type": "execute_result"
    }
   ],
   "source": [
    "y_train[0]"
   ]
  },
  {
   "cell_type": "code",
   "execution_count": 20,
   "id": "5712b166",
   "metadata": {},
   "outputs": [
    {
     "data": {
      "text/plain": [
       "(60000, 28, 28)"
      ]
     },
     "execution_count": 20,
     "metadata": {},
     "output_type": "execute_result"
    }
   ],
   "source": [
    "x_train.shape"
   ]
  },
  {
   "cell_type": "code",
   "execution_count": 21,
   "id": "a626ca15",
   "metadata": {},
   "outputs": [
    {
     "data": {
      "text/plain": [
       "(10, 28, 28)"
      ]
     },
     "execution_count": 21,
     "metadata": {},
     "output_type": "execute_result"
    }
   ],
   "source": [
    "x_train10 = x_train[:10]\n",
    "x_train10.shape"
   ]
  },
  {
   "cell_type": "code",
   "execution_count": 22,
   "id": "24beca3b",
   "metadata": {},
   "outputs": [
    {
     "data": {
      "text/plain": [
       "(10, 28, 28)"
      ]
     },
     "execution_count": 22,
     "metadata": {},
     "output_type": "execute_result"
    }
   ],
   "source": [
    "x_train10 = x_train[:10,:,:]\n",
    "x_train10.shape"
   ]
  },
  {
   "cell_type": "code",
   "execution_count": 23,
   "id": "e90c4f04",
   "metadata": {},
   "outputs": [
    {
     "data": {
      "text/plain": [
       "(10, 14, 14)"
      ]
     },
     "execution_count": 23,
     "metadata": {},
     "output_type": "execute_result"
    }
   ],
   "source": [
    "x_train10 = x_train[:10,:14,:14]\n",
    "x_train10.shape"
   ]
  },
  {
   "cell_type": "code",
   "execution_count": 24,
   "id": "c47b5357",
   "metadata": {},
   "outputs": [
    {
     "data": {
      "text/plain": [
       "(10, 18, 18)"
      ]
     },
     "execution_count": 24,
     "metadata": {},
     "output_type": "execute_result"
    }
   ],
   "source": [
    "x_train10 = x_train[:10,:-10,:-10]\n",
    "x_train10.shape"
   ]
  },
  {
   "cell_type": "code",
   "execution_count": 25,
   "id": "3c0abf8a",
   "metadata": {},
   "outputs": [
    {
     "data": {
      "text/plain": [
       "(128, 28, 28)"
      ]
     },
     "execution_count": 25,
     "metadata": {},
     "output_type": "execute_result"
    }
   ],
   "source": [
    "# 배치 개념\n",
    "batch = x_train[:128]\n",
    "batch.shape"
   ]
  },
  {
   "cell_type": "code",
   "execution_count": 26,
   "id": "3b7ce7fc",
   "metadata": {},
   "outputs": [
    {
     "data": {
      "text/plain": [
       "(128, 28, 28)"
      ]
     },
     "execution_count": 26,
     "metadata": {},
     "output_type": "execute_result"
    }
   ],
   "source": [
    "batch = x_train[128:128*2]\n",
    "batch.shape"
   ]
  },
  {
   "cell_type": "code",
   "execution_count": 27,
   "id": "78d4fd31",
   "metadata": {},
   "outputs": [],
   "source": [
    "n = 3\n",
    "batch = x_train[128*n:128*(n+1)]"
   ]
  },
  {
   "cell_type": "code",
   "execution_count": 28,
   "id": "a60765c9",
   "metadata": {},
   "outputs": [],
   "source": [
    "# 신경망이 학습한 모든 변환을  수치 데이터 텐서에 적용하는 텐서 연산으로 나타낼수 있다\n",
    "# 케라스의 층은\n",
    "# tf.keras.layers.Dense(512,activation='relu')\n",
    "# output = relu(dot(w,input) + b)"
   ]
  },
  {
   "cell_type": "code",
   "execution_count": 29,
   "id": "89cde696",
   "metadata": {},
   "outputs": [],
   "source": [
    "x = np.array([[-2,-1,0,1,2],[1,1,1,1,1]])"
   ]
  },
  {
   "cell_type": "code",
   "execution_count": 30,
   "id": "d6283aec",
   "metadata": {},
   "outputs": [],
   "source": [
    "# 원소별 연산\n",
    "def naive_relu(x):\n",
    "    assert len(x.shape) == 2  \n",
    "    x = x.copy()\n",
    "    for i in range(x.shape[0]):\n",
    "        for j in range(x.shape[1]):\n",
    "            x[i,j] = max(x[i,j],0)\n",
    "    return x"
   ]
  },
  {
   "cell_type": "code",
   "execution_count": 31,
   "id": "49165603",
   "metadata": {},
   "outputs": [
    {
     "name": "stdout",
     "output_type": "stream",
     "text": [
      "걸린시간 0.0\n"
     ]
    }
   ],
   "source": [
    "def naive_add(x, y):\n",
    "    assert len(x.shape) == 2\n",
    "    assert x.shape == y.shape\n",
    "    x = x.copy()\n",
    "    for i in range(x.shape[0]):\n",
    "        for j in range(x.shape[1]):\n",
    "            x[i,j] += y[i,y]\n",
    "    return x\n",
    "import time\n",
    "x = np.random.random((20,100))\n",
    "y = np.random.random((20,100))\n",
    "t0 = time.time()\n",
    "for i in range(1000):\n",
    "    z = x + y\n",
    "    z = np.maximum(z,0)\n",
    "print(f\"걸린시간 {time.time()-t0}\")    "
   ]
  },
  {
   "cell_type": "code",
   "execution_count": 32,
   "id": "fbba42d5",
   "metadata": {},
   "outputs": [
    {
     "name": "stdout",
     "output_type": "stream",
     "text": [
      "걸린시간 0.9744362831115723\n"
     ]
    }
   ],
   "source": [
    "for i in range(1000):\n",
    "    z = x + y\n",
    "    z = naive_relu(z)\n",
    "print(f\"걸린시간 {time.time()-t0}\")    "
   ]
  },
  {
   "cell_type": "code",
   "execution_count": 33,
   "id": "4e6e91c9",
   "metadata": {},
   "outputs": [
    {
     "data": {
      "text/plain": [
       "array([[0.10901446, 0.04285068, 0.05137637, 0.08437423, 0.02898823,\n",
       "        0.27317982, 0.9067236 , 0.12003286, 0.26500255, 0.1574388 ]])"
      ]
     },
     "execution_count": 33,
     "metadata": {},
     "output_type": "execute_result"
    }
   ],
   "source": [
    "# 브로드 캐스팅\n",
    "import numpy as np\n",
    "x = np.random.random((32,10))\n",
    "y = np.random.random((10,))\n",
    "y = np.expand_dims(y, axis=0)\n",
    "# y.shape\n",
    "y"
   ]
  },
  {
   "cell_type": "code",
   "execution_count": 34,
   "id": "be9c71b1",
   "metadata": {},
   "outputs": [],
   "source": [
    "y = np.concatenate([y]*32,axis = 0)"
   ]
  },
  {
   "cell_type": "code",
   "execution_count": 35,
   "id": "a0200962",
   "metadata": {},
   "outputs": [
    {
     "data": {
      "text/plain": [
       "((32, 10), (32, 10))"
      ]
     },
     "execution_count": 35,
     "metadata": {},
     "output_type": "execute_result"
    }
   ],
   "source": [
    "x.shape, y.shape"
   ]
  },
  {
   "cell_type": "code",
   "execution_count": 36,
   "id": "b78750a4",
   "metadata": {},
   "outputs": [],
   "source": [
    "#브로드 케스팅\n",
    "def niave_add_matrix_and_vector(x,y):\n",
    "    assert len(x.shape) == 2    \n",
    "    assert len(x.shape) == 1\n",
    "    assert x.shape[1] == y.shape[0]\n",
    "    x = x.copy()\n",
    "    for i in range(x.shape[0]):\n",
    "        for j in range(x.shape[1]):\n",
    "            x[i,j] += y[j]\n",
    "    return x"
   ]
  },
  {
   "cell_type": "code",
   "execution_count": 37,
   "id": "eb17ad28",
   "metadata": {},
   "outputs": [
    {
     "data": {
      "text/plain": [
       "((64, 3, 32, 10), (32, 10), (64, 3, 32, 10))"
      ]
     },
     "execution_count": 37,
     "metadata": {},
     "output_type": "execute_result"
    }
   ],
   "source": [
    "x = np.random.random((64,3,32,10))\n",
    "y = np.random.random((32,10))\n",
    "z = np.maximum(x,y)\n",
    "x.shape, y.shape, z.shape"
   ]
  },
  {
   "cell_type": "code",
   "execution_count": 38,
   "id": "c8f0493d",
   "metadata": {},
   "outputs": [
    {
     "data": {
      "text/plain": [
       "((64, 3, 32, 10), (32, 10))"
      ]
     },
     "execution_count": 38,
     "metadata": {},
     "output_type": "execute_result"
    }
   ],
   "source": [
    "x.shape, y.shape"
   ]
  },
  {
   "cell_type": "code",
   "execution_count": 39,
   "id": "3d0faa44",
   "metadata": {},
   "outputs": [
    {
     "data": {
      "text/plain": [
       "(array([10, 20]), array([2, 3]))"
      ]
     },
     "execution_count": 39,
     "metadata": {},
     "output_type": "execute_result"
    }
   ],
   "source": [
    "x = np.array([10,20])\n",
    "y = np.array([2,3])\n",
    "x, y"
   ]
  },
  {
   "cell_type": "code",
   "execution_count": 40,
   "id": "895a87bd",
   "metadata": {},
   "outputs": [
    {
     "data": {
      "text/plain": [
       "80"
      ]
     },
     "execution_count": 40,
     "metadata": {},
     "output_type": "execute_result"
    }
   ],
   "source": [
    "np.dot(x,y)"
   ]
  },
  {
   "cell_type": "code",
   "execution_count": 41,
   "id": "2f9d04b3",
   "metadata": {},
   "outputs": [],
   "source": [
    "# 내적연산 dot  각 요소들끼리 곱한 결과를 합\n",
    "def naive_vector_dot(x,y):\n",
    "    assert len(x.shape) == 1\n",
    "    assert len(y.shape) == 1\n",
    "    assert x.shape[0] == y.shape[0]\n",
    "    z = 0\n",
    "    for i in range(x.shape[0]):\n",
    "        z += x[i]*y[i]\n",
    "    return z"
   ]
  },
  {
   "cell_type": "code",
   "execution_count": 42,
   "id": "28b31629",
   "metadata": {},
   "outputs": [],
   "source": [
    "def naive_matrix_vector_dot(x,y):\n",
    "    assert len(x.shape) == 2\n",
    "    assert len(y.shape) == 1\n",
    "    assert x.shape[1] == y.shape[0]\n",
    "    z = np.zeros(x.shape[0])\n",
    "    for i in range(x.shape[0]):\n",
    "        for j in ranage(x.shape[1]):\n",
    "            z[i] += x[i,j]*y[j] \n",
    "    return z"
   ]
  },
  {
   "cell_type": "code",
   "execution_count": 43,
   "id": "d0737161",
   "metadata": {},
   "outputs": [
    {
     "data": {
      "text/plain": [
       "((2, 2), (2,))"
      ]
     },
     "execution_count": 43,
     "metadata": {},
     "output_type": "execute_result"
    }
   ],
   "source": [
    "x = np.array([[1,2],[3,4]])\n",
    "y = np.array([2,3])\n",
    "x.shape, y.shape"
   ]
  },
  {
   "cell_type": "code",
   "execution_count": 44,
   "id": "6c3dcb9e",
   "metadata": {},
   "outputs": [],
   "source": [
    "def naive_matrix_vector_dot(x,y):\n",
    "    z = np.zeros(x.shape[0])\n",
    "    for i in range(x.shape[0]):\n",
    "        z[i] = naive_vector_dot(x[i,:],y)\n",
    "    return z"
   ]
  },
  {
   "cell_type": "code",
   "execution_count": 45,
   "id": "46a162cc",
   "metadata": {},
   "outputs": [
    {
     "data": {
      "text/plain": [
       "array([[ 7, 10],\n",
       "       [15, 22]])"
      ]
     },
     "execution_count": 45,
     "metadata": {},
     "output_type": "execute_result"
    }
   ],
   "source": [
    "x = np.array([[1,2],[3,4]])\n",
    "y = np.array([[1,2],[3,4]])\n",
    "np.dot(x,y)"
   ]
  },
  {
   "cell_type": "code",
   "execution_count": 46,
   "id": "52e333bb",
   "metadata": {},
   "outputs": [],
   "source": [
    "def naive_matrix_dot(x,y):\n",
    "    assert len(x.shape) == 2\n",
    "    assert len(y.shape) == 2\n",
    "    assert x.shape[1] == y.shape[0]\n",
    "    z = np.zeros((x.shape[0], x.shape[1]) )\n",
    "    for i in range(x.shape[0]):\n",
    "        for j in range(y.shape[1]):\n",
    "            row_x = x[i,:]\n",
    "            col_y = y[:,j]\n",
    "            z[i,j] =  naive_vector_dot(row_x, col_y)\n",
    "    return z"
   ]
  },
  {
   "cell_type": "code",
   "execution_count": 47,
   "id": "44112593",
   "metadata": {},
   "outputs": [
    {
     "data": {
      "text/plain": [
       "(60000, 28, 28)"
      ]
     },
     "execution_count": 47,
     "metadata": {},
     "output_type": "execute_result"
    }
   ],
   "source": [
    "x_train.shape"
   ]
  },
  {
   "cell_type": "code",
   "execution_count": 48,
   "id": "1da4249d",
   "metadata": {},
   "outputs": [
    {
     "data": {
      "text/plain": [
       "array([[0, 0, 0, ..., 0, 0, 0],\n",
       "       [0, 0, 0, ..., 0, 0, 0],\n",
       "       [0, 0, 0, ..., 0, 0, 0],\n",
       "       ...,\n",
       "       [0, 0, 0, ..., 0, 0, 0],\n",
       "       [0, 0, 0, ..., 0, 0, 0],\n",
       "       [0, 0, 0, ..., 0, 0, 0]], dtype=uint8)"
      ]
     },
     "execution_count": 48,
     "metadata": {},
     "output_type": "execute_result"
    }
   ],
   "source": [
    "x_train.reshape(x_train.shape[0],-1)"
   ]
  },
  {
   "cell_type": "code",
   "execution_count": 49,
   "id": "bcd5255d",
   "metadata": {},
   "outputs": [
    {
     "data": {
      "text/plain": [
       "array([[0., 1.],\n",
       "       [2., 3.],\n",
       "       [4., 5.]])"
      ]
     },
     "execution_count": 49,
     "metadata": {},
     "output_type": "execute_result"
    }
   ],
   "source": [
    "x = np.array([[0., 1.],\n",
    "             [2., 3.],\n",
    "             [4., 5.]])\n",
    "x"
   ]
  },
  {
   "cell_type": "code",
   "execution_count": 50,
   "id": "62afc0f7",
   "metadata": {},
   "outputs": [
    {
     "data": {
      "text/plain": [
       "array([[0.],\n",
       "       [1.],\n",
       "       [2.],\n",
       "       [3.],\n",
       "       [4.],\n",
       "       [5.]])"
      ]
     },
     "execution_count": 50,
     "metadata": {},
     "output_type": "execute_result"
    }
   ],
   "source": [
    "x.reshape(-1,1)"
   ]
  },
  {
   "cell_type": "code",
   "execution_count": 51,
   "id": "cc06daa1",
   "metadata": {},
   "outputs": [
    {
     "data": {
      "text/plain": [
       "array([[0., 0., 0., ..., 0., 0., 0.],\n",
       "       [0., 0., 0., ..., 0., 0., 0.],\n",
       "       [0., 0., 0., ..., 0., 0., 0.],\n",
       "       ...,\n",
       "       [0., 0., 0., ..., 0., 0., 0.],\n",
       "       [0., 0., 0., ..., 0., 0., 0.],\n",
       "       [0., 0., 0., ..., 0., 0., 0.]])"
      ]
     },
     "execution_count": 51,
     "metadata": {},
     "output_type": "execute_result"
    }
   ],
   "source": [
    "x = np.zeros((300,20))\n",
    "x"
   ]
  },
  {
   "cell_type": "code",
   "execution_count": 52,
   "id": "cd13f635",
   "metadata": {},
   "outputs": [
    {
     "data": {
      "text/plain": [
       "(20, 300)"
      ]
     },
     "execution_count": 52,
     "metadata": {},
     "output_type": "execute_result"
    }
   ],
   "source": [
    "x.T.shape"
   ]
  },
  {
   "cell_type": "code",
   "execution_count": 53,
   "id": "cee43e9c",
   "metadata": {},
   "outputs": [
    {
     "data": {
      "text/plain": [
       "<tf.Variable 'Variable:0' shape=() dtype=float32, numpy=0.0>"
      ]
     },
     "execution_count": 53,
     "metadata": {},
     "output_type": "execute_result"
    }
   ],
   "source": [
    "# 그레이디언트 기반 최적화\n",
    "import tensorflow as tf\n",
    "x = tf.Variable(0.)\n",
    "x"
   ]
  },
  {
   "cell_type": "code",
   "execution_count": 54,
   "id": "e8a2d233",
   "metadata": {},
   "outputs": [],
   "source": [
    "# 그레이디언트 테이프  주어진 입력변수.. 데이터어 대해서 자동 미분\n",
    "import tensorflow as tf\n",
    "x = tf.Variable(0.)\n",
    "with tf.GradientTape() as tape:\n",
    "    y = 2*x+3   \n",
    "grad_of_y_wrt_x = tape.gradient(x,y)    "
   ]
  },
  {
   "cell_type": "code",
   "execution_count": 55,
   "id": "bd9f0e9a",
   "metadata": {},
   "outputs": [],
   "source": [
    "x = tf.Variable(tf.zeros((2,2)))\n",
    "with tf.GradientTape() as tape:\n",
    "    y = 2*x+3   \n",
    "grad_of_y_wrt_x = tape.gradient(x,y)  "
   ]
  },
  {
   "cell_type": "code",
   "execution_count": 56,
   "id": "e3a4a483",
   "metadata": {},
   "outputs": [
    {
     "data": {
      "text/plain": [
       "<tf.Tensor: shape=(10,), dtype=float32, numpy=\n",
       "array([0.68310297, 0.24645591, 0.9941987 , 0.63897467, 0.75776887,\n",
       "       0.18510163, 0.5184624 , 0.07834172, 0.8641641 , 0.2943046 ],\n",
       "      dtype=float32)>"
      ]
     },
     "execution_count": 56,
     "metadata": {},
     "output_type": "execute_result"
    }
   ],
   "source": [
    "temp = tf.random.uniform([10],0,1)\n",
    "temp"
   ]
  }
 ],
 "metadata": {
  "kernelspec": {
   "display_name": "Python 3 (ipykernel)",
   "language": "python",
   "name": "python3"
  },
  "language_info": {
   "codemirror_mode": {
    "name": "ipython",
    "version": 3
   },
   "file_extension": ".py",
   "mimetype": "text/x-python",
   "name": "python",
   "nbconvert_exporter": "python",
   "pygments_lexer": "ipython3",
   "version": "3.9.7"
  }
 },
 "nbformat": 4,
 "nbformat_minor": 5
}
